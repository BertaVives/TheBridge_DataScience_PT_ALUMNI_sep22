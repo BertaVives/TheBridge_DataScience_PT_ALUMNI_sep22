{
 "cells": [
  {
   "cell_type": "code",
   "execution_count": 4,
   "metadata": {},
   "outputs": [
    {
     "name": "stdout",
     "output_type": "stream",
     "text": [
      "1. Temperatura minima:  0\n",
      "2. Temperatura máxima:  90\n",
      "3. Temperaturas mayores a 70ºC:  [76, 80, 81, 80, 83, 90, 79]\n",
      "4. Media de temperaturas:  60.25\n",
      "6. Temperaturas en grados Farenheit:  [91.4, 150.8, 149.0, 32.0, 138.2, 140.0, 143.60000000000002, 147.2, 158.0, 168.8, 176.0, 177.8, 176.0, 181.4, 194.0, 174.20000000000002, 141.8, 127.4, 122.0, 120.2, 127.4, 118.4, 113.0, 102.2]\n"
     ]
    }
   ],
   "source": [
    "# asigna a una variable la lista de temperaturas\n",
    "temperaturas_C = [33,66,65,0,59,60,62,64,70,76,80,81,80,83,90,79,61,53,50,49,53,48,45,39]\n",
    "\n",
    "# 1. Calcula el minimo de la lista e imprime el valor con print()\n",
    "minimo = min(temperaturas_C)\n",
    "print('1. Temperatura minima: ', minimo)\n",
    "\n",
    "# 2. Calcula el máximo de la lista e imprime el valor con print()\n",
    "maximo = max(temperaturas_C)\n",
    "print('2. Temperatura máxima: ', maximo)\n",
    "\n",
    "# 3. Elementos de la lista que son mayores que 70ºC e imprime el resultado\n",
    "mayores_70 = []\n",
    "for temp in temperaturas_C:\n",
    "    if temp > 70:\n",
    "        mayores_70.append(temp)\n",
    "print('3. Temperaturas mayores a 70ºC: ', mayores_70)\n",
    "\n",
    "# 4. cálculo de la media de temperaturas a lo largo del día e imprime resultado\n",
    "media = sum(temperaturas_C)/len(temperaturas_C)\n",
    "print('4. Media de temperaturas: ', media)\n",
    "\n",
    "# 5.1 Soluciona el fallo en el sensor estimando un valor\n",
    "\n",
    "\n",
    "# 5.2 Actualización del valor estimado a las 03:00 en la lista\n",
    "\n",
    "\n",
    "# Bonus: pasar la lista de ºC a grados Farenheit\n",
    "temperaturas_F = []\n",
    "for temp in temperaturas_C:\n",
    "    temperaturas_F.append((1.8*temp) + 32)\n",
    "print('6. Temperaturas en grados Farenheit: ',temperaturas_F)"
   ]
  },
  {
   "cell_type": "markdown",
   "metadata": {},
   "source": [
    "## Toma la decisión\n",
    "Recuerda que si el sensor detecta más de 4 horas con temperaturas mayores o igual que 70ºC o alguna temperatura superior a 80ºC o la media fuera superior a 65ºC a lo largo de todo el día, deberemos dar la orden de cambiar el sistema de refrigeración para evitar el peligro de dañar el equipamiento: \n",
    "* más de 4 horas con temperaturas mayores o igual que 70ºC\n",
    "* alguna temperatura superior a 80ºC\n",
    "* media fuera superior a 65ºC a lo largo de todo el día\n",
    "Si se cumple alguna de estas tres habrá que cambiar el sistema de refrigeración. "
   ]
  },
  {
   "cell_type": "code",
   "execution_count": 7,
   "metadata": {},
   "outputs": [
    {
     "name": "stdout",
     "output_type": "stream",
     "text": [
      "True\n"
     ]
    }
   ],
   "source": [
    "# Imprime True o False en función de si cambiarías el sistema de refrigeración o no\n",
    "for temp in temperaturas_C:\n",
    "    if temp > 80:\n",
    "        mayor_80 = True\n",
    "        break\n",
    "\n",
    "if (len(mayores_70) > 4) or (media > 65) or mayor_80:\n",
    "    cambio = True\n",
    "\n",
    "print(cambio)\n"
   ]
  }
 ],
 "metadata": {
  "kernelspec": {
   "display_name": "Python 3.9.13 ('rampup_py39')",
   "language": "python",
   "name": "python3"
  },
  "language_info": {
   "codemirror_mode": {
    "name": "ipython",
    "version": 3
   },
   "file_extension": ".py",
   "mimetype": "text/x-python",
   "name": "python",
   "nbconvert_exporter": "python",
   "pygments_lexer": "ipython3",
   "version": "3.9.13"
  },
  "orig_nbformat": 4,
  "vscode": {
   "interpreter": {
    "hash": "bf2fa21de63e571e13c3c64d771f5f5a56667a11fed5246af56bcbf0a5c596f0"
   }
  }
 },
 "nbformat": 4,
 "nbformat_minor": 2
}
