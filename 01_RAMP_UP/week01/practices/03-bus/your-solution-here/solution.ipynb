{
 "cells": [
  {
   "cell_type": "code",
   "execution_count": 68,
   "metadata": {},
   "outputs": [
    {
     "name": "stdout",
     "output_type": "stream",
     "text": [
      "Número de paradas:  9\n",
      "Número de pasajeros en cada parada:  [10, 3, -2, -1, 4, -4, -3, -2, -1]\n",
      "Máximo de ocupación:  10\n",
      "Media:  0.4444444444444444\n",
      "Desviación estandard:  17.580246913580247\n"
     ]
    }
   ],
   "source": [
    "from typing import TypeVar\n",
    "\n",
    "\n",
    "stops = [(10, 0), (4, 1), (3, 5), (3, 4), (5, 1), (1, 5), (5, 8), (4, 6), (2, 3)]\n",
    "\n",
    "# 1. Calcula el número de paradas. \n",
    "num_stops = len(stops)\n",
    "print('Número de paradas: ',num_stops)\n",
    "\n",
    "# 2. Asigna a una variable una lista cuyos elementos sean el número de pasajeros en \n",
    "# cada parada: Cada elemento depende del elemento previo en la lista + in - out.  \n",
    "i = 0\n",
    "num_pasajeros = []\n",
    "\n",
    "while i<num_stops:\n",
    "    pasajeros = (stops[i][0] - stops[i][1])\n",
    "    num_pasajeros.insert(i,pasajeros)\n",
    "    i += 1\n",
    "print('Número de pasajeros en cada parada: ',num_pasajeros)\n",
    "\n",
    "# 3. Halla el máximo de ocupación del autobús. \n",
    "print('Máximo de ocupación: ',max(num_pasajeros))\n",
    "\n",
    "# 4. Calcula la media de la ocupación. Y la desviación estandard. \n",
    "mean = sum(num_pasajeros)/len(num_pasajeros)\n",
    "print('Media: ',mean)\n",
    "\n",
    "calculo = list()\n",
    "for pos in num_pasajeros:\n",
    "    calculo.append((pos - mean)**2)\n",
    "desv = sum(calculo)/len(calculo)\n",
    "print('Desviación estandard: ',desv)"
   ]
  }
 ],
 "metadata": {
  "kernelspec": {
   "display_name": "Python 3.9.13 ('rampup_py39')",
   "language": "python",
   "name": "python3"
  },
  "language_info": {
   "codemirror_mode": {
    "name": "ipython",
    "version": 3
   },
   "file_extension": ".py",
   "mimetype": "text/x-python",
   "name": "python",
   "nbconvert_exporter": "python",
   "pygments_lexer": "ipython3",
   "version": "3.9.13"
  },
  "orig_nbformat": 4,
  "vscode": {
   "interpreter": {
    "hash": "bf2fa21de63e571e13c3c64d771f5f5a56667a11fed5246af56bcbf0a5c596f0"
   }
  }
 },
 "nbformat": 4,
 "nbformat_minor": 2
}
