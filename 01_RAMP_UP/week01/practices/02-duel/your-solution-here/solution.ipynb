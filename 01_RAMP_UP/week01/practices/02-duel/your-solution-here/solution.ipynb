{
 "cells": [
  {
   "cell_type": "code",
   "execution_count": 7,
   "metadata": {},
   "outputs": [
    {
     "name": "stdout",
     "output_type": "stream",
     "text": [
      "El ganador es Gandalf\n"
     ]
    }
   ],
   "source": [
    "# Asignamos las listas de hechizos a variables\n",
    "gandalf = [10, 11, 13, 30, 22, 11, 10, 33, 22, 22]\n",
    "saruman = [23, 66, 12, 43, 12, 10, 44, 23, 12, 17]\n",
    "choque = 0\n",
    "\n",
    "# Asignamos 0 a cada variable que almacena las victorias\n",
    "sumaGandalf = 0\n",
    "sumaSaruman = 0\n",
    "\n",
    "# Ejecución de los choques de hechizos\n",
    "while choque <= (len(gandalf) - 1):\n",
    "    if gandalf[choque] > saruman[choque]:\n",
    "        sumaGandalf += 1\n",
    "    elif gandalf[choque] < saruman[choque]:\n",
    "        sumaSaruman += 1\n",
    "    else:\n",
    "        continue\n",
    "    choque += 1\n",
    "\n",
    "# Comprobamos quién ha ganado, no olvides la posibilidad de empate. \n",
    "# Imprime el resultado en función del ganador. \n",
    "if sumaGandalf > sumaSaruman:\n",
    "    print('El ganador es Gandalf')\n",
    "elif sumaSaruman > sumaGandalf:\n",
    "    print('El ganador es Saruman')\n",
    "else:\n",
    "    print('Han empatado')\n"
   ]
  }
 ],
 "metadata": {
  "kernelspec": {
   "display_name": "Python 3.9.13 ('rampup_py39')",
   "language": "python",
   "name": "python3"
  },
  "language_info": {
   "codemirror_mode": {
    "name": "ipython",
    "version": 3
   },
   "file_extension": ".py",
   "mimetype": "text/x-python",
   "name": "python",
   "nbconvert_exporter": "python",
   "pygments_lexer": "ipython3",
   "version": "3.9.13"
  },
  "orig_nbformat": 4,
  "vscode": {
   "interpreter": {
    "hash": "bf2fa21de63e571e13c3c64d771f5f5a56667a11fed5246af56bcbf0a5c596f0"
   }
  }
 },
 "nbformat": 4,
 "nbformat_minor": 2
}
