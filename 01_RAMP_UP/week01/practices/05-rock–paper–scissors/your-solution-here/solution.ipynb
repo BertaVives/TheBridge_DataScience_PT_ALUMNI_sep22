{
 "cells": [
  {
   "cell_type": "code",
   "execution_count": 1,
   "metadata": {},
   "outputs": [
    {
     "name": "stdout",
     "output_type": "stream",
     "text": [
      "0\n",
      "La maquina ha elegido  piedra  y tu has elegido  piedra . Como resultado la maquina tiene  0  puntos y tu  0\n",
      "1\n",
      "La maquina ha elegido  tijeras  y tu has elegido  papel . Como resultado la maquina tiene  1  puntos y tu  0\n",
      "2\n",
      "La maquina ha elegido  papel  y tu has elegido  tijeras . Como resultado la maquina tiene  0  puntos y tu  1\n"
     ]
    },
    {
     "ename": "KeyboardInterrupt",
     "evalue": "Interrupted by user",
     "output_type": "error",
     "traceback": [
      "\u001b[0;31m---------------------------------------------------------------------------\u001b[0m",
      "\u001b[0;31mKeyboardInterrupt\u001b[0m                         Traceback (most recent call last)",
      "\u001b[1;32m/Users/berta/Documents/BOOTCAMP/TheBridge_DataScience_PT_ALUMNI_sep22/01_RAMP_UP/week01/practices/05-rock–paper–scissors/your-solution-here/solution.ipynb Celda 1\u001b[0m in \u001b[0;36m<cell line: 70>\u001b[0;34m()\u001b[0m\n\u001b[1;32m     <a href='vscode-notebook-cell:/Users/berta/Documents/BOOTCAMP/TheBridge_DataScience_PT_ALUMNI_sep22/01_RAMP_UP/week01/practices/05-rock%E2%80%93paper%E2%80%93scissors/your-solution-here/solution.ipynb#W0sZmlsZQ%3D%3D?line=69'>70</a>\u001b[0m \u001b[39mwhile\u001b[39;00m (total_maquina \u001b[39m<\u001b[39m num_ganadas) \u001b[39mor\u001b[39;00m (total_usuario \u001b[39m<\u001b[39m num_ganadas):\n\u001b[1;32m     <a href='vscode-notebook-cell:/Users/berta/Documents/BOOTCAMP/TheBridge_DataScience_PT_ALUMNI_sep22/01_RAMP_UP/week01/practices/05-rock%E2%80%93paper%E2%80%93scissors/your-solution-here/solution.ipynb#W0sZmlsZQ%3D%3D?line=70'>71</a>\u001b[0m     eleccion_maq \u001b[39m=\u001b[39m jugada_maq()\n\u001b[0;32m---> <a href='vscode-notebook-cell:/Users/berta/Documents/BOOTCAMP/TheBridge_DataScience_PT_ALUMNI_sep22/01_RAMP_UP/week01/practices/05-rock%E2%80%93paper%E2%80%93scissors/your-solution-here/solution.ipynb#W0sZmlsZQ%3D%3D?line=71'>72</a>\u001b[0m     eleccion_usuario \u001b[39m=\u001b[39m jugada_usuario()\n\u001b[1;32m     <a href='vscode-notebook-cell:/Users/berta/Documents/BOOTCAMP/TheBridge_DataScience_PT_ALUMNI_sep22/01_RAMP_UP/week01/practices/05-rock%E2%80%93paper%E2%80%93scissors/your-solution-here/solution.ipynb#W0sZmlsZQ%3D%3D?line=72'>73</a>\u001b[0m     ganador \u001b[39m=\u001b[39m combate(eleccion_maq, eleccion_usuario)\n\u001b[1;32m     <a href='vscode-notebook-cell:/Users/berta/Documents/BOOTCAMP/TheBridge_DataScience_PT_ALUMNI_sep22/01_RAMP_UP/week01/practices/05-rock%E2%80%93paper%E2%80%93scissors/your-solution-here/solution.ipynb#W0sZmlsZQ%3D%3D?line=73'>74</a>\u001b[0m     \u001b[39mprint\u001b[39m(ganador)\n",
      "\u001b[1;32m/Users/berta/Documents/BOOTCAMP/TheBridge_DataScience_PT_ALUMNI_sep22/01_RAMP_UP/week01/practices/05-rock–paper–scissors/your-solution-here/solution.ipynb Celda 1\u001b[0m in \u001b[0;36mjugada_usuario\u001b[0;34m()\u001b[0m\n\u001b[1;32m     <a href='vscode-notebook-cell:/Users/berta/Documents/BOOTCAMP/TheBridge_DataScience_PT_ALUMNI_sep22/01_RAMP_UP/week01/practices/05-rock%E2%80%93paper%E2%80%93scissors/your-solution-here/solution.ipynb#W0sZmlsZQ%3D%3D?line=22'>23</a>\u001b[0m \u001b[39mdef\u001b[39;00m \u001b[39mjugada_usuario\u001b[39m():\n\u001b[0;32m---> <a href='vscode-notebook-cell:/Users/berta/Documents/BOOTCAMP/TheBridge_DataScience_PT_ALUMNI_sep22/01_RAMP_UP/week01/practices/05-rock%E2%80%93paper%E2%80%93scissors/your-solution-here/solution.ipynb#W0sZmlsZQ%3D%3D?line=23'>24</a>\u001b[0m     \u001b[39mwhile\u001b[39;00m ((eleccion \u001b[39m:=\u001b[39m \u001b[39mstr\u001b[39m(\u001b[39minput\u001b[39;49m(\u001b[39m'\u001b[39;49m\u001b[39mCual es tu elección?\u001b[39;49m\u001b[39m'\u001b[39;49m))) \u001b[39m!=\u001b[39m opciones[\u001b[39m0\u001b[39m]) \u001b[39mand\u001b[39;00m ((eleccion \u001b[39m:=\u001b[39m \u001b[39mstr\u001b[39m(\u001b[39minput\u001b[39m(\u001b[39m'\u001b[39m\u001b[39mCual es tu elección?\u001b[39m\u001b[39m'\u001b[39m))) \u001b[39m!=\u001b[39m opciones[\u001b[39m1\u001b[39m]) \u001b[39mand\u001b[39;00m ((eleccion \u001b[39m:=\u001b[39m \u001b[39mstr\u001b[39m(\u001b[39minput\u001b[39m(\u001b[39m'\u001b[39m\u001b[39mCual es tu elección?\u001b[39m\u001b[39m'\u001b[39m))) \u001b[39m!=\u001b[39m opciones[\u001b[39m2\u001b[39m]):\n\u001b[1;32m     <a href='vscode-notebook-cell:/Users/berta/Documents/BOOTCAMP/TheBridge_DataScience_PT_ALUMNI_sep22/01_RAMP_UP/week01/practices/05-rock%E2%80%93paper%E2%80%93scissors/your-solution-here/solution.ipynb#W0sZmlsZQ%3D%3D?line=24'>25</a>\u001b[0m         \u001b[39mcontinue\u001b[39;00m\n\u001b[1;32m     <a href='vscode-notebook-cell:/Users/berta/Documents/BOOTCAMP/TheBridge_DataScience_PT_ALUMNI_sep22/01_RAMP_UP/week01/practices/05-rock%E2%80%93paper%E2%80%93scissors/your-solution-here/solution.ipynb#W0sZmlsZQ%3D%3D?line=25'>26</a>\u001b[0m     \u001b[39mreturn\u001b[39;00m eleccion\n",
      "File \u001b[0;32m~/opt/miniconda3/envs/rampup_py39/lib/python3.9/site-packages/ipykernel/kernelbase.py:1177\u001b[0m, in \u001b[0;36mKernel.raw_input\u001b[0;34m(self, prompt)\u001b[0m\n\u001b[1;32m   1173\u001b[0m \u001b[39mif\u001b[39;00m \u001b[39mnot\u001b[39;00m \u001b[39mself\u001b[39m\u001b[39m.\u001b[39m_allow_stdin:\n\u001b[1;32m   1174\u001b[0m     \u001b[39mraise\u001b[39;00m StdinNotImplementedError(\n\u001b[1;32m   1175\u001b[0m         \u001b[39m\"\u001b[39m\u001b[39mraw_input was called, but this frontend does not support input requests.\u001b[39m\u001b[39m\"\u001b[39m\n\u001b[1;32m   1176\u001b[0m     )\n\u001b[0;32m-> 1177\u001b[0m \u001b[39mreturn\u001b[39;00m \u001b[39mself\u001b[39;49m\u001b[39m.\u001b[39;49m_input_request(\n\u001b[1;32m   1178\u001b[0m     \u001b[39mstr\u001b[39;49m(prompt),\n\u001b[1;32m   1179\u001b[0m     \u001b[39mself\u001b[39;49m\u001b[39m.\u001b[39;49m_parent_ident[\u001b[39m\"\u001b[39;49m\u001b[39mshell\u001b[39;49m\u001b[39m\"\u001b[39;49m],\n\u001b[1;32m   1180\u001b[0m     \u001b[39mself\u001b[39;49m\u001b[39m.\u001b[39;49mget_parent(\u001b[39m\"\u001b[39;49m\u001b[39mshell\u001b[39;49m\u001b[39m\"\u001b[39;49m),\n\u001b[1;32m   1181\u001b[0m     password\u001b[39m=\u001b[39;49m\u001b[39mFalse\u001b[39;49;00m,\n\u001b[1;32m   1182\u001b[0m )\n",
      "File \u001b[0;32m~/opt/miniconda3/envs/rampup_py39/lib/python3.9/site-packages/ipykernel/kernelbase.py:1219\u001b[0m, in \u001b[0;36mKernel._input_request\u001b[0;34m(self, prompt, ident, parent, password)\u001b[0m\n\u001b[1;32m   1216\u001b[0m             \u001b[39mbreak\u001b[39;00m\n\u001b[1;32m   1217\u001b[0m \u001b[39mexcept\u001b[39;00m \u001b[39mKeyboardInterrupt\u001b[39;00m:\n\u001b[1;32m   1218\u001b[0m     \u001b[39m# re-raise KeyboardInterrupt, to truncate traceback\u001b[39;00m\n\u001b[0;32m-> 1219\u001b[0m     \u001b[39mraise\u001b[39;00m \u001b[39mKeyboardInterrupt\u001b[39;00m(\u001b[39m\"\u001b[39m\u001b[39mInterrupted by user\u001b[39m\u001b[39m\"\u001b[39m) \u001b[39mfrom\u001b[39;00m \u001b[39mNone\u001b[39m\n\u001b[1;32m   1220\u001b[0m \u001b[39mexcept\u001b[39;00m \u001b[39mException\u001b[39;00m:\n\u001b[1;32m   1221\u001b[0m     \u001b[39mself\u001b[39m\u001b[39m.\u001b[39mlog\u001b[39m.\u001b[39mwarning(\u001b[39m\"\u001b[39m\u001b[39mInvalid Message:\u001b[39m\u001b[39m\"\u001b[39m, exc_info\u001b[39m=\u001b[39m\u001b[39mTrue\u001b[39;00m)\n",
      "\u001b[0;31mKeyboardInterrupt\u001b[0m: Interrupted by user"
     ]
    }
   ],
   "source": [
    "# Importa la función choice del módulo random\n",
    "# https://stackoverflow.com/questions/306400/how-to-randomly-select-an-item-from-a-list\n",
    "import random\n",
    "\n",
    "# Asigna a una lista las 3 posibles opciones: 'piedra', 'papel' o 'tijeras'. \n",
    "opciones = ['piedra','papel','tijeras']\n",
    "\n",
    "# Asigna una variable al número de partidas máxima: 1, 3, 5, etc...\n",
    "max_partidas = 5\n",
    "\n",
    "# Asigna una variable al número de partidas que debe ganar un jugador para ganar. \n",
    "# Preferiblemente el valor será en función de el número de partidas máximas\n",
    "num_ganadas = int(((max_partidas - 1)/2) + 1)\n",
    "\n",
    "# Define una función que devuelva aleatoriamente una de las 3 opciones. \n",
    "# Esto corresponderá a la jugada de la máquina. Totalmente aleatoria. \n",
    "def jugada_maq():\n",
    "     return random.choice(opciones)\n",
    "\n",
    "# Define una función que pregunte tu elección: 'piedra', 'papel' o 'tijeras'\n",
    "# sólo debe permitir una de las 3 opciones. Esto es programación defensiva. \n",
    "# Si no es piedra, papel o tijeras sigue preguntando hasta que lo sea. \n",
    "def jugada_usuario():\n",
    "    while ((eleccion := str(input('Cual es tu elección?'))) != opciones[0]) and ((eleccion := str(input('Cual es tu elección?'))) != opciones[1]) and ((eleccion := str(input('Cual es tu elección?'))) != opciones[2]):\n",
    "        continue\n",
    "    return eleccion\n",
    "\n",
    "# Define una función que resuelva un combate. \n",
    "# Devuelve 0 si hay empate, 1 si gana la máquina, 2 si gana el jugador humano \n",
    "def combate(eleccion_maq, eleccion_usuario):\n",
    "    if eleccion_maq == opciones[0]:\n",
    "        if eleccion_usuario == opciones[0]:\n",
    "            return 0\n",
    "        elif eleccion_usuario == opciones[1]:\n",
    "            return 2\n",
    "        else:\n",
    "            return 1\n",
    "    elif eleccion_maq == opciones[1]:\n",
    "        if eleccion_usuario == opciones[0]:\n",
    "            return 1\n",
    "        elif eleccion_usuario == opciones[1]:\n",
    "            return 0\n",
    "        else:\n",
    "            return 2\n",
    "    else:\n",
    "        if eleccion_usuario == opciones[0]:\n",
    "            return 2\n",
    "        elif eleccion_usuario == opciones[1]:\n",
    "            return 1\n",
    "        else:\n",
    "            return 0\n",
    "\n",
    "# Define una función que muestre la elección de cada jugador y el estado de la partida\n",
    "# Esta función debe utilizarse cada vez que se actualicen los puntos acumulados\n",
    "def estado(eleccion_maq, eleccion_usuario, ganador, puntos_maq, puntos_usuario):\n",
    "    if ganador == 2:\n",
    "        puntos_usuario += 1\n",
    "    elif ganador == 1:\n",
    "        puntos_maq += 1\n",
    "    print('La maquina ha elegido ', eleccion_maq, ' y tu has elegido ', eleccion_usuario, '. Como resultado la maquina tiene ', puntos_maq, ' puntos y tu ', puntos_usuario)\n",
    "\n",
    "# Crea dos variables que acumulen las partidas ganadas de cada participante\n",
    "total_maquina = 0\n",
    "total_usuario = 0\n",
    "\n",
    "# Crea un bucle que itere mientras ningún jugador alcance el mínimo de victorias\n",
    "# necesarias para ganar. Dentro del bucle resuelve la jugada de la\n",
    "# máquina y pregunta la del jugador. Comparalas y actualiza el valor de las variables\n",
    "# que acumulen las partidas ganadas de cada participante. \n",
    "while (total_maquina < num_ganadas) or (total_usuario < num_ganadas):\n",
    "    eleccion_maq = jugada_maq()\n",
    "    eleccion_usuario = jugada_usuario()\n",
    "    ganador = combate(eleccion_maq, eleccion_usuario)\n",
    "    print(ganador)\n",
    "    estado(eleccion_maq, eleccion_usuario, ganador, total_maquina, total_usuario)\n",
    "    \n",
    "# Anuncia por consola el ganador del juego en función de quién tiene más victorias \n",
    "# aculumadas\n",
    "if total_maquina < total_usuario:\n",
    "    print('El ganador del juego eres tu')\n",
    "else:\n",
    "    print('El ganador del juego es la maquina')\n"
   ]
  }
 ],
 "metadata": {
  "kernelspec": {
   "display_name": "Python 3.9.13 ('rampup_py39')",
   "language": "python",
   "name": "python3"
  },
  "language_info": {
   "codemirror_mode": {
    "name": "ipython",
    "version": 3
   },
   "file_extension": ".py",
   "mimetype": "text/x-python",
   "name": "python",
   "nbconvert_exporter": "python",
   "pygments_lexer": "ipython3",
   "version": "3.9.13"
  },
  "orig_nbformat": 4,
  "vscode": {
   "interpreter": {
    "hash": "bf2fa21de63e571e13c3c64d771f5f5a56667a11fed5246af56bcbf0a5c596f0"
   }
  }
 },
 "nbformat": 4,
 "nbformat_minor": 2
}
