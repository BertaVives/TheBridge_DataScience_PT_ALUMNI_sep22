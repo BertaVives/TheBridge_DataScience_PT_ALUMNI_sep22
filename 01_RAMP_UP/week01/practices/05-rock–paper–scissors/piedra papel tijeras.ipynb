{
 "cells": [
  {
   "cell_type": "markdown",
   "metadata": {},
   "source": [
    "# Piedra, papel, tijeras\n",
    "\n",
    "Vamos jugar contra nuestro ordenador al famoso juego. \n",
    "\n",
    "https://es.wikipedia.org/wiki/Piedra,_papel_o_tijera\n",
    "\n",
    "Se aconseja el uso de funciones"
   ]
  },
  {
   "cell_type": "code",
   "execution_count": null,
   "metadata": {},
   "outputs": [],
   "source": [
    "# Importa la función choice del módulo random\n",
    "# https://stackoverflow.com/questions/306400/how-to-randomly-select-an-item-from-a-list\n",
    "\n",
    "\n",
    "# Asigna a una lista las 3 posibles opciones: 'piedra', 'papel' o 'tijeras'. \n",
    "\n",
    "\n",
    "# Asigna una variable al número de partidas máxima: 1, 3, 5, etc...\n",
    "\n",
    "\n",
    "# Asigna una variable al número de partidas que debe ganar un jugador para ganar. \n",
    "# Preferiblemente el valor será en función de el número de partidas máximas\n",
    "\n",
    "\n",
    "# Define una función que devuelva aleatoriamente una de las 3 opciones. \n",
    "# Esto corresponderá a la jugada de la máquina. Totalmente aleatoria. \n",
    "\n",
    "\n",
    "# Define una función que pregunte tu elección: 'piedra', 'papel' o 'tijeras'\n",
    "# sólo debe permitir una de las 3 opciones. Esto es programación defensiva. \n",
    "# Si no es piedra, papel o tijeras sigue preguntando hasta que lo sea. \n",
    "\n",
    "\n",
    "# Define una función que resuelva un combate. \n",
    "# Devuelve 0 si hay empate, 1 si gana la máquina, 2 si gana el jugador humano \n",
    "\n",
    "    \n",
    "# Define una función que muestre la elección de cada jugador y el estado de la partida\n",
    "# Esta función debe utilizarse cada vez que se actualicen los puntos acumulados\n",
    "\n",
    "    \n",
    "# Crea dos variables que acumulen las partidas ganadas de cada participante\n",
    "\n",
    "\n",
    "# Crea un bucle que itere mientras ningún jugador alcance el mínimo de victorias\n",
    "# necesarias para ganar. Dentro del bucle resuelve la jugada de la\n",
    "# máquina y pregunta la del jugador. Comparalas y actualiza el valor de las variables\n",
    "# que acumulen las partidas ganadas de cada participante. \n",
    "\n",
    "    \n",
    "# Anuncia por consola el ganador del juego en función de quién tiene más victorias \n",
    "# aculumadas\n",
    "\n",
    "    "
   ]
  },
  {
   "cell_type": "markdown",
   "metadata": {},
   "source": [
    "# Bonus: Piedra, papel, tijeras, lagarto, spock\n",
    "\n",
    "Ahora vienen las mejoras. \n",
    "\n",
    "http://www.samkass.com/theories/RPSSL.html\n",
    "\n",
    "Se te pide que implimentes unas mejoras con respecto al simple juego previo. Además el número de partidas (que deberá ser IMPAR) se pedirá por consola hasta que se introduzca un número válido. \n",
    "\n",
    "Mejoras: \n",
    "* 5 opciones: piedra, papel, tijeras, lagarto, spock\n",
    "* El número de partidas se pide por consola\n",
    "Consejo: Reutiliza código que ya hagas utilizado"
   ]
  },
  {
   "cell_type": "code",
   "execution_count": null,
   "metadata": {},
   "outputs": [],
   "source": [
    "# Importa la función choice del módulo random\n",
    "\n",
    "\n",
    "# Define una función que pide por teclado un número impar, hasta que no sea válido\n",
    "# seguirá pidiendo\n",
    "\n",
    "\n",
    "# Asigna a una lista las 5 posibles opciones. \n",
    "\n",
    "\n",
    "# Asigna una variable al número de partidas máxima: 1, 3, 5, etc...\n",
    "# Esta vez se usa la función definida previamente\n",
    "\n",
    "\n",
    "# Asigna una variable al número de partidas que debe ganar un jugador para ganar. \n",
    "# Preferiblemente el valor será en función de el número de partidas máximas\n",
    "\n",
    "\n",
    "# Define una función que devuelva aleatoriamente una de las 5 opciones. \n",
    "# Esto corresponderá a la jugada de la máquina. Totalmente aleatoria. \n",
    "\n",
    "\n",
    "\n",
    "# Define una función que pregunte tu elección de entre las 5\n",
    "# sólo debe permitir una de las 5 opciones. Esto es programación defensiva. \n",
    "# Si no es válida sigue preguntando hasta que lo sea. \n",
    "\n",
    "\n",
    "# Define una función que resuelva un combate. \n",
    "# Devuelve 0 si hay empate, 1 si gana la máquina, 2 si gana el jugador humano\n",
    "# Ahora hay más opciones\n",
    "\n",
    "\n",
    "    \n",
    "# Define una función que muestre la elección de cada jugador y el estado de la partida\n",
    "# Esta función debe utilizarse cada vez que se actualicen los puntos acumulados\n",
    "\n",
    "\n",
    "    \n",
    "# Crea dos variables que acumulen las partidas ganadas de cada participante\n",
    "\n",
    "\n",
    "# Crea un bucle que itere mientras ningún jugador alcance el mínimo de victorias\n",
    "# necesarias para ganar. Dentro del bucle resuelve la jugada de la\n",
    "# máquina y pregunta la del jugador. Comparalas y actualiza el valor de las variables\n",
    "# que acumulen las partidas ganadas de cada participante. \n",
    "\n",
    "\n",
    "    \n",
    "# Anuncia por consola el ganador del juego en función de quién tiene más victorias \n",
    "# aculumadas\n",
    "\n"
   ]
  },
  {
   "cell_type": "markdown",
   "metadata": {},
   "source": [
    "Si has programado con cabeza, el bonus son simples modificaciones al juego original. "
   ]
  },
  {
   "cell_type": "markdown",
   "metadata": {},
   "source": [
    "## Objetivos\n",
    "1. Uso de bucle\n",
    "2. Captura de datos por consola\n",
    "3. Uso if-elif-else\n",
    "4. Uso de try-except\n",
    "5. Definición de funciones. Programación modular. \n",
    "6. Operadores lógicos. \n",
    "7. Imprimir por consola\n",
    "8. Importación de módulos externos"
   ]
  },
  {
   "cell_type": "code",
   "execution_count": null,
   "metadata": {},
   "outputs": [],
   "source": []
  }
 ],
 "metadata": {
  "kernelspec": {
   "display_name": "Python 3",
   "language": "python",
   "name": "python3"
  },
  "language_info": {
   "codemirror_mode": {
    "name": "ipython",
    "version": 3
   },
   "file_extension": ".py",
   "mimetype": "text/x-python",
   "name": "python",
   "nbconvert_exporter": "python",
   "pygments_lexer": "ipython3",
   "version": "3.8.6"
  }
 },
 "nbformat": 4,
 "nbformat_minor": 4
}
