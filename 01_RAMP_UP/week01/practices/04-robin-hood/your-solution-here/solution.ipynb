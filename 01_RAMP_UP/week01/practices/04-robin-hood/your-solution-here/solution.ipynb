{
 "cells": [
  {
   "cell_type": "code",
   "execution_count": 21,
   "metadata": {},
   "outputs": [
    {
     "name": "stdout",
     "output_type": "stream",
     "text": [
      "1. Lo ha conseguido\n",
      "2. Cuadrante 1 =  10 , cuadrante 2 =  7 , cuadrante 3 =  3  y cuadrante 4 = 2\n",
      "3. El punto más cercano al centro es:  (0, 2)\n",
      "4. Hay que recoger  2  flechas\n"
     ]
    }
   ],
   "source": [
    "puntos = [(4,5), (-0,2), (4,7), (1,-3), (3,-2), (4,5), \n",
    "          (3,2), (5,7), (-5,7), (2,2), (-4,5), (0,-2), \n",
    "          (-4,7), (-1,3), (-3,2), (-4,-5), (-3,2), \n",
    "          (5,7), (5,7), (2,2), (9, 9), (-8, -9)]\n",
    "\n",
    "# 1. Robin Hood es famoso por acertar a una flecha con otra flecha. ¿Lo ha conseguido? \n",
    "flecha = puntos[0]\n",
    "acierto = False\n",
    "i = 1\n",
    "while i<len(puntos):\n",
    "    if puntos[i]==flecha:\n",
    "        acierto = True\n",
    "        break\n",
    "    i += 1\n",
    "if acierto==True:\n",
    "    print('1. Lo ha conseguido')\n",
    "else:\n",
    "    print('1. No lo ha conseguido')\n",
    "\n",
    "# 2. Calcula cuántos flechazos han caido en cada cuadrante. \n",
    "q1 = 0\n",
    "q2 = 0\n",
    "q3 = 0\n",
    "q4 = 0\n",
    "for punto in puntos:\n",
    "    if punto[0]>0:\n",
    "        if punto[1]>0:\n",
    "            q1 += 1\n",
    "        else:\n",
    "            q4 += 1\n",
    "    else:\n",
    "        if punto[1]>0:\n",
    "            q2 += 1\n",
    "        else:\n",
    "            q3 += 1\n",
    "print('2. Cuadrante 1 = ',q1,', cuadrante 2 = ',q2,', cuadrante 3 = ',q3,' y cuadrante 4 =',q4)\n",
    "# 3. Halla el punto más cercano al centro. Calcula su distancia al centro\n",
    "# Definir una función que calcula la distancia al centro puede servir de ayuda. \n",
    "dist = []\n",
    "for punto in puntos:\n",
    "    distancia = (punto[0]**2 + punto[1]**2)**0.5\n",
    "    dist.append(distancia)\n",
    "index_min = dist.index(min(dist))\n",
    "print('3. El punto más cercano al centro es: ', puntos[index_min])\n",
    "\n",
    "# 4. Si la diana tiene un radio de 9, calcula el número de flechas que hay que recoger al bosque. \n",
    "contador = 0\n",
    "for punto in dist:\n",
    "    if punto>9:\n",
    "        contador += 1\n",
    "print('4. Hay que recoger ',contador,' flechas')\n"
   ]
  }
 ],
 "metadata": {
  "kernelspec": {
   "display_name": "Python 3.9.13 ('rampup_py39')",
   "language": "python",
   "name": "python3"
  },
  "language_info": {
   "codemirror_mode": {
    "name": "ipython",
    "version": 3
   },
   "file_extension": ".py",
   "mimetype": "text/x-python",
   "name": "python",
   "nbconvert_exporter": "python",
   "pygments_lexer": "ipython3",
   "version": "3.9.13"
  },
  "orig_nbformat": 4,
  "vscode": {
   "interpreter": {
    "hash": "bf2fa21de63e571e13c3c64d771f5f5a56667a11fed5246af56bcbf0a5c596f0"
   }
  }
 },
 "nbformat": 4,
 "nbformat_minor": 2
}
