{
 "cells": [
  {
   "cell_type": "code",
   "execution_count": 2,
   "metadata": {},
   "outputs": [
    {
     "name": "stdout",
     "output_type": "stream",
     "text": [
      "the bus has 9 stops.\n",
      "[10, 3, -2, -1, 4, -4, -3, -2, 1]\n",
      "[10, 13, 11, 10, 14, 10, 7, 5, 6]\n",
      "occupation at Stop Nr. 1 are 10 passengers\n",
      "occupation at Stop Nr. 2 are 13 passengers\n",
      "occupation at Stop Nr. 3 are 11 passengers\n",
      "occupation at Stop Nr. 4 are 10 passengers\n",
      "occupation at Stop Nr. 5 are 14 passengers\n",
      "occupation at Stop Nr. 6 are 10 passengers\n",
      "occupation at Stop Nr. 7 are 7 passengers\n",
      "occupation at Stop Nr. 8 are 5 passengers\n",
      "occupation at Stop Nr. 9 are 6 passengers\n",
      "<class 'tuple'>\n",
      "<class 'list'>\n",
      "The maximum occupation is: 14\n",
      "The average occupation is: 9.555555555555555\n",
      "The std is 2.87174\n"
     ]
    }
   ],
   "source": [
    "#1. Calculate the number of stops.\n",
    "#2. Assign to a variable a list whose elements are the number of passengers at each stop (in-out),\n",
    "#3. Find the maximum occupation of the bus.\n",
    "#4. Calculate the average occupation. And the standard deviation.\n",
    "\n",
    "# variables\n",
    "stop_1 = ()\n",
    "stop_2 = ()\n",
    "stop_3 = ()\n",
    "stop_4 = ()\n",
    "stop_5 = ()\n",
    "stop_6 = ()\n",
    "stop_7 = ()\n",
    "stop_8 = ()\n",
    "stop_9 = ()\n",
    "\n",
    "stops = [stop_1, stop_2, stop_3, stop_4, stop_5, stop_6, stop_7, stop_8, stop_9]\n",
    "\n",
    "# 1. Calculate the number of stops.\n",
    "\n",
    "stops_tot = len(stops)\n",
    "print(\"the bus has\", stops_tot, \"stops.\")\n",
    "\n",
    "# 2. Assign a variable a list whose elements are the number of passengers in each stop: \n",
    "stop_1 = (10, 0)\n",
    "stop_2 = (4, 1)\n",
    "stop_3 = (3, 5)\n",
    "stop_4 = (3, 4)\n",
    "stop_5 = (5, 1)\n",
    "stop_6 = (1, 5)\n",
    "stop_7 = (5, 8)\n",
    "stop_8 = (4, 6)\n",
    "stop_9 = (3, 2)\n",
    "stops = [stop_1, stop_2, stop_3, stop_4, stop_5, stop_6, stop_7, stop_8, stop_9]\n",
    "\n",
    "\n",
    "# Each item depends on the previous item in the list + in - out.\n",
    "total_occupation = []\n",
    "\n",
    "for (in_i, out_i) in stops:\n",
    "    total_occupation.append(in_i - out_i)\n",
    "\n",
    "print(total_occupation)\n",
    "for i in range(1,9):\n",
    "    total_occupation[i] += total_occupation[i-1]\n",
    "print(total_occupation)\n",
    "\n",
    "liste = list(range(1, 10))\n",
    "for i in range(0,9):\n",
    "    print(\"occupation at Stop Nr.\", liste[i], \"are\", total_occupation[i], \"passengers\")\n",
    "    \n",
    "#  Info: relationship in tuple\n",
    "stops[1][0], stops[2][0] \n",
    "print(type(stop_1)) \n",
    "print(type(list(stop_1))) #  transform tuple into editable list\n",
    "\n",
    "# 3. Find the maximum occupation of the bus.\n",
    "print(\"The maximum occupation is:\", max(total_occupation))\n",
    "\n",
    "# 4. Calculate the average occupation. And the standard deviation.\n",
    "\n",
    "print(\"The average occupation is:\", sum(total_occupation)/len(total_occupation))\n",
    "\n",
    "import numpy \n",
    "\n",
    "std = numpy.std(total_occupation)\n",
    "print(\"The standard deviation is\", round(std, 5))\n",
    "\n"
   ]
  },
  {
   "cell_type": "code",
   "execution_count": null,
   "metadata": {},
   "outputs": [],
   "source": []
  },
  {
   "cell_type": "code",
   "execution_count": null,
   "metadata": {},
   "outputs": [],
   "source": []
  }
 ],
 "metadata": {
  "kernelspec": {
   "display_name": "Python 3",
   "language": "python",
   "name": "python3"
  },
  "language_info": {
   "codemirror_mode": {
    "name": "ipython",
    "version": 3
   },
   "file_extension": ".py",
   "mimetype": "text/x-python",
   "name": "python",
   "nbconvert_exporter": "python",
   "pygments_lexer": "ipython3",
   "version": "3.7.3"
  }
 },
 "nbformat": 4,
 "nbformat_minor": 2
}
