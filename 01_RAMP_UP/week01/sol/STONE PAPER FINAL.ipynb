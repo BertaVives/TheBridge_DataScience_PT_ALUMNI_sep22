{
 "cells": [
  {
   "cell_type": "code",
   "execution_count": null,
   "metadata": {},
   "outputs": [
    {
     "name": "stdout",
     "output_type": "stream",
     "text": [
      "0.5874281199791811\n",
      "max_loops 3\n",
      "Round Nr: 1\n"
     ]
    }
   ],
   "source": [
    "# Import the choice function of the random module\n",
    "# https://stackoverflow.com/questions/306400/how-to-randomly-select-an-item-from-a-list\n",
    "import random\n",
    "\n",
    "rvalue = random.random()\n",
    "\n",
    "print(rvalue)\n",
    "\n",
    "# Assign to a list the 3 possible options: 'stone', 'paper' or 'scissors'.\n",
    "options = ['stone', 'paper', 'scissors']\n",
    "\n",
    "# Assign a variable to the maximum number of games: 1, 3, 5, etc ...\n",
    "max_loops = 3\n",
    "# Assign a variable to the number of games a player must win to win.\n",
    "# Preferably the value will be based on the number of maximum games\n",
    "min_points = 2\n",
    "# Define a function that randomly returns one of the 3 options.\n",
    "# This will correspond to the play of the machine. Totally random.\n",
    "computer = []\n",
    "\n",
    "\n",
    "# Define a function that asks your choice: 'stone', 'paper' or 'scissors'\n",
    "# you should only allow one of the 3 options. This is defensive programming.\n",
    "# If it is not stone, paper or scissors keep asking until it is.\n",
    "choice_nr = ['stone','paper','scissors']\n",
    "text = 'write a value: \\n > stone \\n > paper \\n > scissors \\n >> '\n",
    "result = []\n",
    "wins_human = 0\n",
    "wins_computer = 0\n",
    "tie = 0\n",
    "status = [wins_human, \":\", wins_computer]\n",
    "rounds_total = 0\n",
    "print(\"max_loops\", max_loops)\n",
    "\n",
    "#  wins_human == wins_computer and \n",
    "while wins_computer < min_points and wins_human < min_points and rounds_total <= max_loops:\n",
    "    rounds_total += 1\n",
    "    print(\"Round Nr:\", rounds_total)\n",
    "    input_choice = input(text)\n",
    "    computer_output = random.choice(choice_nr)\n",
    "    computer.append(computer_output)\n",
    "    while input_choice not in choice_nr:\n",
    "        print(\"Input not valid, please try again!\")\n",
    "        input_choice = input(text)\n",
    "    if input_choice == computer_output:\n",
    "        result.append(0)\n",
    "        tie += 1\n",
    "        win = 'tie'\n",
    "    else:\n",
    "        if input_choice == 'stone' and computer_output == 'scissors':\n",
    "            win = 'you won'\n",
    "        elif input_choice == 'stone' and computer_output == 'paper':\n",
    "            win = 'computer wins'\n",
    "        elif input_choice == 'scissors' and computer_output == 'paper':\n",
    "            win = 'you won'\n",
    "        elif input_choice == 'scissors' and computer_output == 'stone':\n",
    "            win = 'computer wins'\n",
    "        elif input_choice == 'paper' and computer_output == 'stone':\n",
    "            win = 'you won'\n",
    "        elif input_choice == 'paper' and computer_output == 'scissors':\n",
    "            win = 'computer wins'\n",
    "    if win == str('you won'):\n",
    "        wins_human += 1\n",
    "        result.append(2)\n",
    "    elif win == str('computer wins'):\n",
    "        wins_computer += 1\n",
    "        result.append(1)\n",
    "    print(\"computer\", wins_computer)\n",
    "    print(\"human\", wins_human)\n",
    "    print(\"result\", result)\n",
    "    print(\">> you choose:\", input_choice,\"- the computer choose:\", computer_output,\"- Result:\", win)\n",
    "# Define a function that resolves a combat.\n",
    "# Returns 0 if there is a tie, 1 if the machine wins, 2 if the human player wins\n",
    "\n",
    "    \n",
    "# Define a function that shows the choice of each player and the state of the game\n",
    "# This function should be used every time accumulated points are updated\n",
    "if wins_human > wins_computer:\n",
    "    print(\"\\033[1;37;33m>>>>>> YOU WIN <<<<<<\\033[m\")\n",
    "else:\n",
    "    print(\"This time you lose\")\n",
    "    \n",
    "# Create two variables that accumulate the wins of each participant\n",
    "\n",
    "\n",
    "# Create a loop that iterates while no player reaches the minimum of wins\n",
    "# necessary to win. Inside the loop solves the play of the\n",
    "# machine and ask the player's. Compare them and update the value of the variables\n",
    "# that accumulate the wins of each participant.\n",
    "# Print by console the winner of the game based on who has more accumulated wins\n"
   ]
  },
  {
   "cell_type": "code",
   "execution_count": null,
   "metadata": {},
   "outputs": [],
   "source": []
  },
  {
   "cell_type": "code",
   "execution_count": null,
   "metadata": {},
   "outputs": [],
   "source": []
  },
  {
   "cell_type": "code",
   "execution_count": null,
   "metadata": {},
   "outputs": [],
   "source": []
  },
  {
   "cell_type": "code",
   "execution_count": null,
   "metadata": {},
   "outputs": [],
   "source": []
  },
  {
   "cell_type": "code",
   "execution_count": null,
   "metadata": {},
   "outputs": [],
   "source": []
  }
 ],
 "metadata": {
  "kernelspec": {
   "display_name": "Python 3",
   "language": "python",
   "name": "python3"
  },
  "language_info": {
   "codemirror_mode": {
    "name": "ipython",
    "version": 3
   },
   "file_extension": ".py",
   "mimetype": "text/x-python",
   "name": "python",
   "nbconvert_exporter": "python",
   "pygments_lexer": "ipython3",
   "version": "3.8.6"
  }
 },
 "nbformat": 4,
 "nbformat_minor": 4
}
