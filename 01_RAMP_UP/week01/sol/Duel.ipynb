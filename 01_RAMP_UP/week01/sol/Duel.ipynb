{
 "cells": [
  {
   "cell_type": "code",
   "execution_count": 1,
   "metadata": {},
   "outputs": [
    {
     "name": "stdout",
     "output_type": "stream",
     "text": [
      "The winner is:  Gandalf with 6 to 4 battles won.\n"
     ]
    }
   ],
   "source": [
    "\n",
    "gandalf = [10, 11, 13, 30, 22, 11, 10, 33, 22, 22]\n",
    "saruman = [23, 66, 12, 43, 12, 10, 44, 23, 12, 17]\n",
    "\n",
    "gandalf_win = []\n",
    "saruman_win = []\n",
    "\n",
    "for i in range(0, len(gandalf)):\n",
    "    if gandalf[i] < saruman[i]:\n",
    "        saruman_win.append(1)\n",
    "        gandalf_win.append(0)\n",
    "    elif saruman[i] < gandalf[i]:\n",
    "        gandalf_win.append(1)\n",
    "        saruman_win.append(0)\n",
    "    else:\n",
    "        gandalf_win.append(1)\n",
    "        saruman_win.append(1)\n",
    "\n",
    "sum_gandalf = sum(gandalf_win)\n",
    "sum_saruman = sum(saruman_win)\n",
    "winnner =[''] \n",
    "points = ['']\n",
    "\n",
    "if sum_gandalf < sum_saruman:\n",
    "    winner = \"Saruman\"\n",
    "    points = sum_saruman, sum_gandalf\n",
    "elif sum_gandalf > sum_saruman:\n",
    "    winner = \"Gandalf\"\n",
    "    points = sum_gandalf, sum_saruman\n",
    "else:\n",
    "    winner = False\n",
    "    \n",
    "if winner == False:\n",
    "    print(\"They tied\")\n",
    "else:\n",
    "    print(\"The winner is: \", winner, \"with\", points[0], \"to\", points[1], \"battles won.\" )"
   ]
  },
  {
   "cell_type": "code",
   "execution_count": null,
   "metadata": {},
   "outputs": [],
   "source": []
  },
  {
   "cell_type": "code",
   "execution_count": null,
   "metadata": {},
   "outputs": [],
   "source": []
  }
 ],
 "metadata": {
  "kernelspec": {
   "display_name": "Python 3",
   "language": "python",
   "name": "python3"
  },
  "language_info": {
   "codemirror_mode": {
    "name": "ipython",
    "version": 3
   },
   "file_extension": ".py",
   "mimetype": "text/x-python",
   "name": "python",
   "nbconvert_exporter": "python",
   "pygments_lexer": "ipython3",
   "version": "3.8.6"
  }
 },
 "nbformat": 4,
 "nbformat_minor": 4
}
