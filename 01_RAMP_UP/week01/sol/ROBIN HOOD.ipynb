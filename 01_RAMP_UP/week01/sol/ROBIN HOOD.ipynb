{
 "cells": [
  {
   "cell_type": "code",
   "execution_count": 4,
   "metadata": {},
   "outputs": [
    {
     "name": "stdout",
     "output_type": "stream",
     "text": [
      "Robin needs 5 new arrows (he hit them) out of 22\n",
      "arrows per quadrat: \n",
      " Q1: 16 \n",
      " Q2: 3 \n",
      " Q3: 2 \n",
      " Q4: 1\n",
      "2 arrows hit closest at a distance of: 2.0\n",
      "2 arrows have to be picked up\n"
     ]
    }
   ],
   "source": [
    "# Variables\n",
    "\n",
    "points = [(4, 5), (-0, 2), (4, 7), (1, -3), (3, -2), (4, 5), (3, 2), (5, 7), (-5, 7), (2, 2), (-4, 5), (0, -2), (-4, 7), (-1, 3), (-3, 2), (-4, -5), (-3, 2), (5, 7), (5, 7), (2, 2), (9, 9), (-8, -9)]\n",
    "\n",
    "# 1. Robin Hood is famous for hitting an arrow with another arrow. Did you get it?\n",
    "\n",
    "Res = len(points) == len(set(points))\n",
    "if Res == False:\n",
    "    print(\"Robin needs\", len(points)-len(set(points)), \"new arrows (he hit them)\", \"out of\", len(points))\n",
    "    \n",
    "    \n",
    "Q_1 = 0\n",
    "Q_2 = 0\n",
    "Q_3 = 0\n",
    "Q_4 = 0\n",
    "\n",
    "# 2. Calculate how many arrows have fallen in each quadrant.\n",
    "for (X, Y) in points:\n",
    "    if X and Y >= 0:\n",
    "        Q_1 += 1\n",
    "    elif X >= 0 and Y <= 0:\n",
    "        Q_2 += 1\n",
    "    elif X <= 0 and Y <= 0:\n",
    "        Q_3 += 1\n",
    "    else:\n",
    "        Q_4 += 1\n",
    "        \n",
    "print(\"arrows per quadrat:\", '\\n', \"Q1:\", Q_1, '\\n', \"Q2:\", Q_2, '\\n', \"Q3:\", Q_3, '\\n', \"Q4:\", Q_4)\n",
    "\n",
    "# 3. Find the point closest to the center. Calculate its distance to the center\n",
    "# Defining a function that calculates the distance to the center can help.\n",
    "distance = []\n",
    "\n",
    "for (X, Y) in points:\n",
    "    distance.append((X**2 + Y**2)**0.5)\n",
    "\n",
    "print(distance.count(min(distance)), \"arrows hit closest at a distance of:\", min(distance))\n",
    "\n",
    "# 4. If the target has a radius of 9, calculate the number of arrows that \n",
    "# must be picked up in the forest.\n",
    "\n",
    "arrow_in = 0\n",
    "arrow_out = 0\n",
    "\n",
    "for i in distance:\n",
    "    if i <= 9:\n",
    "        arrow_in += 1\n",
    "    else:\n",
    "        arrow_out += 1\n",
    "        \n",
    "print(arrow_out, \"arrows have to be picked up\")"
   ]
  },
  {
   "cell_type": "code",
   "execution_count": null,
   "metadata": {},
   "outputs": [],
   "source": []
  }
 ],
 "metadata": {
  "kernelspec": {
   "display_name": "Python 3",
   "language": "python",
   "name": "python3"
  },
  "language_info": {
   "codemirror_mode": {
    "name": "ipython",
    "version": 3
   },
   "file_extension": ".py",
   "mimetype": "text/x-python",
   "name": "python",
   "nbconvert_exporter": "python",
   "pygments_lexer": "ipython3",
   "version": "3.8.6"
  }
 },
 "nbformat": 4,
 "nbformat_minor": 4
}
