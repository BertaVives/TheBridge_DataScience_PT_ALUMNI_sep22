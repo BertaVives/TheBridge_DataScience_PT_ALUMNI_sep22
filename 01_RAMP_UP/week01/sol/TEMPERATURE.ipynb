{
 "cells": [
  {
   "cell_type": "code",
   "execution_count": 4,
   "metadata": {},
   "outputs": [
    {
     "name": "stdout",
     "output_type": "stream",
     "text": [
      "1. the minimum temperature is: 0 \n",
      "\n",
      "2. the maximum temperature is: 90 \n",
      "\n",
      "3. list of temp. greater 70°C: \n",
      " [False, False, False, False, False, False, False, False, False, 76, 80, 81, 80, 83, 90, 79, False, False, False, False, False, False, False, False] \n",
      "\n",
      "4. mean 24-hours temperature:  60.25 °C \n",
      "\n",
      "5. temperature value missing, Sensor defect? temperature approx. 62.0 at hour: 3\n",
      "[33, 66, 65, 62.0, 59, 60, 62, 64, 70, 76, 80, 81, 80, 83, 90, 79, 61, 53, 50, 49, 53, 48, 45, 39] \n",
      "\n",
      "The cooling system should be changed: True\n"
     ]
    }
   ],
   "source": [
    "# assign a variable to the list of temperatures\n",
    "temperatures_C = [33,66,65,0,59,60,62,64,70,76,80,81,80,83,90,79,61,53,50,49,53,48,45,39]\n",
    "temperature_70 = []\n",
    "temperature_70_24 = 0\n",
    "temperature_70_4hours = 0\n",
    "temperature_80 = []\n",
    "temperature_80_24 = 0\n",
    "# 1. Calculate the minimum of the list and print the value using print()\n",
    "print(\"1. the minimum temperature is:\", min(temperatures_C), \"\\n\")\n",
    "\n",
    "# 2. Calculate the maximum of the list and print the value using print()\n",
    "print(\"2. the maximum temperature is:\", max(temperatures_C), \"\\n\")\n",
    "\n",
    "# 3. Items in the list that are greater than 70ºC and print the result\n",
    "for i in temperatures_C:\n",
    "    if i <= 70:\n",
    "        temperature_70.append(False)\n",
    "        temperature_80.append(False)\n",
    "    if i > 70:\n",
    "        temperature_70.append(i)\n",
    "        temperature_70_24 = True\n",
    "        temperature_80.append(False)\n",
    "    elif i > 80:\n",
    "        temperature_80.append(i)\n",
    "        temperature_80_24 = True\n",
    "print(\"3. list of temp. greater 70°C:\", \"\\n\", temperature_70, \"\\n\")\n",
    "\n",
    "for i in range(0, len(temperature_70)):\n",
    "    if temperature_70[i] != False and temperature_70[i-1] != False and temperature_70[i-2] != False and temperature_70[i-3] != False:\n",
    "        temperature_70_4hours = True\n",
    "    \n",
    "# 4. Calculate the mean temperature throughout the day and print the result\n",
    "mean_day_temp = sum(temperatures_C) / len(temperatures_C)\n",
    "print(\"4. mean 24-hours temperature: \", round(mean_day_temp, 2), \"°C\", \"\\n\")\n",
    "\n",
    "# 5.1 Solve the fault in the sensor by estimating a value\n",
    "# 5.2 Update of the estimated value at 03:00 on the list\n",
    "\n",
    "for i in range(0, len(temperatures_C)):\n",
    "    if temperatures_C[i] == 0:\n",
    "        temperatures_C[i] = (temperatures_C[i+1] + temperatures_C[i-1])/2\n",
    "        print(\"5. temperature value missing, Sensor defect? temperature approx.\", temperatures_C[i], \"at hour:\", i)\n",
    "        print(temperatures_C, \"\\n\")\n",
    "        \n",
    "        \n",
    "# Print True or False depending on whether you would change the cooling system or not\n",
    "system_change = 0\n",
    "for i in range(0, 24):\n",
    "    if mean_day_temp > 65 or temperature_70_24 == True or temperature_80_24 == True or temperature_70_4hours == True:\n",
    "        system_change = True\n",
    "    else:\n",
    "        system_change = False\n",
    "\n",
    "print(\"The cooling system should be changed:\", system_change)"
   ]
  },
  {
   "cell_type": "code",
   "execution_count": null,
   "metadata": {},
   "outputs": [],
   "source": []
  }
 ],
 "metadata": {
  "kernelspec": {
   "display_name": "Python 3",
   "language": "python",
   "name": "python3"
  },
  "language_info": {
   "codemirror_mode": {
    "name": "ipython",
    "version": 3
   },
   "file_extension": ".py",
   "mimetype": "text/x-python",
   "name": "python",
   "nbconvert_exporter": "python",
   "pygments_lexer": "ipython3",
   "version": "3.8.6"
  }
 },
 "nbformat": 4,
 "nbformat_minor": 4
}
