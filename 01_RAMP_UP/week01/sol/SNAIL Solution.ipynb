{
 "cells": [
  {
   "cell_type": "code",
   "execution_count": 6,
   "metadata": {},
   "outputs": [
    {
     "name": "stdout",
     "output_type": "stream",
     "text": [
      "The snail needs 11 days to escape the well.\n"
     ]
    }
   ],
   "source": [
    "\n",
    "#Snail and well\n",
    "#A snail falls at the bottom of a 125 cm well. Each day the snail rises 30 cm. But at night, while sleeping, slides 20 cm because the walls are wet. How many days does it take to escape from the well?\n",
    "\n",
    "#TIP: http://puzzles.nigelcoldwell.co.uk/sixtytwo.htm\n",
    "\n",
    "#Solución\n",
    "#In [ ]:\n",
    "# Assign problem data to variables with representative names\n",
    "# well height, daily advance, night retreat, accumulated distance\n",
    "# Assign 0 to the variable that represents the solution\n",
    "# Write the code that solves the problem\n",
    "# Print the result with print('Days =', days)\n",
    "#\n",
    "#Treatment of variables\n",
    "#Use of loop while\n",
    "#Use of conditional if-else\n",
    "#Print in console\n",
    "#\n",
    "well_height = 125\n",
    "per_day = 30\n",
    "night_retreat = -20\n",
    "accumulated_distance = 0\n",
    "count_days = 0\n",
    "\n",
    "count_days += 1\n",
    "\n",
    "while accumulated_distance < well_height:\n",
    "    accumulated_distance += per_day\n",
    "    if accumulated_distance < well_height:\n",
    "        accumulated_distance += night_retreat\n",
    "        count_days += 1\n",
    "    else:\n",
    "        print(\"The snail needs\", count_days,\"days to escape the well.\" )"
   ]
  },
  {
   "cell_type": "code",
   "execution_count": null,
   "metadata": {},
   "outputs": [],
   "source": []
  }
 ],
 "metadata": {
  "kernelspec": {
   "display_name": "Python 3",
   "language": "python",
   "name": "python3"
  },
  "language_info": {
   "codemirror_mode": {
    "name": "ipython",
    "version": 3
   },
   "file_extension": ".py",
   "mimetype": "text/x-python",
   "name": "python",
   "nbconvert_exporter": "python",
   "pygments_lexer": "ipython3",
   "version": "3.8.6"
  }
 },
 "nbformat": 4,
 "nbformat_minor": 4
}
