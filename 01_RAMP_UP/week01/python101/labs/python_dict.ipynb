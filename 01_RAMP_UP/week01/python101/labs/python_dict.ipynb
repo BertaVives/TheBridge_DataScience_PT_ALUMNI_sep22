{
 "cells": [
  {
   "cell_type": "markdown",
   "metadata": {},
   "source": [
    "## Diccionarios - Dict\n",
    "\n",
    "```\n",
    "{\n",
    "    \"key\" : \"value\",\n",
    "    \"otro_key\" : 1,\n",
    "    \"key_3\" : True,\n",
    "    \"key_4\": None,\n",
    "    \"KEY_5\" : 5.6,\n",
    "    \"lista\" : [1, 2, 3, 4],\n",
    "    \"tupla\" : (56, 78),\n",
    "    \"otro_dict\" : {\"A\": 1, \"B\": 2}\n",
    "\n",
    "}\n",
    "```"
   ]
  },
  {
   "cell_type": "code",
   "execution_count": 1,
   "metadata": {},
   "outputs": [
    {
     "data": {
      "text/plain": [
       "[31, 'Maria', True, 'Madrid']"
      ]
     },
     "execution_count": 1,
     "metadata": {},
     "output_type": "execute_result"
    }
   ],
   "source": [
    "# Creamos una lista\n",
    "nueva_lista = [31, \"Maria\", True, \"Madrid\"]\n",
    "nueva_lista"
   ]
  },
  {
   "cell_type": "code",
   "execution_count": 2,
   "metadata": {},
   "outputs": [],
   "source": [
    "# Creando un diccionario\n",
    "diccionario = {\n",
    "            \"nombre\" : nueva_lista[1],\n",
    "            \"edad\" : nueva_lista[0],\n",
    "            \"mascota\" : nueva_lista[2],\n",
    "            \"ciudad\" : nueva_lista[3]\n",
    "        }"
   ]
  },
  {
   "cell_type": "code",
   "execution_count": 3,
   "metadata": {},
   "outputs": [
    {
     "data": {
      "text/plain": [
       "{'nombre': 'Maria', 'edad': 31, 'mascota': True, 'ciudad': 'Madrid'}"
      ]
     },
     "execution_count": 3,
     "metadata": {},
     "output_type": "execute_result"
    }
   ],
   "source": [
    "diccionario"
   ]
  },
  {
   "cell_type": "code",
   "execution_count": 4,
   "metadata": {},
   "outputs": [
    {
     "data": {
      "text/plain": [
       "dict"
      ]
     },
     "execution_count": 4,
     "metadata": {},
     "output_type": "execute_result"
    }
   ],
   "source": [
    "type(diccionario)"
   ]
  },
  {
   "cell_type": "code",
   "execution_count": 5,
   "metadata": {},
   "outputs": [
    {
     "data": {
      "text/plain": [
       "4"
      ]
     },
     "execution_count": 5,
     "metadata": {},
     "output_type": "execute_result"
    }
   ],
   "source": [
    "len(diccionario)"
   ]
  },
  {
   "cell_type": "code",
   "execution_count": 6,
   "metadata": {},
   "outputs": [
    {
     "ename": "KeyError",
     "evalue": "0",
     "output_type": "error",
     "traceback": [
      "\u001b[1;31m---------------------------------------------------------------------------\u001b[0m",
      "\u001b[1;31mKeyError\u001b[0m                                  Traceback (most recent call last)",
      "\u001b[1;32mc:\\Users\\mrusso\\OneDrive - ATSISTEMAS SA\\Documentos\\GitHub\\TheBridge_DataScience_PT_ALUMNI_sep22\\01_RAMP_UP\\week01\\python101\\labs\\python_dict.ipynb Celda 7\u001b[0m in \u001b[0;36m<module>\u001b[1;34m\u001b[0m\n\u001b[1;32m----> <a href='vscode-notebook-cell:/c%3A/Users/mrusso/OneDrive%20-%20ATSISTEMAS%20SA/Documentos/GitHub/TheBridge_DataScience_PT_ALUMNI_sep22/01_RAMP_UP/week01/python101/labs/python_dict.ipynb#W6sZmlsZQ%3D%3D?line=0'>1</a>\u001b[0m diccionario[\u001b[39m0\u001b[39;49m]\n",
      "\u001b[1;31mKeyError\u001b[0m: 0"
     ]
    }
   ],
   "source": [
    "diccionario[0]"
   ]
  },
  {
   "cell_type": "code",
   "execution_count": 8,
   "metadata": {},
   "outputs": [
    {
     "data": {
      "text/plain": [
       "'Madrid'"
      ]
     },
     "execution_count": 8,
     "metadata": {},
     "output_type": "execute_result"
    }
   ],
   "source": [
    "diccionario['ciudad']"
   ]
  },
  {
   "cell_type": "code",
   "execution_count": 9,
   "metadata": {},
   "outputs": [
    {
     "data": {
      "text/plain": [
       "dict_keys(['edad', 'nombre', 'mascota', 'ciudad'])"
      ]
     },
     "execution_count": 9,
     "metadata": {},
     "output_type": "execute_result"
    }
   ],
   "source": [
    "diccionario.keys()"
   ]
  },
  {
   "cell_type": "code",
   "execution_count": 10,
   "metadata": {},
   "outputs": [
    {
     "data": {
      "text/plain": [
       "dict_values([31, 'Maria', True, 'Madrid'])"
      ]
     },
     "execution_count": 10,
     "metadata": {},
     "output_type": "execute_result"
    }
   ],
   "source": [
    "diccionario.values()"
   ]
  },
  {
   "cell_type": "code",
   "execution_count": 11,
   "metadata": {},
   "outputs": [
    {
     "data": {
      "text/plain": [
       "dict_items([('edad', 31), ('nombre', 'Maria'), ('mascota', True), ('ciudad', 'Madrid')])"
      ]
     },
     "execution_count": 11,
     "metadata": {},
     "output_type": "execute_result"
    }
   ],
   "source": [
    "diccionario.items()"
   ]
  },
  {
   "cell_type": "code",
   "execution_count": 12,
   "metadata": {},
   "outputs": [],
   "source": [
    "diccionario['ciudad'] = \"Barcelona\""
   ]
  },
  {
   "cell_type": "code",
   "execution_count": 13,
   "metadata": {},
   "outputs": [
    {
     "data": {
      "text/plain": [
       "dict_items([('edad', 31), ('nombre', 'Maria'), ('mascota', True), ('ciudad', 'Barcelona')])"
      ]
     },
     "execution_count": 13,
     "metadata": {},
     "output_type": "execute_result"
    }
   ],
   "source": [
    "diccionario.items()"
   ]
  },
  {
   "cell_type": "code",
   "execution_count": 14,
   "metadata": {},
   "outputs": [
    {
     "ename": "KeyError",
     "evalue": "'city'",
     "output_type": "error",
     "traceback": [
      "\u001b[1;31m---------------------------------------------------------------------------\u001b[0m",
      "\u001b[1;31mKeyError\u001b[0m                                  Traceback (most recent call last)",
      "\u001b[1;32mc:\\Users\\mrusso\\THE_BRIDGE_FEB22_local\\01_PREWORK\\week03\\lab\\python_dict.ipynb Cell 14'\u001b[0m in \u001b[0;36m<module>\u001b[1;34m\u001b[0m\n\u001b[1;32m----> <a href='vscode-notebook-cell:/c%3A/Users/mrusso/THE_BRIDGE_FEB22_local/01_PREWORK/week03/lab/python_dict.ipynb#ch0000013?line=0'>1</a>\u001b[0m diccionario[\u001b[39m'\u001b[39m\u001b[39mciudad\u001b[39m\u001b[39m'\u001b[39m] \u001b[39m=\u001b[39m diccionario[\u001b[39m'\u001b[39;49m\u001b[39mcity\u001b[39;49m\u001b[39m'\u001b[39;49m]\n",
      "\u001b[1;31mKeyError\u001b[0m: 'city'"
     ]
    }
   ],
   "source": [
    "diccionario['ciudad'] = diccionario['city']"
   ]
  },
  {
   "cell_type": "code",
   "execution_count": 15,
   "metadata": {},
   "outputs": [
    {
     "ename": "TypeError",
     "evalue": "'dict_items' object is not subscriptable",
     "output_type": "error",
     "traceback": [
      "\u001b[1;31m---------------------------------------------------------------------------\u001b[0m",
      "\u001b[1;31mTypeError\u001b[0m                                 Traceback (most recent call last)",
      "\u001b[1;32mc:\\Users\\mrusso\\THE_BRIDGE_FEB22_local\\01_PREWORK\\week03\\lab\\python_dict.ipynb Cell 15'\u001b[0m in \u001b[0;36m<module>\u001b[1;34m\u001b[0m\n\u001b[1;32m----> <a href='vscode-notebook-cell:/c%3A/Users/mrusso/THE_BRIDGE_FEB22_local/01_PREWORK/week03/lab/python_dict.ipynb#ch0000014?line=0'>1</a>\u001b[0m diccionario\u001b[39m.\u001b[39;49mitems()[\u001b[39m0\u001b[39;49m]\n",
      "\u001b[1;31mTypeError\u001b[0m: 'dict_items' object is not subscriptable"
     ]
    }
   ],
   "source": [
    "diccionario.items()[0]"
   ]
  },
  {
   "cell_type": "code",
   "execution_count": 16,
   "metadata": {},
   "outputs": [],
   "source": [
    "diccionario = {\n",
    "    \"estudiantes\" : [\n",
    "        {\n",
    "            \"nombre\": \"Maria\",\n",
    "            \"nota\" : \"B\"\n",
    "        },\n",
    "        {\n",
    "            \"nombre\" : \"Roberto\",\n",
    "            \"nota\" : \"A\"\n",
    "        }\n",
    "    ]\n",
    "}"
   ]
  },
  {
   "cell_type": "code",
   "execution_count": 17,
   "metadata": {},
   "outputs": [
    {
     "data": {
      "text/plain": [
       "{'estudiantes': [{'nombre': 'Maria', 'nota': 'B'},\n",
       "  {'nombre': 'Roberto', 'nota': 'A'}]}"
      ]
     },
     "execution_count": 17,
     "metadata": {},
     "output_type": "execute_result"
    }
   ],
   "source": [
    "diccionario"
   ]
  },
  {
   "cell_type": "code",
   "execution_count": 20,
   "metadata": {},
   "outputs": [
    {
     "data": {
      "text/plain": [
       "list"
      ]
     },
     "execution_count": 20,
     "metadata": {},
     "output_type": "execute_result"
    }
   ],
   "source": [
    "type(diccionario[\"estudiantes\"])"
   ]
  },
  {
   "cell_type": "code",
   "execution_count": 22,
   "metadata": {},
   "outputs": [
    {
     "data": {
      "text/plain": [
       "{'nombre': 'Maria', 'nota': 'B'}"
      ]
     },
     "execution_count": 22,
     "metadata": {},
     "output_type": "execute_result"
    }
   ],
   "source": [
    "diccionario['estudiantes'][0]"
   ]
  }
 ],
 "metadata": {
  "kernelspec": {
   "display_name": "Python 3.9.5 ('the_bridge_22')",
   "language": "python",
   "name": "python3"
  },
  "language_info": {
   "codemirror_mode": {
    "name": "ipython",
    "version": 3
   },
   "file_extension": ".py",
   "mimetype": "text/x-python",
   "name": "python",
   "nbconvert_exporter": "python",
   "pygments_lexer": "ipython3",
   "version": "3.9.5"
  },
  "orig_nbformat": 4,
  "vscode": {
   "interpreter": {
    "hash": "1c79a6bee0cc3880bade9bffe4f2ea0bcfc562fd81915ef930f986f3657b2ce7"
   }
  }
 },
 "nbformat": 4,
 "nbformat_minor": 2
}
