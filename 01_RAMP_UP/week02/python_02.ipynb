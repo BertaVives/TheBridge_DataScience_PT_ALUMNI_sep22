{
 "cells": [
  {
   "cell_type": "markdown",
   "metadata": {},
   "source": [
    "# Comando bash en Jupyter"
   ]
  },
  {
   "cell_type": "code",
   "execution_count": 1,
   "metadata": {},
   "outputs": [
    {
     "name": "stderr",
     "output_type": "stream",
     "text": [
      "\"ls\" no se reconoce como un comando interno o externo,\n",
      "programa o archivo por lotes ejecutable.\n"
     ]
    }
   ],
   "source": [
    "!ls"
   ]
  },
  {
   "cell_type": "code",
   "execution_count": 2,
   "metadata": {},
   "outputs": [
    {
     "name": "stdout",
     "output_type": "stream",
     "text": [
      " El volumen de la unidad C no tiene etiqueta.\n",
      " El n�mero de serie del volumen es: 1219-5398\n",
      "\n",
      " Directorio de c:\\Users\\mrusso\\OneDrive - ATSISTEMAS SA\\Documentos\\GitHub\\TheBridge_DataScience_PT_ALUMNI_sep22\\01_RAMP_UP\\week02\n",
      "\n",
      "19/09/2022  19:08    <DIR>          .\n",
      "19/09/2022  19:08    <DIR>          ..\n",
      "19/09/2022  19:08                 0 python_02.ipynb\n",
      "               1 archivos              0 bytes\n",
      "               2 dirs  383.688.880.128 bytes libres\n"
     ]
    }
   ],
   "source": [
    "!dir"
   ]
  },
  {
   "cell_type": "markdown",
   "metadata": {},
   "source": [
    "```\n",
    "%%sh\n",
    "```"
   ]
  },
  {
   "cell_type": "code",
   "execution_count": 4,
   "metadata": {},
   "outputs": [
    {
     "data": {
      "text/plain": [
       "[' El volumen de la unidad C no tiene etiqueta.',\n",
       " ' El n�mero de serie del volumen es: 1219-5398',\n",
       " '',\n",
       " ' Directorio de c:\\\\Users\\\\mrusso\\\\OneDrive - ATSISTEMAS SA\\\\Documentos\\\\GitHub\\\\TheBridge_DataScience_PT_ALUMNI_sep22\\\\01_RAMP_UP\\\\week02',\n",
       " '',\n",
       " '19/09/2022  19:08    <DIR>          .',\n",
       " '19/09/2022  19:08    <DIR>          ..',\n",
       " '19/09/2022  19:08                 0 python_02.ipynb',\n",
       " '               1 archivos              0 bytes',\n",
       " '               2 dirs  383.688.597.504 bytes libres']"
      ]
     },
     "execution_count": 4,
     "metadata": {},
     "output_type": "execute_result"
    }
   ],
   "source": [
    "%%!\n",
    "dir"
   ]
  },
  {
   "cell_type": "code",
   "execution_count": 5,
   "metadata": {},
   "outputs": [
    {
     "name": "stdout",
     "output_type": "stream",
     "text": [
      "Python 3.9.5\n"
     ]
    }
   ],
   "source": [
    "!python --version"
   ]
  },
  {
   "cell_type": "code",
   "execution_count": 7,
   "metadata": {},
   "outputs": [
    {
     "name": "stdout",
     "output_type": "stream",
     "text": [
      "\n",
      "Usage:   \n",
      "  pip install [options] <requirement specifier> [package-index-options] ...\n",
      "  pip install [options] -r <requirements file> [package-index-options] ...\n",
      "  pip install [options] [-e] <vcs project url> ...\n",
      "  pip install [options] [-e] <local project path> ...\n",
      "  pip install [options] <archive url/path> ...\n",
      "\n",
      "Description:\n",
      "  Install packages from:\n",
      "  \n",
      "  - PyPI (and other indexes) using requirement specifiers.\n",
      "  - VCS project urls.\n",
      "  - Local project directories.\n",
      "  - Local or remote source archives.\n",
      "  \n",
      "  pip also supports installing from \"requirements files\", which provide\n",
      "  an easy way to specify a whole environment to be installed.\n",
      "\n",
      "Install Options:\n",
      "  -r, --requirement <file>    Install from the given requirements file. This\n",
      "                              option can be used multiple times.\n",
      "  -c, --constraint <file>     Constrain versions using the given constraints\n",
      "                              file. This option can be used multiple times.\n",
      "  --no-deps                   Don't install package dependencies.\n",
      "  --pre                       Include pre-release and development versions. By\n",
      "                              default, pip only finds stable versions.\n",
      "  -e, --editable <path/url>   Install a project in editable mode (i.e.\n",
      "                              setuptools \"develop mode\") from a local project\n",
      "                              path or a VCS url.\n",
      "  -t, --target <dir>          Install packages into <dir>. By default this\n",
      "                              will not replace existing files/folders in\n",
      "                              <dir>. Use --upgrade to replace existing\n",
      "                              packages in <dir> with new versions.\n",
      "  --platform <platform>       Only use wheels compatible with <platform>.\n",
      "                              Defaults to the platform of the running system.\n",
      "                              Use this option multiple times to specify\n",
      "                              multiple platforms supported by the target\n",
      "                              interpreter.\n",
      "  --python-version <python_version>\n",
      "                              The Python interpreter version to use for wheel\n",
      "                              and \"Requires-Python\" compatibility checks.\n",
      "                              Defaults to a version derived from the running\n",
      "                              interpreter. The version can be specified using\n",
      "                              up to three dot-separated integers (e.g. \"3\" for\n",
      "                              3.0.0, \"3.7\" for 3.7.0, or \"3.7.3\"). A major-\n",
      "                              minor version can also be given as a string\n",
      "                              without dots (e.g. \"37\" for 3.7.0).\n",
      "  --implementation <implementation>\n",
      "                              Only use wheels compatible with Python\n",
      "                              implementation <implementation>, e.g. 'pp',\n",
      "                              'jy', 'cp',  or 'ip'. If not specified, then the\n",
      "                              current interpreter implementation is used.  Use\n",
      "                              'py' to force implementation-agnostic wheels.\n",
      "  --abi <abi>                 Only use wheels compatible with Python abi\n",
      "                              <abi>, e.g. 'pypy_41'. If not specified, then\n",
      "                              the current interpreter abi tag is used. Use\n",
      "                              this option multiple times to specify multiple\n",
      "                              abis supported by the target interpreter.\n",
      "                              Generally you will need to specify\n",
      "                              --implementation, --platform, and --python-\n",
      "                              version when using this option.\n",
      "  --user                      Install to the Python user install directory for\n",
      "                              your platform. Typically ~/.local/, or\n",
      "                              %APPDATA%\\Python on Windows. (See the Python\n",
      "                              documentation for site.USER_BASE for full\n",
      "                              details.)\n",
      "  --root <dir>                Install everything relative to this alternate\n",
      "                              root directory.\n",
      "  --prefix <dir>              Installation prefix where lib, bin and other\n",
      "                              top-level folders are placed\n",
      "  --src <dir>                 Directory to check out editable projects into.\n",
      "                              The default in a virtualenv is \"<venv\n",
      "                              path>/src\". The default for global installs is\n",
      "                              \"<current dir>/src\".\n",
      "  -U, --upgrade               Upgrade all specified packages to the newest\n",
      "                              available version. The handling of dependencies\n",
      "                              depends on the upgrade-strategy used.\n",
      "  --upgrade-strategy <upgrade_strategy>\n",
      "                              Determines how dependency upgrading should be\n",
      "                              handled [default: only-if-needed]. \"eager\" -\n",
      "                              dependencies are upgraded regardless of whether\n",
      "                              the currently installed version satisfies the\n",
      "                              requirements of the upgraded package(s). \"only-\n",
      "                              if-needed\" -  are upgraded only when they do not\n",
      "                              satisfy the requirements of the upgraded\n",
      "                              package(s).\n",
      "  --force-reinstall           Reinstall all packages even if they are already\n",
      "                              up-to-date.\n",
      "  -I, --ignore-installed      Ignore the installed packages, overwriting them.\n",
      "                              This can break your system if the existing\n",
      "                              package is of a different version or was\n",
      "                              installed with a different package manager!\n",
      "  --ignore-requires-python    Ignore the Requires-Python information.\n",
      "  --no-build-isolation        Disable isolation when building a modern source\n",
      "                              distribution. Build dependencies specified by\n",
      "                              PEP 518 must be already installed if this option\n",
      "                              is used.\n",
      "  --use-pep517                Use PEP 517 for building source distributions\n",
      "                              (use --no-use-pep517 to force legacy behaviour).\n",
      "  --install-option <options>  Extra arguments to be supplied to the setup.py\n",
      "                              install command (use like --install-option=\"--\n",
      "                              install-scripts=/usr/local/bin\"). Use multiple\n",
      "                              --install-option options to pass multiple\n",
      "                              options to setup.py install. If you are using an\n",
      "                              option with a directory path, be sure to use\n",
      "                              absolute path.\n",
      "  --global-option <options>   Extra global options to be supplied to the\n",
      "                              setup.py call before the install or bdist_wheel\n",
      "                              command.\n",
      "  --compile                   Compile Python source files to bytecode\n",
      "  --no-compile                Do not compile Python source files to bytecode\n",
      "  --no-warn-script-location   Do not warn when installing scripts outside PATH\n",
      "  --no-warn-conflicts         Do not warn about broken dependencies\n",
      "  --no-binary <format_control>\n",
      "                              Do not use binary packages. Can be supplied\n",
      "                              multiple times, and each time adds to the\n",
      "                              existing value. Accepts either \":all:\" to\n",
      "                              disable all binary packages, \":none:\" to empty\n",
      "                              the set (notice the colons), or one or more\n",
      "                              package names with commas between them (no\n",
      "                              colons). Note that some packages are tricky to\n",
      "                              compile and may fail to install when this option\n",
      "                              is used on them.\n",
      "  --only-binary <format_control>\n",
      "                              Do not use source packages. Can be supplied\n",
      "                              multiple times, and each time adds to the\n",
      "                              existing value. Accepts either \":all:\" to\n",
      "                              disable all source packages, \":none:\" to empty\n",
      "                              the set, or one or more package names with\n",
      "                              commas between them. Packages without binary\n",
      "                              distributions will fail to install when this\n",
      "                              option is used on them.\n",
      "  --prefer-binary             Prefer older binary packages over newer source\n",
      "                              packages.\n",
      "  --require-hashes            Require a hash to check each requirement\n",
      "                              against, for repeatable installs. This option is\n",
      "                              implied when any package in a requirements file\n",
      "                              has a --hash option.\n",
      "  --progress-bar <progress_bar>\n",
      "                              Specify type of progress to be displayed\n",
      "                              [off|on|ascii|pretty|emoji] (default: on)\n",
      "  --no-clean                  Don't clean up build directories.\n",
      "\n",
      "Package Index Options:\n",
      "  -i, --index-url <url>       Base URL of the Python Package Index (default\n",
      "                              https://pypi.org/simple). This should point to a\n",
      "                              repository compliant with PEP 503 (the simple\n",
      "                              repository API) or a local directory laid out in\n",
      "                              the same format.\n",
      "  --extra-index-url <url>     Extra URLs of package indexes to use in addition\n",
      "                              to --index-url. Should follow the same rules as\n",
      "                              --index-url.\n",
      "  --no-index                  Ignore package index (only looking at --find-\n",
      "                              links URLs instead).\n",
      "  -f, --find-links <url>      If a URL or path to an html file, then parse for\n",
      "                              links to archives such as sdist (.tar.gz) or\n",
      "                              wheel (.whl) files. If a local path or file://\n",
      "                              URL that's a directory, then look for archives\n",
      "                              in the directory listing. Links to VCS project\n",
      "                              URLs are not supported.\n",
      "\n",
      "General Options:\n",
      "  -h, --help                  Show help.\n",
      "  --isolated                  Run pip in an isolated mode, ignoring\n",
      "                              environment variables and user configuration.\n",
      "  -v, --verbose               Give more output. Option is additive, and can be\n",
      "                              used up to 3 times.\n",
      "  -V, --version               Show version and exit.\n",
      "  -q, --quiet                 Give less output. Option is additive, and can be\n",
      "                              used up to 3 times (corresponding to WARNING,\n",
      "                              ERROR, and CRITICAL logging levels).\n",
      "  --log <path>                Path to a verbose appending log.\n",
      "  --no-input                  Disable prompting for input.\n",
      "  --proxy <proxy>             Specify a proxy in the form\n",
      "                              [user:passwd@]proxy.server:port.\n",
      "  --retries <retries>         Maximum number of retries each connection should\n",
      "                              attempt (default 5 times).\n",
      "  --timeout <sec>             Set the socket timeout (default 15 seconds).\n",
      "  --exists-action <action>    Default action when a path already exists:\n",
      "                              (s)witch, (i)gnore, (w)ipe, (b)ackup, (a)bort.\n",
      "  --trusted-host <hostname>   Mark this host or host:port pair as trusted,\n",
      "                              even though it does not have valid or any HTTPS.\n",
      "  --cert <path>               Path to PEM-encoded CA certificate bundle. If\n",
      "                              provided, overrides the default. See 'SSL\n",
      "                              Certificate Verification' in pip documentation\n",
      "                              for more information.\n",
      "  --client-cert <path>        Path to SSL client certificate, a single file\n",
      "                              containing the private key and the certificate\n",
      "                              in PEM format.\n",
      "  --cache-dir <dir>           Store the cache data in <dir>.\n",
      "  --no-cache-dir              Disable the cache.\n",
      "  --disable-pip-version-check\n",
      "                              Don't periodically check PyPI to determine\n",
      "                              whether a new version of pip is available for\n",
      "                              download. Implied with --no-index.\n",
      "  --no-color                  Suppress colored output.\n",
      "  --no-python-version-warning\n",
      "                              Silence deprecation warnings for upcoming\n",
      "                              unsupported Pythons.\n",
      "  --use-feature <feature>     Enable new functionality, that may be backward\n",
      "                              incompatible.\n",
      "  --use-deprecated <feature>  Enable deprecated functionality, that will be\n",
      "                              removed in the future.\n"
     ]
    }
   ],
   "source": [
    "!pip install --help"
   ]
  },
  {
   "cell_type": "markdown",
   "metadata": {},
   "source": [
    "## Importar las librerías"
   ]
  },
  {
   "cell_type": "code",
   "execution_count": 8,
   "metadata": {},
   "outputs": [
    {
     "name": "stdout",
     "output_type": "stream",
     "text": [
      "The Zen of Python, by Tim Peters\n",
      "\n",
      "Beautiful is better than ugly.\n",
      "Explicit is better than implicit.\n",
      "Simple is better than complex.\n",
      "Complex is better than complicated.\n",
      "Flat is better than nested.\n",
      "Sparse is better than dense.\n",
      "Readability counts.\n",
      "Special cases aren't special enough to break the rules.\n",
      "Although practicality beats purity.\n",
      "Errors should never pass silently.\n",
      "Unless explicitly silenced.\n",
      "In the face of ambiguity, refuse the temptation to guess.\n",
      "There should be one-- and preferably only one --obvious way to do it.\n",
      "Although that way may not be obvious at first unless you're Dutch.\n",
      "Now is better than never.\n",
      "Although never is often better than *right* now.\n",
      "If the implementation is hard to explain, it's a bad idea.\n",
      "If the implementation is easy to explain, it may be a good idea.\n",
      "Namespaces are one honking great idea -- let's do more of those!\n"
     ]
    }
   ],
   "source": [
    "import this"
   ]
  },
  {
   "cell_type": "code",
   "execution_count": 9,
   "metadata": {},
   "outputs": [],
   "source": [
    "import numpy"
   ]
  },
  {
   "cell_type": "code",
   "execution_count": 10,
   "metadata": {},
   "outputs": [
    {
     "data": {
      "text/plain": [
       "<module 'numpy.random' from 'c:\\\\Users\\\\mrusso\\\\Miniconda3\\\\envs\\\\the_bridge_22\\\\lib\\\\site-packages\\\\numpy\\\\random\\\\__init__.py'>"
      ]
     },
     "execution_count": 10,
     "metadata": {},
     "output_type": "execute_result"
    }
   ],
   "source": [
    "numpy.random"
   ]
  },
  {
   "cell_type": "code",
   "execution_count": 11,
   "metadata": {},
   "outputs": [
    {
     "data": {
      "text/plain": [
       "<module 'numpy.random' from 'c:\\\\Users\\\\mrusso\\\\Miniconda3\\\\envs\\\\the_bridge_22\\\\lib\\\\site-packages\\\\numpy\\\\random\\\\__init__.py'>"
      ]
     },
     "execution_count": 11,
     "metadata": {},
     "output_type": "execute_result"
    }
   ],
   "source": [
    "# lo habitual sería agregar una alias con as\n",
    "import numpy as np\n",
    "np.random"
   ]
  },
  {
   "cell_type": "code",
   "execution_count": null,
   "metadata": {},
   "outputs": [],
   "source": [
    "# Desde una librería importamos una o más funciones (métodos)\n",
    "from numpy import random"
   ]
  },
  {
   "cell_type": "markdown",
   "metadata": {},
   "source": [
    "Hay un orden en la importación de las librerías\n",
    "\n",
    "- importar librerías de sistemas (os, json, datetime...)\n",
    "- importar librerías secundarias (numpy, pandas, sklearn...)\n",
    "- importamos las librerías custom (las que vamos a crear e importar en python)"
   ]
  },
  {
   "cell_type": "code",
   "execution_count": 13,
   "metadata": {},
   "outputs": [],
   "source": [
    "# Graficamos valores aleatorios\n",
    "import numpy as np\n",
    "import seaborn as sns"
   ]
  },
  {
   "cell_type": "code",
   "execution_count": 15,
   "metadata": {},
   "outputs": [
    {
     "name": "stdout",
     "output_type": "stream",
     "text": [
      "1.23.3\n",
      "0.12.0\n"
     ]
    }
   ],
   "source": [
    "# Obervamos y visualizamos las versiones de las librerías\n",
    "print(np.__version__)\n",
    "print(sns.__version__)"
   ]
  },
  {
   "cell_type": "code",
   "execution_count": 16,
   "metadata": {},
   "outputs": [],
   "source": [
    "# declaramos las variables aleatorias\n",
    "salarios = 10 ** np.random.uniform(2, 5, 1000)"
   ]
  },
  {
   "cell_type": "code",
   "execution_count": 17,
   "metadata": {},
   "outputs": [
    {
     "data": {
      "text/plain": [
       "array([56358.4637662 ,   173.08742278,   658.62038873, 75496.17215479,\n",
       "        1164.21549469,  4275.94383245,  3166.39967235,  4304.53476603,\n",
       "         132.97829463,   127.18499796,   546.72347006, 22336.81219675,\n",
       "        1104.96061808,  1089.70294891,   178.70172203, 81378.39946779,\n",
       "       88459.04429482,  1941.40207983,   126.95739127, 40544.71031342,\n",
       "       14594.43023229,   197.36464195, 16262.5784636 , 17950.63796851,\n",
       "         104.71337334, 73123.85202451,   130.22710663,   873.58361652,\n",
       "        5531.96041369,   824.94210913,  6650.03041461,   216.2277633 ,\n",
       "       42292.79152415, 37712.43600925, 94686.26324362,   596.34215786,\n",
       "       53997.56488616, 14764.23057313,  1409.55175603,  7592.48473891,\n",
       "        4009.33868624, 71878.80147388,   132.17134212,   650.64556966,\n",
       "         163.88468428,  3315.16933938,   310.19321121, 68847.26625812,\n",
       "         234.96688885,  2782.43429737,   334.31044307, 15953.99125856,\n",
       "       34827.40584025, 17982.88258283,   517.08543673,  6168.92431261,\n",
       "         812.29676036, 94112.12141834,  5119.30858417, 10554.72980074,\n",
       "        1809.19136019,  4482.07160524,  1266.18005555,   766.03944884,\n",
       "        5492.47892971,   780.40044276,   119.51105511,   458.50798504,\n",
       "         797.66015858,   236.96573773, 81908.29471713,   199.69812201,\n",
       "       25779.62393887,   144.07414133,  5248.39839059,   146.46892999,\n",
       "         174.97421879,  5834.53534449,   144.27676598, 82050.82133132,\n",
       "         275.89552141, 61046.51388374,  7619.91979586,  1559.66566035,\n",
       "        5120.09032403, 39325.7288587 ,  2741.39861297,  1262.81841388,\n",
       "         785.18477776,   193.75475676,  1586.65679238, 30009.9992605 ,\n",
       "         209.07487165,   117.83784202,   509.46449634, 54226.39536174,\n",
       "        2947.34187608, 21718.69561635,   169.74273486,   213.5184487 ,\n",
       "        5644.96454035,  1615.13856965, 22094.84799216,   130.09812356,\n",
       "       90267.55121281, 98119.15589968, 12956.41252528,   454.24354759,\n",
       "         388.9749358 ,  1570.80000055,  6628.57580308,  1748.05402209,\n",
       "         737.51554816, 13631.77638097,   145.66039545,   187.73052349,\n",
       "       10591.91899262,   501.91232547,  1063.80867087, 22359.70724013,\n",
       "        1212.20394155,  7328.52513238,   265.39939864, 10189.87372526,\n",
       "        2575.20171447, 28175.02970904,  3515.86621759, 17412.77223385,\n",
       "       34876.1412518 ,  3129.00729965,   255.17156708,  4245.52506938,\n",
       "       71273.43467173,  2588.08940994, 65668.79655017,   650.43106162,\n",
       "        2569.55692024,  3468.00952666,  6663.43643584, 67798.17739882,\n",
       "         880.24149245,  3623.00620983,   131.91340829,  1787.76169147,\n",
       "        4870.30432327,   149.68284668,   456.35501601,   593.92680859,\n",
       "         442.03729391,   634.11451222,   542.02648446,  7747.09927168,\n",
       "        4737.63147311,  5870.70352972,  3488.99643673,  8027.87998477,\n",
       "        1834.92625501,  4334.18874175,  6349.8459276 , 13689.71671024,\n",
       "        7592.3011882 ,  2717.5280957 ,   192.73613037,   132.64084483,\n",
       "       27466.4044546 ,  2940.11297705,   625.31017147,  4666.78601171,\n",
       "        2279.411647  ,   161.11973204,  9811.7973914 ,  2129.79403264,\n",
       "       14741.48512007, 12433.39464034,  8888.84772723, 31170.63532402,\n",
       "       78094.72910417, 62939.36834825, 17059.01437081,  1354.58855378,\n",
       "        2614.20503896,  6485.73670609, 36532.50528885,   567.70377804,\n",
       "       11625.8471976 , 20840.79106079,  7709.19331651,  1303.15541397,\n",
       "       61494.77328835,  2876.36723659,   919.53190373, 27240.3494039 ,\n",
       "         160.86068355,   125.86762655,  1618.39304493,  3323.44841542,\n",
       "        5917.50152374, 21304.49179175, 20519.80638352,   173.92941721,\n",
       "        4887.99402592,  1377.02996714,   354.33365234, 19683.48919452,\n",
       "       10962.4272215 ,   293.40240251, 23381.54039394, 11268.11909651,\n",
       "       16848.75534562, 17846.81064889,   197.67637182,   487.47184934,\n",
       "        4450.69814793, 74058.60529921,  1361.75716103,  9465.57402621,\n",
       "        1963.6109429 ,  9813.52071471, 83381.65230225,  1869.76130565,\n",
       "         358.61804056,  2941.63707885,   343.02693799, 59865.07725457,\n",
       "         668.96930285,   653.94205425,  1008.80717922,  6423.24931926,\n",
       "       96489.80297826,   125.83183444,  1358.85069076,   391.90731993,\n",
       "       87565.31711827,   294.29160957, 90925.38798991,   562.99911536,\n",
       "        1448.05170967,   419.06985519, 16972.79265367,   183.24448545,\n",
       "       16691.84206826, 26111.39158431,   984.43012374, 12819.39102186,\n",
       "        3348.7264617 , 39283.36110578, 48467.70561392,   121.312839  ,\n",
       "        2630.70231764,  3798.08711367,   383.58910108,  2383.28566945,\n",
       "       14577.09222207,   568.85669391,   262.15967127, 29413.17505049,\n",
       "        5789.50777024,   650.79918739,   225.30904534, 25723.38142596,\n",
       "         338.11068928, 33180.93845748, 30288.26062866,  1055.64320348,\n",
       "        4733.94586339,   107.01670911, 24921.34415613,  1314.91222567,\n",
       "        2114.21893525, 14516.23022974,   350.20582121,  2067.18954381,\n",
       "       31194.68445496, 24357.52041824,  1239.26120464, 13237.88302682,\n",
       "       51619.68662268, 19828.62625866,  3909.30031764,  1636.25535551,\n",
       "       57063.68923315, 53964.96650628, 19024.48643052,  3500.38242896,\n",
       "       23383.01905353,   820.15619184,  2659.39945716, 46168.49807449,\n",
       "       33609.34358237,   608.84360153,   865.00271758,  1531.00983662,\n",
       "       43534.01483143, 30849.82068306,  4375.19787334,  9912.24107912,\n",
       "        1042.34566631,  1710.61581046, 52450.15729578,  4374.76655326,\n",
       "       43251.72536975, 66257.20487531, 70061.57724793,   166.90962103,\n",
       "       45134.34862487,   159.52685142,  1067.97150442,  2199.53051406,\n",
       "       17389.40110001, 80653.27021615,   488.15190533,  9426.76472377,\n",
       "       25691.89620563,   776.4214167 , 13398.24018533,   174.16320084,\n",
       "        3732.00509646,   381.26657445,  3985.69721359,   181.65823253,\n",
       "       14412.85329885, 16061.37425372,   578.25025991,  6031.76994444,\n",
       "        2145.16796529,   166.09117199,   700.15797377, 55757.78494689,\n",
       "       18286.55799149, 31980.97307424, 15848.50211314,  1823.71796907,\n",
       "         160.02062742,  2934.74568224,   523.75082261, 21610.30455179,\n",
       "         483.10163061, 65070.83437064, 79085.08327938, 29540.723199  ,\n",
       "        5604.75679736,  6438.25648867,  2364.01551776,   128.73127448,\n",
       "        4422.81343246, 40820.37569025,   831.91088937, 18198.60019447,\n",
       "       38005.69077789,  4714.17661376, 95664.05923434,   996.22002179,\n",
       "        8081.0732965 ,   153.08516355,  1162.43370984, 34809.32193771,\n",
       "        6044.75057219,  3255.9964809 , 89955.6192116 ,  1205.51383043,\n",
       "       10687.61852348, 17009.35985595,  9034.03574881,  3878.09495705,\n",
       "         380.70904114,  9993.69462313, 17851.80161678,  2207.57989279,\n",
       "       18248.20056886, 10012.12763728,   211.98074737,   111.01874997,\n",
       "         507.40451521,   119.42687658,  4754.93754199, 23603.10724117,\n",
       "         871.01940995,   348.61825182, 32553.50607728,  3854.13545455,\n",
       "         274.99631669,  3183.45198839, 16864.81471101, 89413.54728723,\n",
       "         474.19151435,  8411.15484118,   449.72384092,   153.65872675,\n",
       "         239.39336944,  1014.67019746, 78474.55836454,  1622.67665599,\n",
       "       63359.0725458 ,   345.22751129,  2432.79303972, 38102.69577142,\n",
       "       31382.5924471 , 60880.7278205 ,   685.77572358, 42781.38023112,\n",
       "        7936.07567984,   153.13683859,  6918.19188217,   216.01616931,\n",
       "        3534.1594744 ,   106.41645973,  3170.63202356,  1095.80065502,\n",
       "       96975.92876184, 99161.40122306,   677.24796171,  5434.12941662,\n",
       "       19774.94748931, 35911.60398292,  1165.52101722,   594.34362013,\n",
       "         338.70613176,  4215.77638602,  2168.60463532,  1366.00728982,\n",
       "       21226.51361076,  8151.76934873, 21220.28862167, 29186.82122631,\n",
       "        1039.89343523,   810.94689537, 27648.0369758 ,   105.55588889,\n",
       "        4433.45635207,  3392.85571948,  2315.12738691, 22700.43379196,\n",
       "         128.76148949,   237.86492573, 11125.35072383, 44457.9204507 ,\n",
       "       37493.76594125, 43468.60499793, 18241.48868564,  1334.66728476,\n",
       "       31347.36109726,   299.71713192, 41384.23997574,  6028.72400758,\n",
       "       17139.90491034,  3302.5187774 ,   909.78432596, 54851.65799382,\n",
       "         193.00372601, 34632.08077543, 79388.73883361,   164.83765253,\n",
       "         544.47219418, 26920.44922688, 35557.52401843,  8235.51495859,\n",
       "        5862.61242168,   203.81798959, 15670.70693718,  2718.67181606,\n",
       "       97841.95206339, 38515.06828055,   520.74748959,   843.02754323,\n",
       "        5979.57270256, 38381.21206688, 71514.2197429 ,  1056.24117563,\n",
       "         849.48802316, 41599.33142734,   119.72598111, 36893.39228942,\n",
       "         164.30737809, 17879.12564734, 89524.93232107, 44320.99712006,\n",
       "       94934.09992783,   134.9605305 ,  1036.08836915,  2227.82654045,\n",
       "        3496.37805561, 14867.27094947,  2274.39054922,  1305.40829818,\n",
       "        2308.30676527,  5953.80304188,  2610.16841977,   328.76223197,\n",
       "        1078.36787064, 70946.22198594,  1602.23371513,   172.70969705,\n",
       "         110.47338012, 13105.34734289,   680.97660683,  9152.71887837,\n",
       "        5510.75553266,   333.88203967,   216.90622754,  7862.17222192,\n",
       "        1198.45699567,  1102.00425478, 45767.0456949 ,   997.26501788,\n",
       "         799.44902136,  2173.92290998,  5727.00785948,   172.45010121,\n",
       "        3809.99407184, 31437.93158779,  1555.06087076,   263.07213568,\n",
       "       14942.50915341,  6503.97764362, 15682.848241  , 95928.63451154,\n",
       "       56983.02286478,   100.13878245, 26572.63566247,  1311.46446939,\n",
       "        1684.30228855,  2271.71332528,  2283.45224914,   346.75293752,\n",
       "       75494.25659824,   632.66874768, 64357.99021158,   324.84138291,\n",
       "        1863.82820927, 68869.71556988, 26677.5565348 ,  1599.40230567,\n",
       "        1440.56794106,  3723.6289799 ,  1835.84490421,  8000.46411019,\n",
       "         413.79788502, 18947.42206535,  5557.2832044 , 51890.40259721,\n",
       "        1079.96854253,   251.70698017,  3185.77573378, 28047.70805502,\n",
       "        5548.48762411, 31291.11031359,  9445.9027401 ,   223.6355994 ,\n",
       "       76452.24622869, 29944.71469056,  3012.73816525,   125.56384284,\n",
       "       43208.24526256,   160.74109563, 58104.8430665 ,   327.71417184,\n",
       "         977.37236785,  2060.97768126,  4412.45505334, 57105.70776557,\n",
       "         221.18281085,   146.58544692,   653.85132647, 11565.98802639,\n",
       "         844.30685968,  6058.32188063, 21674.95489638,  1965.3994136 ,\n",
       "         660.58469866, 27660.04258686, 61245.86139883,   135.180648  ,\n",
       "       82212.13886577,  9012.64765351,  1302.57548565,  1648.44237187,\n",
       "         182.91647629, 18947.74262988,  1117.94804688,   307.05970914,\n",
       "       16079.98133612,   131.66574224,  1258.26852531,  9026.81114474,\n",
       "        2334.57455655,  1350.21705522, 72259.45801468,  1282.5610331 ,\n",
       "       24989.19937188,   502.93167495,   395.22535079,  3535.52325223,\n",
       "         147.81860585, 18018.87579937, 12477.8492701 ,  4828.61665543,\n",
       "         119.67506749,   155.34719353, 11031.69291161,  1602.82255942,\n",
       "        2255.21941163, 96930.67874593,   430.0080119 ,   251.66946501,\n",
       "        1125.90936949, 29071.14044842, 14899.955904  ,   906.40600142,\n",
       "       38691.61843929,   201.90987845,  5488.6428015 ,  5353.97181498,\n",
       "        1721.22398559,   207.28292553,  1442.1223382 , 22390.44289603,\n",
       "       16483.81701177,   355.62405471,   152.3779762 ,  4032.35394156,\n",
       "         344.15431705,   764.34897936, 18519.17980375,  4391.11900965,\n",
       "         126.62285597,  3617.64853299,  1055.84004748,  1561.54028974,\n",
       "       47377.67623295,   275.07451682, 24698.4802025 ,  1450.56228257,\n",
       "        1531.5391225 ,  2662.03771104,  5902.5410644 ,   334.19047323,\n",
       "         709.06259698, 69719.1103178 ,   128.77844197, 48191.04253033,\n",
       "        4845.16701381, 25030.96849504,  9353.15886766,  5705.76081674,\n",
       "         307.77254783,  5489.90706969,   582.59919489,  8800.43559308,\n",
       "       22563.57585733,  3086.4525138 ,   941.72952989,   489.03442592,\n",
       "         335.52443941, 93806.0926731 ,  4180.94973216,   275.40938465,\n",
       "       21836.49017342,  1542.81874142,   417.37542255, 15501.69757629,\n",
       "         139.58803657,   142.1320992 , 16266.09543966,  1074.93652618,\n",
       "        9947.78621033,   126.29060831,   583.68090838, 16771.90929539,\n",
       "       65113.90189221,  2384.62423118,  7515.33112798, 45989.96963328,\n",
       "        2207.32349297, 73913.24116011,  9924.01459438,   219.13615756,\n",
       "        2141.03565743, 69243.20644268,   152.83270085,  1648.14108149,\n",
       "         330.31946119,   529.88652047,   528.78049975,   105.89281758,\n",
       "         471.87758179,   162.24970037,  5205.56414333, 66545.59734884,\n",
       "         571.01061918,  6169.4742546 ,   357.7759154 ,  5460.83804321,\n",
       "        3678.73086882,  9907.77624375,   503.60012658,   433.06916523,\n",
       "       10647.62868236,   142.3578402 ,   172.0464391 , 72404.63746239,\n",
       "        9733.83371363,  7065.62881472,  1103.41408108, 92672.85003413,\n",
       "       62871.55936775, 24869.60414808,  7324.82878244,   224.28893122,\n",
       "       49638.9075572 ,   386.26685117,   150.78195337, 35752.49235584,\n",
       "        2871.11918841, 35943.26939053,  1757.11269794,  3689.84714629,\n",
       "        3419.17667431,  2060.22173029,   602.71024772,  4306.05653578,\n",
       "         417.75737311, 26417.57178507, 14602.42576485,  8146.61091135,\n",
       "       29443.11305971,   455.85870214,  2854.38657421, 64237.37554932,\n",
       "       35960.25360889, 12376.61583254,  1482.41355706,   146.70147698,\n",
       "       70993.50005574,  3551.00883382,  1258.23381162,  1930.80011926,\n",
       "       72138.67442827, 66456.02484098,   167.2798509 ,   353.90903387,\n",
       "        5761.0725792 ,   170.04819037,   501.0127913 ,  2646.60473563,\n",
       "        1084.03378563, 72185.62002915,  1822.28892403,   172.33106299,\n",
       "       28100.70894153,  5559.41597555, 13942.72798755, 20050.07929626,\n",
       "       82669.92044734,   310.10456292,   145.07890895,   297.06019568,\n",
       "         185.95049399,  2667.37329002, 72710.34412603,   708.96766434,\n",
       "         119.68577286, 30752.45267197,  2048.79917562,   181.18331236,\n",
       "       69931.18438055, 74422.92506913,  7651.55875527,  3223.95898784,\n",
       "        1449.09557152,   234.18072782,  5734.03621123,   485.67274605,\n",
       "         506.67297817,  1305.91418471,  1174.97516241, 10295.09608936,\n",
       "        1222.30108072,   112.33884191, 24876.16561241,  9143.85739583,\n",
       "        1281.88867018, 91435.27415382,   359.60424884, 12499.42403844,\n",
       "        9274.10811309, 27378.58736397, 67421.10705206, 11098.60697075,\n",
       "         151.78473289,  2578.04689879,   841.78341635,  4208.4832517 ,\n",
       "        1002.19824225,  9163.94372569,  9307.24043951,  1220.7206354 ,\n",
       "         964.88138486, 59704.94245655,  2586.02534641,   328.29635527,\n",
       "       36697.95661045,   253.72223676,  2796.1967562 ,   132.03211227,\n",
       "        3347.47781473,   511.44130402, 17306.08440196,   572.14926186,\n",
       "       68649.25229253,   119.50101921, 15703.65615625,  8846.03312469,\n",
       "        2609.03091417, 72005.10581486, 71302.24821793, 69499.92643561,\n",
       "       43629.70474527,  7383.54530591,   132.11739765,  1270.72881967,\n",
       "         125.89048546,  3169.07343656,  7515.10370999, 21424.68925871,\n",
       "       12074.06838088, 52846.19766233,   831.87847626, 12706.80954134,\n",
       "        6280.17727208,   175.29898166,   112.91432421, 33028.17095689,\n",
       "       95221.80896747,   114.08126089,  2168.88724332,   264.94983852,\n",
       "       25383.00261318,  1814.63572038, 62803.59530725,  1539.88647244,\n",
       "        2417.65778919, 20007.0650375 , 15477.9389546 , 84902.96361983,\n",
       "         171.6504308 ,   209.61166499,  8819.11720372, 55819.70098464,\n",
       "       25675.819511  , 17852.39557137, 17834.03384175,   164.13017948,\n",
       "       14172.24470268,   902.7028406 , 24234.34274037,  1039.39615439,\n",
       "       16320.92691609,   231.29362011, 18828.88969587,  4648.05945305,\n",
       "        1138.45741717, 21025.33386196,   275.08291808, 13523.82240404,\n",
       "        1962.13711256,   121.37535393,   129.51876051,   111.95876656,\n",
       "        7695.55196772,  6880.45280807, 28380.25979751, 11954.371677  ,\n",
       "        1170.26977179, 13376.41042805, 43304.59948906,  6585.11760578,\n",
       "        1437.78570062,   160.05958122,  1394.44397051, 11630.49035503,\n",
       "        7133.60766198,  4423.76486539, 90338.76665233,  1512.45438043,\n",
       "        5518.53309203,  1410.51637519,   161.73491217,   548.43226043,\n",
       "         204.75576828, 26269.05684344,  4419.15893151,   184.46428362,\n",
       "        1517.58590055, 48064.22719812,  4794.58184257,   697.98182927,\n",
       "        2279.95064742,   524.466444  , 86122.81780758,  5345.66862936,\n",
       "        1847.41567801, 60762.59418674, 23609.42694284,  5345.47939988,\n",
       "        3969.67402256, 86149.99428302,   117.38615859,   169.68768493,\n",
       "         115.51779265,  5584.05736923,   672.43291301,  5586.27489533,\n",
       "        2624.87716055,  6604.00480473,  5553.64515229,   116.51318271,\n",
       "       39289.00113269,   260.07214467,   258.15482397,   472.22444694,\n",
       "        1013.73696876,   339.73325246,  5291.81306153,   296.57597814,\n",
       "        6847.09348398,  2003.03149868, 35212.76696668, 14511.08636817,\n",
       "        5349.95127929,   102.2074692 , 21775.96749758,   825.75617115,\n",
       "         145.81881999, 19615.70374425, 13949.7702644 ,   345.75096632,\n",
       "        1737.44340258,  9737.39451065, 57541.01506762,  2326.09099119,\n",
       "         295.51600595, 90267.23021472,  1021.21679399,  1660.58611904,\n",
       "       87899.51403223,   146.0143384 ,  8979.4197448 , 32103.37625975,\n",
       "        6449.45343649,   151.23486421, 24642.29623599,   985.13443163,\n",
       "        6327.10401786, 62416.8322397 , 63724.92832374,  3539.35764378,\n",
       "       51159.88918539,  2394.34030267, 39665.39843728,   400.98941108,\n",
       "       12758.83900091,  3854.86240468,  1658.13484737,   374.34860656,\n",
       "         549.29400738, 20909.05582288,  3105.61186222, 47768.29814082,\n",
       "         101.0956704 ,  3328.41127117, 13793.14922902,  3668.49866387,\n",
       "         164.38284657,  1350.44172419,  1114.24818249,   794.86235177,\n",
       "       26435.62553565, 15989.00984594, 55089.95986899, 54265.1091278 ,\n",
       "         125.15961482, 80134.13319199, 39635.97167444,  1788.00710637,\n",
       "        5459.79433396,  4167.68763056,   156.13030127, 17090.86530402,\n",
       "         245.73834014,  1435.41017641, 39598.96048536, 72010.99307294,\n",
       "       36251.08707607,  2459.95763696,   876.69002219,   497.89393417,\n",
       "         420.74699073, 35114.89255433,  2696.19632037,  1448.87640429])"
      ]
     },
     "execution_count": 17,
     "metadata": {},
     "output_type": "execute_result"
    }
   ],
   "source": [
    "salarios"
   ]
  },
  {
   "cell_type": "code",
   "execution_count": 18,
   "metadata": {},
   "outputs": [
    {
     "data": {
      "text/plain": [
       "numpy.ndarray"
      ]
     },
     "execution_count": 18,
     "metadata": {},
     "output_type": "execute_result"
    }
   ],
   "source": [
    "type(salarios)"
   ]
  },
  {
   "cell_type": "code",
   "execution_count": 19,
   "metadata": {},
   "outputs": [
    {
     "data": {
      "text/plain": [
       "array([56358.4637662 ,   173.08742278,   658.62038873, 75496.17215479,\n",
       "        1164.21549469,  4275.94383245,  3166.39967235,  4304.53476603,\n",
       "         132.97829463,   127.18499796])"
      ]
     },
     "execution_count": 19,
     "metadata": {},
     "output_type": "execute_result"
    }
   ],
   "source": [
    "salarios[:10]"
   ]
  },
  {
   "cell_type": "code",
   "execution_count": 20,
   "metadata": {},
   "outputs": [
    {
     "data": {
      "text/plain": [
       "(1000,)"
      ]
     },
     "execution_count": 20,
     "metadata": {},
     "output_type": "execute_result"
    }
   ],
   "source": [
    "salarios.shape"
   ]
  },
  {
   "cell_type": "code",
   "execution_count": 22,
   "metadata": {},
   "outputs": [
    {
     "data": {
      "text/plain": [
       "<seaborn.axisgrid.FacetGrid at 0x1f6098fd610>"
      ]
     },
     "execution_count": 22,
     "metadata": {},
     "output_type": "execute_result"
    },
    {
     "data": {
      "image/png": "[encoded data removed]",
      "text/plain": [
       "<Figure size 360x360 with 1 Axes>"
      ]
     },
     "metadata": {
      "needs_background": "light"
     },
     "output_type": "display_data"
    }
   ],
   "source": [
    "sns.displot(np.log10(salarios))"
   ]
  },
  {
   "cell_type": "code",
   "execution_count": null,
   "metadata": {},
   "outputs": [],
   "source": [
    "sns.displot()"
   ]
  },
  {
   "cell_type": "markdown",
   "metadata": {},
   "source": [
    "## Cadenas de textos"
   ]
  },
  {
   "cell_type": "code",
   "execution_count": 23,
   "metadata": {},
   "outputs": [
    {
     "ename": "TypeError",
     "evalue": "can only concatenate str (not \"int\") to str",
     "output_type": "error",
     "traceback": [
      "\u001b[1;31m---------------------------------------------------------------------------\u001b[0m",
      "\u001b[1;31mTypeError\u001b[0m                                 Traceback (most recent call last)",
      "\u001b[1;32mc:\\Users\\mrusso\\OneDrive - ATSISTEMAS SA\\Documentos\\GitHub\\TheBridge_DataScience_PT_ALUMNI_sep22\\01_RAMP_UP\\week02\\python_02.ipynb Celda 25\u001b[0m in \u001b[0;36m<module>\u001b[1;34m\u001b[0m\n\u001b[0;32m      <a href='vscode-notebook-cell:/c%3A/Users/mrusso/OneDrive%20-%20ATSISTEMAS%20SA/Documentos/GitHub/TheBridge_DataScience_PT_ALUMNI_sep22/01_RAMP_UP/week02/python_02.ipynb#X36sZmlsZQ%3D%3D?line=0'>1</a>\u001b[0m nombre \u001b[39m=\u001b[39m \u001b[39m'\u001b[39m\u001b[39mRafael\u001b[39m\u001b[39m'\u001b[39m\n\u001b[0;32m      <a href='vscode-notebook-cell:/c%3A/Users/mrusso/OneDrive%20-%20ATSISTEMAS%20SA/Documentos/GitHub/TheBridge_DataScience_PT_ALUMNI_sep22/01_RAMP_UP/week02/python_02.ipynb#X36sZmlsZQ%3D%3D?line=1'>2</a>\u001b[0m edad \u001b[39m=\u001b[39m \u001b[39m40\u001b[39m\n\u001b[1;32m----> <a href='vscode-notebook-cell:/c%3A/Users/mrusso/OneDrive%20-%20ATSISTEMAS%20SA/Documentos/GitHub/TheBridge_DataScience_PT_ALUMNI_sep22/01_RAMP_UP/week02/python_02.ipynb#X36sZmlsZQ%3D%3D?line=2'>3</a>\u001b[0m \u001b[39mprint\u001b[39m(nombre \u001b[39m+\u001b[39;49m edad)\n",
      "\u001b[1;31mTypeError\u001b[0m: can only concatenate str (not \"int\") to str"
     ]
    }
   ],
   "source": [
    "nombre = 'Rafael'\n",
    "edad = 40\n",
    "print(nombre + edad)"
   ]
  },
  {
   "cell_type": "code",
   "execution_count": 24,
   "metadata": {},
   "outputs": [
    {
     "name": "stdout",
     "output_type": "stream",
     "text": [
      "Hola me llamo  Rafael y tengo  40 años\n"
     ]
    }
   ],
   "source": [
    "print(\"Hola me llamo \", nombre, 'y tengo ', edad, \"años\")"
   ]
  },
  {
   "cell_type": "code",
   "execution_count": 25,
   "metadata": {},
   "outputs": [
    {
     "name": "stdout",
     "output_type": "stream",
     "text": [
      "Hola me llamo Rafael y tengo 40 años.\n"
     ]
    }
   ],
   "source": [
    "print(f\"Hola me llamo {nombre} y tengo {edad} años.\")"
   ]
  },
  {
   "cell_type": "code",
   "execution_count": 26,
   "metadata": {},
   "outputs": [
    {
     "name": "stdout",
     "output_type": "stream",
     "text": [
      "Hola me llamo Rafael y tengo 40 años\n"
     ]
    }
   ],
   "source": [
    "print(\"Hola me llamo {} y tengo {} años\".format(nombre, edad))"
   ]
  },
  {
   "cell_type": "code",
   "execution_count": 27,
   "metadata": {},
   "outputs": [
    {
     "name": "stdout",
     "output_type": "stream",
     "text": [
      "Hola me llamo Rafael y tengo 40 años\n"
     ]
    }
   ],
   "source": [
    "print(\"Hola me llamo {1} y tengo {0} años\".format(edad, nombre))"
   ]
  },
  {
   "cell_type": "code",
   "execution_count": 28,
   "metadata": {},
   "outputs": [
    {
     "name": "stdout",
     "output_type": "stream",
     "text": [
      "Me llamo Rafael y tengo 40 años\n"
     ]
    }
   ],
   "source": [
    "print(\"Me llamo %s y tengo %s años\" % (nombre, edad))"
   ]
  },
  {
   "cell_type": "code",
   "execution_count": 29,
   "metadata": {},
   "outputs": [
    {
     "data": {
      "text/plain": [
       "True"
      ]
     },
     "execution_count": 29,
     "metadata": {},
     "output_type": "execute_result"
    }
   ],
   "source": [
    "# Realizar un check\n",
    "\"a\" in nombre"
   ]
  },
  {
   "cell_type": "code",
   "execution_count": 30,
   "metadata": {},
   "outputs": [
    {
     "data": {
      "text/plain": [
       "False"
      ]
     },
     "execution_count": 30,
     "metadata": {},
     "output_type": "execute_result"
    }
   ],
   "source": [
    "\"A\" in nombre"
   ]
  },
  {
   "cell_type": "code",
   "execution_count": 31,
   "metadata": {},
   "outputs": [
    {
     "data": {
      "text/plain": [
       "True"
      ]
     },
     "execution_count": 31,
     "metadata": {},
     "output_type": "execute_result"
    }
   ],
   "source": [
    "\"fa\" in nombre"
   ]
  },
  {
   "cell_type": "code",
   "execution_count": 32,
   "metadata": {},
   "outputs": [
    {
     "data": {
      "text/plain": [
       "6"
      ]
     },
     "execution_count": 32,
     "metadata": {},
     "output_type": "execute_result"
    }
   ],
   "source": [
    "len(nombre)"
   ]
  },
  {
   "cell_type": "code",
   "execution_count": 33,
   "metadata": {},
   "outputs": [
    {
     "data": {
      "text/plain": [
       "'RAFAEL'"
      ]
     },
     "execution_count": 33,
     "metadata": {},
     "output_type": "execute_result"
    }
   ],
   "source": [
    "nombre.upper()"
   ]
  },
  {
   "cell_type": "code",
   "execution_count": 34,
   "metadata": {},
   "outputs": [
    {
     "data": {
      "text/plain": [
       "'rafael'"
      ]
     },
     "execution_count": 34,
     "metadata": {},
     "output_type": "execute_result"
    }
   ],
   "source": [
    "nombre.lower()"
   ]
  },
  {
   "cell_type": "code",
   "execution_count": 35,
   "metadata": {},
   "outputs": [
    {
     "data": {
      "text/plain": [
       "True"
      ]
     },
     "execution_count": 35,
     "metadata": {},
     "output_type": "execute_result"
    }
   ],
   "source": [
    "nombre.endswith('l')"
   ]
  },
  {
   "cell_type": "code",
   "execution_count": 36,
   "metadata": {},
   "outputs": [
    {
     "data": {
      "text/plain": [
       "False"
      ]
     },
     "execution_count": 36,
     "metadata": {},
     "output_type": "execute_result"
    }
   ],
   "source": [
    "nombre.isupper()"
   ]
  },
  {
   "cell_type": "code",
   "execution_count": 37,
   "metadata": {},
   "outputs": [
    {
     "ename": "AttributeError",
     "evalue": "'int' object has no attribute 'isdigit'",
     "output_type": "error",
     "traceback": [
      "\u001b[1;31m---------------------------------------------------------------------------\u001b[0m",
      "\u001b[1;31mAttributeError\u001b[0m                            Traceback (most recent call last)",
      "\u001b[1;32mc:\\Users\\mrusso\\OneDrive - ATSISTEMAS SA\\Documentos\\GitHub\\TheBridge_DataScience_PT_ALUMNI_sep22\\01_RAMP_UP\\week02\\python_02.ipynb Celda 39\u001b[0m in \u001b[0;36m<module>\u001b[1;34m\u001b[0m\n\u001b[1;32m----> <a href='vscode-notebook-cell:/c%3A/Users/mrusso/OneDrive%20-%20ATSISTEMAS%20SA/Documentos/GitHub/TheBridge_DataScience_PT_ALUMNI_sep22/01_RAMP_UP/week02/python_02.ipynb#X56sZmlsZQ%3D%3D?line=0'>1</a>\u001b[0m edad\u001b[39m.\u001b[39;49misdigit()\n",
      "\u001b[1;31mAttributeError\u001b[0m: 'int' object has no attribute 'isdigit'"
     ]
    }
   ],
   "source": [
    "edad.isdigit()"
   ]
  },
  {
   "cell_type": "code",
   "execution_count": 38,
   "metadata": {},
   "outputs": [
    {
     "data": {
      "text/plain": [
       "False"
      ]
     },
     "execution_count": 38,
     "metadata": {},
     "output_type": "execute_result"
    }
   ],
   "source": [
    "nombre.isdigit()"
   ]
  },
  {
   "cell_type": "code",
   "execution_count": 39,
   "metadata": {},
   "outputs": [
    {
     "data": {
      "text/plain": [
       "str"
      ]
     },
     "execution_count": 39,
     "metadata": {},
     "output_type": "execute_result"
    }
   ],
   "source": [
    "type(nombre)"
   ]
  },
  {
   "cell_type": "code",
   "execution_count": 40,
   "metadata": {},
   "outputs": [
    {
     "data": {
      "text/plain": [
       "['__add__',\n",
       " '__class__',\n",
       " '__contains__',\n",
       " '__delattr__',\n",
       " '__dir__',\n",
       " '__doc__',\n",
       " '__eq__',\n",
       " '__format__',\n",
       " '__ge__',\n",
       " '__getattribute__',\n",
       " '__getitem__',\n",
       " '__getnewargs__',\n",
       " '__gt__',\n",
       " '__hash__',\n",
       " '__init__',\n",
       " '__init_subclass__',\n",
       " '__iter__',\n",
       " '__le__',\n",
       " '__len__',\n",
       " '__lt__',\n",
       " '__mod__',\n",
       " '__mul__',\n",
       " '__ne__',\n",
       " '__new__',\n",
       " '__reduce__',\n",
       " '__reduce_ex__',\n",
       " '__repr__',\n",
       " '__rmod__',\n",
       " '__rmul__',\n",
       " '__setattr__',\n",
       " '__sizeof__',\n",
       " '__str__',\n",
       " '__subclasshook__',\n",
       " 'capitalize',\n",
       " 'casefold',\n",
       " 'center',\n",
       " 'count',\n",
       " 'encode',\n",
       " 'endswith',\n",
       " 'expandtabs',\n",
       " 'find',\n",
       " 'format',\n",
       " 'format_map',\n",
       " 'index',\n",
       " 'isalnum',\n",
       " 'isalpha',\n",
       " 'isascii',\n",
       " 'isdecimal',\n",
       " 'isdigit',\n",
       " 'isidentifier',\n",
       " 'islower',\n",
       " 'isnumeric',\n",
       " 'isprintable',\n",
       " 'isspace',\n",
       " 'istitle',\n",
       " 'isupper',\n",
       " 'join',\n",
       " 'ljust',\n",
       " 'lower',\n",
       " 'lstrip',\n",
       " 'maketrans',\n",
       " 'partition',\n",
       " 'removeprefix',\n",
       " 'removesuffix',\n",
       " 'replace',\n",
       " 'rfind',\n",
       " 'rindex',\n",
       " 'rjust',\n",
       " 'rpartition',\n",
       " 'rsplit',\n",
       " 'rstrip',\n",
       " 'split',\n",
       " 'splitlines',\n",
       " 'startswith',\n",
       " 'strip',\n",
       " 'swapcase',\n",
       " 'title',\n",
       " 'translate',\n",
       " 'upper',\n",
       " 'zfill']"
      ]
     },
     "execution_count": 40,
     "metadata": {},
     "output_type": "execute_result"
    }
   ],
   "source": [
    "# Para observar las funciones o propiedades \n",
    "dir(nombre)"
   ]
  },
  {
   "cell_type": "code",
   "execution_count": 41,
   "metadata": {},
   "outputs": [
    {
     "data": {
      "text/plain": [
       "list"
      ]
     },
     "execution_count": 41,
     "metadata": {},
     "output_type": "execute_result"
    }
   ],
   "source": [
    "type(dir(nombre))"
   ]
  },
  {
   "cell_type": "code",
   "execution_count": 42,
   "metadata": {},
   "outputs": [
    {
     "data": {
      "text/plain": [
       "['capitalize',\n",
       " 'casefold',\n",
       " 'center',\n",
       " 'count',\n",
       " 'encode',\n",
       " 'endswith',\n",
       " 'expandtabs',\n",
       " 'find',\n",
       " 'format',\n",
       " 'format_map',\n",
       " 'index',\n",
       " 'isalnum',\n",
       " 'isalpha',\n",
       " 'isascii',\n",
       " 'isdecimal',\n",
       " 'isdigit',\n",
       " 'isidentifier',\n",
       " 'islower',\n",
       " 'isnumeric',\n",
       " 'isprintable',\n",
       " 'isspace',\n",
       " 'istitle',\n",
       " 'isupper',\n",
       " 'join',\n",
       " 'ljust',\n",
       " 'lower',\n",
       " 'lstrip',\n",
       " 'maketrans',\n",
       " 'partition',\n",
       " 'removeprefix',\n",
       " 'removesuffix',\n",
       " 'replace',\n",
       " 'rfind',\n",
       " 'rindex',\n",
       " 'rjust',\n",
       " 'rpartition',\n",
       " 'rsplit',\n",
       " 'rstrip',\n",
       " 'split',\n",
       " 'splitlines',\n",
       " 'startswith',\n",
       " 'strip',\n",
       " 'swapcase',\n",
       " 'title',\n",
       " 'translate',\n",
       " 'upper',\n",
       " 'zfill']"
      ]
     },
     "execution_count": 42,
     "metadata": {},
     "output_type": "execute_result"
    }
   ],
   "source": [
    "[method for method in dir(nombre) if not method.startswith(\"__\")]"
   ]
  },
  {
   "cell_type": "code",
   "execution_count": 43,
   "metadata": {},
   "outputs": [
    {
     "name": "stdout",
     "output_type": "stream",
     "text": [
      "nombre.islower\n",
      "nombre.lower"
     ]
    }
   ],
   "source": [
    "# Opción que nos permite visualizar la ayuda\n",
    "nombre.*low*?"
   ]
  },
  {
   "cell_type": "code",
   "execution_count": 44,
   "metadata": {},
   "outputs": [
    {
     "name": "stdout",
     "output_type": "stream",
     "text": [
      "nombre.isspace\n",
      "nombre.replace"
     ]
    }
   ],
   "source": [
    "nombre.*ac*?"
   ]
  },
  {
   "cell_type": "code",
   "execution_count": 45,
   "metadata": {},
   "outputs": [
    {
     "data": {
      "text/plain": [
       "'Rafael'"
      ]
     },
     "execution_count": 45,
     "metadata": {},
     "output_type": "execute_result"
    }
   ],
   "source": [
    "nombre.replace(\"r\", \"m\")"
   ]
  },
  {
   "cell_type": "code",
   "execution_count": 46,
   "metadata": {},
   "outputs": [
    {
     "data": {
      "text/plain": [
       "'Mafael'"
      ]
     },
     "execution_count": 46,
     "metadata": {},
     "output_type": "execute_result"
    }
   ],
   "source": [
    "nombre.replace(\"R\", \"M\")"
   ]
  },
  {
   "cell_type": "code",
   "execution_count": 47,
   "metadata": {},
   "outputs": [],
   "source": [
    "frase = 'Segunda semana de Python...muy entretenida!'"
   ]
  },
  {
   "cell_type": "code",
   "execution_count": 48,
   "metadata": {},
   "outputs": [
    {
     "data": {
      "text/plain": [
       "43"
      ]
     },
     "execution_count": 48,
     "metadata": {},
     "output_type": "execute_result"
    }
   ],
   "source": [
    "len(frase)"
   ]
  },
  {
   "cell_type": "code",
   "execution_count": 49,
   "metadata": {},
   "outputs": [
    {
     "data": {
      "text/plain": [
       "'mana de Python...muy entretenida!'"
      ]
     },
     "execution_count": 49,
     "metadata": {},
     "output_type": "execute_result"
    }
   ],
   "source": [
    "frase[10:50]"
   ]
  },
  {
   "cell_type": "code",
   "execution_count": 50,
   "metadata": {},
   "outputs": [
    {
     "data": {
      "text/plain": [
       "'Segun'"
      ]
     },
     "execution_count": 50,
     "metadata": {},
     "output_type": "execute_result"
    }
   ],
   "source": [
    "frase[:5]"
   ]
  },
  {
   "cell_type": "code",
   "execution_count": 51,
   "metadata": {},
   "outputs": [
    {
     "data": {
      "text/plain": [
       "'Segun'"
      ]
     },
     "execution_count": 51,
     "metadata": {},
     "output_type": "execute_result"
    }
   ],
   "source": [
    "# Mantiene la misma propiedad de una lista (índice start a índice end - 1)\n",
    "frase[0:5]"
   ]
  },
  {
   "cell_type": "code",
   "execution_count": 52,
   "metadata": {},
   "outputs": [
    {
     "data": {
      "text/plain": [
       "['Segunda', 'semana', 'de', 'Python...muy', 'entretenida!']"
      ]
     },
     "execution_count": 52,
     "metadata": {},
     "output_type": "execute_result"
    }
   ],
   "source": [
    "words = frase.split()\n",
    "words"
   ]
  },
  {
   "cell_type": "markdown",
   "metadata": {},
   "source": [
    "## Tuplas"
   ]
  },
  {
   "cell_type": "code",
   "execution_count": 53,
   "metadata": {},
   "outputs": [
    {
     "data": {
      "text/plain": [
       "list"
      ]
     },
     "execution_count": 53,
     "metadata": {},
     "output_type": "execute_result"
    }
   ],
   "source": [
    "edades = [5, 6, 7, 9, 10]\n",
    "type(edades)"
   ]
  },
  {
   "cell_type": "code",
   "execution_count": 54,
   "metadata": {},
   "outputs": [
    {
     "data": {
      "text/plain": [
       "10"
      ]
     },
     "execution_count": 54,
     "metadata": {},
     "output_type": "execute_result"
    }
   ],
   "source": [
    "edades.pop()"
   ]
  },
  {
   "cell_type": "code",
   "execution_count": 55,
   "metadata": {},
   "outputs": [
    {
     "data": {
      "text/plain": [
       "[5, 6, 7, 9]"
      ]
     },
     "execution_count": 55,
     "metadata": {},
     "output_type": "execute_result"
    }
   ],
   "source": [
    "edades"
   ]
  },
  {
   "cell_type": "code",
   "execution_count": 56,
   "metadata": {},
   "outputs": [
    {
     "data": {
      "text/plain": [
       "tuple"
      ]
     },
     "execution_count": 56,
     "metadata": {},
     "output_type": "execute_result"
    }
   ],
   "source": [
    "# Tupla es un objeto en Python que no permite realziar agregaciones\n",
    "tupla = (12, 15, 18)\n",
    "type(tupla)"
   ]
  },
  {
   "cell_type": "code",
   "execution_count": 57,
   "metadata": {},
   "outputs": [
    {
     "ename": "AttributeError",
     "evalue": "'tuple' object has no attribute 'append'",
     "output_type": "error",
     "traceback": [
      "\u001b[1;31m---------------------------------------------------------------------------\u001b[0m",
      "\u001b[1;31mAttributeError\u001b[0m                            Traceback (most recent call last)",
      "\u001b[1;32mc:\\Users\\mrusso\\OneDrive - ATSISTEMAS SA\\Documentos\\GitHub\\TheBridge_DataScience_PT_ALUMNI_sep22\\01_RAMP_UP\\week02\\python_02.ipynb Celda 60\u001b[0m in \u001b[0;36m<module>\u001b[1;34m\u001b[0m\n\u001b[1;32m----> <a href='vscode-notebook-cell:/c%3A/Users/mrusso/OneDrive%20-%20ATSISTEMAS%20SA/Documentos/GitHub/TheBridge_DataScience_PT_ALUMNI_sep22/01_RAMP_UP/week02/python_02.ipynb#Y120sZmlsZQ%3D%3D?line=0'>1</a>\u001b[0m tupla\u001b[39m.\u001b[39;49mappend(\u001b[39m19\u001b[39m)\n",
      "\u001b[1;31mAttributeError\u001b[0m: 'tuple' object has no attribute 'append'"
     ]
    }
   ],
   "source": [
    "tupla.append(19)"
   ]
  },
  {
   "cell_type": "code",
   "execution_count": 58,
   "metadata": {},
   "outputs": [
    {
     "ename": "AttributeError",
     "evalue": "'tuple' object has no attribute 'pop'",
     "output_type": "error",
     "traceback": [
      "\u001b[1;31m---------------------------------------------------------------------------\u001b[0m",
      "\u001b[1;31mAttributeError\u001b[0m                            Traceback (most recent call last)",
      "\u001b[1;32mc:\\Users\\mrusso\\OneDrive - ATSISTEMAS SA\\Documentos\\GitHub\\TheBridge_DataScience_PT_ALUMNI_sep22\\01_RAMP_UP\\week02\\python_02.ipynb Celda 61\u001b[0m in \u001b[0;36m<module>\u001b[1;34m\u001b[0m\n\u001b[1;32m----> <a href='vscode-notebook-cell:/c%3A/Users/mrusso/OneDrive%20-%20ATSISTEMAS%20SA/Documentos/GitHub/TheBridge_DataScience_PT_ALUMNI_sep22/01_RAMP_UP/week02/python_02.ipynb#Y121sZmlsZQ%3D%3D?line=0'>1</a>\u001b[0m tupla\u001b[39m.\u001b[39;49mpop()\n",
      "\u001b[1;31mAttributeError\u001b[0m: 'tuple' object has no attribute 'pop'"
     ]
    }
   ],
   "source": [
    "tupla.pop()"
   ]
  },
  {
   "cell_type": "code",
   "execution_count": 59,
   "metadata": {},
   "outputs": [
    {
     "data": {
      "text/plain": [
       "3"
      ]
     },
     "execution_count": 59,
     "metadata": {},
     "output_type": "execute_result"
    }
   ],
   "source": [
    "len(tupla)"
   ]
  },
  {
   "cell_type": "code",
   "execution_count": 60,
   "metadata": {},
   "outputs": [],
   "source": [
    "a, b, c = tupla # asignamos a las variables a,b,c los valores de una tupla"
   ]
  },
  {
   "cell_type": "code",
   "execution_count": 61,
   "metadata": {},
   "outputs": [
    {
     "data": {
      "text/plain": [
       "12"
      ]
     },
     "execution_count": 61,
     "metadata": {},
     "output_type": "execute_result"
    }
   ],
   "source": [
    "a"
   ]
  },
  {
   "cell_type": "code",
   "execution_count": 62,
   "metadata": {},
   "outputs": [
    {
     "data": {
      "text/plain": [
       "15"
      ]
     },
     "execution_count": 62,
     "metadata": {},
     "output_type": "execute_result"
    }
   ],
   "source": [
    "b"
   ]
  },
  {
   "cell_type": "code",
   "execution_count": 63,
   "metadata": {},
   "outputs": [
    {
     "data": {
      "text/plain": [
       "18"
      ]
     },
     "execution_count": 63,
     "metadata": {},
     "output_type": "execute_result"
    }
   ],
   "source": [
    "c"
   ]
  },
  {
   "cell_type": "code",
   "execution_count": 64,
   "metadata": {},
   "outputs": [
    {
     "data": {
      "text/plain": [
       "int"
      ]
     },
     "execution_count": 64,
     "metadata": {},
     "output_type": "execute_result"
    }
   ],
   "source": [
    "type(a)"
   ]
  },
  {
   "cell_type": "code",
   "execution_count": 65,
   "metadata": {},
   "outputs": [
    {
     "data": {
      "text/plain": [
       "('M', 'a', 'r', 'c', 'o')"
      ]
     },
     "execution_count": 65,
     "metadata": {},
     "output_type": "execute_result"
    }
   ],
   "source": [
    "tuple('Marco')"
   ]
  },
  {
   "cell_type": "code",
   "execution_count": 66,
   "metadata": {},
   "outputs": [
    {
     "name": "stdout",
     "output_type": "stream",
     "text": [
      "rafaelrafaelrafaelrafael\n"
     ]
    },
    {
     "data": {
      "text/plain": [
       "('RAFAEL', 'rafael', 'Rafael')"
      ]
     },
     "execution_count": 66,
     "metadata": {},
     "output_type": "execute_result"
    }
   ],
   "source": [
    "# Podemos crear una tupla enlazando variables juntas\n",
    "upper = nombre.upper()\n",
    "lower = nombre.lower()\n",
    "cap = nombre.capitalize()\n",
    "print(lower * 4)\n",
    "upper, lower, cap"
   ]
  },
  {
   "cell_type": "code",
   "execution_count": 68,
   "metadata": {},
   "outputs": [
    {
     "data": {
      "text/plain": [
       "1000"
      ]
     },
     "execution_count": 68,
     "metadata": {},
     "output_type": "execute_result"
    }
   ],
   "source": [
    "salarios.shape[0]"
   ]
  },
  {
   "cell_type": "markdown",
   "metadata": {},
   "source": [
    "## Sets"
   ]
  },
  {
   "cell_type": "code",
   "execution_count": 69,
   "metadata": {},
   "outputs": [
    {
     "data": {
      "text/plain": [
       "['Alemania', 'Francia', 'España', 'Italia']"
      ]
     },
     "execution_count": 69,
     "metadata": {},
     "output_type": "execute_result"
    }
   ],
   "source": [
    "paises = ['Alemania', 'Francia', 'España', 'Italia']\n",
    "paises"
   ]
  },
  {
   "cell_type": "code",
   "execution_count": 70,
   "metadata": {},
   "outputs": [
    {
     "data": {
      "text/plain": [
       "['Alemania', 'Francia', 'España', 'Italia', 'Alemania']"
      ]
     },
     "execution_count": 70,
     "metadata": {},
     "output_type": "execute_result"
    }
   ],
   "source": [
    "paises.append('Alemania')\n",
    "paises"
   ]
  },
  {
   "cell_type": "code",
   "execution_count": 72,
   "metadata": {},
   "outputs": [
    {
     "data": {
      "text/plain": [
       "['Francia', 'Francia', 'España', 'España', 'España', 'España', 'España']"
      ]
     },
     "execution_count": 72,
     "metadata": {},
     "output_type": "execute_result"
    }
   ],
   "source": [
    "paises = ['Francia'] * 2 + ['España'] * 5\n",
    "paises"
   ]
  },
  {
   "cell_type": "code",
   "execution_count": 73,
   "metadata": {},
   "outputs": [
    {
     "data": {
      "text/plain": [
       "{'España', 'Francia'}"
      ]
     },
     "execution_count": 73,
     "metadata": {},
     "output_type": "execute_result"
    }
   ],
   "source": [
    "paises_unicos = set(paises)\n",
    "paises_unicos"
   ]
  },
  {
   "cell_type": "code",
   "execution_count": 74,
   "metadata": {},
   "outputs": [
    {
     "data": {
      "text/plain": [
       "set"
      ]
     },
     "execution_count": 74,
     "metadata": {},
     "output_type": "execute_result"
    }
   ],
   "source": [
    "type(paises_unicos)"
   ]
  },
  {
   "cell_type": "code",
   "execution_count": 77,
   "metadata": {},
   "outputs": [
    {
     "data": {
      "text/plain": [
       "{'España', 'Francia', 'Italia'}"
      ]
     },
     "execution_count": 77,
     "metadata": {},
     "output_type": "execute_result"
    }
   ],
   "source": [
    "paises_unicos_2 = {\"España\", \"Francia\", \"Italia\", \"Italia\", 'Francia'}\n",
    "paises_unicos_2"
   ]
  },
  {
   "cell_type": "code",
   "execution_count": 79,
   "metadata": {},
   "outputs": [
    {
     "data": {
      "text/plain": [
       "{'España', 'Francia', 'Italia'}"
      ]
     },
     "execution_count": 79,
     "metadata": {},
     "output_type": "execute_result"
    }
   ],
   "source": [
    "paises_unicos.union(paises_unicos_2)"
   ]
  },
  {
   "cell_type": "code",
   "execution_count": 80,
   "metadata": {},
   "outputs": [
    {
     "data": {
      "text/plain": [
       "{'España', 'Francia'}"
      ]
     },
     "execution_count": 80,
     "metadata": {},
     "output_type": "execute_result"
    }
   ],
   "source": [
    "paises_unicos.intersection(paises_unicos_2)"
   ]
  },
  {
   "cell_type": "code",
   "execution_count": 81,
   "metadata": {},
   "outputs": [
    {
     "data": {
      "text/plain": [
       "{'Italia'}"
      ]
     },
     "execution_count": 81,
     "metadata": {},
     "output_type": "execute_result"
    }
   ],
   "source": [
    "paises_unicos_2.difference(paises_unicos)"
   ]
  },
  {
   "cell_type": "code",
   "execution_count": 82,
   "metadata": {},
   "outputs": [
    {
     "data": {
      "text/plain": [
       "['Italia', 'Francia', 'España']"
      ]
     },
     "execution_count": 82,
     "metadata": {},
     "output_type": "execute_result"
    }
   ],
   "source": [
    "# Revertimos un set a list\n",
    "list(paises_unicos_2)"
   ]
  },
  {
   "cell_type": "markdown",
   "metadata": {},
   "source": [
    "## Diccionarios"
   ]
  },
  {
   "cell_type": "code",
   "execution_count": 83,
   "metadata": {},
   "outputs": [],
   "source": [
    "lista = ['Miriam', 40, True, 'Madrid']\n",
    "diccionario = {\n",
    "    \"nombre\" : lista[0],\n",
    "    \"edad\" : lista[1],\n",
    "    \"mascota\" : lista[2],\n",
    "    \"ciudad\" : lista[3]\n",
    "}"
   ]
  },
  {
   "cell_type": "code",
   "execution_count": 84,
   "metadata": {},
   "outputs": [
    {
     "data": {
      "text/plain": [
       "{'nombre': 'Miriam', 'edad': 40, 'mascota': True, 'ciudad': 'Madrid'}"
      ]
     },
     "execution_count": 84,
     "metadata": {},
     "output_type": "execute_result"
    }
   ],
   "source": [
    "diccionario"
   ]
  },
  {
   "cell_type": "code",
   "execution_count": 85,
   "metadata": {},
   "outputs": [
    {
     "data": {
      "text/plain": [
       "dict"
      ]
     },
     "execution_count": 85,
     "metadata": {},
     "output_type": "execute_result"
    }
   ],
   "source": [
    "type(diccionario)"
   ]
  },
  {
   "cell_type": "code",
   "execution_count": 86,
   "metadata": {},
   "outputs": [
    {
     "data": {
      "text/plain": [
       "dict_keys(['nombre', 'edad', 'mascota', 'ciudad'])"
      ]
     },
     "execution_count": 86,
     "metadata": {},
     "output_type": "execute_result"
    }
   ],
   "source": [
    "diccionario.keys()"
   ]
  },
  {
   "cell_type": "code",
   "execution_count": 87,
   "metadata": {},
   "outputs": [
    {
     "data": {
      "text/plain": [
       "dict_values(['Miriam', 40, True, 'Madrid'])"
      ]
     },
     "execution_count": 87,
     "metadata": {},
     "output_type": "execute_result"
    }
   ],
   "source": [
    "diccionario.values()"
   ]
  },
  {
   "cell_type": "code",
   "execution_count": 88,
   "metadata": {},
   "outputs": [
    {
     "data": {
      "text/plain": [
       "dict_items([('nombre', 'Miriam'), ('edad', 40), ('mascota', True), ('ciudad', 'Madrid')])"
      ]
     },
     "execution_count": 88,
     "metadata": {},
     "output_type": "execute_result"
    }
   ],
   "source": [
    "diccionario.items()"
   ]
  },
  {
   "cell_type": "code",
   "execution_count": 89,
   "metadata": {},
   "outputs": [
    {
     "ename": "KeyError",
     "evalue": "0",
     "output_type": "error",
     "traceback": [
      "\u001b[1;31m---------------------------------------------------------------------------\u001b[0m",
      "\u001b[1;31mKeyError\u001b[0m                                  Traceback (most recent call last)",
      "\u001b[1;32mc:\\Users\\mrusso\\OneDrive - ATSISTEMAS SA\\Documentos\\GitHub\\TheBridge_DataScience_PT_ALUMNI_sep22\\01_RAMP_UP\\week02\\python_02.ipynb Celda 89\u001b[0m in \u001b[0;36m<module>\u001b[1;34m\u001b[0m\n\u001b[1;32m----> <a href='vscode-notebook-cell:/c%3A/Users/mrusso/OneDrive%20-%20ATSISTEMAS%20SA/Documentos/GitHub/TheBridge_DataScience_PT_ALUMNI_sep22/01_RAMP_UP/week02/python_02.ipynb#Y163sZmlsZQ%3D%3D?line=0'>1</a>\u001b[0m diccionario[\u001b[39m0\u001b[39;49m]\n",
      "\u001b[1;31mKeyError\u001b[0m: 0"
     ]
    }
   ],
   "source": [
    "diccionario[0]"
   ]
  },
  {
   "cell_type": "code",
   "execution_count": 90,
   "metadata": {},
   "outputs": [
    {
     "data": {
      "text/plain": [
       "'Miriam'"
      ]
     },
     "execution_count": 90,
     "metadata": {},
     "output_type": "execute_result"
    }
   ],
   "source": [
    "# directamente llamamos el parámetro o key con corchetes\n",
    "diccionario['nombre']"
   ]
  },
  {
   "cell_type": "code",
   "execution_count": 91,
   "metadata": {},
   "outputs": [
    {
     "data": {
      "text/plain": [
       "40"
      ]
     },
     "execution_count": 91,
     "metadata": {},
     "output_type": "execute_result"
    }
   ],
   "source": [
    "# Lo mismo con .get('nombre_key')\n",
    "diccionario.get('edad')"
   ]
  },
  {
   "cell_type": "code",
   "execution_count": 92,
   "metadata": {},
   "outputs": [
    {
     "data": {
      "text/plain": [
       "{'nombre': 'Miriam', 'edad': 35, 'mascota': True, 'ciudad': 'Madrid'}"
      ]
     },
     "execution_count": 92,
     "metadata": {},
     "output_type": "execute_result"
    }
   ],
   "source": [
    "# Podemos modificar un valor dado un key\n",
    "diccionario['edad'] = 35\n",
    "diccionario"
   ]
  },
  {
   "cell_type": "markdown",
   "metadata": {},
   "source": [
    "## Range"
   ]
  },
  {
   "cell_type": "code",
   "execution_count": 93,
   "metadata": {},
   "outputs": [
    {
     "data": {
      "text/plain": [
       "range(0, 20)"
      ]
     },
     "execution_count": 93,
     "metadata": {},
     "output_type": "execute_result"
    }
   ],
   "source": [
    "range(20)"
   ]
  },
  {
   "cell_type": "code",
   "execution_count": 94,
   "metadata": {},
   "outputs": [
    {
     "data": {
      "text/plain": [
       "range(1, 20)"
      ]
     },
     "execution_count": 94,
     "metadata": {},
     "output_type": "execute_result"
    }
   ],
   "source": [
    "range(1,20,1)"
   ]
  },
  {
   "cell_type": "code",
   "execution_count": 97,
   "metadata": {},
   "outputs": [
    {
     "name": "stdout",
     "output_type": "stream",
     "text": [
      "0\n",
      "2\n",
      "4\n",
      "6\n",
      "8\n",
      "10\n",
      "12\n",
      "14\n",
      "16\n",
      "18\n"
     ]
    }
   ],
   "source": [
    "for num in range(0,20,2):\n",
    "    print(num)"
   ]
  },
  {
   "cell_type": "code",
   "execution_count": 98,
   "metadata": {},
   "outputs": [
    {
     "name": "stdout",
     "output_type": "stream",
     "text": [
      "0\n",
      "1\n",
      "2\n",
      "3\n",
      "4\n",
      "5\n",
      "6\n",
      "7\n",
      "8\n",
      "9\n",
      "10\n"
     ]
    }
   ],
   "source": [
    "max_num = 10\n",
    "i = 0\n",
    "while i <= max_num:\n",
    "    print(i)\n",
    "    i+=1"
   ]
  },
  {
   "cell_type": "markdown",
   "metadata": {},
   "source": [
    "## Enumerate"
   ]
  },
  {
   "cell_type": "code",
   "execution_count": 99,
   "metadata": {},
   "outputs": [
    {
     "data": {
      "text/plain": [
       "['Segunda', 'semana', 'de', 'Python...muy', 'entretenida!']"
      ]
     },
     "execution_count": 99,
     "metadata": {},
     "output_type": "execute_result"
    }
   ],
   "source": [
    "words"
   ]
  },
  {
   "cell_type": "code",
   "execution_count": 100,
   "metadata": {},
   "outputs": [
    {
     "name": "stdout",
     "output_type": "stream",
     "text": [
      "0 Segunda\n",
      "1 semana\n",
      "2 de\n",
      "3 Python...muy\n",
      "4 entretenida!\n"
     ]
    }
   ],
   "source": [
    "for idx, word in enumerate(words):\n",
    "    print(idx, word)"
   ]
  },
  {
   "cell_type": "code",
   "execution_count": 101,
   "metadata": {},
   "outputs": [
    {
     "name": "stdout",
     "output_type": "stream",
     "text": [
      "0 Segunda\n",
      "1 semana\n",
      "2 de\n",
      "3 Python...muy\n",
      "4 entretenida!\n"
     ]
    }
   ],
   "source": [
    "# el método alternativo 1\n",
    "for word in words:\n",
    "    x = words.index(word)\n",
    "    print(x, word)"
   ]
  },
  {
   "cell_type": "code",
   "execution_count": 103,
   "metadata": {},
   "outputs": [
    {
     "name": "stdout",
     "output_type": "stream",
     "text": [
      "0 Segunda\n",
      "1 semana\n",
      "2 de\n",
      "3 Python...muy\n",
      "4 entretenida!\n"
     ]
    }
   ],
   "source": [
    "# el método alternativo 2\n",
    "contador = 0\n",
    "for word in words:\n",
    "    print(contador, word)\n",
    "    contador+=1"
   ]
  },
  {
   "cell_type": "code",
   "execution_count": 104,
   "metadata": {},
   "outputs": [
    {
     "data": {
      "text/plain": [
       "5"
      ]
     },
     "execution_count": 104,
     "metadata": {},
     "output_type": "execute_result"
    }
   ],
   "source": [
    "contador"
   ]
  }
 ],
 "metadata": {
  "kernelspec": {
   "display_name": "Python 3.9.5 ('the_bridge_22')",
   "language": "python",
   "name": "python3"
  },
  "language_info": {
   "codemirror_mode": {
    "name": "ipython",
    "version": 3
   },
   "file_extension": ".py",
   "mimetype": "text/x-python",
   "name": "python",
   "nbconvert_exporter": "python",
   "pygments_lexer": "ipython3",
   "version": "3.9.5"
  },
  "orig_nbformat": 4,
  "vscode": {
   "interpreter": {
    "hash": "1c79a6bee0cc3880bade9bffe4f2ea0bcfc562fd81915ef930f986f3657b2ce7"
   }
  }
 },
 "nbformat": 4,
 "nbformat_minor": 2
}
