{
 "cells": [
  {
   "cell_type": "markdown",
   "metadata": {},
   "source": [
    "## Ejercicios para practicar"
   ]
  },
  {
   "cell_type": "markdown",
   "metadata": {},
   "source": [
    "### Ejercicio 1"
   ]
  },
  {
   "cell_type": "markdown",
   "metadata": {},
   "source": [
    "### Ejercicio 2"
   ]
  },
  {
   "cell_type": "markdown",
   "metadata": {},
   "source": [
    "### Ejercicio 3"
   ]
  },
  {
   "cell_type": "markdown",
   "metadata": {},
   "source": [
    "## Ejercicios y preguntas teoricas"
   ]
  },
  {
   "cell_type": "markdown",
   "metadata": {},
   "source": [
    "### Pregunta 1\n",
    "\n",
    "**Respuesta:**\n",
    "La funcion range retorna una lista y ocupara un tamaño de memoria acorde con el tamaño del rango. En cambio, xrange retorna una variable de tipo xrange la cual siempre ocupara la misma cantidad de memoria sin importar el tamaño del rango. "
   ]
  },
  {
   "cell_type": "markdown",
   "metadata": {},
   "source": [
    "### Pregunta 2\n",
    "\n",
    "a)"
   ]
  },
  {
   "cell_type": "code",
   "execution_count": null,
   "metadata": {},
   "outputs": [],
   "source": [
    "def create_generator(): #definimos una funcion llamada create_generator\n",
    "    for i in range(10): #para cada elemento del rango(10) = [0,1,2,3,4,5,6,7,8,9] se realizan los siguientes comandos\n",
    "        yield i #devuelve un objeto de la clase generador\n",
    "        \n",
    "num_generator = create_generator() #creamos una variable llamada num_generator cuyo valor sera igual al resultado de la funcion anterior\n",
    "for i in num_generator: #para cada elemento de la variable num_generator se realizan los siguientes comandos\n",
    "    print(\"Primera iteración: número generado =\", i) #escribimos por pantalla la sentencia del print + el valor del elemento de la variable en el cual nos encontramos\n",
    "    \n",
    "for j in num_generator: #para cada elemento de la variable num_generator se realizan los siguientes comandos\n",
    "    print(\"Segunda iteración: número generado =\", j) #escribimos por pantalla la sentencia del print + el valor del elemento de la variable en el cual nos encontramos"
   ]
  }
 ],
 "metadata": {
  "kernelspec": {
   "display_name": "Python 3.8.2 64-bit",
   "language": "python",
   "name": "python3"
  },
  "language_info": {
   "name": "python",
   "version": "3.8.2"
  },
  "orig_nbformat": 4,
  "vscode": {
   "interpreter": {
    "hash": "31f2aee4e71d21fbe5cf8b01ff0e069b9275f58929596ceb00d14d90e3e16cd6"
   }
  }
 },
 "nbformat": 4,
 "nbformat_minor": 2
}
