{
 "cells": [
  {
   "cell_type": "markdown",
   "metadata": {},
   "source": [
    "## Ejercicios para practicar"
   ]
  },
  {
   "cell_type": "markdown",
   "metadata": {},
   "source": [
    "### Ejercicio 1"
   ]
  },
  {
   "cell_type": "markdown",
   "metadata": {},
   "source": [
    "### Ejercicio 2"
   ]
  },
  {
   "cell_type": "markdown",
   "metadata": {},
   "source": [
    "### Ejercicio 3"
   ]
  },
  {
   "cell_type": "markdown",
   "metadata": {},
   "source": [
    "## Ejercicios y preguntas teoricas"
   ]
  },
  {
   "cell_type": "markdown",
   "metadata": {},
   "source": [
    "### Pregunta 1\n",
    "\n",
    "**Respuesta:**\n",
    "La funcion range retorna una lista y ocupara un tamaño de memoria acorde con el tamaño del rango. En cambio, xrange retorna una variable de tipo xrange la cual siempre ocupara la misma cantidad de memoria sin importar el tamaño del rango. "
   ]
  },
  {
   "cell_type": "markdown",
   "metadata": {},
   "source": [
    "### Pregunta 2\n",
    "\n",
    "a)"
   ]
  },
  {
   "cell_type": "code",
   "execution_count": 1,
   "metadata": {},
   "outputs": [
    {
     "name": "stdout",
     "output_type": "stream",
     "text": [
      "Primera iteración: número generado = 0\n",
      "Primera iteración: número generado = 1\n",
      "Primera iteración: número generado = 2\n",
      "Primera iteración: número generado = 3\n",
      "Primera iteración: número generado = 4\n",
      "Primera iteración: número generado = 5\n",
      "Primera iteración: número generado = 6\n",
      "Primera iteración: número generado = 7\n",
      "Primera iteración: número generado = 8\n",
      "Primera iteración: número generado = 9\n"
     ]
    }
   ],
   "source": [
    "def create_generator(): #definimos una funcion llamada create_generator\n",
    "    for i in range(10): #para cada elemento del rango(10) = [0,1,2,3,4,5,6,7,8,9] se realizan los siguientes comandos\n",
    "        yield i #devuelve un objeto de la clase generador\n",
    "        \n",
    "num_generator = create_generator() #creamos una variable llamada num_generator cuyo valor sera igual al resultado de la funcion anterior\n",
    "for i in num_generator: #para cada elemento de la variable num_generator se realizan los siguientes comandos\n",
    "    print(\"Primera iteración: número generado =\", i) #escribimos por pantalla la sentencia del print + el valor del elemento de la variable en el cual nos encontramos\n",
    "    \n",
    "for j in num_generator: #para cada elemento de la variable num_generator se realizan los siguientes comandos\n",
    "    print(\"Segunda iteración: número generado =\", j) #escribimos por pantalla la sentencia del print + el valor del elemento de la variable en el cual nos encontramos"
   ]
  },
  {
   "cell_type": "markdown",
   "metadata": {},
   "source": [
    "b)\n",
    "\n",
    "**Respuesta:**\n",
    "Muestra cada valor del objeto de clase generador que hemos creado anteriormente en la funcion create_generator()."
   ]
  }
 ],
 "metadata": {
  "kernelspec": {
   "display_name": "Python 3.9.13 ('rampup_py39')",
   "language": "python",
   "name": "python3"
  },
  "language_info": {
   "codemirror_mode": {
    "name": "ipython",
    "version": 3
   },
   "file_extension": ".py",
   "mimetype": "text/x-python",
   "name": "python",
   "nbconvert_exporter": "python",
   "pygments_lexer": "ipython3",
   "version": "3.9.13"
  },
  "orig_nbformat": 4,
  "vscode": {
   "interpreter": {
    "hash": "bf2fa21de63e571e13c3c64d771f5f5a56667a11fed5246af56bcbf0a5c596f0"
   }
  }
 },
 "nbformat": 4,
 "nbformat_minor": 2
}
