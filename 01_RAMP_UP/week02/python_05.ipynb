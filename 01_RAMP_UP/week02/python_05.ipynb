{
 "cells": [
  {
   "cell_type": "markdown",
   "metadata": {},
   "source": [
    "# Input - Output IO - parte I"
   ]
  },
  {
   "cell_type": "code",
   "execution_count": 1,
   "metadata": {},
   "outputs": [],
   "source": [
    "# Para poder realizar operaciones de lectura y escritura\n",
    "import os"
   ]
  },
  {
   "cell_type": "code",
   "execution_count": 11,
   "metadata": {},
   "outputs": [],
   "source": [
    "# Para poder abrir un fichero ejemplo a.txt, y escribir en ello\n",
    "out = open('a_file.txt', 'w', encoding='utf-8')\n",
    "\n",
    "# Vamos a realizar una escritura de 10 líneas de 0 a 9\n",
    "for i in range(10):\n",
    "  # Para poder escribir utilizamos el método write()\n",
    "  # Para el salto de línea os.linesep\n",
    "  # Para indicar el número de línea %d indica número entero y %s string\n",
    "  out.write(\"Línea %d%s\" % (i, os.linesep))\n",
    "out.close()"
   ]
  },
  {
   "cell_type": "code",
   "execution_count": 13,
   "metadata": {},
   "outputs": [
    {
     "name": "stdout",
     "output_type": "stream",
     "text": [
      "Línea 0\n",
      "\n",
      "Línea 1\n",
      "\n",
      "Línea 2\n",
      "\n",
      "Línea 3\n",
      "\n",
      "Línea 4\n",
      "\n",
      "Línea 5\n",
      "\n",
      "Línea 6\n",
      "\n",
      "Línea 7\n",
      "\n",
      "Línea 8\n",
      "\n",
      "Línea 9\n",
      "\n",
      "\n"
     ]
    }
   ],
   "source": [
    "# Pasamos con la lectura del fichero - mode = 'r'\n",
    "# Primer método\n",
    "f = open('a_file.txt', 'r', encoding='utf-8')\n",
    "for line in f:\n",
    "  print(line, end = \"\") # end = \"\" anulamos el espacio entre líneas\n",
    "f.close()\n",
    "print()"
   ]
  },
  {
   "cell_type": "code",
   "execution_count": 15,
   "metadata": {},
   "outputs": [
    {
     "name": "stdout",
     "output_type": "stream",
     "text": [
      "Línea 0\n",
      "\n",
      "Línea 1\n",
      "\n",
      "Línea 2\n",
      "\n",
      "Línea 3\n",
      "\n",
      "Línea 4\n",
      "\n",
      "Línea 5\n",
      "\n",
      "Línea 6\n",
      "\n",
      "Línea 7\n",
      "\n",
      "Línea 8\n",
      "\n",
      "Línea 9\n",
      "\n"
     ]
    }
   ],
   "source": [
    "# Segundo método\n",
    "f = open('a_file.txt', 'r', encoding='utf-8')\n",
    "lines = f.readlines()\n",
    "for line in lines:\n",
    "  print(line, end = \"\")\n",
    "f.close()"
   ]
  },
  {
   "cell_type": "code",
   "execution_count": 17,
   "metadata": {},
   "outputs": [
    {
     "name": "stdout",
     "output_type": "stream",
     "text": [
      "Línea 0\n",
      "\n",
      "Línea 1\n",
      "\n",
      "Línea 2\n",
      "\n",
      "Línea 3\n",
      "\n",
      "Línea 4\n",
      "\n",
      "Línea 5\n",
      "\n",
      "Línea 6\n",
      "\n",
      "Línea 7\n",
      "\n",
      "Línea 8\n",
      "\n",
      "Línea 9\n",
      "\n"
     ]
    }
   ],
   "source": [
    "# Uno de los métodos más empleado sin tener que utilizar .close()\n",
    "with open('a_file.txt', 'r', encoding='utf-8') as f:\n",
    "    for line in f:\n",
    "        print(line, end=\"\")\n",
    "    # f.close() Ya no es necesario cerrar, el método with lo hará por nosotros"
   ]
  },
  {
   "cell_type": "code",
   "execution_count": 19,
   "metadata": {},
   "outputs": [
    {
     "data": {
      "text/plain": [
       "['Línea 0\\n',\n",
       " '\\n',\n",
       " 'Línea 1\\n',\n",
       " '\\n',\n",
       " 'Línea 2\\n',\n",
       " '\\n',\n",
       " 'Línea 3\\n',\n",
       " '\\n',\n",
       " 'Línea 4\\n',\n",
       " '\\n',\n",
       " 'Línea 5\\n',\n",
       " '\\n',\n",
       " 'Línea 6\\n',\n",
       " '\\n',\n",
       " 'Línea 7\\n',\n",
       " '\\n',\n",
       " 'Línea 8\\n',\n",
       " '\\n',\n",
       " 'Línea 9\\n',\n",
       " '\\n']"
      ]
     },
     "execution_count": 19,
     "metadata": {},
     "output_type": "execute_result"
    }
   ],
   "source": [
    "# Mostramos como está construido realmente el fichero\n",
    "fichero = open(\"a_file.txt\", 'r', encoding='utf-8')\n",
    "lines = fichero.readlines()\n",
    "lines # se compone del texto Línea más el número y salto de línea \\n"
   ]
  },
  {
   "cell_type": "code",
   "execution_count": 20,
   "metadata": {},
   "outputs": [
    {
     "name": "stdout",
     "output_type": "stream",
     "text": [
      "['Línea 0\\n', '\\n', 'Línea 1\\n', '\\n', 'Línea 2\\n', '\\n', 'Línea 3\\n', '\\n', 'Línea 4\\n', '\\n', 'Línea 5\\n', '\\n', 'Línea 6\\n', '\\n', 'Línea 7\\n', '\\n', 'Línea 8\\n', '\\n', 'Línea 9\\n', '\\n']\n"
     ]
    }
   ],
   "source": [
    "print(lines)"
   ]
  }
 ],
 "metadata": {
  "kernelspec": {
   "display_name": "Python 3.9.5 ('the_bridge_22')",
   "language": "python",
   "name": "python3"
  },
  "language_info": {
   "codemirror_mode": {
    "name": "ipython",
    "version": 3
   },
   "file_extension": ".py",
   "mimetype": "text/x-python",
   "name": "python",
   "nbconvert_exporter": "python",
   "pygments_lexer": "ipython3",
   "version": "3.9.5"
  },
  "orig_nbformat": 4,
  "vscode": {
   "interpreter": {
    "hash": "1c79a6bee0cc3880bade9bffe4f2ea0bcfc562fd81915ef930f986f3657b2ce7"
   }
  }
 },
 "nbformat": 4,
 "nbformat_minor": 2
}
