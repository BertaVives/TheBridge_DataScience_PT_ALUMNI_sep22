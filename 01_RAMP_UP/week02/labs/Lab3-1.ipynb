{
 "cells": [
  {
   "cell_type": "markdown",
   "metadata": {},
   "source": [
    "## Simple calculator!"
   ]
  },
  {
   "cell_type": "code",
   "execution_count": 3,
   "metadata": {},
   "outputs": [
    {
     "name": "stdout",
     "output_type": "stream",
     "text": [
      "Please input a number\n",
      "Please input a number\n",
      "Please input a number\n",
      "2   *   5  equals  10\n"
     ]
    }
   ],
   "source": [
    "while True: \n",
    "    try:\n",
    "        a = int(input('First number?'))\n",
    "        break\n",
    "    except ValueError:\n",
    "        print('Please input a number')\n",
    "op = str(input('Operation?'))\n",
    "while True: \n",
    "    try:\n",
    "        b = int(input('First number?'))\n",
    "        break\n",
    "    except ValueError:\n",
    "        print('Please input a number')\n",
    "\n",
    "operadores = ['+','-','*','/','//','%']\n",
    "\n",
    "if op in operadores:\n",
    "    if op == '+':\n",
    "        result = a+b\n",
    "    elif op == '-':\n",
    "        result = a-b\n",
    "    elif op == '*':\n",
    "        result = a*b\n",
    "    elif op == '/':\n",
    "        result = a/b\n",
    "    elif op == '//':\n",
    "        result = a//b\n",
    "    elif op == '%':\n",
    "        result = a%b\n",
    "    print(a, ' ', op, ' ', b, ' equals ', result)\n",
    "else:\n",
    "    print('Operación no reconocida')"
   ]
  }
 ],
 "metadata": {
  "kernelspec": {
   "display_name": "Python 3.9.13 ('rampup_py39')",
   "language": "python",
   "name": "python3"
  },
  "language_info": {
   "codemirror_mode": {
    "name": "ipython",
    "version": 3
   },
   "file_extension": ".py",
   "mimetype": "text/x-python",
   "name": "python",
   "nbconvert_exporter": "python",
   "pygments_lexer": "ipython3",
   "version": "3.9.13"
  },
  "orig_nbformat": 4,
  "vscode": {
   "interpreter": {
    "hash": "bf2fa21de63e571e13c3c64d771f5f5a56667a11fed5246af56bcbf0a5c596f0"
   }
  }
 },
 "nbformat": 4,
 "nbformat_minor": 2
}
