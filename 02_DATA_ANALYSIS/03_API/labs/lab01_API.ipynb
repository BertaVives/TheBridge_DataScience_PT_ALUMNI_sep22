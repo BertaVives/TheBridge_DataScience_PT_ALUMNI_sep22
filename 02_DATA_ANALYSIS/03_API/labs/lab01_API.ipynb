{
  "cells": [
    {
      "cell_type": "markdown",
      "metadata": {
        "id": "sH_nfcXzDl4B"
      },
      "source": [
        "# Lab. 01\n",
        "\n",
        "Ejercicio 1\n",
        "Programad una función que retorne el estado meteorológico actual en una cierta localización, definida por su código postal (zip code) y código de país (e.g: us, uk, es, fr, etc). La función debe devolver una lista de tuplas de dos elementos, correspondientes al resumen del estado actual del tiempo (weather.main) y a la descripción extendida (weather.description).\n",
        "\n",
        "- GET (endpoint -- headers, params)\n",
        "- POST (endpoint -- headers, params, body)\n",
        "\n",
        "\n",
        "Utilizad la API de openweathermap para obtener las predicciones.Para utilizar la API necesitareis registraros y obtener una API key. Podéis registraros aquí y obtener vuestra API key aquí una vez registrados. Tened en cuenta que la API key puede tardar un rato en funcionar después de registraros, y la API os devolverá un error 401 conforme la clave no es valida:\n",
        "\n",
        "```{\"cod\":401, \"message\": \"Invalid API key. Please see http://openweathermap.org/faq#error401 for more info.\"}\n",
        "```\n",
        "\n",
        "Simplemente esperad un rato antes de utilizar la clave.Hints: \n",
        "Veréis que en general la API esta documentada sin incluir la API key, aun que esta es necesaria. \n",
        "\n",
        "Deberéis incluir la API key en la llamada como uno de los parámetros de la URL (&appid=your_api_key):  \n",
        "\n",
        "```\n",
        "http://example_url.com?param1=value1&param2=value2&appid=your_api_key\n",
        "```\n",
        "\n",
        "Os animamos a que paséis por el \n",
        "proceso de registro para que veáis de que trata y cómo se generan las API keys. \n",
        "\n",
        "Aún así, os proporcionamos una API key en caso de que tengáis problemas con el proceso.  \n",
        "\n",
        "owm_api_key = 'xxxxxxxxxxxxxxxxxxxxxxxxxxxxxxxxxxxxxxx'"
      ]
    },
    {
      "cell_type": "markdown",
      "metadata": {
        "id": "owlyOCXzGIMf"
      },
      "source": [
        "## Respuesta\n",
        "\n",
        "Lo primero es revisar en general la documentación de la API para observar como realizar peticiones GET o POST con parámetros o sin.\n",
        "\n",
        "- http://example_url.com?param1=value1&param2=value2&appid=your_api_key"
      ]
    },
    {
      "cell_type": "code",
      "execution_count": 2,
      "metadata": {},
      "outputs": [
        {
          "name": "stdout",
          "output_type": "stream",
          "text": [
            "Código de estado de la petición es: 200\n"
          ]
        }
      ],
      "source": [
        "import requests\n",
        "\n",
        "APIkey = '<YOUR-API-KEY-HERE>'\n",
        "api_url = f\"https://api.openweathermap.org/data/2.5/weather?lat=44.34&lon=10.99&appid={APIkey}\"\n",
        "response = requests.get(url=api_url)\n",
        "print(f\"Código de estado de la petición es: {response.status_code}\")\n"
      ]
    },
    {
      "cell_type": "code",
      "execution_count": null,
      "metadata": {
        "id": "A-JruXCaDYI1"
      },
      "outputs": [],
      "source": [
        "import json\n",
        "import requests"
      ]
    },
    {
      "cell_type": "code",
      "execution_count": null,
      "metadata": {},
      "outputs": [],
      "source": []
    },
    {
      "cell_type": "code",
      "execution_count": null,
      "metadata": {},
      "outputs": [],
      "source": []
    },
    {
      "cell_type": "code",
      "execution_count": null,
      "metadata": {
        "id": "uZ_fj4jhGdAq"
      },
      "outputs": [],
      "source": [
        "def parse_response(response):\n",
        "  data = None\n",
        "  if response.status_code == 200:\n",
        "    # Los datos están formateados en str\n",
        "    data = json.loads(response.content)\n",
        "  else:\n",
        "    raise Exception(f\"Error en la respuesta {response.status_code}, {response.reason}\")\n",
        "  return data\n",
        "  "
      ]
    },
    {
      "cell_type": "markdown",
      "metadata": {
        "id": "4Ao__HNaHcP1"
      },
      "source": [
        "estructura para las credenciales\n",
        "\n",
        "- creds.py\n",
        "- creds.json\n",
        "- .env\n",
        "\n",
        "```\n",
        "creds_openweath = \n",
        "{\n",
        "  \"user\" : \"nombre_usuario\",\n",
        "  \"pass\" : \"password web service\",\n",
        "  \"endpoint\" : \"ruta_url_api\"\n",
        "  ...\n",
        "}\n",
        "\n",
        "```"
      ]
    },
    {
      "cell_type": "code",
      "execution_count": null,
      "metadata": {
        "id": "VcucNnyKIKsx"
      },
      "outputs": [],
      "source": [
        "from creds import creds_opw"
      ]
    },
    {
      "cell_type": "code",
      "execution_count": null,
      "metadata": {
        "id": "rhyS019KIE6T"
      },
      "outputs": [],
      "source": [
        "# Guardamos las variables\n",
        "api_key, endpoint = creds_opw.values()"
      ]
    },
    {
      "cell_type": "markdown",
      "metadata": {
        "id": "P7L6O06CLb3b"
      },
      "source": [
        "La estructura de la base_url\n",
        "- http://api.openweathermap.org/data/2.5/weather?zip=\"ZIP_CODE\",\"COUNTRY_CODE\"&appid=\"API_KEY\""
      ]
    },
    {
      "cell_type": "code",
      "execution_count": null,
      "metadata": {
        "id": "MRW5ZxVpG_Bx"
      },
      "outputs": [],
      "source": [
        "# Recogemos los datos del tiempo para un determinado código postal ZIP Code\n",
        "def get_weather_zip(zip_code, country, api_key):\n",
        "  # Creamos la base_url\n",
        "  base_url = endpoint + \"zip=\" + zip_code + \",\" + country + \"&\" + \"appid=\" + api_key\n",
        "\n",
        "  # Enviamos la petición get\n",
        "  response = requests.get(url=base_url)\n",
        "\n",
        "  # Verificamos la respuesta\n",
        "  data = parse_response(response)\n",
        "\n",
        "  # Verificamos los datos\n",
        "  if data:\n",
        "    weather = data.get('weather')\n",
        "    '''\n",
        "    La respuesta esperada del json será similar a esta estructura\n",
        "    ```\n",
        "     \"weather\": [\n",
        "       {\n",
        "         \"id\": 800,\n",
        "         \"main\": \"Clear\",\n",
        "         \"description\": \"clear sky\",\n",
        "         \"icon\": \"01d\"\n",
        "       }\n",
        "     ]\n",
        "\n",
        "    ```\n",
        "    '''\n",
        "    # weather['main']\n",
        "    # for w in weather:\n",
        "    #   r = (w.get('main'), w.get('description'))\n",
        "    r = [(w.get('main'), w.get('description')) for w in weather]\n",
        "  else:\n",
        "    raise Exception(\" No es posibile recoger la información.\")\n",
        "  return r"
      ]
    },
    {
      "cell_type": "code",
      "execution_count": null,
      "metadata": {
        "id": "JXilIwnaO2Pe"
      },
      "outputs": [],
      "source": [
        "result_weather = [{\"weather\": [\n",
        "       {\n",
        "         \"id\": 800,\n",
        "         \"main\": \"Clear\",\n",
        "         \"description\": \"clear sky\",\n",
        "         \"icon\": \"01d\"\n",
        "       }\n",
        "     ]\n",
        "}]"
      ]
    },
    {
      "cell_type": "code",
      "execution_count": null,
      "metadata": {
        "colab": {
          "base_uri": "https://localhost:8080/"
        },
        "id": "aqLBr_elO4dZ",
        "outputId": "8c20872a-8d15-4375-bc53-6509526e7b48"
      },
      "outputs": [
        {
          "data": {
            "text/plain": [
              "list"
            ]
          },
          "execution_count": 33,
          "metadata": {},
          "output_type": "execute_result"
        }
      ],
      "source": [
        "type(result_weather)"
      ]
    },
    {
      "cell_type": "code",
      "execution_count": null,
      "metadata": {
        "colab": {
          "base_uri": "https://localhost:8080/",
          "height": 36
        },
        "id": "KkNagXuxO-W6",
        "outputId": "73c9cdd3-8543-4c4a-edeb-a33ace15ab40"
      },
      "outputs": [
        {
          "data": {
            "application/vnd.google.colaboratory.intrinsic+json": {
              "type": "string"
            },
            "text/plain": [
              "'Clear'"
            ]
          },
          "execution_count": 39,
          "metadata": {},
          "output_type": "execute_result"
        }
      ],
      "source": [
        "result_weather[0]['weather'][0]['main']"
      ]
    },
    {
      "cell_type": "code",
      "execution_count": null,
      "metadata": {
        "id": "3UY3wBW1QX5I"
      },
      "outputs": [],
      "source": [
        "country_code = \"es\"\n",
        "zip_code = \"08018\""
      ]
    },
    {
      "cell_type": "code",
      "execution_count": null,
      "metadata": {
        "id": "J4OcKf1mRWGW"
      },
      "outputs": [],
      "source": [
        "weather_data = get_weather_zip(zip_code, country_code, api_key)"
      ]
    },
    {
      "cell_type": "code",
      "execution_count": null,
      "metadata": {
        "colab": {
          "base_uri": "https://localhost:8080/"
        },
        "id": "rJA4NPcnRhLt",
        "outputId": "caa0638b-34e4-44bf-afb7-a8b5f3414894"
      },
      "outputs": [
        {
          "name": "stdout",
          "output_type": "stream",
          "text": [
            "[('Clouds', 'few clouds')]\n"
          ]
        }
      ],
      "source": [
        "print(weather_data)"
      ]
    }
  ],
  "metadata": {
    "colab": {
      "name": "lab01_w11_API",
      "provenance": []
    },
    "kernelspec": {
      "display_name": "Python 3.9.5 ('the_bridge_22')",
      "language": "python",
      "name": "python3"
    },
    "language_info": {
      "codemirror_mode": {
        "name": "ipython",
        "version": 3
      },
      "file_extension": ".py",
      "mimetype": "text/x-python",
      "name": "python",
      "nbconvert_exporter": "python",
      "pygments_lexer": "ipython3",
      "version": "3.9.5"
    },
    "vscode": {
      "interpreter": {
        "hash": "1c79a6bee0cc3880bade9bffe4f2ea0bcfc562fd81915ef930f986f3657b2ce7"
      }
    }
  },
  "nbformat": 4,
  "nbformat_minor": 0
}
