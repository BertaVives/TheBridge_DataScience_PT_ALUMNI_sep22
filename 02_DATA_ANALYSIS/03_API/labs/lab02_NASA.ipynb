{
 "cells": [
  {
   "cell_type": "markdown",
   "metadata": {
    "id": "YdIGXalSYQLH"
   },
   "source": [
    "### Ejercicio 2\n",
    "\n",
    "La [NASA](https://www.nasa.gov) mediante su [API](https://api.nasa.gov) publica cada día una imagen de astronomía.  Implementad una función para descargar y visualizar la imagen dentro del notebook."
   ]
  },
  {
   "cell_type": "code",
   "execution_count": null,
   "metadata": {
    "id": "ZRmuR1oxX_V2"
   },
   "outputs": [],
   "source": [
    "# Respuesta\n",
    "import requests\n",
    "import json\n",
    "import IPython\n",
    "from matplotlib import pyplot as plt\n",
    "from io import BytesIO\n",
    "from PIL import Image"
   ]
  },
  {
   "cell_type": "markdown",
   "metadata": {
    "id": "9mdD0NBEmzWr"
   },
   "source": [
    "# Alternativa A (muestra el grid)\n",
    "* tmp = imagen serializada -> requests.get(recurso)\n",
    "* img = Image.open(BytesIO(tmp.content) -> deserializar la imagen\n",
    "* plt.imshow(img)\n",
    "* plt.show()\n",
    "\n",
    "----\n",
    "# Alternativa B (muestra la imagen en la resolución)\n",
    "* IPython.display.Image(requests.get(recurso)"
   ]
  },
  {
   "cell_type": "code",
   "execution_count": null,
   "metadata": {
    "id": "upmDdYQSrPUb"
   },
   "outputs": [],
   "source": [
    "import warnings\n",
    "warnings.simplefilter('ignore')"
   ]
  },
  {
   "cell_type": "code",
   "execution_count": null,
   "metadata": {},
   "outputs": [],
   "source": [
    "endpoint = \"https://api.nasa.gov/planetary/apod?\"\n",
    "api_key = \"DEMO_KEY\""
   ]
  }
 ],
 "metadata": {
  "kernelspec": {
   "display_name": "Python 3.9.5 ('the_bridge_22')",
   "language": "python",
   "name": "python3"
  },
  "language_info": {
   "name": "python",
   "version": "3.9.5"
  },
  "orig_nbformat": 4,
  "vscode": {
   "interpreter": {
    "hash": "1c79a6bee0cc3880bade9bffe4f2ea0bcfc562fd81915ef930f986f3657b2ce7"
   }
  }
 },
 "nbformat": 4,
 "nbformat_minor": 2
}
