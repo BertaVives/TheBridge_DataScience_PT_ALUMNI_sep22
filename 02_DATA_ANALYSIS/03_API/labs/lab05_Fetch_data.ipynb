{
  "cells": [
    {
      "cell_type": "markdown",
      "metadata": {
        "id": "z2zwUgnGf1zL"
      },
      "source": [
        "### Ejercicio 5\n",
        "\n",
        "Para trabajar esta parte, vamos a realizar el scraping de datos relativos al mercado eléctrico español mediante una API que proporciona datos de generación, demanda, transporte, etc. de electricidad publicado por REE (Red Eléctrica de España).\n",
        "\n",
        "La documentacion de la API está disponible en: https://www.ree.es/en/apidatos"
      ]
    },
    {
      "cell_type": "markdown",
      "metadata": {},
      "source": [
        "En primer lugar, debemos cargar las librerías que vamos a utilizar y definir la URL común a todas las solicitudes (_requests_) que vamos a realizar (url_base) y especificar los paramétros de la petición que deseemos hacer:"
      ]
    },
    {
      "cell_type": "code",
      "execution_count": 1,
      "metadata": {
        "id": "dsxGKIMHfyiN"
      },
      "outputs": [],
      "source": [
        "import requests # La librería requests proporciona las capacidades de mandar una petición/solicitud HTTP al servidor\n",
        "import json"
      ]
    },
    {
      "cell_type": "code",
      "execution_count": 5,
      "metadata": {},
      "outputs": [],
      "source": [
        "categoria = 'generacion'\n",
        "subcategoria = 'estructura-generacion'\n",
        "start_date = '2022-01-01T00:00'\n",
        "end_date =  '2022-12-31T23:59'\n",
        "freq = 'year'\n",
        "com_aut = '9'\n",
        "geo_limit = 'ccaa'\n",
        "geo_trunc = 'electric_system'"
      ]
    },
    {
      "cell_type": "code",
      "execution_count": 6,
      "metadata": {},
      "outputs": [],
      "source": [
        "# Definir la URL común a todas las requests de la web que vamos a scrapear\n",
        "url_base = 'https://apidatos.ree.es/es/datos/'\n",
        "url_compl = f'{categoria}/{subcategoria}?start_date={start_date}&end_date={end_date}&time_trunc={freq}&geo_trunc={geo_trunc}&geo_limit={geo_limit}&geo_ids={com_aut}'"
      ]
    },
    {
      "cell_type": "markdown",
      "metadata": {},
      "source": [
        "- Generar los datos anuales 2022 para la CCAA Catalunya"
      ]
    },
    {
      "cell_type": "code",
      "execution_count": 7,
      "metadata": {},
      "outputs": [
        {
          "name": "stdout",
          "output_type": "stream",
          "text": [
            "Respuesta generación electríca Catalunya: 200\n"
          ]
        }
      ],
      "source": [
        "# Realizamos el requests\n",
        "resp_cat = requests.get(url_base+url_compl)\n",
        "\n",
        "print(f'Respuesta generación electríca Catalunya: {resp_cat.status_code}')"
      ]
    },
    {
      "cell_type": "code",
      "execution_count": 12,
      "metadata": {},
      "outputs": [
        {
          "data": {
            "text/plain": [
              "{'data': {'type': 'Generación por tecnología',\n",
              "  'id': 'gen1',\n",
              "  'attributes': {'title': 'Generación por tecnología',\n",
              "   'last-update': None,\n",
              "   'description': None},\n",
              "  'meta': {'cache-control': {'cache': 'MISS'}}},\n",
              " 'included': [{'type': 'Hidráulica',\n",
              "   'id': '10330',\n",
              "   'groupId': '1',\n",
              "   'attributes': {'title': 'Hidráulica',\n",
              "    'description': None,\n",
              "    'color': '#0090d1',\n",
              "    'type': 'Renovable',\n",
              "    'magnitude': None,\n",
              "    'composite': False,\n",
              "    'last-update': '2022-10-25T16:31:53.000+02:00',\n",
              "    'values': [{'value': 1876457.168,\n",
              "      'percentage': 0.07556894917785026,\n",
              "      'datetime': '2022-01-01T00:00:00.000+01:00'}]}},\n",
              "  {'type': 'Turbinación bombeo',\n",
              "   'id': '1694',\n",
              "   'groupId': '1',\n",
              "   'attributes': {'title': 'Turbinación bombeo',\n",
              "    'description': None,\n",
              "    'color': '#007cf9',\n",
              "    'type': 'No-Renovable',\n",
              "    'magnitude': None,\n",
              "    'composite': False,\n",
              "    'last-update': '2022-10-25T16:31:53.000+02:00',\n",
              "    'values': [{'value': 104159.795,\n",
              "      'percentage': 0.004194738035571458,\n",
              "      'datetime': '2022-01-01T00:00:00.000+01:00'}]}},\n",
              "  {'type': 'Nuclear',\n",
              "   'id': '1695',\n",
              "   'groupId': '1',\n",
              "   'attributes': {'title': 'Nuclear',\n",
              "    'description': None,\n",
              "    'color': '#464394',\n",
              "    'type': 'No-Renovable',\n",
              "    'magnitude': None,\n",
              "    'composite': False,\n",
              "    'last-update': '2022-10-25T16:31:54.000+02:00',\n",
              "    'values': [{'value': 14251847.435,\n",
              "      'percentage': 0.5739524210157674,\n",
              "      'datetime': '2022-01-01T00:00:00.000+01:00'}]}},\n",
              "  {'type': 'Ciclo combinado',\n",
              "   'id': '1703',\n",
              "   'groupId': '1',\n",
              "   'attributes': {'title': 'Ciclo combinado',\n",
              "    'description': None,\n",
              "    'color': '#ffcc66',\n",
              "    'type': 'No-Renovable',\n",
              "    'magnitude': None,\n",
              "    'composite': False,\n",
              "    'last-update': '2022-10-25T16:31:54.000+02:00',\n",
              "    'values': [{'value': 4128257.484,\n",
              "      'percentage': 0.16625377084092122,\n",
              "      'datetime': '2022-01-01T00:00:00.000+01:00'}]}},\n",
              "  {'type': 'Eólica',\n",
              "   'id': '10333',\n",
              "   'groupId': '1',\n",
              "   'attributes': {'title': 'Eólica',\n",
              "    'description': None,\n",
              "    'color': '#6fb114',\n",
              "    'type': 'Renovable',\n",
              "    'magnitude': None,\n",
              "    'composite': False,\n",
              "    'last-update': '2022-10-25T16:31:54.000+02:00',\n",
              "    'values': [{'value': 1535896.86,\n",
              "      'percentage': 0.06185385615780802,\n",
              "      'datetime': '2022-01-01T00:00:00.000+01:00'}]}},\n",
              "  {'type': 'Solar fotovoltaica',\n",
              "   'id': '1707',\n",
              "   'groupId': '1',\n",
              "   'attributes': {'title': 'Solar fotovoltaica',\n",
              "    'description': None,\n",
              "    'color': '#e48500',\n",
              "    'type': 'Renovable',\n",
              "    'magnitude': None,\n",
              "    'composite': False,\n",
              "    'last-update': '2022-10-25T16:31:54.000+02:00',\n",
              "    'values': [{'value': 272280.8,\n",
              "      'percentage': 0.010965330990866726,\n",
              "      'datetime': '2022-01-01T00:00:00.000+01:00'}]}},\n",
              "  {'type': 'Solar térmica',\n",
              "   'id': '1708',\n",
              "   'groupId': '1',\n",
              "   'attributes': {'title': 'Solar térmica',\n",
              "    'description': None,\n",
              "    'color': '#ff0000',\n",
              "    'type': 'Renovable',\n",
              "    'magnitude': None,\n",
              "    'composite': False,\n",
              "    'last-update': '2022-10-25T16:31:54.000+02:00',\n",
              "    'values': [{'value': 47311.687,\n",
              "      'percentage': 0.001905342968330071,\n",
              "      'datetime': '2022-01-01T00:00:00.000+01:00'}]}},\n",
              "  {'type': 'Otras renovables',\n",
              "   'id': '10334',\n",
              "   'groupId': '1',\n",
              "   'attributes': {'title': 'Otras renovables',\n",
              "    'description': None,\n",
              "    'color': '#9a5cbc',\n",
              "    'type': 'Renovable',\n",
              "    'magnitude': None,\n",
              "    'composite': False,\n",
              "    'last-update': '2022-10-25T16:31:54.000+02:00',\n",
              "    'values': [{'value': 96379.307,\n",
              "      'percentage': 0.0038814011194522654,\n",
              "      'datetime': '2022-01-01T00:00:00.000+01:00'}]}},\n",
              "  {'type': 'Cogeneración',\n",
              "   'id': '10335',\n",
              "   'groupId': '1',\n",
              "   'attributes': {'title': 'Cogeneración',\n",
              "    'description': None,\n",
              "    'color': '#cfa2ca',\n",
              "    'type': 'No-Renovable',\n",
              "    'magnitude': None,\n",
              "    'composite': False,\n",
              "    'last-update': '2022-10-25T16:31:54.000+02:00',\n",
              "    'values': [{'value': 2345452.327,\n",
              "      'percentage': 0.09445638873124208,\n",
              "      'datetime': '2022-01-01T00:00:00.000+01:00'}]}},\n",
              "  {'type': 'Residuos no renovables',\n",
              "   'id': '10336',\n",
              "   'groupId': '1',\n",
              "   'attributes': {'title': 'Residuos no renovables',\n",
              "    'description': None,\n",
              "    'color': '#666666',\n",
              "    'type': 'Renovable',\n",
              "    'magnitude': None,\n",
              "    'composite': False,\n",
              "    'last-update': '2022-10-25T16:31:54.000+02:00',\n",
              "    'values': [{'value': 88089.821,\n",
              "      'percentage': 0.0035475657636939604,\n",
              "      'datetime': '2022-01-01T00:00:00.000+01:00'}]}},\n",
              "  {'type': 'Residuos renovables',\n",
              "   'id': '10337',\n",
              "   'groupId': '1',\n",
              "   'attributes': {'title': 'Residuos renovables',\n",
              "    'description': None,\n",
              "    'color': '#a0a0a0',\n",
              "    'type': 'Renovable',\n",
              "    'magnitude': None,\n",
              "    'composite': False,\n",
              "    'last-update': '2022-10-25T16:31:54.000+02:00',\n",
              "    'values': [{'value': 84928.068,\n",
              "      'percentage': 0.0034202351984966867,\n",
              "      'datetime': '2022-01-01T00:00:00.000+01:00'}]}},\n",
              "  {'type': 'Generación total',\n",
              "   'id': '1',\n",
              "   'groupId': '1',\n",
              "   'attributes': {'title': 'Generación total',\n",
              "    'description': None,\n",
              "    'color': '#2b2e34',\n",
              "    'type': 'Generación total',\n",
              "    'magnitude': None,\n",
              "    'composite': True,\n",
              "    'last-update': '2022-10-25T16:31:53.000+02:00',\n",
              "    'values': [{'value': 24831060.751999997,\n",
              "      'percentage': 1,\n",
              "      'datetime': '2022-01-01T00:00:00.000+01:00'}]}}]}"
            ]
          },
          "execution_count": 12,
          "metadata": {},
          "output_type": "execute_result"
        }
      ],
      "source": [
        "type(resp_cat.json())\n",
        "resp_cat.json()"
      ]
    },
    {
      "cell_type": "code",
      "execution_count": 13,
      "metadata": {},
      "outputs": [
        {
          "data": {
            "text/plain": [
              "dict_keys(['data', 'included'])"
            ]
          },
          "execution_count": 13,
          "metadata": {},
          "output_type": "execute_result"
        }
      ],
      "source": [
        "resp_cat.json().keys()"
      ]
    },
    {
      "cell_type": "code",
      "execution_count": 31,
      "metadata": {},
      "outputs": [
        {
          "data": {
            "text/plain": [
              "dict_items([('type', 'Residuos renovables'), ('id', '10337'), ('groupId', '1'), ('attributes', {'title': 'Residuos renovables', 'description': None, 'color': '#a0a0a0', 'type': 'Renovable', 'magnitude': None, 'composite': False, 'last-update': '2022-10-25T16:31:54.000+02:00', 'values': [{'value': 84928.068, 'percentage': 0.0034202351984966867, 'datetime': '2022-01-01T00:00:00.000+01:00'}]})])"
            ]
          },
          "execution_count": 31,
          "metadata": {},
          "output_type": "execute_result"
        }
      ],
      "source": [
        "resp_cat.json().get('included')[10].items()"
      ]
    }
  ],
  "metadata": {
    "colab": {
      "name": "lab05 - Fetch data",
      "provenance": []
    },
    "kernelspec": {
      "display_name": "Python 3.9.5 ('the_bridge_22')",
      "language": "python",
      "name": "python3"
    },
    "language_info": {
      "codemirror_mode": {
        "name": "ipython",
        "version": 3
      },
      "file_extension": ".py",
      "mimetype": "text/x-python",
      "name": "python",
      "nbconvert_exporter": "python",
      "pygments_lexer": "ipython3",
      "version": "3.9.5"
    },
    "vscode": {
      "interpreter": {
        "hash": "1c79a6bee0cc3880bade9bffe4f2ea0bcfc562fd81915ef930f986f3657b2ce7"
      }
    }
  },
  "nbformat": 4,
  "nbformat_minor": 0
}
