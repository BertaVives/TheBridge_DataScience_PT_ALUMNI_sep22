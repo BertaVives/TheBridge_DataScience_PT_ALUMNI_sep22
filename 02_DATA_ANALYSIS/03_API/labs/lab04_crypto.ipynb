{
 "cells": [
  {
   "cell_type": "markdown",
   "metadata": {},
   "source": [
    "# Lab 04 CoinDesk\n",
    "\n",
    "Vamos a utilizar ahora una API de CoinDesk que ofrece informaci on sobre Bitcoin (BTC), una\n",
    "moneda digital descentralizada utilizada en todo el mundo. Un servicio que ofrece CoinDesk es el\n",
    " ́ındice de precios de Bitcoin (BPI). Estos datos de precios de Bitcoin se calculan cada minuto y se\n",
    "publican en USD, EUR y GBP. Los datos de BPI son accesibles a trav ́es de una API REST.\n",
    "\n",
    "URL de la API: https://api.coindesk.com/v1/bpi/currentprice.json"
   ]
  },
  {
   "cell_type": "markdown",
   "metadata": {},
   "source": [
    "Objetivos:\n",
    "- crear una función para que vaya recogiendo y guardando en un fichero cada minuto el valor del BTC en una moneda.\n",
    "- Representar gráficamente la tendencia después de n minutos."
   ]
  },
  {
   "cell_type": "code",
   "execution_count": null,
   "metadata": {},
   "outputs": [],
   "source": []
  }
 ],
 "metadata": {
  "kernelspec": {
   "display_name": "Python 3.9.5 ('the_bridge_22')",
   "language": "python",
   "name": "python3"
  },
  "language_info": {
   "name": "python",
   "version": "3.9.5"
  },
  "orig_nbformat": 4,
  "vscode": {
   "interpreter": {
    "hash": "1c79a6bee0cc3880bade9bffe4f2ea0bcfc562fd81915ef930f986f3657b2ce7"
   }
  }
 },
 "nbformat": 4,
 "nbformat_minor": 2
}
