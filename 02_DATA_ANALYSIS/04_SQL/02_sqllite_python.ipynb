{
 "cells": [
  {
   "cell_type": "code",
   "execution_count": 2,
   "metadata": {},
   "outputs": [],
   "source": [
    "# Importamos el módulo sqllite\n",
    "import sqlite3\n",
    "import numpy as np\n",
    "import pandas as pd"
   ]
  },
  {
   "cell_type": "code",
   "execution_count": 2,
   "metadata": {},
   "outputs": [],
   "source": [
    "# Realizamos la conexión\n",
    "\n",
    "conn = sqlite3.connect(\"thebridge.db\")\n",
    "\n",
    "# Creamos el comando o cursor\n",
    "cursor = conn.cursor()\n",
    "\n",
    "# Creamos una tabla\n",
    "cursor.execute(\n",
    "    \"\"\"\n",
    "        CREATE TABLE IF NOT EXISTS estudiantes\n",
    "        (\n",
    "            nombre VARCHAR(100) NULL,\n",
    "            edad INTEGER NULL,\n",
    "            email VARCHAR(50) NULL,\n",
    "            created_on DATE\n",
    "        )\n",
    "    \"\"\"\n",
    ")\n",
    "\n",
    "# Guardamos los cambios haciendo un commit\n",
    "conn.commit()\n",
    "\n",
    "# Cerramos la conexión\n",
    "conn.close()"
   ]
  },
  {
   "cell_type": "markdown",
   "metadata": {},
   "source": [
    "# Insertar valores en una tabla"
   ]
  },
  {
   "cell_type": "code",
   "execution_count": 3,
   "metadata": {},
   "outputs": [],
   "source": [
    "# Realizamos la conexión\n",
    "\n",
    "conn = sqlite3.connect(\"thebridge.db\")\n",
    "\n",
    "# Creamos el comando o cursor\n",
    "cursor = conn.cursor()\n",
    "\n",
    "# Creamos una tabla\n",
    "cursor.execute(\n",
    "    \"\"\"\n",
    "        INSERT INTO estudiantes VALUES\n",
    "        (\"Lucas\", 27, \"lucas@email.com\", \"2022-01-01\")\n",
    "    \"\"\"\n",
    ")\n",
    "\n",
    "# Guardamos los cambios haciendo un commit\n",
    "conn.commit()\n",
    "\n",
    "# Cerramos la conexión\n",
    "conn.close()"
   ]
  },
  {
   "cell_type": "markdown",
   "metadata": {},
   "source": [
    "# Consultas con SELECT"
   ]
  },
  {
   "cell_type": "code",
   "execution_count": 3,
   "metadata": {},
   "outputs": [
    {
     "name": "stdout",
     "output_type": "stream",
     "text": [
      "<sqlite3.Cursor object at 0x000001D3E1BB12D0>\n",
      "('Lucas', 27, 'lucas@email.com', '2022-01-01')\n"
     ]
    }
   ],
   "source": [
    "# Realizamos la conexión\n",
    "\n",
    "conn = sqlite3.connect(\"thebridge.db\")\n",
    "\n",
    "# Creamos el comando o cursor\n",
    "cursor = conn.cursor()\n",
    "\n",
    "# Creamos una tabla\n",
    "cursor.execute(\n",
    "    \"\"\"\n",
    "        SELECT * FROM estudiantes\n",
    "    \"\"\"\n",
    ")\n",
    "\n",
    "# Mostramos el cursor\n",
    "print(cursor)\n",
    "\n",
    "# Recorremos el primer registro con el método fetchone\n",
    "usuario = cursor.fetchone()\n",
    "print(usuario)\n",
    "\n",
    "# Cerramos la conexión\n",
    "conn.close()"
   ]
  },
  {
   "cell_type": "markdown",
   "metadata": {},
   "source": [
    "# Insert multiple"
   ]
  },
  {
   "cell_type": "code",
   "execution_count": 21,
   "metadata": {},
   "outputs": [],
   "source": [
    "# Realizamos la conexión\n",
    "\n",
    "conn = sqlite3.connect(\"thebridge.db\")\n",
    "\n",
    "# Creamos el comando o cursor\n",
    "cursor = conn.cursor()\n",
    "\n",
    "# Creamos una lista de elementos\n",
    "estudiantes = [\n",
    "    ('Mario', 25, 'mario@ejemplo.com', '2022-01-01'),\n",
    "    ('Mercedes', 19, 'marcedes@ejemplo.com', ''),\n",
    "    ('Juan', None, 'juan@ejemplo.com', '2022-01-09'),\n",
    "    ('Lucas', np.nan, 'juan@ejemplo.com', 'NULL')\n",
    "]\n",
    "\n",
    "\n",
    "cursor.executemany(\n",
    "    \"\"\"\n",
    "        INSERT INTO estudiantes VALUES (?,?,?,?)\n",
    "    \"\"\", estudiantes\n",
    ")\n",
    "\n",
    "# Guardamos los cambios haciendo un commit\n",
    "conn.commit()\n",
    "\n",
    "# Cerramos la conexión\n",
    "conn.close()"
   ]
  },
  {
   "cell_type": "markdown",
   "metadata": {},
   "source": [
    "# Consulta multiple"
   ]
  },
  {
   "cell_type": "code",
   "execution_count": 22,
   "metadata": {},
   "outputs": [
    {
     "name": "stdout",
     "output_type": "stream",
     "text": [
      "<sqlite3.Cursor object at 0x000001D3E25B7CE0>\n",
      "[('Lucas', 27, 'lucas@email.com', '2022-01-01'), ('Mario', 25, 'mario@ejemplo.com', '2022-01-01'), ('Mercedes', 19, 'marcedes@ejemplo.com', ''), ('Juan', None, 'juan@ejemplo.com', '2022-01-09'), ('Mario', 25, 'mario@ejemplo.com', '2022-01-01'), ('Mercedes', 19, 'marcedes@ejemplo.com', ''), ('Juan', None, 'juan@ejemplo.com', '2022-01-09'), ('Mario', 25, 'mario@ejemplo.com', '2022-01-01'), ('Mercedes', 19, 'marcedes@ejemplo.com', ''), ('Juan', None, 'juan@ejemplo.com', '2022-01-09'), ('Lucas', None, 'juan@ejemplo.com', ''), ('Mario', 25, 'mario@ejemplo.com', '2022-01-01'), ('Mercedes', 19, 'marcedes@ejemplo.com', ''), ('Juan', None, 'juan@ejemplo.com', '2022-01-09'), ('Lucas', None, 'juan@ejemplo.com', 'NULL')]\n"
     ]
    }
   ],
   "source": [
    "# Realizamos la conexión\n",
    "\n",
    "conn = sqlite3.connect(\"thebridge.db\")\n",
    "\n",
    "# Creamos el comando o cursor\n",
    "cursor = conn.cursor()\n",
    "\n",
    "# Creamos una tabla\n",
    "cursor.execute(\n",
    "    \"\"\"\n",
    "        SELECT * FROM estudiantes\n",
    "    \"\"\"\n",
    ")\n",
    "\n",
    "# Mostramos el cursor\n",
    "print(cursor)\n",
    "\n",
    "# Recorremos el primer registro con el método fetchone\n",
    "estudiantes = cursor.fetchall()\n",
    "print(estudiantes)\n"
   ]
  },
  {
   "cell_type": "code",
   "execution_count": 23,
   "metadata": {},
   "outputs": [
    {
     "name": "stdout",
     "output_type": "stream",
     "text": [
      "('Lucas', 27, 'lucas@email.com', '2022-01-01')\n",
      "<class 'tuple'>\n",
      "('Mario', 25, 'mario@ejemplo.com', '2022-01-01')\n",
      "<class 'tuple'>\n",
      "('Mercedes', 19, 'marcedes@ejemplo.com', '')\n",
      "<class 'tuple'>\n",
      "('Juan', None, 'juan@ejemplo.com', '2022-01-09')\n",
      "<class 'tuple'>\n",
      "('Mario', 25, 'mario@ejemplo.com', '2022-01-01')\n",
      "<class 'tuple'>\n",
      "('Mercedes', 19, 'marcedes@ejemplo.com', '')\n",
      "<class 'tuple'>\n",
      "('Juan', None, 'juan@ejemplo.com', '2022-01-09')\n",
      "<class 'tuple'>\n",
      "('Mario', 25, 'mario@ejemplo.com', '2022-01-01')\n",
      "<class 'tuple'>\n",
      "('Mercedes', 19, 'marcedes@ejemplo.com', '')\n",
      "<class 'tuple'>\n",
      "('Juan', None, 'juan@ejemplo.com', '2022-01-09')\n",
      "<class 'tuple'>\n",
      "('Lucas', None, 'juan@ejemplo.com', '')\n",
      "<class 'tuple'>\n",
      "('Mario', 25, 'mario@ejemplo.com', '2022-01-01')\n",
      "<class 'tuple'>\n",
      "('Mercedes', 19, 'marcedes@ejemplo.com', '')\n",
      "<class 'tuple'>\n",
      "('Juan', None, 'juan@ejemplo.com', '2022-01-09')\n",
      "<class 'tuple'>\n",
      "('Lucas', None, 'juan@ejemplo.com', 'NULL')\n",
      "<class 'tuple'>\n"
     ]
    }
   ],
   "source": [
    "for estudiante in estudiantes:\n",
    "    print(estudiante)\n",
    "    print(type(estudiante))"
   ]
  },
  {
   "cell_type": "code",
   "execution_count": 24,
   "metadata": {},
   "outputs": [],
   "source": [
    "# utilizamos pandas para realizar lo mismo pero para DataFrame\n",
    "import pandas as pd\n",
    "q = \"\"\"\n",
    "\n",
    "SELECT * \n",
    "FROM estudiantes;\n",
    "\"\"\""
   ]
  },
  {
   "cell_type": "code",
   "execution_count": 25,
   "metadata": {},
   "outputs": [
    {
     "data": {
      "text/html": [
       "<div>\n",
       "<style scoped>\n",
       "    .dataframe tbody tr th:only-of-type {\n",
       "        vertical-align: middle;\n",
       "    }\n",
       "\n",
       "    .dataframe tbody tr th {\n",
       "        vertical-align: top;\n",
       "    }\n",
       "\n",
       "    .dataframe thead th {\n",
       "        text-align: right;\n",
       "    }\n",
       "</style>\n",
       "<table border=\"1\" class=\"dataframe\">\n",
       "  <thead>\n",
       "    <tr style=\"text-align: right;\">\n",
       "      <th></th>\n",
       "      <th>nombre</th>\n",
       "      <th>edad</th>\n",
       "      <th>email</th>\n",
       "      <th>created_on</th>\n",
       "    </tr>\n",
       "  </thead>\n",
       "  <tbody>\n",
       "    <tr>\n",
       "      <th>0</th>\n",
       "      <td>Lucas</td>\n",
       "      <td>27.0</td>\n",
       "      <td>lucas@email.com</td>\n",
       "      <td>2022-01-01</td>\n",
       "    </tr>\n",
       "    <tr>\n",
       "      <th>1</th>\n",
       "      <td>Mario</td>\n",
       "      <td>25.0</td>\n",
       "      <td>mario@ejemplo.com</td>\n",
       "      <td>2022-01-01</td>\n",
       "    </tr>\n",
       "    <tr>\n",
       "      <th>2</th>\n",
       "      <td>Mercedes</td>\n",
       "      <td>19.0</td>\n",
       "      <td>marcedes@ejemplo.com</td>\n",
       "      <td></td>\n",
       "    </tr>\n",
       "    <tr>\n",
       "      <th>3</th>\n",
       "      <td>Juan</td>\n",
       "      <td>NaN</td>\n",
       "      <td>juan@ejemplo.com</td>\n",
       "      <td>2022-01-09</td>\n",
       "    </tr>\n",
       "    <tr>\n",
       "      <th>4</th>\n",
       "      <td>Mario</td>\n",
       "      <td>25.0</td>\n",
       "      <td>mario@ejemplo.com</td>\n",
       "      <td>2022-01-01</td>\n",
       "    </tr>\n",
       "    <tr>\n",
       "      <th>5</th>\n",
       "      <td>Mercedes</td>\n",
       "      <td>19.0</td>\n",
       "      <td>marcedes@ejemplo.com</td>\n",
       "      <td></td>\n",
       "    </tr>\n",
       "    <tr>\n",
       "      <th>6</th>\n",
       "      <td>Juan</td>\n",
       "      <td>NaN</td>\n",
       "      <td>juan@ejemplo.com</td>\n",
       "      <td>2022-01-09</td>\n",
       "    </tr>\n",
       "    <tr>\n",
       "      <th>7</th>\n",
       "      <td>Mario</td>\n",
       "      <td>25.0</td>\n",
       "      <td>mario@ejemplo.com</td>\n",
       "      <td>2022-01-01</td>\n",
       "    </tr>\n",
       "    <tr>\n",
       "      <th>8</th>\n",
       "      <td>Mercedes</td>\n",
       "      <td>19.0</td>\n",
       "      <td>marcedes@ejemplo.com</td>\n",
       "      <td></td>\n",
       "    </tr>\n",
       "    <tr>\n",
       "      <th>9</th>\n",
       "      <td>Juan</td>\n",
       "      <td>NaN</td>\n",
       "      <td>juan@ejemplo.com</td>\n",
       "      <td>2022-01-09</td>\n",
       "    </tr>\n",
       "    <tr>\n",
       "      <th>10</th>\n",
       "      <td>Lucas</td>\n",
       "      <td>NaN</td>\n",
       "      <td>juan@ejemplo.com</td>\n",
       "      <td></td>\n",
       "    </tr>\n",
       "    <tr>\n",
       "      <th>11</th>\n",
       "      <td>Mario</td>\n",
       "      <td>25.0</td>\n",
       "      <td>mario@ejemplo.com</td>\n",
       "      <td>2022-01-01</td>\n",
       "    </tr>\n",
       "    <tr>\n",
       "      <th>12</th>\n",
       "      <td>Mercedes</td>\n",
       "      <td>19.0</td>\n",
       "      <td>marcedes@ejemplo.com</td>\n",
       "      <td></td>\n",
       "    </tr>\n",
       "    <tr>\n",
       "      <th>13</th>\n",
       "      <td>Juan</td>\n",
       "      <td>NaN</td>\n",
       "      <td>juan@ejemplo.com</td>\n",
       "      <td>2022-01-09</td>\n",
       "    </tr>\n",
       "    <tr>\n",
       "      <th>14</th>\n",
       "      <td>Lucas</td>\n",
       "      <td>NaN</td>\n",
       "      <td>juan@ejemplo.com</td>\n",
       "      <td>NULL</td>\n",
       "    </tr>\n",
       "  </tbody>\n",
       "</table>\n",
       "</div>"
      ],
      "text/plain": [
       "      nombre  edad                 email  created_on\n",
       "0      Lucas  27.0       lucas@email.com  2022-01-01\n",
       "1      Mario  25.0     mario@ejemplo.com  2022-01-01\n",
       "2   Mercedes  19.0  marcedes@ejemplo.com            \n",
       "3       Juan   NaN      juan@ejemplo.com  2022-01-09\n",
       "4      Mario  25.0     mario@ejemplo.com  2022-01-01\n",
       "5   Mercedes  19.0  marcedes@ejemplo.com            \n",
       "6       Juan   NaN      juan@ejemplo.com  2022-01-09\n",
       "7      Mario  25.0     mario@ejemplo.com  2022-01-01\n",
       "8   Mercedes  19.0  marcedes@ejemplo.com            \n",
       "9       Juan   NaN      juan@ejemplo.com  2022-01-09\n",
       "10     Lucas   NaN      juan@ejemplo.com            \n",
       "11     Mario  25.0     mario@ejemplo.com  2022-01-01\n",
       "12  Mercedes  19.0  marcedes@ejemplo.com            \n",
       "13      Juan   NaN      juan@ejemplo.com  2022-01-09\n",
       "14     Lucas   NaN      juan@ejemplo.com        NULL"
      ]
     },
     "execution_count": 25,
     "metadata": {},
     "output_type": "execute_result"
    }
   ],
   "source": [
    "df_estudiante = pd.read_sql(sql=q, con=conn)\n",
    "df_estudiante"
   ]
  },
  {
   "cell_type": "code",
   "execution_count": 19,
   "metadata": {},
   "outputs": [
    {
     "data": {
      "text/plain": [
       "nombre        0\n",
       "edad          4\n",
       "email         0\n",
       "created_on    0\n",
       "dtype: int64"
      ]
     },
     "execution_count": 19,
     "metadata": {},
     "output_type": "execute_result"
    }
   ],
   "source": [
    "df_estudiante.isnull().sum()"
   ]
  },
  {
   "cell_type": "code",
   "execution_count": 20,
   "metadata": {},
   "outputs": [
    {
     "data": {
      "text/plain": [
       "nombre        0\n",
       "edad          4\n",
       "email         0\n",
       "created_on    0\n",
       "dtype: int64"
      ]
     },
     "execution_count": 20,
     "metadata": {},
     "output_type": "execute_result"
    }
   ],
   "source": [
    "df_estudiante.isna().sum()"
   ]
  },
  {
   "cell_type": "code",
   "execution_count": null,
   "metadata": {},
   "outputs": [],
   "source": [
    "df_estudiante.to_sql()"
   ]
  },
  {
   "cell_type": "code",
   "execution_count": 49,
   "metadata": {},
   "outputs": [
    {
     "name": "stdout",
     "output_type": "stream",
     "text": [
      "UPDATE estudiantes SET nombre = 'Lucas', edad = NULL, email = 'juan@ejemplo.com',\n",
      "            created_on = NULL\n",
      "            \n"
     ]
    }
   ],
   "source": [
    "for i, row in df_estudiante.iterrows():\n",
    "    q = f\"\"\"UPDATE estudiantes SET nombre = '{row['nombre']}', edad = \"{'\"NULL\"' if pd.isnull(row['edad'])\n",
    "    else row['edad']}\", email = '{row['email']}',\n",
    "            created_on = \"{'\"NULL\"' if pd.isnull(row['created_on']) else row['created_on']}\"\n",
    "            \"\"\"\n",
    "q = q.replace('\"','')\n",
    "print(q)"
   ]
  },
  {
   "cell_type": "code",
   "execution_count": 48,
   "metadata": {},
   "outputs": [],
   "source": [
    "# Realizamos la conexión\n",
    "conn = sqlite3.connect(\"thebridge.db\")\n",
    "\n",
    "# Creamos el comando o cursor\n",
    "cursor = conn.cursor()\n",
    "\n",
    "# Creamos una tabla\n",
    "cursor.execute(\n",
    "    q\n",
    ")\n",
    "\n",
    "# Guardamos los cambios haciendo un commit\n",
    "conn.commit()\n",
    "\n",
    "# # Recorremos el primer registro con el método fetchone\n",
    "# estudiantes = cursor.fetchall()\n",
    "# print(estudiantes)\n"
   ]
  }
 ],
 "metadata": {
  "kernelspec": {
   "display_name": "Python 3.9.5 ('the_bridge_22')",
   "language": "python",
   "name": "python3"
  },
  "language_info": {
   "codemirror_mode": {
    "name": "ipython",
    "version": 3
   },
   "file_extension": ".py",
   "mimetype": "text/x-python",
   "name": "python",
   "nbconvert_exporter": "python",
   "pygments_lexer": "ipython3",
   "version": "3.9.5"
  },
  "orig_nbformat": 4,
  "vscode": {
   "interpreter": {
    "hash": "1c79a6bee0cc3880bade9bffe4f2ea0bcfc562fd81915ef930f986f3657b2ce7"
   }
  }
 },
 "nbformat": 4,
 "nbformat_minor": 2
}
