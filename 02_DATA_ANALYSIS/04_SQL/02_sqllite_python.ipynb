{
 "cells": [
  {
   "cell_type": "code",
   "execution_count": 1,
   "metadata": {},
   "outputs": [],
   "source": [
    "# Importamos el módulo sqllite\n",
    "import sqlite3"
   ]
  },
  {
   "cell_type": "code",
   "execution_count": 2,
   "metadata": {},
   "outputs": [],
   "source": [
    "# Realizamos la conexión\n",
    "\n",
    "conn = sqlite3.connect(\"thebridge.db\")\n",
    "\n",
    "# Creamos el comando o cursor\n",
    "cursor = conn.cursor()\n",
    "\n",
    "# Creamos una tabla\n",
    "cursor.execute(\n",
    "    \"\"\"\n",
    "        CREATE TABLE IF NOT EXISTS estudiantes\n",
    "        (\n",
    "            nombre VARCHAR(100) NULL,\n",
    "            edad INTEGER NULL,\n",
    "            email VARCHAR(50) NULL,\n",
    "            created_on DATE\n",
    "        )\n",
    "    \"\"\"\n",
    ")\n",
    "\n",
    "# Guardamos los cambios haciendo un commit\n",
    "conn.commit()\n",
    "\n",
    "# Cerramos la conexión\n",
    "conn.close()"
   ]
  },
  {
   "cell_type": "markdown",
   "metadata": {},
   "source": [
    "# Insertar valores en una tabla"
   ]
  },
  {
   "cell_type": "code",
   "execution_count": 3,
   "metadata": {},
   "outputs": [],
   "source": [
    "# Realizamos la conexión\n",
    "\n",
    "conn = sqlite3.connect(\"thebridge.db\")\n",
    "\n",
    "# Creamos el comando o cursor\n",
    "cursor = conn.cursor()\n",
    "\n",
    "# Creamos una tabla\n",
    "cursor.execute(\n",
    "    \"\"\"\n",
    "        INSERT INTO estudiantes VALUES\n",
    "        (\"Lucas\", 27, \"lucas@email.com\", \"2022-01-01\")\n",
    "    \"\"\"\n",
    ")\n",
    "\n",
    "# Guardamos los cambios haciendo un commit\n",
    "conn.commit()\n",
    "\n",
    "# Cerramos la conexión\n",
    "conn.close()"
   ]
  },
  {
   "cell_type": "markdown",
   "metadata": {},
   "source": [
    "# Consultas con SELECT"
   ]
  },
  {
   "cell_type": "code",
   "execution_count": 4,
   "metadata": {},
   "outputs": [
    {
     "name": "stdout",
     "output_type": "stream",
     "text": [
      "<sqlite3.Cursor object at 0x0000022BE9CC0500>\n",
      "('Lucas', 27, 'lucas@email.com', '2022-01-01')\n"
     ]
    }
   ],
   "source": [
    "# Realizamos la conexión\n",
    "\n",
    "conn = sqlite3.connect(\"thebridge.db\")\n",
    "\n",
    "# Creamos el comando o cursor\n",
    "cursor = conn.cursor()\n",
    "\n",
    "# Creamos una tabla\n",
    "cursor.execute(\n",
    "    \"\"\"\n",
    "        SELECT * FROM estudiantes\n",
    "    \"\"\"\n",
    ")\n",
    "\n",
    "# Mostramos el cursor\n",
    "print(cursor)\n",
    "\n",
    "# Recorremos el primer registro con el método fetchone\n",
    "usuario = cursor.fetchone()\n",
    "print(usuario)\n",
    "\n",
    "# Cerramos la conexión\n",
    "conn.close()"
   ]
  },
  {
   "cell_type": "markdown",
   "metadata": {},
   "source": [
    "# Insert multiple"
   ]
  },
  {
   "cell_type": "code",
   "execution_count": 5,
   "metadata": {},
   "outputs": [],
   "source": [
    "# Realizamos la conexión\n",
    "\n",
    "conn = sqlite3.connect(\"thebridge.db\")\n",
    "\n",
    "# Creamos el comando o cursor\n",
    "cursor = conn.cursor()\n",
    "\n",
    "# Creamos una lista de elementos\n",
    "estudiantes = [\n",
    "    ('Mario', 25, 'mario@ejemplo.com', '2022-01-01'),\n",
    "    ('Mercedes', 19, 'marcedes@ejemplo.com', ''),\n",
    "    ('Juan', None, 'juan@ejemplo.com', '2022-01-09')\n",
    "]\n",
    "\n",
    "\n",
    "cursor.executemany(\n",
    "    \"\"\"\n",
    "        INSERT INTO estudiantes VALUES (?,?,?,?)\n",
    "    \"\"\", estudiantes\n",
    ")\n",
    "\n",
    "# Guardamos los cambios haciendo un commit\n",
    "conn.commit()\n",
    "\n",
    "# Cerramos la conexión\n",
    "conn.close()"
   ]
  },
  {
   "cell_type": "markdown",
   "metadata": {},
   "source": [
    "# Consulta multiple"
   ]
  },
  {
   "cell_type": "code",
   "execution_count": 8,
   "metadata": {},
   "outputs": [
    {
     "name": "stdout",
     "output_type": "stream",
     "text": [
      "<sqlite3.Cursor object at 0x0000022BE9CDCA40>\n",
      "[('Lucas', 27, 'lucas@email.com', '2022-01-01'), ('Mario', 25, 'mario@ejemplo.com', '2022-01-01'), ('Mercedes', 19, 'marcedes@ejemplo.com', ''), ('Juan', None, 'juan@ejemplo.com', '2022-01-09')]\n"
     ]
    }
   ],
   "source": [
    "# Realizamos la conexión\n",
    "\n",
    "conn = sqlite3.connect(\"thebridge.db\")\n",
    "\n",
    "# Creamos el comando o cursor\n",
    "cursor = conn.cursor()\n",
    "\n",
    "# Creamos una tabla\n",
    "cursor.execute(\n",
    "    \"\"\"\n",
    "        SELECT * FROM estudiantes\n",
    "    \"\"\"\n",
    ")\n",
    "\n",
    "# Mostramos el cursor\n",
    "print(cursor)\n",
    "\n",
    "# Recorremos el primer registro con el método fetchone\n",
    "estudiantes = cursor.fetchall()\n",
    "print(estudiantes)\n"
   ]
  },
  {
   "cell_type": "code",
   "execution_count": 10,
   "metadata": {},
   "outputs": [
    {
     "name": "stdout",
     "output_type": "stream",
     "text": [
      "('Lucas', 27, 'lucas@email.com', '2022-01-01')\n",
      "<class 'tuple'>\n",
      "('Mario', 25, 'mario@ejemplo.com', '2022-01-01')\n",
      "<class 'tuple'>\n",
      "('Mercedes', 19, 'marcedes@ejemplo.com', '')\n",
      "<class 'tuple'>\n",
      "('Juan', None, 'juan@ejemplo.com', '2022-01-09')\n",
      "<class 'tuple'>\n"
     ]
    }
   ],
   "source": [
    "for estudiante in estudiantes:\n",
    "    print(estudiante)\n",
    "    print(type(estudiante))"
   ]
  },
  {
   "cell_type": "code",
   "execution_count": 12,
   "metadata": {},
   "outputs": [],
   "source": [
    "# utilizamos pandas para realizar lo mismo pero para DataFrame\n",
    "import pandas as pd\n",
    "q = \"\"\"\n",
    "\n",
    "SELECT * \n",
    "FROM estudiantes;\n",
    "\"\"\""
   ]
  },
  {
   "cell_type": "code",
   "execution_count": 14,
   "metadata": {},
   "outputs": [
    {
     "data": {
      "text/html": [
       "<div>\n",
       "<style scoped>\n",
       "    .dataframe tbody tr th:only-of-type {\n",
       "        vertical-align: middle;\n",
       "    }\n",
       "\n",
       "    .dataframe tbody tr th {\n",
       "        vertical-align: top;\n",
       "    }\n",
       "\n",
       "    .dataframe thead th {\n",
       "        text-align: right;\n",
       "    }\n",
       "</style>\n",
       "<table border=\"1\" class=\"dataframe\">\n",
       "  <thead>\n",
       "    <tr style=\"text-align: right;\">\n",
       "      <th></th>\n",
       "      <th>nombre</th>\n",
       "      <th>edad</th>\n",
       "      <th>email</th>\n",
       "      <th>created_on</th>\n",
       "    </tr>\n",
       "  </thead>\n",
       "  <tbody>\n",
       "    <tr>\n",
       "      <th>0</th>\n",
       "      <td>Lucas</td>\n",
       "      <td>27.0</td>\n",
       "      <td>lucas@email.com</td>\n",
       "      <td>2022-01-01</td>\n",
       "    </tr>\n",
       "    <tr>\n",
       "      <th>1</th>\n",
       "      <td>Mario</td>\n",
       "      <td>25.0</td>\n",
       "      <td>mario@ejemplo.com</td>\n",
       "      <td>2022-01-01</td>\n",
       "    </tr>\n",
       "    <tr>\n",
       "      <th>2</th>\n",
       "      <td>Mercedes</td>\n",
       "      <td>19.0</td>\n",
       "      <td>marcedes@ejemplo.com</td>\n",
       "      <td></td>\n",
       "    </tr>\n",
       "    <tr>\n",
       "      <th>3</th>\n",
       "      <td>Juan</td>\n",
       "      <td>NaN</td>\n",
       "      <td>juan@ejemplo.com</td>\n",
       "      <td>2022-01-09</td>\n",
       "    </tr>\n",
       "  </tbody>\n",
       "</table>\n",
       "</div>"
      ],
      "text/plain": [
       "     nombre  edad                 email  created_on\n",
       "0     Lucas  27.0       lucas@email.com  2022-01-01\n",
       "1     Mario  25.0     mario@ejemplo.com  2022-01-01\n",
       "2  Mercedes  19.0  marcedes@ejemplo.com            \n",
       "3      Juan   NaN      juan@ejemplo.com  2022-01-09"
      ]
     },
     "execution_count": 14,
     "metadata": {},
     "output_type": "execute_result"
    }
   ],
   "source": [
    "df_estudiante = pd.read_sql(sql=q, con=conn)\n",
    "df_estudiante"
   ]
  },
  {
   "cell_type": "code",
   "execution_count": 16,
   "metadata": {},
   "outputs": [
    {
     "data": {
      "text/plain": [
       "nombre        0\n",
       "edad          1\n",
       "email         0\n",
       "created_on    0\n",
       "dtype: int64"
      ]
     },
     "execution_count": 16,
     "metadata": {},
     "output_type": "execute_result"
    }
   ],
   "source": [
    "df_estudiante.isnull().sum()"
   ]
  },
  {
   "cell_type": "code",
   "execution_count": 17,
   "metadata": {},
   "outputs": [
    {
     "data": {
      "text/plain": [
       "nombre        0\n",
       "edad          1\n",
       "email         0\n",
       "created_on    0\n",
       "dtype: int64"
      ]
     },
     "execution_count": 17,
     "metadata": {},
     "output_type": "execute_result"
    }
   ],
   "source": [
    "df_estudiante.isna().sum()"
   ]
  }
 ],
 "metadata": {
  "kernelspec": {
   "display_name": "Python 3.9.5 ('the_bridge_22')",
   "language": "python",
   "name": "python3"
  },
  "language_info": {
   "codemirror_mode": {
    "name": "ipython",
    "version": 3
   },
   "file_extension": ".py",
   "mimetype": "text/x-python",
   "name": "python",
   "nbconvert_exporter": "python",
   "pygments_lexer": "ipython3",
   "version": "3.9.5"
  },
  "orig_nbformat": 4,
  "vscode": {
   "interpreter": {
    "hash": "1c79a6bee0cc3880bade9bffe4f2ea0bcfc562fd81915ef930f986f3657b2ce7"
   }
  }
 },
 "nbformat": 4,
 "nbformat_minor": 2
}
