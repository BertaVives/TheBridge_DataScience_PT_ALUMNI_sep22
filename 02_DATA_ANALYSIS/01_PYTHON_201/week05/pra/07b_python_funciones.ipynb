{
 "cells": [
  {
   "cell_type": "markdown",
   "metadata": {},
   "source": [
    "Programación para *Data Science*\n",
    "============================\n",
    "\n",
    "Intro101 - 07b Conceptos avanzados de Python\n",
    "--------------------------------------\n",
    "\n",
    "En este Notebook encontraréis dos conjuntos de ejercicios de Python."
   ]
  },
  {
   "cell_type": "markdown",
   "metadata": {},
   "source": [
    "### Ejercicio 1\n",
    "\n",
    "Al final de la Edad Media, en Francia, el diplomático francés Blaise de Vigenère desarrollo un algoritmo para cifrar mensajes que nadie fue capaz de romper durante aproximadamente 250 años. El algoritmo se conoce con el nombre de [cifrado de Vigenère](https://es.wikipedia.org/wiki/Cifrado_de_Vigen%C3%A8re).\n",
    "\n",
    "El cifrado de Vigenère consiste en añadir a cada una de las letras de un texto un desplazamiento a partir de una clave secreta para conseguir una nueva letra diferente de la original. Veamos un ejemplo:\n",
    "\n",
    "Si asignamos el número 1 a la primera letra del abecedario, A, 2 a la siguiente, B, etc., imaginad que tenemos el siguiente mensaje:\n",
    "<code>\n",
    "ABC\n",
    "123\n",
    "</code>\n",
    "\n",
    "y la siguiente clave secreta:\n",
    "<code>\n",
    "DEF\n",
    "456\n",
    "</code>\n",
    "\n",
    "A cada letra del mensaje original aplicamos un desplazamiento en función de la misma posición dentro de la clave secreta. Por lo tanto, el mensaje cifrado quedaría de la siguiente forma:\n",
    "<code>\n",
    "   E       G       I\n",
    "(1 + 4) (2 + 5) (3 + 6)\n",
    "</code>\n",
    "\n",
    "Escribid una función que, dado un mensaje y una clave secreta, calcule y devuelva el mensaje cifrado.\n",
    "\n",
    "*Consideraciones.*\n",
    "\n",
    "- Utilizad como alfabeto de entrada **el alfabeto inglés en mayúsculas**.\n",
    "- El valor por defecto de la clave secreta será **DATASCI**."
   ]
  },
  {
   "cell_type": "code",
   "execution_count": null,
   "metadata": {},
   "outputs": [],
   "source": [
    "def cifrado_vigenere(mensaje, clave=\"DATASCI\"):\n",
    "    \"\"\"\n",
    "    Cifra el mensaje utilizando el cifrado de Vigenère\n",
    "    \"\"\"\n",
    "    mensaje_cifrado = \"\"\n",
    "\n",
    "    # Código que hay que completar\n",
    "\n",
    "    return mensaje_cifrado\n",
    "\n",
    "# Aquí podéis añadir más ejemplos:\n",
    "print(cifrado_vigenere(\"ATACAREMOS AL AMANECER\"))"
   ]
  },
  {
   "cell_type": "markdown",
   "metadata": {},
   "source": [
    "### Ejercicio 2\n",
    "\n",
    "Completad las siguientes funciones y documentad el código si lo consideráis oportuno. Finalmente, escribid al menos un ejemplo de uso para cada función."
   ]
  },
  {
   "cell_type": "code",
   "execution_count": 1,
   "metadata": {},
   "outputs": [
    {
     "ename": "TypeError",
     "evalue": "must be real number, not NoneType",
     "output_type": "error",
     "traceback": [
      "\u001b[1;31m---------------------------------------------------------------------------\u001b[0m",
      "\u001b[1;31mTypeError\u001b[0m                                 Traceback (most recent call last)",
      "\u001b[1;32mc:\\Users\\mrusso\\THE_BRIDGE_FEB22_local\\02_PYTHON\\week07\\pra\\07b_python_funciones.ipynb Cell 3'\u001b[0m in \u001b[0;36m<module>\u001b[1;34m\u001b[0m\n\u001b[0;32m     <a href='vscode-notebook-cell:/c%3A/Users/mrusso/THE_BRIDGE_FEB22_local/02_PYTHON/week07/pra/07b_python_funciones.ipynb#ch0000000?line=39'>40</a>\u001b[0m     \u001b[39mreturn\u001b[39;00m x,y\n\u001b[0;32m     <a href='vscode-notebook-cell:/c%3A/Users/mrusso/THE_BRIDGE_FEB22_local/02_PYTHON/week07/pra/07b_python_funciones.ipynb#ch0000000?line=41'>42</a>\u001b[0m \u001b[39m# Escribid aquí al menos un ejemplo de uso utilizando las funciones anteriores. Por ejemplo:\u001b[39;00m\n\u001b[1;32m---> <a href='vscode-notebook-cell:/c%3A/Users/mrusso/THE_BRIDGE_FEB22_local/02_PYTHON/week07/pra/07b_python_funciones.ipynb#ch0000000?line=42'>43</a>\u001b[0m \u001b[39mprint\u001b[39m(\u001b[39m\"\u001b[39;49m\u001b[39mEl objeto se ha dejado caer des de una altura de \u001b[39;49m\u001b[39m%f\u001b[39;49;00m\u001b[39m metros\u001b[39;49m\u001b[39m\"\u001b[39;49m \u001b[39m%\u001b[39;49m calcular_altura_caida_libre(\u001b[39m10\u001b[39;49m))\n\u001b[0;32m     <a href='vscode-notebook-cell:/c%3A/Users/mrusso/THE_BRIDGE_FEB22_local/02_PYTHON/week07/pra/07b_python_funciones.ipynb#ch0000000?line=43'>44</a>\u001b[0m \u001b[39mprint\u001b[39m(\u001b[39m\"\u001b[39m\u001b[39mEl objeto se ha dejado caer des de una altura de \u001b[39m\u001b[39m%f\u001b[39;00m\u001b[39m metros\u001b[39m\u001b[39m\"\u001b[39m \u001b[39m%\u001b[39m calcular_altura_caida_libre(\u001b[39m1.5\u001b[39m))\n\u001b[0;32m     <a href='vscode-notebook-cell:/c%3A/Users/mrusso/THE_BRIDGE_FEB22_local/02_PYTHON/week07/pra/07b_python_funciones.ipynb#ch0000000?line=46'>47</a>\u001b[0m \u001b[39mprint\u001b[39m(\u001b[39m\"\u001b[39m\u001b[39mLas coordenadas en el sistema cartesiano del punto (13, 23) son (\u001b[39m\u001b[39m%f\u001b[39;00m\u001b[39m, \u001b[39m\u001b[39m%f\u001b[39;00m\u001b[39m).\u001b[39m\u001b[39m\"\u001b[39m \u001b[39m%\u001b[39m calcular_coordenadas_cartesianas(\u001b[39m13\u001b[39m, \u001b[39m23\u001b[39m))\n",
      "\u001b[1;31mTypeError\u001b[0m: must be real number, not NoneType"
     ]
    }
   ],
   "source": [
    "# Completad las funciones matemáticas siguientes\n",
    "import math\n",
    "\n",
    "\"\"\"Función que calcula la altura en un movimiento de caída libre\n",
    "\n",
    "Suponemos que dejamos caer un objeto des de un edificio de altura desconocida.\n",
    "El parámetro duracion_caida nos indica el tiempo (en segundos) que tarda el objeto en llegar a \n",
    "la tierra. La función debería calcular la altura del edificio des del cual se ha \n",
    "lanzado el objeto.\n",
    "\n",
    "Podéis encontrar más información sobre el movimiento de caída libre en el siguiente \n",
    "enlace: https://www.fisicalab.com/apartado/caida-libre#contenidos.\n",
    "\"\"\"\n",
    "\n",
    "def calcular_altura_caida_libre(duracion_caida):\n",
    "    # Definimos las variables que intervendran en la equación\n",
    "    \n",
    "    \n",
    "    \n",
    "    return \n",
    "\n",
    "\n",
    "\n",
    "\"\"\"Función que calcula las coordenadas cartesianas de un punto representado en coordenadas polares\n",
    "\n",
    "Dado un punto representado por sus coordenadas polares (radio y angulo), la función debería calcular \n",
    "las correspondientes coordenadas cartesianas y devolver una tupla con su valor.\n",
    "\n",
    "Podéis encontrar más información sobre el sistema de coordenadas polares y su conversión al sistema \n",
    "cartesiano en el siguiente enlace: https://es.wikipedia.org/wiki/Coordenadas_polares.\n",
    "\"\"\"\n",
    "\n",
    "def calcular_coordenadas_cartesianas(radio, angulo_en_grados):\n",
    "    # Convertimos el ángulo a radianes\n",
    "    angulo_radianes = math.radians(angulo_en_grados)\n",
    "    \n",
    "    \n",
    "    \n",
    "    \n",
    "    return x,y\n",
    "\n",
    "# Escribid aquí al menos un ejemplo de uso utilizando las funciones anteriores. Por ejemplo:\n",
    "print(\"El objeto se ha dejado caer des de una altura de %f metros\" % calcular_altura_caida_libre(10))\n",
    "print(\"El objeto se ha dejado caer des de una altura de %f metros\" % calcular_altura_caida_libre(1.5))\n",
    "\n",
    "\n",
    "print(\"Las coordenadas en el sistema cartesiano del punto (13, 23) son (%f, %f).\" % calcular_coordenadas_cartesianas(13, 23))\n",
    "print(\"Las coordenadas en el sistema cartesiano del punto (5, 90) son (%f, %f).\" % calcular_coordenadas_cartesianas(5, 90))"
   ]
  },
  {
   "cell_type": "code",
   "execution_count": null,
   "metadata": {},
   "outputs": [],
   "source": []
  }
 ],
 "metadata": {
  "interpreter": {
   "hash": "3a457f06cda4579c7033761bf4e886c4764e74b759b9220f07c03aa5d4880471"
  },
  "kernelspec": {
   "display_name": "Python 3.9.5 ('data_science_py395')",
   "language": "python",
   "name": "python3"
  },
  "language_info": {
   "codemirror_mode": {
    "name": "ipython",
    "version": 3
   },
   "file_extension": ".py",
   "mimetype": "text/x-python",
   "name": "python",
   "nbconvert_exporter": "python",
   "pygments_lexer": "ipython3",
   "version": "3.9.5"
  },
  "orig_nbformat": 4
 },
 "nbformat": 4,
 "nbformat_minor": 2
}
