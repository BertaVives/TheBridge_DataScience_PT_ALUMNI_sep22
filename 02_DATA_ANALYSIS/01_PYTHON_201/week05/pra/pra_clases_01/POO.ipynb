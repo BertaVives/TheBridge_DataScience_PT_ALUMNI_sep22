{
 "cells": [
  {
   "cell_type": "markdown",
   "metadata": {},
   "source": [
    "## Programacion Orientada a Objetos (POO) con Python\n",
    "\n",
    "La programacion orientada a objetos es un paradigma de programacion, en otras palabras es una forma de resolver problemas siguiendo una metodologia en particular, en este caso es una forma especial de programar, más cercana a como expresaríamos las cosas en la vida real.\n",
    "\n",
    "Tenemos que aprender a pensar las cosas de una manera distinta para poder escribir nuestros programas en términos de objetos, propiedades y métodos; la POO tiene como principio que todo en la vida es un objeto programable, entonces para empezar a programar con este paradigma, tendríamos que empezar con desarrollar nuestro pensamiento basado en objetos.\n",
    "\n",
    "Pensar en términos de objetos es pensar de manera natural como lo haríamos en la vida real. Un objeto contiene propiedades que almacenan valores y metodos que le añaden funcionalidad. Por ejemplo:\n",
    "al pensar en una espada como un objeto para ser programado, diriamos que la espada contiene una serie de caracteristicas, como podria ser el filo, el nombre, el daño o el color; además tiene una serie de funcionalidades o métodos asociados al mismo, como pueden ser: cortar o atacar.\n",
    "\n",
    "En un esquema POO la espada sería el objeto, las propiedades serían las características como el filo o el daño y los métodos serían las funcionalidades asociadas como cortar o atacar.\n",
    "\n",
    "vamos a ver esto de manera practica para entenderlo mejor.."
   ]
  },
  {
   "cell_type": "markdown",
   "metadata": {},
   "source": [
    "![img1_copy](img1_copy.png)"
   ]
  },
  {
   "cell_type": "code",
   "execution_count": null,
   "metadata": {},
   "outputs": [],
   "source": [
    "espada = {\n",
    "\n",
    "}"
   ]
  },
  {
   "cell_type": "markdown",
   "metadata": {},
   "source": [
    "como vimos en la imagen de arriba el objeto espada contiene la propiedad daño con un valor de 9 y filo con un valor de 8, tambien se puede apreciar que las propiedades se separan unas de otras por medio de una coma \",\"."
   ]
  },
  {
   "cell_type": "markdown",
   "metadata": {},
   "source": [
    "Ahora supongamos que tenemos un objeto llamado kraken 🦑 el cual es un mounstruo marino, este objeto contendra propiedades como nombre, tipo, vida y resistencia. para crear dicho objeto escribamos el siguiente codigo:"
   ]
  },
  {
   "cell_type": "markdown",
   "metadata": {},
   "source": [
    "![img2_copy](img2_copy.png)"
   ]
  },
  {
   "cell_type": "markdown",
   "metadata": {},
   "source": [
    "como vimos en la imagen anterior, para acceder a una propiedad de un objeto se hace mediante el nombre del objeto seguido por el nombre de la propiedad entre corchetes [] ejemplo: Kraken['vida'] esto retornara 12"
   ]
  },
  {
   "cell_type": "code",
   "execution_count": 1,
   "metadata": {},
   "outputs": [],
   "source": [
    "kraken = {\n",
    "          'nombre' : 'Kraken',\n",
    "          'tipo' : 'marino',\n",
    "          'vida' : 12,\n",
    "          'resistencia' : 2\n",
    "         }"
   ]
  },
  {
   "cell_type": "code",
   "execution_count": null,
   "metadata": {},
   "outputs": [],
   "source": [
    "#nombre\n",
    "\n",
    "#tipo\n",
    "\n",
    "#vida\n",
    "\n",
    "#resistencia"
   ]
  },
  {
   "cell_type": "markdown",
   "metadata": {},
   "source": [
    "Ahora que ya sabemos crear un objeto de manera estática veamos como crearlo a partir de una plantilla o clase\n",
    "\n",
    "Una Clase es una plantilla para crear un nuevo objeto donde podemos definir que propiedades y métodos contendrá el objeto .\n",
    "\n",
    "Pensemos en las clases como plantillas con las que podemos crear uno o varios objetos que tendrán más o menos la misma estructura. En el siguiente ejemplo crearemos una plantilla para crear espadas las cuales contendrán propiedades tales como nombre, rareza, daño, filo y un método llamado atacar() el cual restara vida a un objetivo dado:"
   ]
  },
  {
   "cell_type": "markdown",
   "metadata": {},
   "source": [
    "![img3_copy](img3_copy.png)"
   ]
  },
  {
   "cell_type": "code",
   "execution_count": null,
   "metadata": {},
   "outputs": [],
   "source": [
    "class Espada:\n",
    "    def __init__(self, nombre, rareza, daño, filo):\n",
    "\n",
    "        \n",
    "    def atacar(self, objetivo):\n",
    "        #codigo# #si la espada tiene filo suficiente y el objetivo esta vivo la espada atacara\n",
    "             #se le restaran los puntos de daño de la espada a la vida del objetivo y se le sumara la resistencia del objetivo\n",
    "            #codigo#\n",
    "            #codigo# #Cada vez que la espada ataque perdera 2 puntos de filo\n",
    "        #codigo# #si la vida del objetivo es igual o menor que cero\n",
    "            #codigo#\n",
    "        #codigo#\n",
    "            #codigo# #si el filo de la espada llega a cero"
   ]
  },
  {
   "cell_type": "markdown",
   "metadata": {},
   "source": [
    "Ahora Podremos crear tantas espadas como queramos!!! y definir su daño, filo ,nombre o rareza asi que manos a la obra!!!\n",
    "A continuación vamos a ver como crear objetos a partir de una clase:"
   ]
  },
  {
   "cell_type": "markdown",
   "metadata": {},
   "source": [
    "![img4_copy](img4_copy.png)"
   ]
  },
  {
   "cell_type": "code",
   "execution_count": null,
   "metadata": {},
   "outputs": [],
   "source": [
    "#crear una espada vikinga comun con 6 de daño y 7 de filo\n",
    "espadaVikinga = \n",
    "#crear una espada heorica rar con filo 8 y daño igual a 7\n",
    "espadaHeorica = \n",
    "\n",
    "print('Vida antes del ataque:', kraken['vida'])\n",
    "\n",
    "espadaVikinga.atacar(kraken)\n",
    "\n",
    "print('Vida después del ataque:', kraken['vida'])"
   ]
  },
  {
   "cell_type": "markdown",
   "metadata": {},
   "source": [
    "En la imagen que acabamos de ver se instancian dos objetos de la clase Espada llamados espadaVikinga y espadaHeroica en otras palabras se crean dos objetos con la plantilla Espada, y tan solo usando dos líneas de código!! y es que el objetivo de las clases es ayudar a reducir el código. cada vez que se ejecute la linea espadaVikinga.atacar(kraken) se le restan 6 puntos de vida al kraken y el filo de la espada vikinga disminuye 2 puntos, cuando el filo de la espada sea 0 o menos de 0 ya atacar() no causara daño alguno al kraken."
   ]
  },
  {
   "cell_type": "markdown",
   "metadata": {},
   "source": [
    "## La herencia\n",
    "\n",
    "Es uno de los fundamentos de la programación orientada a objetos, Se usa para hacer que una clase hija obtenga o herede todos los elementos (métodos y propiedades) de una clase padre, a partir de esta copia del padre podemos crear nuevos métodos y propiedades, así como mantener, modificar o eliminar los ya existentes que hemos heredado.\n",
    "\n",
    "Uno de los objetivos de la herencia es reducir la cantidad de código, ya que no tenemos que escribir una clase desde cero, si no que podemos reutilizar métodos o atributos definidos ya en otra clase.\n",
    "\n",
    "Ya tenemos una plantilla para crear espadas básicas con los atributos: nombre, rareza, daño y filo, así como un método para atacar a un objetivo, ahora supongamos que queremos crear un tipo especial de espadas que contenga un ataque especial para monstruos de tipo marino, para hacer esto solo tenemos que crear una clase que herede las propiedades y métodos de la clase Espada y luego añadirle la nueva funcionalidad “ataque tsunami”."
   ]
  },
  {
   "cell_type": "markdown",
   "metadata": {},
   "source": [
    "![img5_copy](img5_copy.png)"
   ]
  },
  {
   "cell_type": "markdown",
   "metadata": {},
   "source": [
    "La clase EspadaMarina hereda los atributos nombre, rareza, daño, filo y el método atacar() de la clase Espada y luego le agregamos el nuevo método ataqueTsunami()."
   ]
  },
  {
   "cell_type": "markdown",
   "metadata": {},
   "source": [
    "Ahora vamos a ver esto de manera practica para entender mejor el concepto:"
   ]
  },
  {
   "cell_type": "markdown",
   "metadata": {},
   "source": [
    "![img6_copy](img6_copy.png)"
   ]
  },
  {
   "cell_type": "code",
   "execution_count": null,
   "metadata": {},
   "outputs": [],
   "source": [
    "class EspadaMarina(Espada):\n",
    "\t\n",
    "\tdef ataqueTsunami(self, objetivo):\n",
    "\t\t\n",
    "\t\t"
   ]
  },
  {
   "cell_type": "markdown",
   "metadata": {},
   "source": [
    "Ahora ya tenemos una clase nueva para crear espadas con un nuevo tipo de ataque que solo causa daño a enemigos de tipo marino, procedamos a crear dos espadas nuevas"
   ]
  },
  {
   "cell_type": "markdown",
   "metadata": {},
   "source": [
    "![img7_copy](img7_copy.png)"
   ]
  },
  {
   "cell_type": "markdown",
   "metadata": {},
   "source": [
    "![img8_copy](img8_copy.png)"
   ]
  },
  {
   "cell_type": "code",
   "execution_count": null,
   "metadata": {},
   "outputs": [],
   "source": [
    "kraken = {\n",
    "          'nombre' : 'Kraken',\n",
    "          'tipo' : 'marino',\n",
    "          'vida' : 12,\n",
    "          'resistencia' : 2\n",
    "         }"
   ]
  },
  {
   "cell_type": "code",
   "execution_count": null,
   "metadata": {},
   "outputs": [],
   "source": [
    "#creamos la espada pirata la cual contara con el nuevo ataque del tipo rara con daño 10 y filo 7\n",
    "espadaPirata =  \n",
    "\n",
    "#creamos la espada de Poseidon la cual contara con el nuevo ataque del tipo epica con daño 12 y filo 10\n",
    "espadaDePoseidon =  \n",
    "\n",
    "#ahora si estamos bien Armados, acabemos con el Kraken con la espada de poseidon!!!\n",
    "\n",
    "print('Vida antes del ataque:', kraken['vida'])\n",
    "\n",
    "#ataque\n",
    "\n",
    "print('Vida después del ataque:', kraken['vida'])\n"
   ]
  }
 ],
 "metadata": {
  "kernelspec": {
   "display_name": "Python 3.9.5 ('este')",
   "language": "python",
   "name": "python3"
  },
  "language_info": {
   "codemirror_mode": {
    "name": "ipython",
    "version": 3
   },
   "file_extension": ".py",
   "mimetype": "text/x-python",
   "name": "python",
   "nbconvert_exporter": "python",
   "pygments_lexer": "ipython3",
   "version": "3.9.5"
  },
  "orig_nbformat": 4,
  "vscode": {
   "interpreter": {
    "hash": "a2096eed11e660c16a57aa22341844f97628d296d9189b003c816b71548c0c9d"
   }
  }
 },
 "nbformat": 4,
 "nbformat_minor": 2
}
