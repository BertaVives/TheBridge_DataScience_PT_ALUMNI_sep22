{
 "cells": [
  {
   "cell_type": "markdown",
   "metadata": {},
   "source": [
    "## Ejercicio 1\n",
    "Somos una empresa que tiene varias tiendas de electrodomesticos. Necesitamos un programa para manejar las tiendas, ver las ventas que han tenido, cuántos empleados hay, etc... Para ello vamos a modelizar la tienda en una clase, que tendrá las siguientes características:\n",
    "\n",
    "* Nombre clase: \"Tienda\"\n",
    "* Atributos comunes:\n",
    "    * Tipo: \"Electrodomésticos\"\n",
    "    * Abierta: True\n",
    "* Atributos propios de cada tienda:\n",
    "    * Nombre - String\n",
    "    * Dirección - String\n",
    "    * Número de empleados - int\n",
    "    * Ventas ultimos 3 meses - Lista de 3 numeros\n",
    "* Método para calcular las ventas de todos los meses, que devuelva un numero con todas las ventas.\n",
    "* Método que calcula la media de ventas de los ultimos meses, por empleado\n",
    "* Método que devuelve en un string el nombre de la tienda, junto con su dirección.\n",
    "* Método que obtiene las ventas del último mes.\n",
    "* Método para dar una proyección de las ventas en caso de haber invertido X dinero en marketing en esa tienda. Siendo X el parámetro de entrada. Si X es menor de 1000, las ventas de los ultimos 3 meses hubiesen sido de (1.2 x ventas), si es mayor o igual de 1000, las ventas hubiesen sido de (1.5 x venta). El método reescribe el atributo de ventas en los últimos 3 meses, y además devuelve las ventas con el aumento.\n",
    "\n",
    "* Se pide:\n",
    "1. Implementar la clase \"Tienda\"\n",
    "2. Crear tres tiendas con datos inventados\n",
    "3. Comprueba en al menos una de ellas, todo lo implementado en la clase tienda (sus atributos, media de ventas, ventas/empleado...)\n",
    "4. Calcular las ventas del último mes de todas las tiendas. Para ello usa el bucle `for`\n",
    "5. Imprime por pantalla los nombres de las tiendas cuya dirección lleve el string \"Avenida\"\n",
    "6. Utilizad este notebook para ejecutar y un fichero para definir vuestras clases, métodos y funciones.\n",
    "7. Seguro que ya has hecho este apartado... Documenta la clase :)"
   ]
  },
  {
   "cell_type": "code",
   "execution_count": 46,
   "metadata": {},
   "outputs": [],
   "source": [
    "# 1\n",
    "class Tienda:\n",
    "    def __init__(self,nombre,direccion,num_empleados,ventas_ultimos_meses):\n",
    "        self.tipo = 'Electrodomésticos'\n",
    "        self.abierta = True\n",
    "        self.nombre = nombre\n",
    "        self.direccion = direccion\n",
    "        self.empleados = num_empleados\n",
    "        self.ventas = ventas_ultimos_meses\n",
    "    \n",
    "    def ventasTotal(self):\n",
    "        return sum(n for n in self.ventas)\n",
    "    \n",
    "    def ventas_por_empleado(self):\n",
    "        media_ventas = sum(n for n in self.ventas)/len(self.ventas)\n",
    "        return media_ventas/self.empleados\n",
    "    \n",
    "    def nombre_direccion(self):\n",
    "        return self.nombre + '. ' + self.direccion\n",
    "\n",
    "    def ventas_ultimo_mes(self):\n",
    "        return self.ventas[-1]\n",
    "    \n",
    "    def proyeccion(self,x):\n",
    "        if x < 1000:\n",
    "            ventas_final = [n*1.2 for n in self.ventas]\n",
    "            print ('Ventas:',self.ventas)\n",
    "            print('Ventas con el aumento:',ventas_final)\n",
    "        else:\n",
    "            ventas_final = [n*1.5 for n in self.ventas]\n",
    "            print ('Ventas:',self.ventas)\n",
    "            print('Ventas con el aumento:',ventas_final)\n"
   ]
  },
  {
   "cell_type": "code",
   "execution_count": 55,
   "metadata": {},
   "outputs": [],
   "source": [
    "# 2\n",
    "tiendaConnect = Tienda('Connect','Avenida de Barcelona, 67',50,[157,148,153])\n",
    "tiendaPaco = Tienda('Electrodomésticos Paco','Calle Sepulveda, 214',68,[210,201,195])\n",
    "tiendaHomestico = Tienda('Homestico','Calle Pau Claris, 18',35,[67,58,71])\n",
    "\n",
    "tiendas = [tiendaConnect,tiendaPaco,tiendaHomestico]"
   ]
  },
  {
   "cell_type": "code",
   "execution_count": 52,
   "metadata": {},
   "outputs": [
    {
     "name": "stdout",
     "output_type": "stream",
     "text": [
      "1. Atributos comunes:\n",
      "  Tipo:\tElectrodomésticos\n",
      "  Abierta:\tTrue\n",
      "2. Atributos propios:\n",
      "  Nombre:\tElectrodomésticos Paco\n",
      "  Dirección:\tCalle Sepulveda, 214\n",
      "  Número de empleados:\t68\n",
      "  Ventas últimos 3 meses:\t[210, 201, 195]\n",
      "3. Ventas de todos los meses: 606\n",
      "4. Media de ventas por empleado: 2.9705882352941178\n",
      "5. Nombre de la tienda junto su dirección: Electrodomésticos Paco. Calle Sepulveda, 214\n",
      "6. Ventas del último mes: 195\n",
      "7. Proyección de las ventas:\n",
      "Ventas: [210, 201, 195]\n",
      "Ventas con el aumento: [315.0, 301.5, 292.5]\n"
     ]
    }
   ],
   "source": [
    "# 3\n",
    "print('1. Atributos comunes:\\n  Tipo:\\t{}\\n  Abierta:\\t{}'.format(tiendaPaco.tipo,tiendaPaco.abierta))\n",
    "print('2. Atributos propios:\\n  Nombre:\\t{}\\n  Dirección:\\t{}\\n  Número de empleados:\\t{}\\n  Ventas últimos 3 meses:\\t{}'.format(tiendaPaco.nombre,tiendaPaco.direccion,tiendaPaco.empleados,tiendaPaco.ventas))\n",
    "print('3. Ventas de todos los meses:',tiendaPaco.ventasTotal())\n",
    "print('4. Media de ventas por empleado:',tiendaPaco.ventas_por_empleado())\n",
    "print('5. Nombre de la tienda junto su dirección:',tiendaPaco.nombre_direccion())\n",
    "print('6. Ventas del último mes:',tiendaPaco.ventas_ultimo_mes())\n",
    "print('7. Proyección de las ventas:')\n",
    "tiendaPaco.proyeccion(1000)"
   ]
  },
  {
   "cell_type": "code",
   "execution_count": 56,
   "metadata": {},
   "outputs": [
    {
     "data": {
      "text/plain": [
       "419"
      ]
     },
     "execution_count": 56,
     "metadata": {},
     "output_type": "execute_result"
    }
   ],
   "source": [
    "# 4\n",
    "ventas = sum(tienda.ventas_ultimo_mes() for tienda in tiendas)\n",
    "ventas"
   ]
  },
  {
   "cell_type": "code",
   "execution_count": 57,
   "metadata": {},
   "outputs": [
    {
     "name": "stdout",
     "output_type": "stream",
     "text": [
      "Connect\n"
     ]
    }
   ],
   "source": [
    "# 5\n",
    "for tienda in tiendas:\n",
    "    if 'Avenida' in tienda.direccion:\n",
    "        print(tienda.nombre)"
   ]
  }
 ],
 "metadata": {
  "kernelspec": {
   "display_name": "Python 3.9.13 ('rampup_py39')",
   "language": "python",
   "name": "python3"
  },
  "language_info": {
   "codemirror_mode": {
    "name": "ipython",
    "version": 3
   },
   "file_extension": ".py",
   "mimetype": "text/x-python",
   "name": "python",
   "nbconvert_exporter": "python",
   "pygments_lexer": "ipython3",
   "version": "3.9.13"
  },
  "orig_nbformat": 4,
  "vscode": {
   "interpreter": {
    "hash": "bf2fa21de63e571e13c3c64d771f5f5a56667a11fed5246af56bcbf0a5c596f0"
   }
  }
 },
 "nbformat": 4,
 "nbformat_minor": 2
}
