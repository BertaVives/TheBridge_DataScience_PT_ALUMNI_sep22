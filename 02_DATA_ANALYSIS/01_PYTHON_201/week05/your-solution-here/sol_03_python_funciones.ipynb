{
 "cells": [
  {
   "cell_type": "markdown",
   "metadata": {},
   "source": [
    "## Programación Data Science"
   ]
  },
  {
   "cell_type": "markdown",
   "metadata": {},
   "source": [
    "## Ejercicio 1\n",
    "\n",
    "Definid una función que pueda recibir un número de parámetros cualquiera, superior a 1, y que devuelva el resultado de sumar el resultado de aplicar la función que recibe como primer parámetro a cada uno de los otros parámetros.\n",
    "\n",
    "Por ejemplo, si la función recibe como primer argumento una función que calcula cuadrados, como segundo argumento un 5, y como tercer argumento un 10, debería devolver $5^2 + 10^2 = 125$\n",
    "\n",
    "Llamad a la función definida con los valores del ejemplo mencionado en el enunciado, y comprobad que se obtiene el resultado correcto. Comprobad también que la función devuelve los resultados esperados para una llamada con dos argumentos y con cinco argumentos.\n"
   ]
  },
  {
   "cell_type": "code",
   "execution_count": 6,
   "metadata": {},
   "outputs": [
    {
     "data": {
      "text/plain": [
       "125"
      ]
     },
     "execution_count": 6,
     "metadata": {},
     "output_type": "execute_result"
    }
   ],
   "source": [
    "def cuadrado(x):\n",
    "    return x**2\n",
    "\n",
    "def funcion01(funcion,*arg):\n",
    "    return sum(funcion(n) for n in arg)\n",
    "\n",
    "funcion01(cuadrado,5,10)"
   ]
  },
  {
   "cell_type": "markdown",
   "metadata": {},
   "source": [
    "## Ejercicio 2\n",
    "\n",
    "Definid una función que reciba dos parámetros, una lista de enteros y un entero, y devuelva una lista con los mismos elementos que la lista original eliminando todas las apariciones del entero especificado.\n",
    "\n",
    " Implementad una función que modifique la lista original. Haced una llamada a la función definida y mostrad que, efectivamente, la lista original se modifica."
   ]
  },
  {
   "cell_type": "code",
   "execution_count": 23,
   "metadata": {},
   "outputs": [
    {
     "name": "stdout",
     "output_type": "stream",
     "text": [
      "Lista modificada: [0, 2, 3, 4, 6, 5]\n",
      "Lista original: [0, 2, 3, 4, 6, 5]\n"
     ]
    }
   ],
   "source": [
    "def funcion02 (lista_enteros, entero):\n",
    "    contador = len(lista_enteros) - len(set(lista_enteros))\n",
    "    while contador >= 0:\n",
    "        lista_enteros.remove(entero)\n",
    "        contador -= 1\n",
    "    return lista_enteros\n",
    "\n",
    "lista_enteros = [0,1,2,3,4,1,6,5,1]\n",
    "entero = 1\n",
    "\n",
    "print('Lista modificada:',funcion02 (lista_enteros, entero))\n",
    "print('Lista original:',lista_enteros)"
   ]
  },
  {
   "cell_type": "markdown",
   "metadata": {},
   "source": [
    "## Ejercicio 3\n",
    "\n",
    "Implementad una función que no modifique la lista original. Haced una llamada a la función definida y mostrad que, efectivamente, no se modifica la lista original."
   ]
  },
  {
   "cell_type": "code",
   "execution_count": 24,
   "metadata": {},
   "outputs": [
    {
     "name": "stdout",
     "output_type": "stream",
     "text": [
      "Lista modificada: [0, 2, 3, 4, 6, 5]\n",
      "Lista original: [0, 1, 2, 3, 4, 1, 6, 5, 1]\n"
     ]
    }
   ],
   "source": [
    "def funcion03 (lista_enteros, entero):\n",
    "    lista_modificada = []\n",
    "    for i in lista_enteros:\n",
    "        if i == entero:\n",
    "            continue\n",
    "        else:\n",
    "            lista_modificada.append(i)\n",
    "    return lista_modificada\n",
    "\n",
    "lista_enteros = [0,1,2,3,4,1,6,5,1]\n",
    "entero = 1\n",
    "\n",
    "print('Lista modificada:',funcion03 (lista_enteros, entero))\n",
    "print('Lista original:',lista_enteros)"
   ]
  }
 ],
 "metadata": {
  "kernelspec": {
   "display_name": "Python 3.9.13 ('rampup_py39')",
   "language": "python",
   "name": "python3"
  },
  "language_info": {
   "codemirror_mode": {
    "name": "ipython",
    "version": 3
   },
   "file_extension": ".py",
   "mimetype": "text/x-python",
   "name": "python",
   "nbconvert_exporter": "python",
   "pygments_lexer": "ipython3",
   "version": "3.9.13"
  },
  "orig_nbformat": 4,
  "vscode": {
   "interpreter": {
    "hash": "bf2fa21de63e571e13c3c64d771f5f5a56667a11fed5246af56bcbf0a5c596f0"
   }
  }
 },
 "nbformat": 4,
 "nbformat_minor": 2
}
