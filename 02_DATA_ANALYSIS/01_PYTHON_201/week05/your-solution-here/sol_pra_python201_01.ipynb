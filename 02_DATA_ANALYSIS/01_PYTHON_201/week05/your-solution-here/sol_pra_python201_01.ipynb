{
 "cells": [
  {
   "cell_type": "markdown",
   "metadata": {},
   "source": [
    "### Pregunta 1\n",
    "\n",
    "¿Cuál es el valor final de a, b y c? (atención a los tipos de número decimal y entero)\n",
    "\n",
    "a = 5 * 11\n",
    "\n",
    "b = a / 2.\n",
    "\n",
    "c, a = b * 2, b + 1"
   ]
  },
  {
   "cell_type": "code",
   "execution_count": 2,
   "metadata": {},
   "outputs": [
    {
     "name": "stdout",
     "output_type": "stream",
     "text": [
      "a = 28.5 b = 27.5 c = 55.0\n"
     ]
    }
   ],
   "source": [
    "a = 5 * 11\n",
    "b = a / 2.\n",
    "c, a = b * 2, b + 1\n",
    "\n",
    "print('a =',a,'b =',b,'c =',c)"
   ]
  },
  {
   "cell_type": "markdown",
   "metadata": {},
   "source": [
    "### Pregunta 2\n",
    "\n",
    "Identifica tres tipos de datos de Python y explica brevemente en qué se diferencian. Explica la diferencia entre el tipo lista y el tipo tupla."
   ]
  },
  {
   "cell_type": "code",
   "execution_count": null,
   "metadata": {},
   "outputs": [],
   "source": [
    "# 3 TIPOS DE DATOS -->\n",
    "# int --> numeros enteros.\n",
    "# booleano --> datos que solo tienen dos valores: verdadero o falso.\n",
    "# string --> cadenas de caracteres.\n",
    "\n",
    "# DIFERENCIA LISTA Y TUPLA --> Ambos tipos son secuencias de datos pero lo que los distingue es que las tuplas no pueden ser modificadas\n",
    "# y las listas si."
   ]
  },
  {
   "cell_type": "markdown",
   "metadata": {},
   "source": [
    "### Pregunta 3\n",
    "\n",
    "¿Cuál es el resultado de la operación lógica ` 'manzana'> 'casa'`? Explica por qué. \n",
    "\n",
    "**Nota**: Consultad en estándar [Unicode](https://es.wikipedia.org/wiki/Unicode) para la codificación de caracteres."
   ]
  },
  {
   "cell_type": "code",
   "execution_count": 29,
   "metadata": {},
   "outputs": [
    {
     "data": {
      "text/plain": [
       "True"
      ]
     },
     "execution_count": 29,
     "metadata": {},
     "output_type": "execute_result"
    }
   ],
   "source": [
    "#La operación logica esta comparando en que orden alfabetico van. Como que 'manzana' empieza por la 'm' que se encuentra en una posición\n",
    "#posterior que 'c' de 'casa', la operación lógica da como resultado True.\n",
    "'manzana' > 'casa'"
   ]
  },
  {
   "cell_type": "markdown",
   "metadata": {},
   "source": [
    "### Ejercicio 1\n",
    "\n",
    "Escribir un programa que seleccione la cadena \"analista\" a partir de la cadena: \"Ana es buena analista de datos.\". Mostrar el resultado por pantalla."
   ]
  },
  {
   "cell_type": "code",
   "execution_count": 10,
   "metadata": {},
   "outputs": [
    {
     "data": {
      "text/plain": [
       "'analista'"
      ]
     },
     "execution_count": 10,
     "metadata": {},
     "output_type": "execute_result"
    }
   ],
   "source": [
    "cadena = 'Ana es una buena analista de datos'\n",
    "ini = cadena.index('analista')\n",
    "fin = ini + len('analista')\n",
    "cadena[ini:fin]"
   ]
  },
  {
   "cell_type": "markdown",
   "metadata": {},
   "source": [
    "### Ejercicio 2\n",
    "\n",
    "Qué expresión en Python necesitamos para conseguir el _string_\n",
    "\"nohtyPythonython\" utilizando sólo la palabra \"Python\"? "
   ]
  },
  {
   "cell_type": "code",
   "execution_count": null,
   "metadata": {},
   "outputs": [],
   "source": []
  },
  {
   "cell_type": "markdown",
   "metadata": {},
   "source": [
    "### Ejercicio 3\n",
    "\n",
    "Escribe un programa que asigne dos valores enteros cualquiera (elije un número entero aleatorio) a dos variables con nombre `a` y `b`. Utiliza las variables definidas anteriormente para evaluar la siguiente expresión matemática:\n",
    "\n",
    "( a<sup>2</sup> + b<sup>2</sup> )<sup>2</sup>"
   ]
  },
  {
   "cell_type": "code",
   "execution_count": 32,
   "metadata": {},
   "outputs": [
    {
     "name": "stdout",
     "output_type": "stream",
     "text": [
      "a = 557 b = 653\n"
     ]
    },
    {
     "data": {
      "text/plain": [
       "542665008964"
      ]
     },
     "execution_count": 32,
     "metadata": {},
     "output_type": "execute_result"
    }
   ],
   "source": [
    "import random\n",
    "a = random.randint(0,1000)\n",
    "b = random.randint(0,1000)\n",
    "print('a =',a,'b =',b)\n",
    "(a**2 + b**2)**2"
   ]
  },
  {
   "cell_type": "markdown",
   "metadata": {},
   "source": [
    "### Ejercicio 4\n",
    "\n",
    "Escribir un programa que calcule el volumen de una pirámide cuadrangular con una base de 4x5 metros de longitud y anchura respectivamente, y con una altura de 7,5 m. Recuerda que la fórmula para calcular el volumen es <img src=\"https://wikimedia.org/api/rest_v1/media/math/render/svg/5bbc1ec5d10639d395ebc85e74cbf697d2220035\" title=\"EquacioVolumPiramide\" />\n",
    "\n",
    "donde _l_ y _w_ son la longitud y la anchura de la base, y _h_ es la altura."
   ]
  },
  {
   "cell_type": "code",
   "execution_count": 35,
   "metadata": {},
   "outputs": [
    {
     "name": "stdout",
     "output_type": "stream",
     "text": [
      "V = 49.99999999999999\n"
     ]
    }
   ],
   "source": [
    "l = 4\n",
    "w = 5\n",
    "h = 7.5\n",
    "print('V =',(1/3)*l*w*h)"
   ]
  },
  {
   "cell_type": "markdown",
   "metadata": {},
   "source": [
    "### Ejercicio 5\n",
    "\n",
    "Escribe un programa que defina una lista con el nombre de todos los meses del año. Haz que muestre los meses que corresponden a otoño."
   ]
  },
  {
   "cell_type": "code",
   "execution_count": 38,
   "metadata": {},
   "outputs": [
    {
     "data": {
      "text/plain": [
       "['Semptiembre', 'Octubre', 'Noviembre']"
      ]
     },
     "execution_count": 38,
     "metadata": {},
     "output_type": "execute_result"
    }
   ],
   "source": [
    "meses = ['Enero','Febrero','Marzo','Abril','Mayo','Junio','Julio','Agosto','Semptiembre','Octubre','Noviembre','Diciembre']\n",
    "otoño = meses[8:-1]\n",
    "otoño"
   ]
  },
  {
   "cell_type": "markdown",
   "metadata": {},
   "source": [
    "### Ejercicio 6\n",
    "\n",
    "Escribe un programa que a partir de la lista de números dada muestre por pantalla una cadena de caracteres con todos los números, separados entre sí por un guión, y duplicando el primero y el último elemento de la lista.\n",
    "\n",
    "Así, por ejemplo, para la lista ['1', '2', '3'] , el programa debería mostrar la cadena: '1-1-2-3-3'."
   ]
  },
  {
   "cell_type": "code",
   "execution_count": null,
   "metadata": {},
   "outputs": [],
   "source": []
  },
  {
   "cell_type": "markdown",
   "metadata": {},
   "source": [
    "### Ejercicio 7\n",
    "\n",
    "Ordena la siguiente lista de cadenas de caracteres:\n",
    "\n",
    "1. Invirtiendo el orden original\n",
    "2. En orden alfabético inverso\n",
    "\n",
    "**Nota**: Puedes consultar la documentación oficial de la función [`sorted ()`](https://docs.python.org/3/library/functions.html#sorted) para ver qué parámetros puedes utilizar para resolver la segunda parte de la actividad."
   ]
  },
  {
   "cell_type": "code",
   "execution_count": null,
   "metadata": {},
   "outputs": [],
   "source": []
  },
  {
   "cell_type": "markdown",
   "metadata": {},
   "source": [
    "### Ejercicio 8\n",
    "\n",
    "A partir de la siguiente lista,\n",
    "\n",
    "```A_list = [42, 7.5, \"Answer to the Ultimate Question\", \"Dave\", 7.5]```\n",
    "\n",
    "proporciona expresiones que retornen:\n",
    "\n",
    "1. El número de veces que aparece el elemento `7.5` en la lista.\n",
    "2. La posición de la primera aparición del valor `7.5`.\n",
    "3. La misma lista sin el último elemento.\n",
    "\n",
    "**Nota**: En el notebook de teoría hemos visto que son las listas y algunas operaciones sobre ellas. Para hacer la actividad, necesitaréis investigar algunas operaciones adicionales que podemos realizar sobre listas. Para ello podéis consultar la documentación oficial de Python sobre listas ([intro](https://docs.python.org/3/tutorial/introduction.html#lists) y [más sobre listas](https://docs.python.org/3/tutorial/datastructures.html#more-on-lists))."
   ]
  },
  {
   "cell_type": "code",
   "execution_count": 46,
   "metadata": {},
   "outputs": [
    {
     "name": "stdout",
     "output_type": "stream",
     "text": [
      "2\n",
      "1\n",
      "[42, 7.5, 'Answer to the Ultimate Question', 'Dave']\n"
     ]
    }
   ],
   "source": [
    "A_list = [42, 7.5, \"Answer to the Ultimate Question\", \"Dave\", 7.5]\n",
    "\n",
    "# 1\n",
    "n = A_list.count(7.5)\n",
    "print(n)\n",
    "\n",
    "# 2\n",
    "pos = A_list.index(7.5)\n",
    "print(pos)\n",
    "\n",
    "# 3\n",
    "A_list.pop()\n",
    "print(A_list)"
   ]
  },
  {
   "cell_type": "markdown",
   "metadata": {},
   "source": [
    "### Ejercicio 9\n",
    "\n",
    "¿Qué expresión en Python necesitamos para conseguir la _string_ `Learning Python` utilizando sólo las variables` str1` y `str2` definidas?"
   ]
  },
  {
   "cell_type": "code",
   "execution_count": null,
   "metadata": {},
   "outputs": [],
   "source": []
  },
  {
   "cell_type": "markdown",
   "metadata": {},
   "source": [
    "### Ejercicio 10\n",
    "\n",
    "El codigo que se presenta a continuación no funciona: \n",
    "\n",
    "Corrige el error y explica por qué sucede."
   ]
  },
  {
   "cell_type": "code",
   "execution_count": 11,
   "metadata": {},
   "outputs": [
    {
     "name": "stdout",
     "output_type": "stream",
     "text": [
      "Hello, my name is Alex and I'm 20 years old!\n"
     ]
    }
   ],
   "source": [
    "name = \"Alex\"\n",
    "\n",
    "age = 20\n",
    "\n",
    "print(\"Hello, my name is %s and I'm %d years old!\" % (name, age)) \n",
    "# La variable name es un string por lo tanto debemos utilizar %s. En cambio, age es un integer, por eso utilizamos %d."
   ]
  },
  {
   "cell_type": "markdown",
   "metadata": {},
   "source": [
    "### Ejercicio 11\n",
    "\n",
    "En este ejercicio utilizaremos la frase: La paciencia es la madre de la ciencia.\n",
    "\n",
    "a) Extrae las palabras paciencia y ciencia de la cadena de strings definida anteriormente.\n",
    "\n",
    "b) Crea la palabra ciencia a partir de paciencia, y la palabra paciencia a partir de ciencia.\n",
    "\n",
    "c) Separa la frase en las diferentes palabras que la forman (e.g. \"La\", \"paciencia,\" es \", etc). ¿Cuál es el separador que debemos usar?\n",
    "\n",
    "d) Vuelve a unir los elementos de la frase mediante \"-\" (e.g. \"La-paciencia-es ...\")."
   ]
  },
  {
   "cell_type": "code",
   "execution_count": null,
   "metadata": {},
   "outputs": [],
   "source": []
  }
 ],
 "metadata": {
  "kernelspec": {
   "display_name": "Python 3.9.13 ('rampup_py39')",
   "language": "python",
   "name": "python3"
  },
  "language_info": {
   "codemirror_mode": {
    "name": "ipython",
    "version": 3
   },
   "file_extension": ".py",
   "mimetype": "text/x-python",
   "name": "python",
   "nbconvert_exporter": "python",
   "pygments_lexer": "ipython3",
   "version": "3.9.13"
  },
  "orig_nbformat": 4,
  "vscode": {
   "interpreter": {
    "hash": "bf2fa21de63e571e13c3c64d771f5f5a56667a11fed5246af56bcbf0a5c596f0"
   }
  }
 },
 "nbformat": 4,
 "nbformat_minor": 2
}
