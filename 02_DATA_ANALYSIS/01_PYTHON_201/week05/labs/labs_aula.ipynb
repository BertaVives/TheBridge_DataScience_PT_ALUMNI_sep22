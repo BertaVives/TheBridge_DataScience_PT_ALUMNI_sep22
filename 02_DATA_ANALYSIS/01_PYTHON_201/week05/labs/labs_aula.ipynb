{
 "cells": [
  {
   "cell_type": "markdown",
   "metadata": {},
   "source": [
    "* 1. Calculad la suma de los primeros 100 números pares."
   ]
  },
  {
   "cell_type": "code",
   "execution_count": 11,
   "metadata": {},
   "outputs": [
    {
     "name": "stdout",
     "output_type": "stream",
     "text": [
      "2450\n"
     ]
    }
   ],
   "source": [
    "# Opción 1: creando un bucle for con un if dentro, por lo que solo sumamos\n",
    "# los valores pares (i % 2 == 0)\n",
    "suma = 0\n",
    "for i in range(100):\n",
    "    if i % 2 == 0:\n",
    "        suma = suma + i\n",
    "print(suma)"
   ]
  },
  {
   "cell_type": "code",
   "execution_count": 12,
   "metadata": {},
   "outputs": [
    {
     "name": "stdout",
     "output_type": "stream",
     "text": [
      "2550\n"
     ]
    }
   ],
   "source": [
    "# Alternativa con range 101\n",
    "suma = 0\n",
    "for i in range(101):\n",
    "    if i % 2 == 0:\n",
    "        suma += i\n",
    "print(suma)"
   ]
  },
  {
   "cell_type": "code",
   "execution_count": 13,
   "metadata": {},
   "outputs": [
    {
     "data": {
      "text/plain": [
       "2550"
      ]
     },
     "execution_count": 13,
     "metadata": {},
     "output_type": "execute_result"
    }
   ],
   "source": [
    "# Opción 2: utilizando una list comprehension que filtra los\n",
    "# valores pares (i % 2 == 0) y sumando los elementos de la lista con sum:\n",
    "suma = sum(n for n in range(101) if n % 2 == 0)\n",
    "suma"
   ]
  },
  {
   "cell_type": "markdown",
   "metadata": {},
   "source": [
    "* 2. La [secuencia de Fibonacci](https://es.wikipedia.org/wiki/Sucesi%C3%B3n_de_Fibonacci) es una secuencia en la que cada término es la suma de los dos términos anteriores (la secuencia comienza con los valores 1 e 1). Calculad la suma de los 50 primeros valores de la secuencia."
   ]
  },
  {
   "cell_type": "code",
   "execution_count": 15,
   "metadata": {},
   "outputs": [
    {
     "name": "stdout",
     "output_type": "stream",
     "text": [
      "[1, 1, 2, 3, 5, 8, 13, 21, 34, 55, 89, 144, 233, 377, 610, 987, 1597, 2584, 4181, 6765, 10946, 17711, 28657, 46368, 75025, 121393, 196418, 317811, 514229, 832040, 1346269, 2178309, 3524578, 5702887, 9227465, 14930352, 24157817, 39088169, 63245986, 102334155, 165580141, 267914296, 433494437, 701408733, 1134903170, 1836311903, 2971215073, 4807526976, 7778742049, 12586269025]\n"
     ]
    },
    {
     "data": {
      "text/plain": [
       "32951280098"
      ]
     },
     "execution_count": 15,
     "metadata": {},
     "output_type": "execute_result"
    }
   ],
   "source": [
    "# Respuesta 1\n",
    "# Creamos una lista con los 50 primeros valores\n",
    "fib = [1, 1]\n",
    "i = 2\n",
    "while i < 50:\n",
    "    termino = fib[i-1] + fib[i-2]\n",
    "    fib.append(termino)\n",
    "    i += 1\n",
    "print(fib)\n",
    "\n",
    "# Sumamos los valores de la secuencia\n",
    "sum(fib)"
   ]
  },
  {
   "cell_type": "code",
   "execution_count": 18,
   "metadata": {},
   "outputs": [
    {
     "name": "stdout",
     "output_type": "stream",
     "text": [
      "[1, 1, 2, 3, 5, 8, 13, 21, 34, 55, 89, 144, 233, 377, 610, 987, 1597, 2584, 4181, 6765, 10946, 17711, 28657, 46368, 75025, 121393, 196418, 317811, 514229, 832040, 1346269, 2178309, 3524578, 5702887, 9227465, 14930352, 24157817, 39088169, 63245986, 102334155, 165580141, 267914296, 433494437, 701408733, 1134903170, 1836311903, 2971215073, 4807526976, 7778742049, 12586269025]\n"
     ]
    },
    {
     "data": {
      "text/plain": [
       "32951280098"
      ]
     },
     "execution_count": 18,
     "metadata": {},
     "output_type": "execute_result"
    }
   ],
   "source": [
    "fib = [1, 1]\n",
    "for i in range(48):\n",
    "    fib.append(fib[i] + fib[i+1])\n",
    "print(fib)\n",
    "\n",
    "sum(fib)"
   ]
  },
  {
   "cell_type": "code",
   "execution_count": 19,
   "metadata": {},
   "outputs": [
    {
     "name": "stdout",
     "output_type": "stream",
     "text": [
      "[1, 1, 2, 3, 5, 8, 13, 21, 34, 55, 89, 144, 233, 377, 610, 987, 1597, 2584, 4181, 6765, 10946, 17711, 28657, 46368, 75025, 121393, 196418, 317811, 514229, 832040, 1346269, 2178309, 3524578, 5702887, 9227465, 14930352, 24157817, 39088169, 63245986, 102334155, 165580141, 267914296, 433494437, 701408733, 1134903170, 1836311903, 2971215073, 4807526976, 7778742049, 12586269025]\n"
     ]
    },
    {
     "data": {
      "text/plain": [
       "32951280098"
      ]
     },
     "execution_count": 19,
     "metadata": {},
     "output_type": "execute_result"
    }
   ],
   "source": [
    "fib = [1, 1]\n",
    "for i in range(48):\n",
    "    fib.append(fib[-1] + fib[-2])\n",
    "print(fib)\n",
    "sum(fib)"
   ]
  },
  {
   "cell_type": "code",
   "execution_count": 21,
   "metadata": {},
   "outputs": [
    {
     "name": "stdout",
     "output_type": "stream",
     "text": [
      "32951280098\n"
     ]
    }
   ],
   "source": [
    "# Opción 2: sin crear una lista con los valores de la secuencia\n",
    "\n",
    "suma = 2\n",
    "# Guardamos los dos últimos valores de la secuencia en las variables l1 y l2\n",
    "l1, l2 = 1, 1\n",
    "for i in range(48):\n",
    "    n = l1 + l2\n",
    "    suma += n\n",
    "    l2 = l1\n",
    "    l1 = n\n",
    "print(suma)"
   ]
  },
  {
   "cell_type": "code",
   "execution_count": 20,
   "metadata": {},
   "outputs": [
    {
     "name": "stdout",
     "output_type": "stream",
     "text": [
      "(32951280098, 12586269025, 7778742049)\n"
     ]
    }
   ],
   "source": [
    "# solución alternativa\n",
    "suma = 2\n",
    "for number in range(2, 50):\n",
    "    suma += fib[number-1] + fib[number-2]\n",
    "    l1 = fib[number]\n",
    "    l2 = fib[number-1]\n",
    "print((suma, l1, l2))"
   ]
  },
  {
   "cell_type": "markdown",
   "metadata": {},
   "source": [
    "* 3. Se dice que un número es primo si solo es divisible por sí mismo y por 1. Generad una lista con los 100 primeros números primos."
   ]
  },
  {
   "cell_type": "code",
   "execution_count": 24,
   "metadata": {},
   "outputs": [
    {
     "name": "stdout",
     "output_type": "stream",
     "text": [
      "[2, 3, 5, 7, 11, 13, 17, 19, 23, 29, 31, 37, 41, 43, 47, 53, 59, 61, 67, 71, 73, 79, 83, 89, 97, 101, 103, 107, 109, 113, 127, 131, 137, 139, 149, 151, 157, 163, 167, 173, 179, 181, 191, 193, 197, 199, 211, 223, 227, 229, 233, 239, 241, 251, 257, 263, 269, 271, 277, 281, 283, 293, 307, 311, 313, 317, 331, 337, 347, 349, 353, 359, 367, 373, 379, 383, 389, 397, 401, 409, 419, 421, 431, 433, 439, 443, 449, 457, 461, 463, 467, 479, 487, 491, 499, 503, 509, 521, 523, 541]\n"
     ]
    }
   ],
   "source": [
    "# Respuesta\n",
    "primes = [2]\n",
    "i = 3\n",
    "while len(primes) != 100:\n",
    "    is_prime = True\n",
    "\n",
    "    for p in primes:\n",
    "        if i % p == 0:\n",
    "            is_prime = False\n",
    "            break\n",
    "    # Si es el valor es primo entonces lo añadimos a la lista primes\n",
    "    if is_prime:\n",
    "        primes.append(i)\n",
    "    i += 2\n",
    "print(primes)\n"
   ]
  },
  {
   "cell_type": "code",
   "execution_count": 25,
   "metadata": {},
   "outputs": [
    {
     "data": {
      "text/plain": [
       "100"
      ]
     },
     "execution_count": 25,
     "metadata": {},
     "output_type": "execute_result"
    }
   ],
   "source": [
    "len(primes)"
   ]
  },
  {
   "cell_type": "markdown",
   "metadata": {},
   "source": [
    "## DEBERES ..."
   ]
  },
  {
   "cell_type": "code",
   "execution_count": 26,
   "metadata": {},
   "outputs": [],
   "source": [
    "# Realizar una función mejorada con list comprehension del ejerc. anterior\n",
    "\n",
    "# TODO"
   ]
  },
  {
   "cell_type": "markdown",
   "metadata": {},
   "source": [
    "* 4. Calculad la suma de los cuadrados de los números naturales entre 100 y 200 (ambos valores incluidos)."
   ]
  },
  {
   "cell_type": "code",
   "execution_count": 6,
   "metadata": {},
   "outputs": [],
   "source": [
    "# Respuesta\n",
    "# Usamos sum sobre una list comprehension que nos genera los valores\n",
    "# de los cuadrados solicitados\n"
   ]
  },
  {
   "cell_type": "markdown",
   "metadata": {},
   "source": [
    "* 5. Generad todos los números de 3 dígitos que se pueden generar con los dígitos 3, 5 y 7."
   ]
  },
  {
   "cell_type": "code",
   "execution_count": 7,
   "metadata": {},
   "outputs": [],
   "source": [
    "# Respuesta"
   ]
  },
  {
   "cell_type": "markdown",
   "metadata": {},
   "source": [
    "* 6. Contad y almacenad el número de veces que aparece cada palabra en el siguiente texto.\n",
    "Forty-two is a pronic number and an abundante number; its prime factorization 2 · 3 · 7 makes it the second sphenic number and also the second of the form (2 · 3 · r)."
   ]
  },
  {
   "cell_type": "code",
   "execution_count": 8,
   "metadata": {},
   "outputs": [],
   "source": [
    "# Respuesta"
   ]
  },
  {
   "cell_type": "markdown",
   "metadata": {},
   "source": [
    "* 7. Generad todas las posibles subcadenas de 3 letras de la siguiente palabra: 'Electrodinamómetro'."
   ]
  },
  {
   "cell_type": "code",
   "execution_count": 9,
   "metadata": {},
   "outputs": [],
   "source": [
    "# Respuesta"
   ]
  },
  {
   "cell_type": "markdown",
   "metadata": {},
   "source": [
    "* 8. Cread una función que devuelva todas las posibles subcadenas de n letras de una palabra cualquiera. La función recibirá como parámetros el número de letras n y la palabra word, y devolverá una lista con las subcadenas."
   ]
  },
  {
   "cell_type": "code",
   "execution_count": 10,
   "metadata": {},
   "outputs": [],
   "source": [
    "# Respuesta"
   ]
  }
 ],
 "metadata": {
  "kernelspec": {
   "display_name": "Python 3.9.5 ('the_bridge_22')",
   "language": "python",
   "name": "python3"
  },
  "language_info": {
   "codemirror_mode": {
    "name": "ipython",
    "version": 3
   },
   "file_extension": ".py",
   "mimetype": "text/x-python",
   "name": "python",
   "nbconvert_exporter": "python",
   "pygments_lexer": "ipython3",
   "version": "3.9.5"
  },
  "orig_nbformat": 4,
  "vscode": {
   "interpreter": {
    "hash": "1c79a6bee0cc3880bade9bffe4f2ea0bcfc562fd81915ef930f986f3657b2ce7"
   }
  }
 },
 "nbformat": 4,
 "nbformat_minor": 2
}
