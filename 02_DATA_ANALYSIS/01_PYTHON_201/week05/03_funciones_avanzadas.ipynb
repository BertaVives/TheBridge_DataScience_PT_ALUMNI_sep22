{
 "cells": [
  {
   "cell_type": "markdown",
   "metadata": {},
   "source": [
    "# Funciones avanzadas"
   ]
  },
  {
   "cell_type": "markdown",
   "metadata": {},
   "source": [
    "```\n",
    "def suma_valores(param1, param2, param3=None, param4=None):\n",
    "    '''\n",
    "    Doc String\n",
    "    Description:\n",
    "        ----------\n",
    "    Args:\n",
    "    ----\n",
    "        param1: Str pos value ...\n",
    "        param2: Int pos value ...\n",
    "        param3: Str opcional default None\n",
    "        param4: Str opcional default None\n",
    "    \n",
    "    Return:\n",
    "    ------\n",
    "        suma de dos valores\n",
    "    \n",
    "    Example:\n",
    "    -------\n",
    "        suma_valores(1, 2)\n",
    "\n",
    "    '''\n",
    "    try:\n",
    "        statement\n",
    "        return\n",
    "\n",
    "    except Exception as e:\n",
    "        print(e)\n",
    "    \n",
    "    finally:\n",
    "        pass"
   ]
  },
  {
   "cell_type": "code",
   "execution_count": 22,
   "metadata": {},
   "outputs": [],
   "source": [
    "def suma_valores(param1, param2, param3=0, param4=0):\n",
    "    '''\n",
    "    Doc String\n",
    "    Description:\n",
    "        ----------\n",
    "    Args:\n",
    "    ----\n",
    "        param1: Str pos value ...\n",
    "        param2: Int pos value ...\n",
    "        param3: Str opcional default None\n",
    "        param4: Str opcional default None\n",
    "    \n",
    "    Return:\n",
    "    ------\n",
    "        suma de dos valores\n",
    "    \n",
    "    Example:\n",
    "    -------\n",
    "        suma_valores(1, 2)\n",
    "\n",
    "    '''\n",
    "    try:\n",
    "        # param1 = 4\n",
    "        return param1 + param2 + param3\n",
    "\n",
    "    except Exception as e:\n",
    "        print(e)\n",
    "    \n",
    "    finally:\n",
    "        pass"
   ]
  },
  {
   "cell_type": "code",
   "execution_count": 23,
   "metadata": {},
   "outputs": [
    {
     "data": {
      "text/plain": [
       "15"
      ]
     },
     "execution_count": 23,
     "metadata": {},
     "output_type": "execute_result"
    }
   ],
   "source": [
    "suma_valores(5, 10)"
   ]
  },
  {
   "cell_type": "code",
   "execution_count": 11,
   "metadata": {},
   "outputs": [
    {
     "data": {
      "text/plain": [
       "15"
      ]
     },
     "execution_count": 11,
     "metadata": {},
     "output_type": "execute_result"
    }
   ],
   "source": [
    "suma_AB = suma_valores(5, 10)\n",
    "suma_AB"
   ]
  },
  {
   "cell_type": "code",
   "execution_count": 12,
   "metadata": {},
   "outputs": [
    {
     "name": "stdout",
     "output_type": "stream",
     "text": [
      "can only concatenate str (not \"int\") to str\n"
     ]
    }
   ],
   "source": [
    "suma_valores(\"String\", 1)"
   ]
  },
  {
   "cell_type": "code",
   "execution_count": 13,
   "metadata": {},
   "outputs": [
    {
     "data": {
      "text/plain": [
       "8"
      ]
     },
     "execution_count": 13,
     "metadata": {},
     "output_type": "execute_result"
    }
   ],
   "source": [
    "suma_valores(param2=5, param1=3)"
   ]
  },
  {
   "cell_type": "code",
   "execution_count": 15,
   "metadata": {},
   "outputs": [
    {
     "data": {
      "text/plain": [
       "14"
      ]
     },
     "execution_count": 15,
     "metadata": {},
     "output_type": "execute_result"
    }
   ],
   "source": [
    "suma_valores(5, 6, 3)"
   ]
  },
  {
   "cell_type": "code",
   "execution_count": 16,
   "metadata": {},
   "outputs": [
    {
     "data": {
      "text/plain": [
       "12"
      ]
     },
     "execution_count": 16,
     "metadata": {},
     "output_type": "execute_result"
    }
   ],
   "source": [
    "suma_valores(4,4,param3=4)"
   ]
  },
  {
   "cell_type": "code",
   "execution_count": 17,
   "metadata": {},
   "outputs": [
    {
     "data": {
      "text/plain": [
       "15"
      ]
     },
     "execution_count": 17,
     "metadata": {},
     "output_type": "execute_result"
    }
   ],
   "source": [
    "suma_valores(param1=4, param2=5, param3=6)"
   ]
  },
  {
   "cell_type": "code",
   "execution_count": 18,
   "metadata": {},
   "outputs": [
    {
     "data": {
      "text/plain": [
       "10"
      ]
     },
     "execution_count": 18,
     "metadata": {},
     "output_type": "execute_result"
    }
   ],
   "source": [
    "suma_valores(param3=6, param1=1, param2=3)"
   ]
  },
  {
   "cell_type": "code",
   "execution_count": 19,
   "metadata": {},
   "outputs": [
    {
     "ename": "SyntaxError",
     "evalue": "positional argument follows keyword argument (2976470579.py, line 1)",
     "output_type": "error",
     "traceback": [
      "\u001b[1;36m  Input \u001b[1;32mIn [19]\u001b[1;36m\u001b[0m\n\u001b[1;33m    suma_valores(param3=6, 1, 2)\u001b[0m\n\u001b[1;37m                               ^\u001b[0m\n\u001b[1;31mSyntaxError\u001b[0m\u001b[1;31m:\u001b[0m positional argument follows keyword argument\n"
     ]
    }
   ],
   "source": [
    "suma_valores(param3=6, 1, 2)"
   ]
  },
  {
   "cell_type": "code",
   "execution_count": 25,
   "metadata": {},
   "outputs": [
    {
     "data": {
      "text/plain": [
       "15"
      ]
     },
     "execution_count": 25,
     "metadata": {},
     "output_type": "execute_result"
    }
   ],
   "source": [
    "# Definimos variables globales\n",
    "val1 = 5\n",
    "val2 = 10\n",
    "suma_valores(val1, val2)"
   ]
  },
  {
   "cell_type": "code",
   "execution_count": 26,
   "metadata": {},
   "outputs": [
    {
     "data": {
      "text/plain": [
       "5"
      ]
     },
     "execution_count": 26,
     "metadata": {},
     "output_type": "execute_result"
    }
   ],
   "source": [
    "val1"
   ]
  },
  {
   "cell_type": "code",
   "execution_count": 30,
   "metadata": {},
   "outputs": [],
   "source": [
    "global_var = \"Esta es una variable global\"\n",
    "\n",
    "def fun_1():\n",
    "    local_var_1 = \"variable local en la función 1\"\n",
    "    print(global_var)\n",
    "    print(local_var_1)"
   ]
  },
  {
   "cell_type": "code",
   "execution_count": 31,
   "metadata": {},
   "outputs": [
    {
     "name": "stdout",
     "output_type": "stream",
     "text": [
      "Esta es una variable global\n",
      "variable local en la función 1\n"
     ]
    }
   ],
   "source": [
    "fun_1()"
   ]
  },
  {
   "cell_type": "code",
   "execution_count": 32,
   "metadata": {},
   "outputs": [
    {
     "ename": "NameError",
     "evalue": "name 'local_var_1' is not defined",
     "output_type": "error",
     "traceback": [
      "\u001b[1;31m---------------------------------------------------------------------------\u001b[0m",
      "\u001b[1;31mNameError\u001b[0m                                 Traceback (most recent call last)",
      "\u001b[1;32mc:\\Users\\mrusso\\OneDrive - ATSISTEMAS SA\\Documentos\\GitHub\\TheBridge_DataScience_PT_ALUMNI_sep22\\02_DATA_ANALYSIS\\01_PYTHON_201\\week05\\03_funciones_avanzandas.ipynb Celda 17\u001b[0m in \u001b[0;36m<module>\u001b[1;34m\u001b[0m\n\u001b[1;32m----> <a href='vscode-notebook-cell:/c%3A/Users/mrusso/OneDrive%20-%20ATSISTEMAS%20SA/Documentos/GitHub/TheBridge_DataScience_PT_ALUMNI_sep22/02_DATA_ANALYSIS/01_PYTHON_201/week05/03_funciones_avanzandas.ipynb#X22sZmlsZQ%3D%3D?line=0'>1</a>\u001b[0m local_var_1\n",
      "\u001b[1;31mNameError\u001b[0m: name 'local_var_1' is not defined"
     ]
    }
   ],
   "source": [
    "local_var_1"
   ]
  },
  {
   "cell_type": "code",
   "execution_count": 33,
   "metadata": {},
   "outputs": [
    {
     "data": {
      "text/plain": [
       "'Esta es una variable global'"
      ]
     },
     "execution_count": 33,
     "metadata": {},
     "output_type": "execute_result"
    }
   ],
   "source": [
    "global_var"
   ]
  },
  {
   "cell_type": "code",
   "execution_count": 56,
   "metadata": {},
   "outputs": [],
   "source": [
    "def fun_2():\n",
    "    global_var = \"Nueva variable global\"\n",
    "    # global_var == global_var\n",
    "    print(global_var)"
   ]
  },
  {
   "cell_type": "code",
   "execution_count": 38,
   "metadata": {},
   "outputs": [
    {
     "name": "stdout",
     "output_type": "stream",
     "text": [
      "Nueva variable global\n"
     ]
    }
   ],
   "source": [
    "fun_2()"
   ]
  },
  {
   "cell_type": "code",
   "execution_count": 39,
   "metadata": {},
   "outputs": [
    {
     "data": {
      "text/plain": [
       "'Esta es una variable global'"
      ]
     },
     "execution_count": 39,
     "metadata": {},
     "output_type": "execute_result"
    }
   ],
   "source": [
    "global_var"
   ]
  },
  {
   "cell_type": "code",
   "execution_count": 43,
   "metadata": {},
   "outputs": [],
   "source": [
    "def fun_4():\n",
    "    # Para convertir la variable local a global\n",
    "    global global_var\n",
    "    \n",
    "    global_var = \"Cambiamos la variable global\"\n",
    "    print(global_var)\n"
   ]
  },
  {
   "cell_type": "code",
   "execution_count": 44,
   "metadata": {},
   "outputs": [
    {
     "name": "stdout",
     "output_type": "stream",
     "text": [
      "Cambiamos la variable global\n"
     ]
    }
   ],
   "source": [
    "fun_4()"
   ]
  },
  {
   "cell_type": "code",
   "execution_count": 45,
   "metadata": {},
   "outputs": [
    {
     "data": {
      "text/plain": [
       "'Cambiamos la variable global'"
      ]
     },
     "execution_count": 45,
     "metadata": {},
     "output_type": "execute_result"
    }
   ],
   "source": [
    "global_var"
   ]
  },
  {
   "cell_type": "code",
   "execution_count": 52,
   "metadata": {},
   "outputs": [],
   "source": [
    "def fun_5():\n",
    "    # Podemos añadir otras variables separadas por coma\n",
    "    global global_var, local_var\n",
    "    \n",
    "    global_var = \"Cambiamos nuevamente la variable global\"\n",
    "    local_var = \"También tenemos una variable local\"\n",
    "    print(global_var)\n",
    "    print(local_var)"
   ]
  },
  {
   "cell_type": "code",
   "execution_count": 53,
   "metadata": {},
   "outputs": [
    {
     "name": "stdout",
     "output_type": "stream",
     "text": [
      "Cambiamos nuevamente la variable global\n",
      "También tenemos una variable local\n"
     ]
    }
   ],
   "source": [
    "fun_5()"
   ]
  },
  {
   "cell_type": "code",
   "execution_count": 54,
   "metadata": {},
   "outputs": [
    {
     "data": {
      "text/plain": [
       "'Cambiamos nuevamente la variable global'"
      ]
     },
     "execution_count": 54,
     "metadata": {},
     "output_type": "execute_result"
    }
   ],
   "source": [
    "global_var"
   ]
  },
  {
   "cell_type": "code",
   "execution_count": 55,
   "metadata": {},
   "outputs": [
    {
     "data": {
      "text/plain": [
       "'También tenemos una variable local'"
      ]
     },
     "execution_count": 55,
     "metadata": {},
     "output_type": "execute_result"
    }
   ],
   "source": [
    "local_var"
   ]
  },
  {
   "cell_type": "markdown",
   "metadata": {},
   "source": [
    "## Funciones anidadas\n",
    "\n",
    "Python permite definir funciones dentro de otras funciones. Podemos definir una variable global y sucesivamente tenemos una outer_fun, a nivel global, y finalmente un inner_fun a nivel local."
   ]
  },
  {
   "cell_type": "code",
   "execution_count": 90,
   "metadata": {},
   "outputs": [],
   "source": [
    "# Definimos la función outer_fun que será de ámbito global\n",
    "\n",
    "def outer_fun():\n",
    "    \n",
    "    z = 1\n",
    "    def inner_fun_1():\n",
    "        # Puedo definir mis variables\n",
    "        global my_var_f1\n",
    "        my_var_f1 = \"Esta es una función anidada del fun1\"\n",
    "        print(\"Inner function 1 valor x {}\".format(x))\n",
    "        print(\"Inner function 1 valor y {}\".format(y))\n",
    "\n",
    "    def inner_fun_2():\n",
    "        x = 5\n",
    "        print(\"Inner function 2 valor {}\".format(x))\n",
    "\n",
    "    def inner_fun_3():\n",
    "        nonlocal x\n",
    "        x = 7\n",
    "        print(\"Inner function 3 valor {}\".format(x))\n",
    "        print(\"Outer function valor z {}\".format(z))\n",
    "\n",
    "        def nested_inner_fun_3():\n",
    "            print(\"Nested inner fun 3 valor z{}\".format(z))\n",
    "            print(\"Nested inner fun 3 valor x {}\".format(x))\n",
    "        nested_inner_fun_3()\n",
    "\n",
    "    def inner_fun_4():\n",
    "        try:\n",
    "            print(my_var_f1)\n",
    "        except NameError:\n",
    "            print(\"Error: undefined variable\")\n",
    "\n",
    "    print(\"Outer function valor y {}\".format(y))\n",
    "\n",
    "    x = 3\n",
    "    print(\"Outer function valor x {}\".format(x))\n",
    "    inner_fun_1()\n",
    "    print(\"Outer function valor x {}\".format(x))\n",
    "    inner_fun_2()\n",
    "    print(\"Outer function valor x {}\".format(x))\n",
    "    inner_fun_3()\n",
    "    print(\"Outer function valor x {}\".format(x))\n",
    "    inner_fun_4()\n",
    "    print(\"Outer function valor x {}\".format(x))\n",
    "    print(\"Outer function valor y {}\".format(y))"
   ]
  },
  {
   "cell_type": "code",
   "execution_count": 91,
   "metadata": {},
   "outputs": [
    {
     "name": "stdout",
     "output_type": "stream",
     "text": [
      "Outer function valor y 1\n",
      "Outer function valor x 3\n",
      "Inner function 1 valor x 3\n",
      "Inner function 1 valor y 1\n",
      "Outer function valor x 3\n",
      "Inner function 2 valor 5\n",
      "Outer function valor x 3\n",
      "Inner function 3 valor 7\n",
      "Outer function valor z 1\n",
      "Nested inner fun 3 valor z1\n",
      "Nested inner fun 3 valor x 7\n",
      "Outer function valor x 7\n",
      "Esta es una función anidada del fun1\n",
      "Outer function valor x 7\n",
      "Outer function valor y 1\n"
     ]
    }
   ],
   "source": [
    "y = 1\n",
    "outer_fun()"
   ]
  },
  {
   "cell_type": "code",
   "execution_count": 97,
   "metadata": {},
   "outputs": [],
   "source": [
    "# Caso de uso de funciones anidadas\n",
    "# Calculos de distancias\n",
    "\n",
    "def is_close(x, y, l1_x, l1_y, l2_x, l2_y, lim=10):\n",
    "\n",
    "    def dist(x1, y1, x2, y2):\n",
    "        return abs(x1 - x2) + abs(y1 - y2)\n",
    "\n",
    "    # Consideramos que un punto está cerca de otro si la distancia entre ellos\n",
    "    # es inferior a lim\n",
    "    return (dist(x, y, l1_x, l1_y) < lim) and (dist(x, y, l2_x, l2_y) < lim)"
   ]
  },
  {
   "cell_type": "code",
   "execution_count": 104,
   "metadata": {},
   "outputs": [
    {
     "ename": "SyntaxError",
     "evalue": "positional argument follows keyword argument (3617494541.py, line 2)",
     "output_type": "error",
     "traceback": [
      "\u001b[1;36m  Input \u001b[1;32mIn [104]\u001b[1;36m\u001b[0m\n\u001b[1;33m    r1 = is_close(x=0,0, 1,4, -7,1, lim=5)\u001b[0m\n\u001b[1;37m                                         ^\u001b[0m\n\u001b[1;31mSyntaxError\u001b[0m\u001b[1;31m:\u001b[0m positional argument follows keyword argument\n"
     ]
    }
   ],
   "source": [
    "# tenemos los puntos (0,0) si está cerca de (1, 4) y (-7, 1)\n",
    "r1 = is_close(0, 0, 1,4, -7,1, lim=5)\n",
    "print(\"Los valores (0,0, está cerca de (1,4) y (-7,1): {}\".format(r1))"
   ]
  },
  {
   "cell_type": "markdown",
   "metadata": {},
   "source": [
    "## Argumentos especiales de las funciones\n",
    "\n",
    "- *args Argumentos posicionales no obligatorios, lo trataremos como una tupla\n",
    "- **kwargs Argumentos opcionales no obligatorios, lo trataremos como un diccionario"
   ]
  },
  {
   "cell_type": "code",
   "execution_count": 4,
   "metadata": {},
   "outputs": [],
   "source": [
    "def sum_two_or_three_values_or_p(x, y, *extra_params):\n",
    "    print(\"Los valores de x e y son: {} y {} \".format(x, y))\n",
    "    print(\"Valores adicionales son {}\".format(extra_params))\n",
    "    print(\"El tipo de dato de extra_params es {}\".format(type(extra_params)))\n",
    "    return x + y + sum(extra_params)"
   ]
  },
  {
   "cell_type": "code",
   "execution_count": 5,
   "metadata": {},
   "outputs": [
    {
     "name": "stdout",
     "output_type": "stream",
     "text": [
      "Los valores de x e y son: 3 y 4 \n",
      "Valores adicionales son ()\n",
      "El tipo de dato de extra_params es <class 'tuple'>\n"
     ]
    },
    {
     "data": {
      "text/plain": [
       "7"
      ]
     },
     "execution_count": 5,
     "metadata": {},
     "output_type": "execute_result"
    }
   ],
   "source": [
    "sum_two_or_three_values_or_p(3, 4)"
   ]
  },
  {
   "cell_type": "code",
   "execution_count": 11,
   "metadata": {},
   "outputs": [
    {
     "name": "stdout",
     "output_type": "stream",
     "text": [
      "Los valores de x e y son: 5 y 6 \n",
      "Valores adicionales son (8, 9, 10)\n",
      "El tipo de dato de extra_params es <class 'tuple'>\n"
     ]
    },
    {
     "data": {
      "text/plain": [
       "38"
      ]
     },
     "execution_count": 11,
     "metadata": {},
     "output_type": "execute_result"
    }
   ],
   "source": [
    "sum_two_or_three_values_or_p(5, 6, 8, 9, 10)"
   ]
  },
  {
   "cell_type": "code",
   "execution_count": 7,
   "metadata": {},
   "outputs": [],
   "source": [
    "def zero_or_p(*extra_params):\n",
    "    # print(\"Los valores de x e y son: {} y {} \".format(x, y))\n",
    "    print(\"Valores adicionales son {}\".format(extra_params))\n",
    "    print(\"El tipo de dato de extra_params es {}\".format(type(extra_params)))\n",
    "    return sum(extra_params)"
   ]
  },
  {
   "cell_type": "code",
   "execution_count": 9,
   "metadata": {},
   "outputs": [
    {
     "name": "stdout",
     "output_type": "stream",
     "text": [
      "Valores adicionales son (5, 6, 7)\n",
      "El tipo de dato de extra_params es <class 'tuple'>\n"
     ]
    },
    {
     "data": {
      "text/plain": [
       "18"
      ]
     },
     "execution_count": 9,
     "metadata": {},
     "output_type": "execute_result"
    }
   ],
   "source": [
    "zero_or_p(5, 6, 7)"
   ]
  },
  {
   "cell_type": "code",
   "execution_count": 18,
   "metadata": {},
   "outputs": [],
   "source": [
    "# kwargs parametros no obligatorio y no posicional\n",
    "def sum_two_or_three_values_n(x, y, **extra_kwargs):\n",
    "    print(\"Los valores x e y son : {} {}\".format(x, y))\n",
    "    print(\"Los valores kwargs {}\".format(extra_kwargs))\n",
    "    for k in extra_kwargs:\n",
    "        print(\"{} {}\".format(k, extra_kwargs[k])) # extra_kwargs.get(k)\n",
    "    print(\"ExtraArgs type {}\".format(type(extra_kwargs)))\n",
    "    return x+y + sum(extra_kwargs.values())"
   ]
  },
  {
   "cell_type": "code",
   "execution_count": 13,
   "metadata": {},
   "outputs": [
    {
     "name": "stdout",
     "output_type": "stream",
     "text": [
      "Los valores x e y son : 5 7\n",
      "Los valores kwargs {}\n",
      "ExtraArgs type <class 'dict'>\n"
     ]
    },
    {
     "data": {
      "text/plain": [
       "12"
      ]
     },
     "execution_count": 13,
     "metadata": {},
     "output_type": "execute_result"
    }
   ],
   "source": [
    "sum_two_or_three_values_n(5,7)"
   ]
  },
  {
   "cell_type": "code",
   "execution_count": 19,
   "metadata": {},
   "outputs": [
    {
     "name": "stdout",
     "output_type": "stream",
     "text": [
      "Los valores x e y son : 6 8\n",
      "Los valores kwargs {'z': 9}\n",
      "z 9\n",
      "ExtraArgs type <class 'dict'>\n"
     ]
    },
    {
     "data": {
      "text/plain": [
       "23"
      ]
     },
     "execution_count": 19,
     "metadata": {},
     "output_type": "execute_result"
    }
   ],
   "source": [
    "sum_two_or_three_values_n(6,8,z=9)"
   ]
  }
 ],
 "metadata": {
  "kernelspec": {
   "display_name": "Python 3.9.5 ('the_bridge_22')",
   "language": "python",
   "name": "python3"
  },
  "language_info": {
   "codemirror_mode": {
    "name": "ipython",
    "version": 3
   },
   "file_extension": ".py",
   "mimetype": "text/x-python",
   "name": "python",
   "nbconvert_exporter": "python",
   "pygments_lexer": "ipython3",
   "version": "3.9.5"
  },
  "orig_nbformat": 4,
  "vscode": {
   "interpreter": {
    "hash": "1c79a6bee0cc3880bade9bffe4f2ea0bcfc562fd81915ef930f986f3657b2ce7"
   }
  }
 },
 "nbformat": 4,
 "nbformat_minor": 2
}
