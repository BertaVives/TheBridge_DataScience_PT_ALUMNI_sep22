{
 "cells": [
  {
   "cell_type": "markdown",
   "metadata": {},
   "source": [
    "# Programación Orientada a objetos"
   ]
  },
  {
   "cell_type": "code",
   "execution_count": 23,
   "metadata": {},
   "outputs": [],
   "source": [
    "mobile = {\n",
    "    \"marca\" : \"Samsung\",\n",
    "    \"SO\" : \"Android\",\n",
    "    \"version\" : \"5.6\",\n",
    "    \"camara\" :{\n",
    "        \"frontal\" : {\"resolution\" : \"15MP\"},\n",
    "        \"back\" : [\n",
    "            {\n",
    "                \"type\" : \"zoom\",\n",
    "                \"resolution\" : \"25MP\"\n",
    "            },\n",
    "            {\n",
    "                \"type\" : \"macro\",\n",
    "                \"resolution\" : \"30MP\"\n",
    "            }\n",
    "        ]\n",
    "    },\n",
    "    \"bateria\" : {\n",
    "        \"type\" : \"Lithium\",\n",
    "        \"MaxCharge\" : 4500,\n",
    "        \"charge\" : 0.56\n",
    "    },\n",
    "    \"apps\" : [\n",
    "        {\n",
    "            \"name\" : \"Whatsapp\",\n",
    "            \"version\" : \"1.56.0\",\n",
    "            \"memoria_ocupada\" : \"15Mb\",\n",
    "            \"desarrollador\" : \"Meta\"\n",
    "        },\n",
    "        {\n",
    "            \"name\" : \"Gmail\",\n",
    "            \"version\" : \"5.0\",\n",
    "            \"memoria_ocupada\": \"5Mb\",\n",
    "            \"desarrollador\" : \"Alphabet\"\n",
    "        }\n",
    "    ]\n",
    "}"
   ]
  },
  {
   "cell_type": "code",
   "execution_count": 3,
   "metadata": {},
   "outputs": [
    {
     "data": {
      "text/plain": [
       "dict"
      ]
     },
     "execution_count": 3,
     "metadata": {},
     "output_type": "execute_result"
    }
   ],
   "source": [
    "type(mobile)"
   ]
  },
  {
   "cell_type": "code",
   "execution_count": 4,
   "metadata": {},
   "outputs": [
    {
     "data": {
      "text/plain": [
       "dict_keys(['marca', 'SO', 'version', 'camara', 'bateria', 'apps'])"
      ]
     },
     "execution_count": 4,
     "metadata": {},
     "output_type": "execute_result"
    }
   ],
   "source": [
    "mobile.keys()"
   ]
  },
  {
   "cell_type": "code",
   "execution_count": 7,
   "metadata": {},
   "outputs": [
    {
     "data": {
      "text/plain": [
       "0.56"
      ]
     },
     "execution_count": 7,
     "metadata": {},
     "output_type": "execute_result"
    }
   ],
   "source": [
    "mobile['bateria']['charge']"
   ]
  },
  {
   "cell_type": "code",
   "execution_count": 15,
   "metadata": {},
   "outputs": [],
   "source": [
    "# Crear una función para realizar la carga del móvil\n",
    "def carga_mobile(phone, perc_carga=0):\n",
    "    '''\n",
    "    La función tome como parámetro un objeto tipo mobile y carga la bateria\n",
    "\n",
    "    Args:\n",
    "    ----\n",
    "        phone Obj dict positional\n",
    "    \n",
    "    Return:\n",
    "    ------\n",
    "        Mismo objeto dict con valor charge actualizado\n",
    "    '''\n",
    "    phone['bateria']['charge'] = perc_carga\n",
    "    return phone\n",
    "    "
   ]
  },
  {
   "cell_type": "code",
   "execution_count": 16,
   "metadata": {},
   "outputs": [
    {
     "data": {
      "text/plain": [
       "{'marca': 'Samsung',\n",
       " 'SO': 'Android',\n",
       " 'version': '5.6',\n",
       " 'camara': {'frontal': {'resolution': '15MP'},\n",
       "  'back': [{'type': 'zoom', 'resolution': '25MP'},\n",
       "   {'type': 'macro', 'resolution': '30MP'}]},\n",
       " 'bateria': {'type': 'Lithium', 'MaxCharge': 4500, 'charge': 0.6},\n",
       " 'apps': [{'name': 'Whatsapp',\n",
       "   'version': '1.56.0',\n",
       "   'memoria_ocupada': '15Mb',\n",
       "   'desarrollador': 'Meta'},\n",
       "  {'name': 'Gmail',\n",
       "   'version': '5.0',\n",
       "   'memoria_ocupada': '5Mb',\n",
       "   'desarrollador': 'Alphabet'}]}"
      ]
     },
     "execution_count": 16,
     "metadata": {},
     "output_type": "execute_result"
    }
   ],
   "source": [
    "mobile"
   ]
  },
  {
   "cell_type": "code",
   "execution_count": 17,
   "metadata": {},
   "outputs": [
    {
     "data": {
      "text/plain": [
       "{'marca': 'Samsung',\n",
       " 'SO': 'Android',\n",
       " 'version': '5.6',\n",
       " 'camara': {'frontal': {'resolution': '15MP'},\n",
       "  'back': [{'type': 'zoom', 'resolution': '25MP'},\n",
       "   {'type': 'macro', 'resolution': '30MP'}]},\n",
       " 'bateria': {'type': 'Lithium', 'MaxCharge': 4500, 'charge': 0},\n",
       " 'apps': [{'name': 'Whatsapp',\n",
       "   'version': '1.56.0',\n",
       "   'memoria_ocupada': '15Mb',\n",
       "   'desarrollador': 'Meta'},\n",
       "  {'name': 'Gmail',\n",
       "   'version': '5.0',\n",
       "   'memoria_ocupada': '5Mb',\n",
       "   'desarrollador': 'Alphabet'}]}"
      ]
     },
     "execution_count": 17,
     "metadata": {},
     "output_type": "execute_result"
    }
   ],
   "source": [
    "carga_mobile(mobile)"
   ]
  },
  {
   "cell_type": "code",
   "execution_count": 1,
   "metadata": {},
   "outputs": [],
   "source": [
    "youtube = {\n",
    "    'name': 'youtube',\n",
    "    'version': '10.20',\n",
    "    'memoria_ocupada': '50Mb',\n",
    "    'desarrollador': 'Alphabet'\n",
    "}"
   ]
  },
  {
   "cell_type": "code",
   "execution_count": 5,
   "metadata": {},
   "outputs": [],
   "source": [
    "def install_app(phone, new_app):\n",
    "    '''\n",
    "    La función .... instala la aplicación dado un objeto creado...\n",
    "\n",
    "    Args:\n",
    "    -----\n",
    "        phone\n",
    "        new_app Dict...\n",
    "    Return:\n",
    "    ------\n",
    "    '''\n",
    "    phone['apps'].append(new_app)\n",
    "    return phone"
   ]
  },
  {
   "cell_type": "code",
   "execution_count": 6,
   "metadata": {},
   "outputs": [
    {
     "data": {
      "text/plain": [
       "{'marca': 'Samsung',\n",
       " 'SO': 'Android',\n",
       " 'version': '5.6',\n",
       " 'camara': {'frontal': {'resolution': '15MP'},\n",
       "  'back': [{'type': 'zoom', 'resolution': '25MP'},\n",
       "   {'type': 'macro', 'resolution': '30MP'}]},\n",
       " 'bateria': {'type': 'Lithium', 'MaxCharge': 4500, 'charge': 0.56},\n",
       " 'apps': [{'name': 'Whatsapp',\n",
       "   'version': '1.56.0',\n",
       "   'memoria_ocupada': '15Mb',\n",
       "   'desarrollador': 'Meta'},\n",
       "  {'name': 'Gmail',\n",
       "   'version': '5.0',\n",
       "   'memoria_ocupada': '5Mb',\n",
       "   'desarrollador': 'Alphabet'},\n",
       "  {'name': 'youtube',\n",
       "   'version': '10.20',\n",
       "   'memoria_ocupada': '50Mb',\n",
       "   'desarrollador': 'Alphabet'}]}"
      ]
     },
     "execution_count": 6,
     "metadata": {},
     "output_type": "execute_result"
    }
   ],
   "source": [
    "install_app(mobile, youtube)"
   ]
  },
  {
   "cell_type": "code",
   "execution_count": 11,
   "metadata": {},
   "outputs": [],
   "source": [
    "def update_app(phone, app, version):\n",
    "    for appname in phone['apps']:\n",
    "        if appname['name'] == app:\n",
    "            appname['version'] = version\n",
    "    return phone"
   ]
  },
  {
   "cell_type": "code",
   "execution_count": 20,
   "metadata": {},
   "outputs": [
    {
     "data": {
      "text/plain": [
       "dict_keys(['marca', 'SO', 'version', 'camara', 'bateria', 'apps'])"
      ]
     },
     "execution_count": 20,
     "metadata": {},
     "output_type": "execute_result"
    }
   ],
   "source": [
    "mobile.keys()"
   ]
  },
  {
   "cell_type": "code",
   "execution_count": 22,
   "metadata": {},
   "outputs": [
    {
     "data": {
      "text/plain": [
       "list"
      ]
     },
     "execution_count": 22,
     "metadata": {},
     "output_type": "execute_result"
    }
   ],
   "source": [
    "type(mobile['apps'])"
   ]
  },
  {
   "cell_type": "code",
   "execution_count": 29,
   "metadata": {},
   "outputs": [
    {
     "data": {
      "text/plain": [
       "dict_items([('marca', 'Samsung'), ('SO', 'Android'), ('version', '5.6'), ('camara', {'frontal': {'resolution': '15MP'}, 'back': [{'type': 'zoom', 'resolution': '25MP'}, {'type': 'macro', 'resolution': '30MP'}]}), ('bateria', {'type': 'Lithium', 'MaxCharge': 4500, 'charge': 0.56}), ('apps', [{'name': 'Whatsapp', 'version': '1.56.0', 'memoria_ocupada': '15Mb', 'desarrollador': 'Meta'}, {'name': 'Gmail', 'version': 8, 'memoria_ocupada': '5Mb', 'desarrollador': 'Alphabet'}, {'name': 'youtube', 'version': '11.50', 'memoria_ocupada': '50Mb', 'desarrollador': 'Alphabet'}])])"
      ]
     },
     "execution_count": 29,
     "metadata": {},
     "output_type": "execute_result"
    }
   ],
   "source": [
    "mobile.items()"
   ]
  },
  {
   "cell_type": "code",
   "execution_count": 38,
   "metadata": {},
   "outputs": [],
   "source": [
    "update_appname = 'Gmail'\n",
    "version = 8"
   ]
  },
  {
   "cell_type": "code",
   "execution_count": 39,
   "metadata": {},
   "outputs": [
    {
     "name": "stdout",
     "output_type": "stream",
     "text": [
      "652 ns ± 80.4 ns per loop (mean ± std. dev. of 7 runs, 1,000,000 loops each)\n"
     ]
    }
   ],
   "source": [
    "%%timeit\n",
    "for appname in mobile['apps']:\n",
    "        if appname['name'] == update_appname:\n",
    "            appname['version'] = version"
   ]
  },
  {
   "cell_type": "code",
   "execution_count": 40,
   "metadata": {},
   "outputs": [
    {
     "name": "stdout",
     "output_type": "stream",
     "text": [
      "800 ns ± 104 ns per loop (mean ± std. dev. of 7 runs, 1,000,000 loops each)\n"
     ]
    }
   ],
   "source": [
    "%%timeit\n",
    "[appname for appname in mobile['apps'] if appname['name'] == update_appname]"
   ]
  },
  {
   "cell_type": "code",
   "execution_count": 34,
   "metadata": {},
   "outputs": [],
   "source": [
    "new_appversion = 9\n",
    "[appname['version'] for appname in mobile['apps'] if appname['name'] == update_appname]"
   ]
  },
  {
   "cell_type": "code",
   "execution_count": 35,
   "metadata": {},
   "outputs": [
    {
     "data": {
      "text/plain": [
       "{'marca': 'Samsung',\n",
       " 'SO': 'Android',\n",
       " 'version': '5.6',\n",
       " 'camara': {'frontal': {'resolution': '15MP'},\n",
       "  'back': [{'type': 'zoom', 'resolution': '25MP'},\n",
       "   {'type': 'macro', 'resolution': '30MP'}]},\n",
       " 'bateria': {'type': 'Lithium', 'MaxCharge': 4500, 'charge': 0.56},\n",
       " 'apps': [{'name': 'Whatsapp',\n",
       "   'version': '1.56.0',\n",
       "   'memoria_ocupada': '15Mb',\n",
       "   'desarrollador': 'Meta'},\n",
       "  {'name': 'Gmail',\n",
       "   'version': 8,\n",
       "   'memoria_ocupada': '5Mb',\n",
       "   'desarrollador': 'Alphabet'},\n",
       "  {'name': 'youtube',\n",
       "   'version': '11.50',\n",
       "   'memoria_ocupada': '50Mb',\n",
       "   'desarrollador': 'Alphabet'}]}"
      ]
     },
     "execution_count": 35,
     "metadata": {},
     "output_type": "execute_result"
    }
   ],
   "source": [
    "mobile"
   ]
  },
  {
   "cell_type": "code",
   "execution_count": 19,
   "metadata": {},
   "outputs": [
    {
     "data": {
      "text/plain": [
       "{'marca': 'Samsung',\n",
       " 'SO': 'Android',\n",
       " 'version': '5.6',\n",
       " 'camara': {'frontal': {'resolution': '15MP'},\n",
       "  'back': [{'type': 'zoom', 'resolution': '25MP'},\n",
       "   {'type': 'macro', 'resolution': '30MP'}]},\n",
       " 'bateria': {'type': 'Lithium', 'MaxCharge': 4500, 'charge': 0.56},\n",
       " 'apps': [{'name': 'Whatsapp',\n",
       "   'version': '1.56.0',\n",
       "   'memoria_ocupada': '15Mb',\n",
       "   'desarrollador': 'Meta'},\n",
       "  {'name': 'Gmail',\n",
       "   'version': 8,\n",
       "   'memoria_ocupada': '5Mb',\n",
       "   'desarrollador': 'Alphabet'},\n",
       "  {'name': 'youtube',\n",
       "   'version': '11.50',\n",
       "   'memoria_ocupada': '50Mb',\n",
       "   'desarrollador': 'Alphabet'}]}"
      ]
     },
     "execution_count": 19,
     "metadata": {},
     "output_type": "execute_result"
    }
   ],
   "source": [
    "update_app(mobile, \"Gmail\", 8)"
   ]
  },
  {
   "cell_type": "code",
   "execution_count": 42,
   "metadata": {},
   "outputs": [
    {
     "name": "stdout",
     "output_type": "stream",
     "text": [
      "0 {'name': 'Whatsapp', 'version': '1.56.0', 'memoria_ocupada': '15Mb', 'desarrollador': 'Meta'}\n",
      "1 {'name': 'Gmail', 'version': 8, 'memoria_ocupada': '5Mb', 'desarrollador': 'Alphabet'}\n",
      "2 {'name': 'youtube', 'version': '11.50', 'memoria_ocupada': '50Mb', 'desarrollador': 'Alphabet'}\n"
     ]
    }
   ],
   "source": [
    "for pos, i in enumerate(mobile['apps']):\n",
    "    print(pos, i)"
   ]
  },
  {
   "cell_type": "code",
   "execution_count": 44,
   "metadata": {},
   "outputs": [],
   "source": [
    "def unistall_app(phone, appname):\n",
    "    for pos, i in enumerate(phone['apps']):\n",
    "        if i['name'] == appname:\n",
    "            phone['apps'].pop(pos)\n",
    "    return phone"
   ]
  },
  {
   "cell_type": "code",
   "execution_count": null,
   "metadata": {},
   "outputs": [],
   "source": [
    "[[list] in lista]"
   ]
  },
  {
   "cell_type": "code",
   "execution_count": 50,
   "metadata": {},
   "outputs": [
    {
     "data": {
      "text/plain": [
       "dict"
      ]
     },
     "execution_count": 50,
     "metadata": {},
     "output_type": "execute_result"
    }
   ],
   "source": [
    "type(mobile['apps'])[0]"
   ]
  },
  {
   "cell_type": "code",
   "execution_count": 55,
   "metadata": {},
   "outputs": [
    {
     "data": {
      "text/plain": [
       "['__repr__',\n",
       " '__hash__',\n",
       " '__getattribute__',\n",
       " '__lt__',\n",
       " '__le__',\n",
       " '__eq__',\n",
       " '__ne__',\n",
       " '__gt__',\n",
       " '__ge__',\n",
       " '__iter__',\n",
       " '__init__',\n",
       " '__or__',\n",
       " '__ror__',\n",
       " '__ior__',\n",
       " '__len__',\n",
       " '__getitem__',\n",
       " '__setitem__',\n",
       " '__delitem__',\n",
       " '__contains__',\n",
       " '__new__',\n",
       " '__sizeof__',\n",
       " 'get',\n",
       " 'setdefault',\n",
       " 'pop',\n",
       " 'popitem',\n",
       " 'keys',\n",
       " 'items',\n",
       " 'values',\n",
       " 'update',\n",
       " 'fromkeys',\n",
       " 'clear',\n",
       " 'copy',\n",
       " '__reversed__',\n",
       " '__class_getitem__',\n",
       " '__doc__',\n",
       " '__str__',\n",
       " '__setattr__',\n",
       " '__delattr__',\n",
       " '__reduce_ex__',\n",
       " '__reduce__',\n",
       " '__subclasshook__',\n",
       " '__init_subclass__',\n",
       " '__format__',\n",
       " '__dir__',\n",
       " '__class__']"
      ]
     },
     "execution_count": 55,
     "metadata": {},
     "output_type": "execute_result"
    }
   ],
   "source": [
    "mobile.get('apps')[0].__dir__()"
   ]
  },
  {
   "cell_type": "code",
   "execution_count": 47,
   "metadata": {},
   "outputs": [
    {
     "data": {
      "text/plain": [
       "{'name': 'Gmail',\n",
       " 'version': 8,\n",
       " 'memoria_ocupada': '5Mb',\n",
       " 'desarrollador': 'Alphabet'}"
      ]
     },
     "execution_count": 47,
     "metadata": {},
     "output_type": "execute_result"
    }
   ],
   "source": [
    "mobile['apps'].pop()"
   ]
  },
  {
   "cell_type": "code",
   "execution_count": 45,
   "metadata": {},
   "outputs": [],
   "source": [
    "unistall_app(mobile, \"youtube\")"
   ]
  },
  {
   "cell_type": "code",
   "execution_count": 46,
   "metadata": {},
   "outputs": [
    {
     "data": {
      "text/plain": [
       "{'marca': 'Samsung',\n",
       " 'SO': 'Android',\n",
       " 'version': '5.6',\n",
       " 'camara': {'frontal': {'resolution': '15MP'},\n",
       "  'back': [{'type': 'zoom', 'resolution': '25MP'},\n",
       "   {'type': 'macro', 'resolution': '30MP'}]},\n",
       " 'bateria': {'type': 'Lithium', 'MaxCharge': 4500, 'charge': 0.56},\n",
       " 'apps': [{'name': 'Whatsapp',\n",
       "   'version': '1.56.0',\n",
       "   'memoria_ocupada': '15Mb',\n",
       "   'desarrollador': 'Meta'},\n",
       "  {'name': 'Gmail',\n",
       "   'version': 8,\n",
       "   'memoria_ocupada': '5Mb',\n",
       "   'desarrollador': 'Alphabet'}]}"
      ]
     },
     "execution_count": 46,
     "metadata": {},
     "output_type": "execute_result"
    }
   ],
   "source": [
    "mobile"
   ]
  },
  {
   "cell_type": "markdown",
   "metadata": {},
   "source": [
    "## Class en Python"
   ]
  },
  {
   "cell_type": "markdown",
   "metadata": {},
   "source": [
    "class NombreClase(object_heredar_opcional):\n",
    "\n",
    "    def __init__(self): #Inicializar una clase con __init__\n",
    "        print(\"NombreClase inicializada correctamente!\")\n",
    "        pass"
   ]
  },
  {
   "cell_type": "code",
   "execution_count": 24,
   "metadata": {},
   "outputs": [],
   "source": [
    "# Creamos una clase Mobile\n",
    "\n",
    "class MobilePhone():\n",
    "    '''\n",
    "    Doc String\n",
    "    Description de la clase\n",
    "    '''\n",
    "    def __init__(self, phone):\n",
    "        self.phone = phone\n",
    "        print(\"Clase MobilePhone inicializada correctamente!\")\n",
    "\n",
    "    def install_app(self, appname):\n",
    "        pass\n",
    "\n",
    "    def uninstall_app(self, appname):\n",
    "        for pos, i in enumerate(self.phone['apps']):\n",
    "            if i['name'] == appname:\n",
    "                self.phone['apps'].pop(pos)\n",
    "        return self.phone\n",
    "\n",
    "    # def unistall_app(phone, appname):\n",
    "    # for pos, i in enumerate(phone['apps']):\n",
    "    #     if i['name'] == appname:\n",
    "    #         phone['apps'].pop(pos)\n",
    "    # return phone\n",
    "\n",
    "    def update_app(self):\n",
    "        pass\n",
    "\n",
    "    def update_so(self):\n",
    "        pass\n",
    "\n",
    "    def carga_mobile(self, perc_carga=0):\n",
    "        '''\n",
    "        La función tome como parámetro un objeto tipo mobile y carga la bateria\n",
    "\n",
    "        Args:\n",
    "        ----\n",
    "            phone Obj dict positional\n",
    "        \n",
    "        Return:\n",
    "        ------\n",
    "            Mismo objeto dict con valor charge actualizado\n",
    "        '''\n",
    "        # Convertimos perc_carga a nonlocal para uso como atributo\n",
    "        self.perc_carga = perc_carga\n",
    "        self.phone['bateria']['charge'] = self.perc_carga\n",
    "        return self.phone"
   ]
  },
  {
   "cell_type": "code",
   "execution_count": 25,
   "metadata": {},
   "outputs": [
    {
     "name": "stdout",
     "output_type": "stream",
     "text": [
      "Clase MobilePhone inicializada correctamente!\n"
     ]
    }
   ],
   "source": [
    "mobile = MobilePhone(mobile) # instanciamos a un objeto phone la clase MobilePhone"
   ]
  },
  {
   "cell_type": "code",
   "execution_count": 26,
   "metadata": {},
   "outputs": [
    {
     "data": {
      "text/plain": [
       "{'marca': 'Samsung',\n",
       " 'SO': 'Android',\n",
       " 'version': '5.6',\n",
       " 'camara': {'frontal': {'resolution': '15MP'},\n",
       "  'back': [{'type': 'zoom', 'resolution': '25MP'},\n",
       "   {'type': 'macro', 'resolution': '30MP'}]},\n",
       " 'bateria': {'type': 'Lithium', 'MaxCharge': 4500, 'charge': 0.56},\n",
       " 'apps': [{'name': 'Whatsapp',\n",
       "   'version': '1.56.0',\n",
       "   'memoria_ocupada': '15Mb',\n",
       "   'desarrollador': 'Meta'},\n",
       "  {'name': 'Gmail',\n",
       "   'version': '5.0',\n",
       "   'memoria_ocupada': '5Mb',\n",
       "   'desarrollador': 'Alphabet'}]}"
      ]
     },
     "execution_count": 26,
     "metadata": {},
     "output_type": "execute_result"
    }
   ],
   "source": [
    "mobile.phone"
   ]
  },
  {
   "cell_type": "code",
   "execution_count": 27,
   "metadata": {},
   "outputs": [
    {
     "data": {
      "text/plain": [
       "{'marca': 'Samsung',\n",
       " 'SO': 'Android',\n",
       " 'version': '5.6',\n",
       " 'camara': {'frontal': {'resolution': '15MP'},\n",
       "  'back': [{'type': 'zoom', 'resolution': '25MP'},\n",
       "   {'type': 'macro', 'resolution': '30MP'}]},\n",
       " 'bateria': {'type': 'Lithium', 'MaxCharge': 4500, 'charge': 0.56},\n",
       " 'apps': [{'name': 'Whatsapp',\n",
       "   'version': '1.56.0',\n",
       "   'memoria_ocupada': '15Mb',\n",
       "   'desarrollador': 'Meta'}]}"
      ]
     },
     "execution_count": 27,
     "metadata": {},
     "output_type": "execute_result"
    }
   ],
   "source": [
    "mobile.uninstall_app('Gmail')"
   ]
  },
  {
   "cell_type": "code",
   "execution_count": 28,
   "metadata": {},
   "outputs": [
    {
     "data": {
      "text/plain": [
       "{'marca': 'Samsung',\n",
       " 'SO': 'Android',\n",
       " 'version': '5.6',\n",
       " 'camara': {'frontal': {'resolution': '15MP'},\n",
       "  'back': [{'type': 'zoom', 'resolution': '25MP'},\n",
       "   {'type': 'macro', 'resolution': '30MP'}]},\n",
       " 'bateria': {'type': 'Lithium', 'MaxCharge': 4500, 'charge': 0.56},\n",
       " 'apps': [{'name': 'Whatsapp',\n",
       "   'version': '1.56.0',\n",
       "   'memoria_ocupada': '15Mb',\n",
       "   'desarrollador': 'Meta'}]}"
      ]
     },
     "execution_count": 28,
     "metadata": {},
     "output_type": "execute_result"
    }
   ],
   "source": [
    "mobile.phone"
   ]
  },
  {
   "cell_type": "code",
   "execution_count": 29,
   "metadata": {},
   "outputs": [
    {
     "data": {
      "text/plain": [
       "{'marca': 'Samsung',\n",
       " 'SO': 'Android',\n",
       " 'version': '5.6',\n",
       " 'camara': {'frontal': {'resolution': '15MP'},\n",
       "  'back': [{'type': 'zoom', 'resolution': '25MP'},\n",
       "   {'type': 'macro', 'resolution': '30MP'}]},\n",
       " 'bateria': {'type': 'Lithium', 'MaxCharge': 4500, 'charge': 0.5},\n",
       " 'apps': [{'name': 'Whatsapp',\n",
       "   'version': '1.56.0',\n",
       "   'memoria_ocupada': '15Mb',\n",
       "   'desarrollador': 'Meta'}]}"
      ]
     },
     "execution_count": 29,
     "metadata": {},
     "output_type": "execute_result"
    }
   ],
   "source": [
    "mobile.carga_mobile(0.50)"
   ]
  },
  {
   "cell_type": "code",
   "execution_count": 30,
   "metadata": {},
   "outputs": [
    {
     "data": {
      "text/plain": [
       "<__main__.MobilePhone at 0x23fbe91e520>"
      ]
     },
     "execution_count": 30,
     "metadata": {},
     "output_type": "execute_result"
    }
   ],
   "source": [
    "mobile"
   ]
  },
  {
   "cell_type": "code",
   "execution_count": 36,
   "metadata": {},
   "outputs": [
    {
     "data": {
      "text/plain": [
       "['phone',\n",
       " '__module__',\n",
       " '__doc__',\n",
       " '__init__',\n",
       " 'install_app',\n",
       " 'carga_mobile',\n",
       " '__dict__',\n",
       " '__weakref__',\n",
       " '__repr__',\n",
       " '__hash__',\n",
       " '__str__',\n",
       " '__getattribute__',\n",
       " '__setattr__',\n",
       " '__delattr__',\n",
       " '__lt__',\n",
       " '__le__',\n",
       " '__eq__',\n",
       " '__ne__',\n",
       " '__gt__',\n",
       " '__ge__',\n",
       " '__new__',\n",
       " '__reduce_ex__',\n",
       " '__reduce__',\n",
       " '__subclasshook__',\n",
       " '__init_subclass__',\n",
       " '__format__',\n",
       " '__sizeof__',\n",
       " '__dir__',\n",
       " '__class__']"
      ]
     },
     "execution_count": 36,
     "metadata": {},
     "output_type": "execute_result"
    }
   ],
   "source": [
    "phone.__dir__()"
   ]
  },
  {
   "cell_type": "code",
   "execution_count": 30,
   "metadata": {},
   "outputs": [],
   "source": [
    "linkedin = {\n",
    "    \"name\" : \"Linkedin\",\n",
    "    \"version\" : \"15.5\",\n",
    "    \"memoria_ocupada\" : \"50Mb\",\n",
    "    \"desarrollador\" : \"Linkedin\"\n",
    "}"
   ]
  },
  {
   "cell_type": "code",
   "execution_count": 31,
   "metadata": {},
   "outputs": [
    {
     "data": {
      "text/plain": [
       "{'marca': 'Samsung',\n",
       " 'SO': 'Android',\n",
       " 'version': '5.6',\n",
       " 'camara': {'frontal': {'resolution': '15MP'},\n",
       "  'back': [{'type': 'zoom', 'resolution': '25MP'},\n",
       "   {'type': 'macro', 'resolution': '30MP'}]},\n",
       " 'bateria': {'type': 'Lithium', 'MaxCharge': 4500, 'charge': 0},\n",
       " 'apps': [{'name': 'Whatsapp',\n",
       "   'version': '1.56.0',\n",
       "   'memoria_ocupada': '15Mb',\n",
       "   'desarrollador': 'Meta'},\n",
       "  {'name': 'Gmail',\n",
       "   'version': '5.0',\n",
       "   'memoria_ocupada': '5Mb',\n",
       "   'desarrollador': 'Alphabet'},\n",
       "  {'name': 'youtube',\n",
       "   'version': '10.20',\n",
       "   'memoria_ocupada': '50Mb',\n",
       "   'desarrollador': 'Alphabet'},\n",
       "  {'name': 'Linkedin',\n",
       "   'version': '15.5',\n",
       "   'memoria_ocupada': '50Mb',\n",
       "   'desarrollador': 'Linkedin'}]}"
      ]
     },
     "execution_count": 31,
     "metadata": {},
     "output_type": "execute_result"
    }
   ],
   "source": [
    "phone.install_app(mobile, linkedin)"
   ]
  },
  {
   "cell_type": "code",
   "execution_count": 43,
   "metadata": {},
   "outputs": [
    {
     "data": {
      "text/plain": [
       "{'marca': 'Samsung',\n",
       " 'SO': 'Android',\n",
       " 'version': '5.6',\n",
       " 'camara': {'frontal': {'resolution': '15MP'},\n",
       "  'back': [{'type': 'zoom', 'resolution': '25MP'},\n",
       "   {'type': 'macro', 'resolution': '30MP'}]},\n",
       " 'bateria': {'type': 'Lithium', 'MaxCharge': 4500, 'charge': 1},\n",
       " 'apps': [{'name': 'Whatsapp',\n",
       "   'version': '1.56.0',\n",
       "   'memoria_ocupada': '15Mb',\n",
       "   'desarrollador': 'Meta'},\n",
       "  {'name': 'Gmail',\n",
       "   'version': '5.0',\n",
       "   'memoria_ocupada': '5Mb',\n",
       "   'desarrollador': 'Alphabet'},\n",
       "  {'name': 'youtube',\n",
       "   'version': '10.20',\n",
       "   'memoria_ocupada': '50Mb',\n",
       "   'desarrollador': 'Alphabet'},\n",
       "  {'name': 'Linkedin',\n",
       "   'version': '15.5',\n",
       "   'memoria_ocupada': '50Mb',\n",
       "   'desarrollador': 'Linkedin'}]}"
      ]
     },
     "execution_count": 43,
     "metadata": {},
     "output_type": "execute_result"
    }
   ],
   "source": [
    "phone.carga_mobile(perc_carga=1)"
   ]
  },
  {
   "cell_type": "code",
   "execution_count": 50,
   "metadata": {},
   "outputs": [
    {
     "data": {
      "text/plain": [
       "1"
      ]
     },
     "execution_count": 50,
     "metadata": {},
     "output_type": "execute_result"
    }
   ],
   "source": [
    "phone.perc_carga"
   ]
  },
  {
   "cell_type": "code",
   "execution_count": 46,
   "metadata": {},
   "outputs": [
    {
     "data": {
      "text/plain": [
       "{'marca': 'Samsung',\n",
       " 'SO': 'Android',\n",
       " 'version': '5.6',\n",
       " 'camara': {'frontal': {'resolution': '15MP'},\n",
       "  'back': [{'type': 'zoom', 'resolution': '25MP'},\n",
       "   {'type': 'macro', 'resolution': '30MP'}]},\n",
       " 'bateria': {'type': 'Lithium', 'MaxCharge': 4500, 'charge': 1},\n",
       " 'apps': [{'name': 'Whatsapp',\n",
       "   'version': '1.56.0',\n",
       "   'memoria_ocupada': '15Mb',\n",
       "   'desarrollador': 'Meta'},\n",
       "  {'name': 'Gmail',\n",
       "   'version': '5.0',\n",
       "   'memoria_ocupada': '5Mb',\n",
       "   'desarrollador': 'Alphabet'},\n",
       "  {'name': 'youtube',\n",
       "   'version': '10.20',\n",
       "   'memoria_ocupada': '50Mb',\n",
       "   'desarrollador': 'Alphabet'},\n",
       "  {'name': 'Linkedin',\n",
       "   'version': '15.5',\n",
       "   'memoria_ocupada': '50Mb',\n",
       "   'desarrollador': 'Linkedin'}]}"
      ]
     },
     "execution_count": 46,
     "metadata": {},
     "output_type": "execute_result"
    }
   ],
   "source": [
    "phone.phone"
   ]
  },
  {
   "cell_type": "code",
   "execution_count": null,
   "metadata": {},
   "outputs": [],
   "source": []
  },
  {
   "cell_type": "markdown",
   "metadata": {},
   "source": [
    "### Otra forma de crear clases con el decorador @dataclass\n",
    "\n",
    "https://docs.python.org/3/library/dataclasses.html#class-variables"
   ]
  },
  {
   "cell_type": "code",
   "execution_count": 55,
   "metadata": {},
   "outputs": [],
   "source": [
    "from dataclasses import dataclass\n",
    "@dataclass\n",
    "class Perro:\n",
    "    raza: str\n",
    "    nombre: str\n",
    "    edad: int"
   ]
  },
  {
   "cell_type": "code",
   "execution_count": 58,
   "metadata": {},
   "outputs": [],
   "source": [
    "mike = Perro(\"bulldog\", \"Mike\", 10)"
   ]
  },
  {
   "cell_type": "code",
   "execution_count": 60,
   "metadata": {},
   "outputs": [
    {
     "data": {
      "text/plain": [
       "'bulldog'"
      ]
     },
     "execution_count": 60,
     "metadata": {},
     "output_type": "execute_result"
    }
   ],
   "source": [
    "mike.raza"
   ]
  },
  {
   "cell_type": "code",
   "execution_count": null,
   "metadata": {},
   "outputs": [],
   "source": []
  }
 ],
 "metadata": {
  "kernelspec": {
   "display_name": "Python 3.9.5 ('the_bridge_22')",
   "language": "python",
   "name": "python3"
  },
  "language_info": {
   "codemirror_mode": {
    "name": "ipython",
    "version": 3
   },
   "file_extension": ".py",
   "mimetype": "text/x-python",
   "name": "python",
   "nbconvert_exporter": "python",
   "pygments_lexer": "ipython3",
   "version": "3.9.5"
  },
  "orig_nbformat": 4,
  "vscode": {
   "interpreter": {
    "hash": "1c79a6bee0cc3880bade9bffe4f2ea0bcfc562fd81915ef930f986f3657b2ce7"
   }
  }
 },
 "nbformat": 4,
 "nbformat_minor": 2
}
