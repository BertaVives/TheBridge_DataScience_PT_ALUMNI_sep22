{
 "cells": [
  {
   "cell_type": "markdown",
   "metadata": {},
   "source": [
    "# 2. Tipos de datos avanzados: el módulo `datetime`\n"
   ]
  },
  {
   "cell_type": "markdown",
   "metadata": {},
   "source": [
    "Ya conocemos los tipos de datos básicos más habituales en Python: [`int`](https://docs.python.org/3.8/library/functions.html#int) y [`float`](https://docs.python.org/3.8/library/functions.html#float), que nos permiten representar valores numéricos; [`bool`](https://docs.python.org/3.8/library/functions.html#bool), para representar valores booleanos; y [`str`](https://docs.python.org/3.8/library/stdtypes.html#text-sequence-type-str), para representar cadenas de caracteres. También hemos utilizado tipos compuestos, tales como [`list`](https://docs.python.org/3.8/library/stdtypes.html#list), [`tuple`](https://docs.python.org/3.8/library/stdtypes.html#tupla), [`dict`](https://docs.python.org/3.8/library/stdtypes.html#dict) y [`set`](https://docs.python.org/3.8/library/stdtypes.html#set). En esta sección, presentaremos otras clases que permiten representar tipos más complejos, como fechas y tiempos.\n",
    "\n",
    "El módulo [`datetime`](https://docs.python.org/3.8/library/datetime.html) de Python ofrece herramientas para trabajar con fechas y horas. Así, este módulo nos provee de herramientas para afrontar las problemáticas más habituales de la gestión de fechas y horas, como son la representación del tiempo en cadenas de caracteres con formatos diferentes, cálculos relativos a calendarios, cálculo de incrementos de tiempo, conversiones entre unidades de tiempo, gestión de husos horarios, etc. Todo esto facilita enormemente el trabajo de tratar con conjuntos de datos que contienen fechas y horas.\n",
    "\n",
    "A modo de ejemplo, intentad pensar cómo implementaríais, con las librerías de Python que hemos presentado hasta ahora, pequeños programas que permitieran calcular:\n",
    "\n",
    "1. A partir de una fecha concreta, el día de la semana (lunes, martes, ..., domingo) que era, es o será ese día.\n",
    "\n",
    "2. Si los valores \"2019-11-15\" y \"Friday, November 15, 2019\" corresponden o no a la misma fecha.\n",
    "\n",
    "3. Qué día será dentro de 30 días.\n",
    "\n",
    "4. Si el año 2200 será o no un año bisiesto.\n",
    "\n",
    "Todo este tipo de problemas son fácilmente implementables con las funciones que proporciona el módulo [`datetime`](https://docs.python.org/3.8/library/datetime.html). Las clases principales de este módulo son [`date`](https://docs.python.org/3.8/library/datetime.html#date-objects), que permite trabajar con fechas; [`time`](https://docs.python.org/3.8/library/datetime.html#time-objects), con tiempos; [`datetime`](https://docs.python.org/3.8/library/datetime.html#datetime-objects), con fechas completas que incluyen también el tiempo; y [`timedelta`](https://docs.python.org/3.8/library/datetime.html#timedelta-objects), que procesa incrementos de tiempo.\n",
    "\n",
    "## 2.1. Creación de objetos que representan fechas y horas\n",
    "\n",
    "Podemos crear objetos que representan fechas, horas o fechas con horas especificando las diferentes componentes de cada estructura manualmente. El ejemplo siguiente muestra cómo crear una fecha, una hora y una fecha con hora utilizando esta estrategia:\n"
   ]
  },
  {
   "cell_type": "code",
   "execution_count": null,
   "metadata": {},
   "outputs": [
    {
     "name": "stdout",
     "output_type": "stream",
     "text": [
      "2017-10-01\n",
      "17:14:42\n",
      "2017-10-01 17:14:42\n"
     ]
    }
   ],
   "source": [
    "import datetime\n",
    "\n",
    "# Creamos un objeto date que representa una fecha concreta\n",
    "a_date = datetime.date(year=2017, month=10, day=1)\n",
    "# De manera más concisa, podríamos hacer:\n",
    "# a_date = datetime.date(2017, 1, 11)\n",
    "print(a_date)\n",
    "\n",
    "# Creamos un objeto time que representa una hora\n",
    "a_time = datetime.time(hour=17, minute=14, second=42)\n",
    "# De manera más concisa, podríamos hacer:\n",
    "# a_time = datetime.time(17, 14, 42)\n",
    "print(a_time)\n",
    "\n",
    "# Creamos un objeto datetime, que representa una fecha con tiempo\n",
    "a_datetime = datetime.datetime(year=2017, month=10, day=1,\n",
    "                               hour=17, minute=14, second=42)\n",
    "# De manera más concisa, podríamos hacer:\n",
    "# a_datetime = datetime.datetime(2017, 1, 11, 17, 14, 42)\n",
    "print(a_datetime)"
   ]
  },
  {
   "cell_type": "markdown",
   "metadata": {},
   "source": [
    "Ahora bien, es muy habitual encontrar conjuntos de datos en los que las fechas y horas no se encuentran desglosadas en año, mes, día, hora, minuto y segundo, sino que estas se representan como cadenas de caracteres, que pueden seguir convenciones diferentes a la hora de expresar las fechas y las horas. Así, tendremos que poder crear los objetos a partir de cadenas de caracteres y necesitaremos algún lenguaje para poder definir el formato de estas cadenas.\n",
    "\n",
    "Las clases [`datetime`](https://docs.python.org/3.8/library/datetime.html), [`date`](https://docs.python.org/3.8/library/datetime.html#date-objects) y [`time`](https://docs.python.org/3.8/library/datetime.html#time-objects) disponen del método [`strptime`](https://docs.python.org/3.8/library/datetime.html#datetime.datetime.strptime), que permite crear un objeto [`datetime`](https://docs.python.org/3.8/library/datetime.html), [`date`](https://docs.python.org/3.8/library/datetime.html#date-objects) y [`time`](https://docs.python.org/3.8/library/datetime.html#time-objects) a partir de una cadena de caracteres con la fecha y/o hora y de otra cadena de caracteres que informa del formato. A continuación se expone cómo crear un objeto [`datetime`](https://docs.python.org/3.8/library/datetime.html) a partir de una cadena de caracteres. Toda esta funcionalidad puede ser utilizada también de manera análoga para crear objetos [`date`](https://docs.python.org/3.8/library/datetime.html#date-objects) y [`time`](https://docs.python.org/3.8/library/datetime.html#time-objects).\n",
    "\n",
    "Así pues, podemos crear un objeto [`datetime`](https://docs.python.org/3.8/library/datetime.html) a partir de la cadena de caracteres \"2017-10-01 17:14:42\" de la manera siguiente:\n"
   ]
  },
  {
   "cell_type": "code",
   "execution_count": null,
   "metadata": {},
   "outputs": [
    {
     "name": "stdout",
     "output_type": "stream",
     "text": [
      "2017-10-01 17:14:42\n"
     ]
    },
    {
     "data": {
      "text/plain": [
       "True"
      ]
     },
     "metadata": {},
     "output_type": "display_data"
    }
   ],
   "source": [
    "str_date = \"2017-10-01 17:14:42\"\n",
    "a_datetime_from_str = datetime.datetime.strptime(str_date, \"%Y-%m-%d %H:%M:%S\")\n",
    "print(a_datetime_from_str)\n",
    "a_datetime == a_datetime_from_str"
   ]
  },
  {
   "cell_type": "markdown",
   "metadata": {},
   "source": [
    "El primer parámetro de la llamada, \"2017-10-01 17:14:42\", informa de la fecha que hay que representar, mientras que el segundo parámetro, \"\"%Y-%m-%d %H:%M:%S\", informa del formato que utiliza la primera cadena. Para representar el formato, se utilizan unos comodines, indicados con el símbolo `%`, y otros caracteres no especiales (como el guion, `-` o los dos puntos,`:`). Así, en este caso, informamos que la cadena que representa la fecha y el tiempo está formada por:\n",
    "* el año representado usando cuatro dígitos (`%Y`),\n",
    "* un guion que separa el año del mes (`-`),\n",
    "* el mes representado utilizando dos dígitos (`%m`),\n",
    "* un guion que separa el mes del día (`-`),\n",
    "* el día representado usando dos dígitos (`%d`),\n",
    "* un espacio separando la fecha de la hora (``),\n",
    "* la hora representada en formato 24 horas y utilizando dos dígitos ( `%H`),\n",
    "* los dos puntos separando la hora de los minutos (`:`),\n",
    "* los minutos representados con dos dígitos (`%M`),\n",
    "* los dos puntos separando los minutos de los segundos (`:`), y, finalmente, \n",
    "* los segundos representados con dos dígitos (`%S`).\n",
    "\n",
    "Es importante notar que la especificación del formato nos permite evitar cualquier tipo de ambigüedad a la hora de interpretar la fecha. Así, por ejemplo, podemos saber que se quiere representar el día 1 de octubre y no el día 10 de enero. Podríamos cambiar esta interpretación, modificando la cadena que expresa el formato, de manera que el mes y el día intercambiaran el orden:\n"
   ]
  },
  {
   "cell_type": "code",
   "execution_count": null,
   "metadata": {},
   "outputs": [
    {
     "name": "stdout",
     "output_type": "stream",
     "text": [
      "2017-01-10 17:14:42\n"
     ]
    }
   ],
   "source": [
    "a_date_from_str = datetime.datetime.strptime(str_date, \"%Y-%d-%m %H:%M:%S\")\n",
    "print(a_date_from_str)"
   ]
  },
  {
   "cell_type": "markdown",
   "metadata": {},
   "source": [
    "Tened en cuenta que, en el ejemplo anterior, la cadena que representa la fecha es exactamente la misma, pero cambiando la especificación del formato, hemos hecho que se interprete de manera diferente, indicando ahora el 10 de enero.\n",
    "\n",
    "La cadena de caracteres que hemos utilizado siempre utiliza el formato completo para expresar cualquier unidad de tiempo, anteponiendo ceros si es necesario. Así, para representar el primer día del mes, utiliza dos dígitos, `01`. Existen comodines para representar también las diferentes unidades sin anteponer el cero, así como para representar años utilizando solo dos dígitos, meses utilizando el nombre del mes en lugar del número, horas en formato AM/PM, y ¡muchas otras variantes! Podéis encontrar la especificación completa del formato en la [documentación oficial del módulo `datetime`](https://docs.python.org/3/library/datetime.html#strftime-and-strptime-format-codes). A continuación, se exponen algunos ejemplos adicionales:\n"
   ]
  },
  {
   "cell_type": "code",
   "execution_count": null,
   "metadata": {},
   "outputs": [
    {
     "name": "stdout",
     "output_type": "stream",
     "text": [
      "2017-10-01 17:14:42\n"
     ]
    }
   ],
   "source": [
    "# Cambiando el formato de los separadores\n",
    "a_date_from_str = datetime.datetime.strptime(\n",
    "    \"2017/10/01 17*14*42\", \"%Y/%m/%d %H*%M*%S\")\n",
    "print(a_date_from_str)"
   ]
  },
  {
   "cell_type": "code",
   "execution_count": null,
   "metadata": {},
   "outputs": [
    {
     "name": "stdout",
     "output_type": "stream",
     "text": [
      "2017-10-01 17:14:42\n",
      "1995-10-01 17:14:42\n"
     ]
    }
   ],
   "source": [
    "# Expresando el año con dos dígitos\n",
    "a_date_from_str = datetime.datetime.strptime(\n",
    "    \"17-10-01 17:14:42\", \"%y-%m-%d %H:%M:%S\")\n",
    "print(a_date_from_str)\n",
    "a_date_from_str = datetime.datetime.strptime(\n",
    "    \"95-10-01 17:14:42\", \"%y-%m-%d %H:%M:%S\")\n",
    "print(a_date_from_str)"
   ]
  },
  {
   "cell_type": "markdown",
   "metadata": {},
   "source": [
    "Notad cómo, en el caso anterior, Python interpreta el siglo en función de los últimos dos dígitos del año.\n"
   ]
  },
  {
   "cell_type": "code",
   "execution_count": null,
   "metadata": {},
   "outputs": [
    {
     "name": "stdout",
     "output_type": "stream",
     "text": [
      "2017-10-01 17:14:42\n"
     ]
    }
   ],
   "source": [
    "# Incluyendo el día de la semana y expresando el mes con el nombre\n",
    "a_date_from_str = datetime.datetime.strptime(\n",
    "    'Sunday, 01 October 2017 17:14:42', \"%A, %d %B %Y %H:%M:%S\")\n",
    "print(a_date_from_str)"
   ]
  },
  {
   "cell_type": "code",
   "execution_count": null,
   "metadata": {},
   "outputs": [
    {
     "name": "stdout",
     "output_type": "stream",
     "text": [
      "2017-10-01 17:14:42\n"
     ]
    }
   ],
   "source": [
    "# Con el día de la semana y el mes abreviados\n",
    "a_date_from_str = datetime.datetime.strptime(\n",
    "    'Sun, 01 Oct 2017 17:14:42', \"%a, %d %b %Y %H:%M:%S\")\n",
    "print(a_date_from_str)"
   ]
  },
  {
   "cell_type": "markdown",
   "metadata": {},
   "source": [
    "En informática, también se puede utilizar el *unix time stamp* como manera de medir el tiempo. El *unix time stamp* representa el tiempo como un entero, que cuenta los segundos transcurridos desde el 1 de enero de 1970. Podemos crear objetos que representan una fecha a partir de un *unix time stamp* con el método [`fromtimestamp`](https://docs.python.org/3.8/library/datetime.html#datetime.date.fromtimestamp):\n"
   ]
  },
  {
   "cell_type": "code",
   "execution_count": null,
   "metadata": {},
   "outputs": [
    {
     "name": "stdout",
     "output_type": "stream",
     "text": [
      "2019-11-15\n"
     ]
    }
   ],
   "source": [
    "a_date_from_ts = datetime.date.fromtimestamp(1573840426)\n",
    "print(a_date_from_ts)"
   ]
  },
  {
   "cell_type": "markdown",
   "metadata": {},
   "source": [
    "A menudo también nos interesará utilizar la fecha o tiempo actual en nuestras aplicaciones. Podemos crear objetos que representen el momento actual por medio de las funciones [`today`](https://docs.python.org/3.8/library/datetime.html#datetime.datetime.today) y [`now`]( https://docs.python.org/3.8/library/datetime.html#datetime.datetime.now):\n"
   ]
  },
  {
   "cell_type": "code",
   "execution_count": null,
   "metadata": {},
   "outputs": [
    {
     "name": "stdout",
     "output_type": "stream",
     "text": [
      "2021-07-01\n",
      "2021-07-01 15:24:48.929167\n"
     ]
    }
   ],
   "source": [
    "# Creamos un objeto con la fecha actual\n",
    "now_date = datetime.date.today()\n",
    "print(now_date)\n",
    "\n",
    "# Creamos un objeto con la fecha y hora actual\n",
    "now_datetime = datetime.datetime.now()\n",
    "print(now_datetime)"
   ]
  },
  {
   "cell_type": "markdown",
   "metadata": {},
   "source": [
    "## 2.2. Mostrando la fecha y el tiempo en diferentes formatos\n"
   ]
  },
  {
   "cell_type": "markdown",
   "metadata": {},
   "source": [
    "Hasta ahora hemos visto cómo el método [`strptime`](https://docs.python.org/3.8/library/datetime.html#datetime.datetime.strptime) permite crear objetos [`datetime`](https://docs.python.org/3.8/library/datetime.html), [`date`](https://docs.python.org/3.8/library/datetime.html#date-objects) y [`time`](https://docs.python.org/3.8/library/datetime.html#time-objects) a partir de una cadena de caracteres. De manera análoga, el método [`strftime`](https://docs.python.org/3.8/library/datetime.html#datetime.datetime.strftime) permite obtener una cadena de caracteres que representa una fecha, hora o fecha con hora en un formato concreto, que se especifica utilizando la misma sintaxis que [`strptime`](https://docs.python.org/3.8/library/datetime.html#datetime.datetime.strptime).\n"
   ]
  },
  {
   "cell_type": "code",
   "execution_count": null,
   "metadata": {},
   "outputs": [
    {
     "name": "stdout",
     "output_type": "stream",
     "text": [
      "2021-07-01 15:24:48\n",
      "2021-01-07 15:24:48\n",
      "2021/07/01 15*24*48\n",
      "21-07-01 15:24:48\n",
      "Thursday, 01 July 2021 15:24:48\n",
      "Thu, 01 Jul 2021 15:24:48\n"
     ]
    }
   ],
   "source": [
    "# Creamos un objeto con la fecha y hora actual\n",
    "now_datetime = datetime.datetime.now()\n",
    "\n",
    "# Mostramos la fecha y hora utilizando 4 dígitos para los años, y 2\n",
    "# para el mes, día, hora, minuto y segundos\n",
    "print(now_datetime.strftime(\"%Y-%m-%d %H:%M:%S\"))\n",
    "\n",
    "# Invertimos el orden del día y el mes\n",
    "print(now_datetime.strftime(\"%Y-%d-%m %H:%M:%S\"))\n",
    "\n",
    "# Cambiamos el formato de los separadores\n",
    "print(now_datetime.strftime(\"%Y/%m/%d %H*%M*%S\"))\n",
    "\n",
    "# Expresando el año con dos dígitos\n",
    "print(now_datetime.strftime(\"%y-%m-%d %H:%M:%S\"))\n",
    "\n",
    "# Incluyendo el día de la semana y expresando el mes con el nombre\n",
    "print(now_datetime.strftime(\"%A, %d %B %Y %H:%M:%S\"))\n",
    "\n",
    "# Con el día de la semana y el mes abreviados\n",
    "print(now_datetime.strftime(\"%a, %d %b %Y %H:%M:%S\"))"
   ]
  },
  {
   "cell_type": "markdown",
   "metadata": {},
   "source": [
    "Además de utilizar [`strftime`](https://docs.python.org/3.8/library/datetime.html#datetime.datetime.strftime) para obtener cadenas de caracteres que representen fechas, también nos puede ser de utilidad la función [`isoformat`](https://docs.python.org/3.8/library/datetime.html#datetime.date.isoformat), que ya devuelve la cadena en formato ISO 8601 (año - mes - día, utilizando 4 dígitos para el año y 2 para el día y mes), sin necesidad de especificarlo manualmente:"
   ]
  },
  {
   "cell_type": "code",
   "execution_count": null,
   "metadata": {},
   "outputs": [
    {
     "data": {
      "text/plain": [
       "'2021-07-01T15:24:48.942666'"
      ]
     },
     "metadata": {},
     "output_type": "display_data"
    }
   ],
   "source": [
    "# Mostramos la fecha y hora en formato ISO 8601\n",
    "now_datetime.isoformat()"
   ]
  },
  {
   "cell_type": "markdown",
   "metadata": {},
   "source": [
    "## 2.3. Trabajando con fechas y tiempos\n",
    "\n",
    "Ya hemos visto una de las funcionalidades de los objetos que representan fechas y tiempo, que es la de interpretar y generar cadenas de caracteres que representan fechas en diferentes formatos. A continuación, veremos otras operaciones habituales sobre estos objetos.\n",
    "\n",
    "Podemos acceder a las diferentes componentes que conforman una fecha con hora consultando los atributos de los objetos [`datetime`](https://docs.python.org/3.8/library/datetime.html), [`date`](https://docs.python.org/3.8/library/datetime.html#date-objects) y [`time`](https://docs.python.org/3.8/library/datetime.html#time-objects). Nótese que, en este caso, el tipo de datos de los valores a los que accedemos es un entero, en vez de una cadena de caracteres como obteníamos con [`strftime`](https://docs.python.org/3.8/library/datetime.html#datetime.datetime.strftime):\n"
   ]
  },
  {
   "cell_type": "code",
   "execution_count": null,
   "metadata": {
    "scrolled": true
   },
   "outputs": [
    {
     "name": "stdout",
     "output_type": "stream",
     "text": [
      "Year is 2021 and is an <class 'int'>\n",
      "Month is 7 and is an <class 'int'>\n",
      "Day is 1 and is an <class 'int'>\n",
      "Hour is 15 and is an <class 'int'>\n",
      "Minute is 24 and is an <class 'int'>\n",
      "Second is 48 and is an <class 'int'>\n"
     ]
    }
   ],
   "source": [
    "# Accedemos a las diferentes componentes de una fecha con hora\n",
    "y = now_datetime.year\n",
    "mo = now_datetime.month\n",
    "d = now_datetime.day\n",
    "h = now_datetime.hour\n",
    "mi = now_datetime.minute\n",
    "s = now_datetime.second\n",
    "\n",
    "print(\"Year is {} and is an {}\".format(y, type(y)))\n",
    "print(\"Month is {} and is an {}\".format(mo, type(mo)))\n",
    "print(\"Day is {} and is an {}\".format(d, type(d)))\n",
    "print(\"Hour is {} and is an {}\".format(h, type(h)))\n",
    "print(\"Minute is {} and is an {}\".format(mi, type(mi)))\n",
    "print(\"Second is {} and is an {}\".format(s, type(s)))"
   ]
  },
  {
   "cell_type": "markdown",
   "metadata": {},
   "source": [
    "Más allá del acceso a las componentes que conforman la fecha, también podemos acceder a otros datos de esta, como a qué semana del año pertenece o a qué día de la semana corresponde:\n"
   ]
  },
  {
   "cell_type": "code",
   "execution_count": null,
   "metadata": {},
   "outputs": [
    {
     "name": "stdout",
     "output_type": "stream",
     "text": [
      "The week is: 26\n",
      "The day is: 4\n"
     ]
    }
   ],
   "source": [
    "# Obtenemos una tupla de 3 valores: (año ISO, núm. de semana ISO,\n",
    "# día de la semana ISO)\n",
    "iso_cal = now_datetime.isocalendar()\n",
    "print(\"The week is: {}\".format(iso_cal[1]))\n",
    "print(\"The day is: {}\".format(iso_cal[2]))"
   ]
  },
  {
   "cell_type": "code",
   "execution_count": null,
   "metadata": {},
   "outputs": [
    {
     "name": "stdout",
     "output_type": "stream",
     "text": [
      "The day is: 3\n"
     ]
    }
   ],
   "source": [
    "# También podemos obtener únicamente el día de la semana con weekday()\n",
    "print(\"The day is: {}\".format(now_datetime.weekday()))"
   ]
  },
  {
   "cell_type": "markdown",
   "metadata": {},
   "source": [
    "Las dos alternativas utilizan convenciones diferentes para referirse a los días de la semana: [`weekday`](https://docs.python.org/3.8/library/datetime.html#datetime.datetime.weekday) considera que el lunes es un 0 y el domingo es un 6, mientras que [`isocalendar`](https://docs.python.org/3.8/library/datetime.html#datetime.datetime.isocalendar) representa los lunes con un 1 y los domingos con un 7.\n",
    "\n",
    "Para convertir el valor numérico devuelto por [`weekday`](https://docs.python.org/3.8/library/datetime.html#datetime.datetime.weekday) a una cadena de caracteres con el nombre del día de la semana, podemos utilizar el módulo [`calendar`](https://docs.python.org/3.8/library/calendar.html):\n"
   ]
  },
  {
   "cell_type": "code",
   "execution_count": null,
   "metadata": {},
   "outputs": [
    {
     "name": "stdout",
     "output_type": "stream",
     "text": [
      "Day of Week:  Thursday\n",
      "Short day name: Thu\n",
      "Full day name: Thursday\n"
     ]
    }
   ],
   "source": [
    "# Importamos el módulo calendar\n",
    "import calendar\n",
    "\n",
    "# Obtenemos el nombre del día\n",
    "print('Day of Week: ', calendar.day_name[now_datetime.weekday()])\n",
    "\n",
    "# Alternativamente, también hubiéramos podido utilizar strftime para obtener el\n",
    "# mismo dato\n",
    "print(now_datetime.strftime(\"Short day name: %a\"))\n",
    "print(now_datetime.strftime(\"Full day name: %A\"))"
   ]
  },
  {
   "cell_type": "markdown",
   "metadata": {},
   "source": [
    "La gestión del idioma en el que se muestran los nombres de los días de la semana o los meses se configura con el módulo [`locale`](https://docs.python.org/3.8/library/locale.html). Así, por ejemplo, si queremos obtener el nombre del día de la semana en inglés, haríamos:\n"
   ]
  },
  {
   "cell_type": "code",
   "execution_count": null,
   "metadata": {},
   "outputs": [
    {
     "name": "stdout",
     "output_type": "stream",
     "text": [
      "Day of Week: Thursday\n"
     ]
    }
   ],
   "source": [
    "# Importamos el módulo locale\n",
    "import locale\n",
    "\n",
    "# Especificamos el idioma inglés\n",
    "locale.setlocale(locale.LC_ALL, 'en_US.UTF-8')\n",
    "\n",
    "# Mostramos el nombre del día\n",
    "print('Day of Week:', calendar.day_name[now_datetime.weekday()])"
   ]
  },
  {
   "cell_type": "markdown",
   "metadata": {},
   "source": [
    "Otra de las características que implementan los objetos de representación de fechas y horas que trabajamos en esta unidad es la posibilidad de compararlos:\n"
   ]
  },
  {
   "cell_type": "code",
   "execution_count": null,
   "metadata": {},
   "outputs": [
    {
     "name": "stdout",
     "output_type": "stream",
     "text": [
      "now_1_dt == now_2_dt: False\n",
      "now_1_dt < now_2_dt: True\n",
      "now_1_dt.date() == now_2_dt.date(): True\n"
     ]
    }
   ],
   "source": [
    "# Importamos la función sleep, que permite introducir esperas en la ejecución\n",
    "# de código\n",
    "from time import sleep\n",
    "\n",
    "# Obtenemos la fecha y hora actuales\n",
    "now_1_dt = datetime.datetime.now()\n",
    "# Esperamos 3 segundos\n",
    "sleep(3)\n",
    "# Obtenemos la fecha y hora actuales (después de la espera de 3 segundos)\n",
    "now_2_dt = datetime.datetime.now()\n",
    "\n",
    "# Comparamos las dos fechas\n",
    "print('now_1_dt == now_2_dt: {}'.format(now_1_dt == now_2_dt))\n",
    "print('now_1_dt < now_2_dt: {}'.format(now_1_dt < now_2_dt))\n",
    "print('now_1_dt.date() == now_2_dt.date(): {}'.format(\n",
    "    now_1_dt.date() == now_2_dt.date()))"
   ]
  },
  {
   "cell_type": "markdown",
   "metadata": {},
   "source": [
    "Los dos valores de fecha y hora no son iguales (ya que hay tres segundos de diferencia) pero, en cambio, el día sí es el mismo (a menos que ejecutemos el código justo en el momento en el que cambiamos de día) .\n"
   ]
  },
  {
   "cell_type": "markdown",
   "metadata": {},
   "source": [
    "## 2.4. Incrementos de tiempo\n",
    "\n",
    "Otra de las clases que incorpora el módulo [`datetime`](https://docs.python.org/3.8/library/datetime.html) es [` timedelta`](https://docs.python.org/3.8/library/datetime.html#timedelta-objects). Esta clase nos permite representar incrementos de tiempo, así como manipular fechas y horas utilizando estos incrementos.\n",
    "\n",
    "Fijémonos, por ejemplo, en las dos fechas que hemos creado anteriormente con diferencia de tres segundos. Hemos visto que las podíamos comparar para saber cuál es anterior o si son iguales. Ahora bien, ¿cómo podríamos saber el tiempo que ha transcurrido entre una y la otra? Podríamos calcularlo manualmente a partir de ir recuperando las diferentes componentes de la fecha con hora, pero la clase [`timedelta`](https://docs.python.org/3.8/library/datetime.html#timedelta-objects) ya implementa esta funcionalidad:\n"
   ]
  },
  {
   "cell_type": "code",
   "execution_count": null,
   "metadata": {},
   "outputs": [
    {
     "name": "stdout",
     "output_type": "stream",
     "text": [
      "Datetimes differ in: 0:00:03.003275 seconds\n",
      "Delta is: <class 'datetime.timedelta'>\n"
     ]
    }
   ],
   "source": [
    "# Calculamos el tiempo transcurrido y el mostramos\n",
    "delta = now_2_dt - now_1_dt\n",
    "print(\"Datetimes differ in: {} seconds\".format(delta))\n",
    "print(\"Delta is: {}\".format(type(delta)))"
   ]
  },
  {
   "cell_type": "markdown",
   "metadata": {},
   "source": [
    "El resultado de restar dos objetos [`datetime`](https://docs.python.org/3.8/library/datetime.html#datetime-objects) es un objeto [`timedelta`](https://docs.python.org/3.8/library/datetime.html#timedelta-objects) que representa el tiempo transcurrido. A continuación, veremos algunos ejemplos más de cómo se usan objetos [`timedelta`](https://docs.python.org/3.8/library/datetime.html#timedelta-objects) para representar incrementos de tiempo:\n"
   ]
  },
  {
   "cell_type": "code",
   "execution_count": null,
   "metadata": {},
   "outputs": [
    {
     "name": "stdout",
     "output_type": "stream",
     "text": [
      "Timedelta between dt_1 and dt_2: 61 days, 0:00:00\n",
      "Timedelta between dt_1 and dt_3: 14 days, 3:02:00\n",
      "Timedelta between dt_2 and dt_3: -47 days, 3:02:00\n"
     ]
    }
   ],
   "source": [
    "# Creamos tres datetimes\n",
    "dt_1 = datetime.datetime(year=2017, month=10, day=1,\n",
    "                         hour=17, minute=14, second=42)\n",
    "\n",
    "dt_2 = datetime.datetime(year=2017, month=12, day=1,\n",
    "                         hour=17, minute=14, second=42)\n",
    "\n",
    "dt_3 = datetime.datetime(year=2017, month=10, day=15,\n",
    "                         hour=20, minute=16, second=42)\n",
    "\n",
    "# Creamos timedeltas con las diferencias\n",
    "tm_1 = dt_2 - dt_1\n",
    "tm_2 = dt_3 - dt_1\n",
    "tm_3 = dt_3 - dt_2\n",
    "print(\"Timedelta between dt_1 and dt_2: {}\".format(tm_1))\n",
    "print(\"Timedelta between dt_1 and dt_3: {}\".format(tm_2))\n",
    "print(\"Timedelta between dt_2 and dt_3: {}\".format(tm_3))"
   ]
  },
  {
   "cell_type": "markdown",
   "metadata": {},
   "source": [
    "Fijaos cómo al mostrar por pantalla el valor de un [`timedelta`](https://docs.python.org/3.8/library/datetime.html#timedelta-objects) obtenemos una cadena de caracteres anotada (se incluye el número de días y la palabra `days`, seguida de la hora informada con hora:minutos:segundos).\n",
    "\n",
    "Si lo preferimos, también podemos obtener el número de segundos que representa el [`timedelta`](https://docs.python.org/3.8/library/datetime.html#timedelta-objects) como valor numérico (en este caso, un [`float`](https://docs.python.org/3.8/library/functions.html#float)):\n"
   ]
  },
  {
   "cell_type": "code",
   "execution_count": null,
   "metadata": {},
   "outputs": [
    {
     "name": "stdout",
     "output_type": "stream",
     "text": [
      "Seconds elapsed: 5270400.0\n",
      "Result is: <class 'float'>\n"
     ]
    }
   ],
   "source": [
    "# Mostramos el número de segundos del tm_1\n",
    "ts = tm_1.total_seconds()\n",
    "print(\"Seconds elapsed: {}\".format(ts))\n",
    "print(\"Result is: {}\".format(type(ts)))"
   ]
  },
  {
   "cell_type": "markdown",
   "metadata": {},
   "source": [
    "También podemos construir un objeto [`timedelta`](https://docs.python.org/3.8/library/datetime.html#timedelta-objects) para obtener fechas pasadas o futuras a partir de una fecha de referencia:\n"
   ]
  },
  {
   "cell_type": "code",
   "execution_count": null,
   "metadata": {},
   "outputs": [
    {
     "name": "stdout",
     "output_type": "stream",
     "text": [
      "The date in three weeks will be: 2021-07-22 15:24:49.007537\n",
      "The date three weeks ago was: 2021-06-10 15:24:49.007537\n"
     ]
    }
   ],
   "source": [
    "# Creamos un timedelta de 3 semanas\n",
    "d = datetime.timedelta(weeks=3)\n",
    "\n",
    "# Calculamos que día será dentro de tres semanas\n",
    "future_3_weeks = now_1_dt + d\n",
    "print(\"The date in three weeks will be: {}\".format(future_3_weeks))\n",
    "\n",
    "# Calculamos qué día era hace tres semanas\n",
    "past_3_weeks = now_1_dt - d\n",
    "print(\"The date three weeks ago was: {}\".format(past_3_weeks))"
   ]
  },
  {
   "cell_type": "markdown",
   "metadata": {},
   "source": [
    "Se pueden crear objetos [`timedelta`](https://docs.python.org/3.8/library/datetime.html#timedelta-objects) especificando semanas, días, horas, minutos, segundos, milisegundos o microsegundos:\n"
   ]
  },
  {
   "cell_type": "code",
   "execution_count": null,
   "metadata": {},
   "outputs": [
    {
     "name": "stdout",
     "output_type": "stream",
     "text": [
      "One day in the future: 2021-07-02 15:24:49.007537\n",
      "One day in the past: 2021-06-30 15:24:49.007537\n",
      "Adding one microsecond: 2021-07-01 15:24:49.007538\n"
     ]
    }
   ],
   "source": [
    "# Creamos varios timedeltas\n",
    "one_day = datetime.timedelta(days=1)\n",
    "eleven_seconds = datetime.timedelta(seconds=11)\n",
    "five_hours = datetime.timedelta(hours=5)\n",
    "eleven_and_so_seconds = datetime.timedelta(seconds=11.56845)\n",
    "one_microsecond = datetime.timedelta(microseconds=1)\n",
    "\n",
    "# Operamos con los timedeltas\n",
    "print(\"One day in the future: {}\".format(now_1_dt + one_day))\n",
    "print(\"One day in the past: {}\".format(now_1_dt - one_day))\n",
    "print(\"Adding one microsecond: {}\".format(now_1_dt + one_microsecond))"
   ]
  },
  {
   "cell_type": "markdown",
   "metadata": {},
   "source": [
    "## 2.5. El calendario\n",
    "\n",
    "En los ejemplos que hemos visto en el apartado anterior, hemos utilizado el módulo [`calendar`](https://docs.python.org/3.8/library/calendar.html#module-calendar) para obtener el nombre del día de la semana correspondiente a una fecha concreta. Las funcionalidades de este módulo, sin embargo, no se limitan al cálculo del día de la semana. El módulo [`calendar`](https://docs.python.org/3.8/library/calendar.html#module-calendar), como su nombre indica, nos provee de funcionalidades relativas al calendario.\n",
    "\n",
    "Un ejemplo de las funcionalidades más evidentes de un calendario es mostrar el propio calendario.\n"
   ]
  },
  {
   "cell_type": "code",
   "execution_count": null,
   "metadata": {},
   "outputs": [
    {
     "name": "stdout",
     "output_type": "stream",
     "text": [
      "                                  2020\n",
      "\n",
      "      January                   February                   March\n",
      "Mo Tu We Th Fr Sa Su      Mo Tu We Th Fr Sa Su      Mo Tu We Th Fr Sa Su\n",
      "       1  2  3  4  5                      1  2                         1\n",
      " 6  7  8  9 10 11 12       3  4  5  6  7  8  9       2  3  4  5  6  7  8\n",
      "13 14 15 16 17 18 19      10 11 12 13 14 15 16       9 10 11 12 13 14 15\n",
      "20 21 22 23 24 25 26      17 18 19 20 21 22 23      16 17 18 19 20 21 22\n",
      "27 28 29 30 31            24 25 26 27 28 29         23 24 25 26 27 28 29\n",
      "                                                    30 31\n",
      "\n",
      "       April                      May                       June\n",
      "Mo Tu We Th Fr Sa Su      Mo Tu We Th Fr Sa Su      Mo Tu We Th Fr Sa Su\n",
      "       1  2  3  4  5                   1  2  3       1  2  3  4  5  6  7\n",
      " 6  7  8  9 10 11 12       4  5  6  7  8  9 10       8  9 10 11 12 13 14\n",
      "13 14 15 16 17 18 19      11 12 13 14 15 16 17      15 16 17 18 19 20 21\n",
      "20 21 22 23 24 25 26      18 19 20 21 22 23 24      22 23 24 25 26 27 28\n",
      "27 28 29 30               25 26 27 28 29 30 31      29 30\n",
      "\n",
      "        July                     August                  September\n",
      "Mo Tu We Th Fr Sa Su      Mo Tu We Th Fr Sa Su      Mo Tu We Th Fr Sa Su\n",
      "       1  2  3  4  5                      1  2          1  2  3  4  5  6\n",
      " 6  7  8  9 10 11 12       3  4  5  6  7  8  9       7  8  9 10 11 12 13\n",
      "13 14 15 16 17 18 19      10 11 12 13 14 15 16      14 15 16 17 18 19 20\n",
      "20 21 22 23 24 25 26      17 18 19 20 21 22 23      21 22 23 24 25 26 27\n",
      "27 28 29 30 31            24 25 26 27 28 29 30      28 29 30\n",
      "                          31\n",
      "\n",
      "      October                   November                  December\n",
      "Mo Tu We Th Fr Sa Su      Mo Tu We Th Fr Sa Su      Mo Tu We Th Fr Sa Su\n",
      "          1  2  3  4                         1          1  2  3  4  5  6\n",
      " 5  6  7  8  9 10 11       2  3  4  5  6  7  8       7  8  9 10 11 12 13\n",
      "12 13 14 15 16 17 18       9 10 11 12 13 14 15      14 15 16 17 18 19 20\n",
      "19 20 21 22 23 24 25      16 17 18 19 20 21 22      21 22 23 24 25 26 27\n",
      "26 27 28 29 30 31         23 24 25 26 27 28 29      28 29 30 31\n",
      "                          30\n",
      "\n"
     ]
    }
   ],
   "source": [
    "# Mostramos el calendario del año 2020\n",
    "print(calendar.calendar(2020))"
   ]
  },
  {
   "cell_type": "code",
   "execution_count": null,
   "metadata": {},
   "outputs": [
    {
     "name": "stdout",
     "output_type": "stream",
     "text": [
      "    October 2020\n",
      "Mo Tu We Th Fr Sa Su\n",
      "          1  2  3  4\n",
      " 5  6  7  8  9 10 11\n",
      "12 13 14 15 16 17 18\n",
      "19 20 21 22 23 24 25\n",
      "26 27 28 29 30 31\n",
      "\n"
     ]
    }
   ],
   "source": [
    "# Mostramos el calendario de octubre de 2020\n",
    "print(calendar.month(2020, 10))"
   ]
  },
  {
   "cell_type": "markdown",
   "metadata": {},
   "source": [
    "Entre otras funcionalidades, el módulo [`calendar`](https://docs.python.org/3.8/library/calendar.html#module-calendar) nos permite saber si un año es o no bisiesto con la función [`isleap`](https://docs.python.org/3.8/library/calendar.html#calendar.isleap), o bien contar el número de días bisiestos que hay entre dos años:\n"
   ]
  },
  {
   "cell_type": "code",
   "execution_count": null,
   "metadata": {},
   "outputs": [
    {
     "data": {
      "text/plain": [
       "True"
      ]
     },
     "metadata": {},
     "output_type": "display_data"
    }
   ],
   "source": [
    "# Calculamos si el año 2020 es bisiesto\n",
    "calendar.isleap(2020)"
   ]
  },
  {
   "cell_type": "code",
   "execution_count": null,
   "metadata": {},
   "outputs": [
    {
     "data": {
      "text/plain": [
       "8"
      ]
     },
     "metadata": {},
     "output_type": "display_data"
    }
   ],
   "source": [
    "# Calculamos el número de días bisiestos entre los años\n",
    "# 2000 y 2050\n",
    "calendar.leapdays(2020, 2050)"
   ]
  },
  {
   "cell_type": "markdown",
   "metadata": {},
   "source": [
    "## 2.6. Recapitulando\n",
    "\n",
    "Al inicio de esta sección, nos planteábamos un conjunto de preguntas relacionadas con la gestión de las fechas y las horas que parecían, *a priori*, poco directas de resolver. Como punto final de la sección, responderemos a estas preguntas utilizando lo aprendido en esta unidad, y constataremos cómo de fácil puede ser contestarlas con las herramientas adecuadas.\n"
   ]
  },
  {
   "cell_type": "markdown",
   "metadata": {},
   "source": [
    "En primer lugar, nos planteábamos cómo obtener el día de la semana (lunes, martes, ..., domingo) correspondiente a una fecha concreta.\n",
    "\n",
    "A partir de un objeto [`date`](https://docs.python.org/3.8/library/datetime.html#date-objects) (o [`datetime`](https://docs.python.org/3.8/library/datetime.html#datetime-objects)) que representa una fecha, hemos presentado dos maneras diferentes de obtener el día de la semana:\n"
   ]
  },
  {
   "cell_type": "code",
   "execution_count": null,
   "metadata": {},
   "outputs": [
    {
     "name": "stdout",
     "output_type": "stream",
     "text": [
      "Day of Week: Sunday\n",
      "Day of Week: Sunday\n"
     ]
    }
   ],
   "source": [
    "# Creamos un objeto date que representa una fecha concreta\n",
    "a_date = datetime.date(year=2022, month=12, day=25)\n",
    "\n",
    "# Alternativa 1: Obtenemos el día con .weekday() y el nombre del día\n",
    "# con el método day_name del módulo calendar\n",
    "print('Day of Week:', calendar.day_name[a_date.weekday()])\n",
    "\n",
    "# Alternativa 2: Usamos strftime para obtener el nombre del día de la semana\n",
    "print(a_date.strftime(\"Day of Week: %A\"))"
   ]
  },
  {
   "cell_type": "markdown",
   "metadata": {},
   "source": [
    "En segundo lugar, queríamos descubrir si las cadenas de caracteres \"2019-11-15\" y \"Friday, November 15, 2019\" correspondían o no a la misma fecha.\n",
    "\n",
    "Podemos crear dos objetos [`date`](https://docs.python.org/3.8/library/datetime.html#date-objects) que representen las fechas expresadas para cada una de las cadenas de caracteres y, después, compararlos para comprobar su igualdad:\n"
   ]
  },
  {
   "cell_type": "code",
   "execution_count": null,
   "metadata": {},
   "outputs": [
    {
     "data": {
      "text/plain": [
       "True"
      ]
     },
     "metadata": {},
     "output_type": "display_data"
    }
   ],
   "source": [
    "# Creamos dos objetos date a partir de las cadenas de caracteres, especificando\n",
    "# como idioma el inglés para interpretar correctamente la segunda cadena\n",
    "date_1 = datetime.datetime.strptime(\n",
    "    \"2019-11-15\", \"%Y-%m-%d\")\n",
    "locale.setlocale(locale.LC_ALL, 'en_GB.UTF-8')\n",
    "date_2 = datetime.datetime.strptime(\n",
    "    \"Friday, November 15, 2019\", \"%A, %B %d, %Y\")\n",
    "\n",
    "# Comparamos la igualdad de las fechas creadas\n",
    "date_1 == date_2"
   ]
  },
  {
   "cell_type": "markdown",
   "metadata": {},
   "source": [
    "En tercer lugar, queríamos saber qué día será dentro de 30 días.\n",
    "\n",
    "Podemos combinar la funcionalidad de obtención de la fecha actual con un [`timedelta`](https://docs.python.org/3.8/library/datetime.html#timedelta-objects) que represente 30 días para saber qué día será dentro de 30 días:\n"
   ]
  },
  {
   "cell_type": "code",
   "execution_count": null,
   "metadata": {},
   "outputs": [
    {
     "name": "stdout",
     "output_type": "stream",
     "text": [
      "2021-07-31\n"
     ]
    }
   ],
   "source": [
    "# Creamos un objeto con la fecha actual\n",
    "now_date = datetime.date.today()\n",
    "\n",
    "# Creamos un datetime de 30 días\n",
    "dt_30days = datetime.timedelta(days=30)\n",
    "\n",
    "# Sumamos los 30 días a la fecha actual\n",
    "print(now_date + dt_30days)"
   ]
  },
  {
   "cell_type": "markdown",
   "metadata": {},
   "source": [
    "Finalmente, nos preguntábamos si el año 2200 será o no un año bisiesto.\n",
    "\n",
    "El módulo [`calendar`](https://docs.python.org/3.8/library/calendar.html#module-calendar) nos permite comprobar si un año es bisiesto con el método [`isleap`](https://docs.python.org/3.8/library/calendar.html#calendar.isleap):\n"
   ]
  },
  {
   "cell_type": "code",
   "execution_count": null,
   "metadata": {},
   "outputs": [
    {
     "data": {
      "text/plain": [
       "False"
      ]
     },
     "metadata": {},
     "output_type": "display_data"
    }
   ],
   "source": [
    "# Comprobamos si el año 2200 es un año bisiesto\n",
    "calendar.isleap(2200)"
   ]
  },
  {
   "cell_type": "markdown",
   "metadata": {},
   "source": [
    "# 3. Cadenas de caracteres\n"
   ]
  },
  {
   "cell_type": "markdown",
   "metadata": {},
   "source": [
    "Ya conocemos algunas de las funciones de manipulación de cadenas de caracteres básicas, que nos permiten concatenar cadenas entre ellas, formar cadenas a partir de otras cadenas y de variables numéricas, particionar cadenas (usando *slicing*) y crear cadenas de caracteres a partir de listas. Iniciaremos esta sección haciendo un repaso de estas funciones básicas:\n"
   ]
  },
  {
   "cell_type": "code",
   "execution_count": null,
   "metadata": {},
   "outputs": [],
   "source": [
    "# Creamos 4 cadenas de caracteres\n",
    "str_1 = \"Today is:\"\n",
    "str_2 = \"Friday\"\n",
    "str_3 = \"Coding day\"\n",
    "pep_20 = \"Beautiful is better than ugly.\\nExplicit is better than implicit.\""
   ]
  },
  {
   "cell_type": "code",
   "execution_count": null,
   "metadata": {},
   "outputs": [
    {
     "name": "stdout",
     "output_type": "stream",
     "text": [
      "Today is: Friday\n",
      "Today is: Coding day\n"
     ]
    }
   ],
   "source": [
    "# Creamos nuevas cadenas concatenando las cadenas anteriores\n",
    "# con espacios que las separan\n",
    "str_4 = str_1 + \" \" + str_2\n",
    "print(str_4)\n",
    "str_5 = str_1 + \" \" + str_3\n",
    "print(str_5)"
   ]
  },
  {
   "cell_type": "code",
   "execution_count": null,
   "metadata": {},
   "outputs": [
    {
     "name": "stdout",
     "output_type": "stream",
     "text": [
      "Today is: my 6th day of programming\n"
     ]
    }
   ],
   "source": [
    "# Creamos cadenas a partir de valores de variables numéricas\n",
    "str_6 = str_1 + \" my {}th day of programming\".format(6)\n",
    "print(str_6)"
   ]
  },
  {
   "cell_type": "code",
   "execution_count": null,
   "metadata": {},
   "outputs": [
    {
     "data": {
      "text/plain": [
       "'Today is: my 6th day of programming'"
      ]
     },
     "metadata": {},
     "output_type": "display_data"
    }
   ],
   "source": [
    "# También podemos utilizar la funcionalidad de las cadenas-f\n",
    "# para formatear texto de manera compacta\n",
    "days = 6\n",
    "f'{str_1} my {days}th day of programming'"
   ]
  },
  {
   "cell_type": "code",
   "execution_count": null,
   "metadata": {},
   "outputs": [
    {
     "name": "stdout",
     "output_type": "stream",
     "text": [
      "Beautiful\n",
      "ugly\n",
      ".\n"
     ]
    }
   ],
   "source": [
    "# Mostramos los 9 primeros caracteres de la cadena pep_20\n",
    "print(pep_20[:9])\n",
    "# Mostramos los caracteres del 25 al 29 (este último no incluido)\n",
    "print(pep_20[25:29])\n",
    "# Mostramos el último carácter\n",
    "print(pep_20[-1:])"
   ]
  },
  {
   "cell_type": "code",
   "execution_count": null,
   "metadata": {},
   "outputs": [
    {
     "data": {
      "text/plain": [
       "'ABCD'"
      ]
     },
     "metadata": {},
     "output_type": "display_data"
    }
   ],
   "source": [
    "# Creamos una cadena a partir de una lista de cadenas\n",
    "a_list_of_str = [\"A\", \"B\", \"C\", \"D\"]\n",
    "\"\".join(a_list_of_str)"
   ]
  },
  {
   "cell_type": "code",
   "execution_count": null,
   "metadata": {},
   "outputs": [
    {
     "data": {
      "text/plain": [
       "'0 1 2 3 4 5 6 7 8 9'"
      ]
     },
     "metadata": {},
     "output_type": "display_data"
    }
   ],
   "source": [
    "# Creamos una cadena de caracteres con los números del 0 al 9\n",
    "# separados por espacios\n",
    "\" \".join([str(x) for x in list(range(10))])"
   ]
  },
  {
   "cell_type": "code",
   "execution_count": null,
   "metadata": {},
   "outputs": [
    {
     "data": {
      "text/plain": [
       "'0, 1, 2, 3, 4, 5, 6, 7, 8, 9'"
      ]
     },
     "metadata": {},
     "output_type": "display_data"
    }
   ],
   "source": [
    "# Creamos una cadena de caracteres con los números del 0 al 9\n",
    "# separados por comas y espacios\n",
    "\", \".join([str(x) for x in list(range(10))])"
   ]
  },
  {
   "cell_type": "markdown",
   "metadata": {},
   "source": [
    "## 3.1. Manipulación de cadenas de caracteres\n"
   ]
  },
  {
   "cell_type": "markdown",
   "metadata": {},
   "source": [
    "A la hora de procesar una cadena de caracteres, a menudo será necesario particionarla para manipular los fragmentos de manera individual. La función [`split`](https://docs.python.org/3.8/library/stdtypes.html#str.split) permite particionar una cadena de caracteres y se obtiene como resultado una lista de subcadenas de la cadena original.\n",
    "\n",
    "Llamada sin argumentos, la función [`split`](https://docs.python.org/3.8/library/stdtypes.html#str.split) utiliza caracteres en blanco (espacios, tabuladores, saltos de línea, etc.) como separadores y devuelve una lista de las subcadenas separadas, omitiendo estos separadores:\n"
   ]
  },
  {
   "cell_type": "code",
   "execution_count": null,
   "metadata": {},
   "outputs": [
    {
     "name": "stdout",
     "output_type": "stream",
     "text": [
      "Beautiful is better than ugly.\n",
      "Explicit is better than implicit.\n"
     ]
    },
    {
     "data": {
      "text/plain": [
       "['Beautiful',\n",
       " 'is',\n",
       " 'better',\n",
       " 'than',\n",
       " 'ugly.',\n",
       " 'Explicit',\n",
       " 'is',\n",
       " 'better',\n",
       " 'than',\n",
       " 'implicit.']"
      ]
     },
     "metadata": {},
     "output_type": "display_data"
    }
   ],
   "source": [
    "# Separamos la cadena pep_20\n",
    "print(pep_20)\n",
    "pep_20.split()"
   ]
  },
  {
   "cell_type": "markdown",
   "metadata": {},
   "source": [
    "Tened en cuenta que las palabras 'ugly.' y 'Explicit' quedan separadas como dos subcadenas diferentes, ya que el salto de línea entre una y la otra se interpreta como separador. En cambio, si queremos que se separen las palabras considerando únicamente los espacios en blanco, podemos indicarlo añadiendo el argumento `sep` a la llamada:\n"
   ]
  },
  {
   "cell_type": "code",
   "execution_count": null,
   "metadata": {},
   "outputs": [
    {
     "data": {
      "text/plain": [
       "['Beautiful',\n",
       " 'is',\n",
       " 'better',\n",
       " 'than',\n",
       " 'ugly.\\nExplicit',\n",
       " 'is',\n",
       " 'better',\n",
       " 'than',\n",
       " 'implicit.']"
      ]
     },
     "metadata": {},
     "output_type": "display_data"
    }
   ],
   "source": [
    "# Separamos la cadena pep_20 considerando solo los espacios\n",
    "# como separadores\n",
    "pep_20.split(sep=\" \")"
   ]
  },
  {
   "cell_type": "markdown",
   "metadata": {},
   "source": [
    "Podemos utilizar cualquier carácter (o cadena) como separador:\n"
   ]
  },
  {
   "cell_type": "code",
   "execution_count": null,
   "metadata": {},
   "outputs": [
    {
     "data": {
      "text/plain": [
       "['Be', 'utiful is better th', 'n ugly.\\nExplicit is better th', 'n implicit.']"
      ]
     },
     "metadata": {},
     "output_type": "display_data"
    }
   ],
   "source": [
    "# Separamos la cadena por las letras \"a\"\n",
    "pep_20.split(\"a\")"
   ]
  },
  {
   "cell_type": "code",
   "execution_count": null,
   "metadata": {},
   "outputs": [
    {
     "data": {
      "text/plain": [
       "['Beautiful is ', ' than ugly.\\nExplicit is ', ' than implicit.']"
      ]
     },
     "metadata": {},
     "output_type": "display_data"
    }
   ],
   "source": [
    "# Separamos la cadena utilizando la cadena \"better\" como separador\n",
    "pep_20.split(\"better\")"
   ]
  },
  {
   "cell_type": "markdown",
   "metadata": {},
   "source": [
    "Otra de las operaciones de procesamiento de cadenas de uso común es hacer un recuento del número de apariciones de una subcadena dentro de una cadena:\n"
   ]
  },
  {
   "cell_type": "code",
   "execution_count": null,
   "metadata": {},
   "outputs": [
    {
     "name": "stdout",
     "output_type": "stream",
     "text": [
      "PEP20 string has 3 'a'\n",
      "PEP20 string has 2 'better'\n",
      "PEP20 string has 8 whitespaces\n"
     ]
    }
   ],
   "source": [
    "# Contamos cuántas veces aparece la letra \"a\" en la cadena pep_20\n",
    "pep_20_a_num = pep_20.count(\"a\")\n",
    "print(\"PEP20 string has {} 'a'\".format(pep_20_a_num))\n",
    "# Contamos cuántas veces aparece la subcadena \"better\" en la cadena pep_20\n",
    "pep_20_bet_num = pep_20.count(\"better\")\n",
    "print(\"PEP20 string has {} 'better'\".format(pep_20_bet_num))\n",
    "# Contamos cuántos espacios en blanco tiene la cadena pep_20\n",
    "pep_20_ws_num = pep_20.count(\" \")\n",
    "print(\"PEP20 string has {} whitespaces\".format(pep_20_ws_num))"
   ]
  },
  {
   "cell_type": "markdown",
   "metadata": {},
   "source": [
    "Hemos visto cómo contar el número de apariciones de una subcadena. Pero ¿cómo lo haríamos si quisiéramos saber dónde están estas apariciones? La función [`find`](https://docs.python.org/3.8/library/stdtypes.html#str.find) nos devuelve el índice donde se inicia una subcadena, o devuelve` -1` si tal subcadena no existe:\n"
   ]
  },
  {
   "cell_type": "code",
   "execution_count": null,
   "metadata": {},
   "outputs": [
    {
     "name": "stdout",
     "output_type": "stream",
     "text": [
      "'beter' starts at position -1\n",
      "'better' starts at position 13\n"
     ]
    }
   ],
   "source": [
    "# Buscamos el índice de la primera aparición de 'beter'\n",
    "str_to_search = \"beter\"\n",
    "ind_better = pep_20.find(str_to_search)\n",
    "print(\"'beter' starts at position {}\".format(ind_better))\n",
    "\n",
    "# Buscamos el índice de la primera aparición de 'better'\n",
    "str_to_search = \"better\"\n",
    "ind_better = pep_20.find(str_to_search)\n",
    "print(\"'better' starts at position {}\".format(ind_better))"
   ]
  },
  {
   "cell_type": "markdown",
   "metadata": {},
   "source": [
    "La cadena `better` aparece dos veces dentro de la cadena almacenada en la variable` pep_20`. La función [`find`](https://docs.python.org/3.8/library/stdtypes.html#str.find) devuelve el índice de la primera aparición. Si queremos encontrar los índices del resto de las apariciones, se deberá indicar un segundo parámetro a la llamada de [ `find`](https://docs.python.org/3.8/library/stdtypes.html#str.find), especificando la posición de inicio de la búsqueda:\n"
   ]
  },
  {
   "cell_type": "code",
   "execution_count": null,
   "metadata": {},
   "outputs": [
    {
     "name": "stdout",
     "output_type": "stream",
     "text": [
      "Next 'better' starts at position 43\n"
     ]
    }
   ],
   "source": [
    "# Buscamos el índice de la segunda aparición de 'better'\n",
    "ind2_better = pep_20.find(str_to_search, ind_better+1)\n",
    "print(\"Next 'better' starts at position {}\".format(ind2_better))"
   ]
  },
  {
   "cell_type": "code",
   "execution_count": null,
   "metadata": {},
   "outputs": [
    {
     "name": "stdout",
     "output_type": "stream",
     "text": [
      "Next 'better' starts at position -1\n"
     ]
    }
   ],
   "source": [
    "# Buscamos el índice de la tercera aparición de 'better'\n",
    "ind3_better = pep_20.find(str_to_search, ind2_better+1)\n",
    "print(\"Next 'better' starts at position {}\".format(ind3_better))"
   ]
  },
  {
   "cell_type": "markdown",
   "metadata": {},
   "source": [
    "Como `better` solo aparece dos veces, la tercera vez que hacemos la búsqueda la llamada a [`find`](https://docs.python.org/3.8/library/stdtypes.html#str.find) devuelve `-1`, lo que indica que ya no hay más apariciones.\n",
    "\n",
    "En algunas aplicaciones, no estaremos interesados ​​en contar el número de apariciones de una subcadena ni en saber dónde está esta subcadena, sino simplemente en sustituirla por alguna otra cadena. En estos casos, podemos utilizar [`replace`](https://docs.python.org/3.8/library/stdtypes.html#str.replace), que reemplaza todas las apariciones de una subcadena por otra cadena:\n"
   ]
  },
  {
   "cell_type": "code",
   "execution_count": null,
   "metadata": {},
   "outputs": [
    {
     "name": "stdout",
     "output_type": "stream",
     "text": [
      "Beautiful_is_better_than_ugly.\n",
      "Explicit_is_better_than_implicit. \n",
      "\n",
      "Beautiful is worse than ugly.\n",
      "Explicit is worse than implicit. \n",
      "\n",
      "Beautifulisbetterthanugly.\n",
      "Explicitisbetterthanimplicit.\n"
     ]
    }
   ],
   "source": [
    "# Reemplazamos los espacios en blanco por guiones\n",
    "print(pep_20.replace(\" \", \"_\"), \"\\n\")\n",
    "# Reemplazamos 'better' por 'worse'\n",
    "print(pep_20.replace(\"better\", \"worse\"), \"\\n\")\n",
    "# Eliminamos los espacios en blanco reemplazándolos por una cadena vacía\n",
    "print(pep_20.replace(\" \", \"\"))"
   ]
  },
  {
   "cell_type": "markdown",
   "metadata": {},
   "source": [
    "En el último ejemplo se eliminan todos los espacios en blanco. A veces, sin embargo, nos interesará eliminar los espacios en blanco que hay delante de una cadena o detrás de esta (o ambos conjuntos de espacios). Para estas situaciones, encontramos las funciones [`lstrip`](https://docs.python.org/3.8/library/stdtypes.html#str.lstrip) (elimina los espacios en blanco de la izquierda o el inicio de la cadena), [`rstrip`](https://docs.python.org/3.8/library/stdtypes.html#str.rstrip) (elimina los espacios de la derecha o el final de la cadena) y [`strip`](https://docs.python.org/3.8/library/stdtypes.html#str.strip) (elimina los espacios en blanco de delante y detrás de la cadena):\n"
   ]
  },
  {
   "cell_type": "code",
   "execution_count": null,
   "metadata": {},
   "outputs": [
    {
     "name": "stdout",
     "output_type": "stream",
     "text": [
      "String: #   A lot of   spaces #\n",
      "\n",
      "rstrip: #   A lot of   spaces#\n",
      "lstrip: #A lot of   spaces #\n",
      "strip:  #A lot of   spaces#\n"
     ]
    }
   ],
   "source": [
    "# Creamos una cadena con espacios en blanco\n",
    "str_with_spaces = \"   A lot of   spaces \"\n",
    "\n",
    "# Mostramos el resultado de aplicar rstrip, lstrip y strip en la cadena\n",
    "print(\"String: #{}#\\n\".format(str_with_spaces))\n",
    "print(\"rstrip: #{}#\".format(str_with_spaces.rstrip()))\n",
    "print(\"lstrip: #{}#\".format(str_with_spaces.lstrip()))\n",
    "print(\"strip:  #{}#\".format(str_with_spaces.strip()))"
   ]
  },
  {
   "cell_type": "markdown",
   "metadata": {},
   "source": [
    "Es interesante notar que las funciones [`strip`](https://docs.python.org/3.8/library/stdtypes.html#str.strip), [`rstrip`](https://docs.python.org/3.8/library/stdtypes.html#str.rstrip) y [`lstrip`](https://docs.python.org/3.8/library/stdtypes.html#str.lstrip) eliminan todos los espacios en blanco que se encuentran en la posición que están procesando (delante, detrás o en las dos posiciones) pero, en cambio, no tienen ningún efecto sobre el resto de los espacios de la cadena (por ejemplo, el espacio en blanco entre 'A' y 'lot' nunca se ve afectado por la ejecución de estas funciones).\n"
   ]
  },
  {
   "cell_type": "markdown",
   "metadata": {},
   "source": [
    "## 3.2. Expresiones regulares\n"
   ]
  },
  {
   "cell_type": "markdown",
   "metadata": {},
   "source": [
    "A pesar de que las funciones que hemos visto hasta ahora son muy potentes, se quedan cortas para afrontar muchos de los problemas que encontraremos a la hora de preprocesar datos que contengan cadenas de texto.\n",
    "\n",
    "Por ejemplo, si quisiéramos separar una cadena particionando por cualquier vocal (en vez de solo la letra 'a' como hemos hecho en el ejemplo anterior), ¿cómo lo haríamos? Con lo que hemos visto hasta ahora, deberíamos ir separando vocal a vocal, procesando en cada caso todas las subcadenas ya separadas por las vocales anteriores.\n",
    "\n",
    "Otro ejemplo sería que quisiéramos buscar no solo la palabra 'better' dentro de una cadena, sino cualquier palabra de seis letras, o tal vez buscar palabras que empezaran con 'b' y acabaran con 'tter', con cualquier letra o letras entre la 'b' y 'tter'. ¿Cómo podríamos implementarlo con las funciones que hemos visto hasta ahora? Ciertamente, sería posible, pero el código sería complejo.\n",
    "\n",
    "Para afrontar este tipo de problemas, se suelen utilizar **expresiones regulares** (también conocidas como *regex*, una contracción del término en inglés, *regular expressions*). Una expresión regular es una expresión que utiliza un lenguaje especializado de descripción de cadenas de caracteres. Este lenguaje nos permite expresar con facilidad condiciones que describen cómo debe ser una cadena como las que hemos ejemplificado anteriormente (una cadena que represente cualquier vocal, una cadena de seis letras, una cadena que empiece con 'b' y termine con 'tter', etc.). Estas expresiones se pueden usar, después, para tareas como las que hemos expuesto anteriormente: buscar subcadenas dentro de cadenas, separar cadenas, sustituir subcadenas por otras subcadenas, etc.\n",
    "\n",
    "En este apartado, veremos pues cómo podemos utilizar expresiones regulares para procesar cadenas de caracteres. En primer lugar, veremos las funciones que nos ofrece el módulo [`re`](https://docs.python.org/3.8/library/re.html). En segundo lugar, presentaremos una introducción a la sintaxis de las expresiones regulares.\n",
    "\n",
    "### 3.2.1. Funciones del módulo `re`\n",
    "\n",
    "El módulo [`re`](https://docs.python.org/3.8/library/re.html) es la interfaz del motor de expresiones regulares para Python. Por lo tanto, habrá que importarlo cuando queramos trabajar con *regex*.\n",
    "\n",
    "El módulo tiene funciones equivalentes a las que hemos visto anteriormente, pero que trabajan con expresiones regulares en vez de trabajar con cadenas de caracteres:\n",
    "* [`split`](https://docs.python.org/3.8/library/re.html#re.split): tiene el mismo comportamiento que el método [`split`](https://docs.python.org/3.8/library/stdtypes.html#str.split) de [`str`](https://docs.python.org/3.8/library/stdtypes.html#str), y permite separar cadenas considerando un separador, que en este caso estará expresado con una expresión regular.\n",
    "* [`search`](https://docs.python.org/3.8/library/re.html#re.search): tiene un comportamiento similar a [`find`](https://docs.python.org/3.8/library/stdtypes.html#str.find) de [`str`](https://docs.python.org/3.8/library/stdtypes.html#str), y permite encontrar la primera aparición de una subcadena dentro de una cadena. En este caso, la subcadena a buscar se expresa como una expresión regular.\n",
    "* [`sub`](https://docs.python.org/3.8/library/re.html#re.sub): tiene un comportamiento similar a [`replace`](https://docs.python.org/3.8/library/stdtypes.html#str.replace) de [`str`](https://docs.python.org/3.8/library/stdtypes.html#str), y permite reemplazar subcadenas por otra cadena. En este caso, la subcadena que se quiere reemplazar se expresa como una expresión regular.\n",
    "\n",
    "Adicionalmente, también incorpora otras funciones que son de utilidad, tales como:\n",
    "\n",
    "* [`findall`](https://docs.python.org/3.8/library/re.html#re.findall): permite buscar todas las apariciones (no solapadas) de una subcadena dentro de otra cadena.\n",
    "\n",
    "A continuación, veremos cómo podemos utilizar estas funciones sin aprovechar la funcionalidad de las expresiones regulares (que presentaremos en el siguiente apartado).\n",
    "\n",
    "La función [`split`](https://docs.python.org/3.8/library/re.html#re.split) actúa de manera análoga a la [`split`](https://docs.python.org/3.8/library/stdtypes.html#str.split) de [`str`](https://docs.python.org/3.8/library/stdtypes.html#str), y devuelve una lista con las subcadenas separadas por un separador:\n"
   ]
  },
  {
   "cell_type": "code",
   "execution_count": null,
   "metadata": {},
   "outputs": [
    {
     "data": {
      "text/plain": [
       "['Be', 'utiful is better th', 'n ugly.\\nExplicit is better th', 'n implicit.']"
      ]
     },
     "metadata": {},
     "output_type": "display_data"
    }
   ],
   "source": [
    "# Importamos el módulo re\n",
    "import re\n",
    "\n",
    "# Separamos la cadena por las letras \"a\"\n",
    "re.split('a', pep_20)"
   ]
  },
  {
   "cell_type": "markdown",
   "metadata": {},
   "source": [
    "Ahora, sin embargo, la primera cadena (`a`) podrá ser también una expresión regular, que nos describa cómo debe ser el separador a utilizar.\n",
    "\n",
    "La función [`search`](https://docs.python.org/3.8/library/re.html#re.search) busca la primera aparición de una subcadena en otra cadena. A diferencia de [`find`](https://docs.python.org/3.8/library/stdtypes.html#str.find), no devuelve directamente el índice de inicio de la coincidencia, sino un objeto [`match`](https://docs.python.org/3.8/library/re.html#match-objects) que contiene información adicional sobre la coincidencia:\n"
   ]
  },
  {
   "cell_type": "code",
   "execution_count": null,
   "metadata": {},
   "outputs": [
    {
     "name": "stdout",
     "output_type": "stream",
     "text": [
      "The returned object is: <class 're.Match'>\n",
      "that contains: <re.Match object; span=(13, 19), match='better'>\n",
      "Substring starts at 13 and ends at 19\n"
     ]
    }
   ],
   "source": [
    "# Buscamos el índice de la primera aparición de 'better'\n",
    "str_to_search = \"better\"\n",
    "srch_better = re.search(str_to_search, pep_20)\n",
    "print(\"The returned object is: {}\".format(type(srch_better)))\n",
    "print(\"that contains: {}\".format(srch_better))\n",
    "print(\"Substring starts at {} and ends at {}\".format(\n",
    "    srch_better.start(), srch_better.end()))"
   ]
  },
  {
   "cell_type": "markdown",
   "metadata": {},
   "source": [
    "En cambio, la función [`findall`](https://docs.python.org/3.8/library/re.html#re.findall) nos devolverá una lista con todas las coincidencias de una expresión regular:\n"
   ]
  },
  {
   "cell_type": "code",
   "execution_count": null,
   "metadata": {},
   "outputs": [
    {
     "name": "stdout",
     "output_type": "stream",
     "text": [
      "The returned object is: <class 'list'>\n",
      "that contains: ['better', 'better']\n"
     ]
    }
   ],
   "source": [
    "# Buscamos todas las apariciones de 'better'\n",
    "srch_better = re.findall(str_to_search, pep_20)\n",
    "print(\"The returned object is: {}\".format(type(srch_better)))\n",
    "print(\"that contains: {}\".format(srch_better))"
   ]
  },
  {
   "cell_type": "markdown",
   "metadata": {},
   "source": [
    "Finalmente, la función [`sub`](https://docs.python.org/3.8/library/re.html#re.sub) reemplaza todas las apariciones de una subcadena por otra:\n"
   ]
  },
  {
   "cell_type": "code",
   "execution_count": null,
   "metadata": {},
   "outputs": [
    {
     "name": "stdout",
     "output_type": "stream",
     "text": [
      "Beautiful_is_better_than_ugly.\n",
      "Explicit_is_better_than_implicit.\n"
     ]
    }
   ],
   "source": [
    "# Reemplazar los espacios en blanco por guiones bajos\n",
    "print(re.sub(\" \", \"_\", pep_20))"
   ]
  },
  {
   "cell_type": "markdown",
   "metadata": {},
   "source": [
    "Hasta ahora hemos visto cómo el módulo [`re`](https://docs.python.org/3.8/library/re.html) nos permite hacer las mismas operaciones que habíamos visto sobre cadenas de caracteres. Vamos a ver ahora cómo podemos explotar el potencial de este módulo utilizando el lenguaje de las expresiones regulares.\n",
    "\n",
    "Las funciones que hemos visto aceptan un primer parámetro que representa la subcadena que queremos buscar, y que se utiliza como separador (en [`split`](https://docs.python.org/3.8/library/re.html#re.split)), como objetivo de la búsqueda ([`search`](https://docs.python.org/3.8/library/re.html#re.search) o [`findall`](https://docs.python.org/3.8/library/re.html#re.findall)) o bien como cadena que reemplazar ([`sub`](https://docs.python.org/3.8/library/re.html#re.sub)). Más allá de ser una cadena de caracteres, este primer parámetro puede usar el lenguaje de las expresiones regulares para especificar condiciones complejas sobre las cadenas que buscar.\n"
   ]
  },
  {
   "cell_type": "markdown",
   "metadata": {},
   "source": [
    "### 3.2.2. Sintaxis de las expresiones regulares\n",
    "\n",
    "En una expresión regular distinguimos dos tipos de caracteres:\n",
    "* Caracteres **normales**, que representan el propio carácter. Por ejemplo, una 'a' es una expresión regular válida que representa una cadena de caracteres de un solo carácter, que es la propia letra 'a'.\n",
    "* Caracteres **especiales**, que sirven o bien para representar grupos de caracteres o bien para explicar cómo hay que interpretar las expresiones que los rodean.\n",
    "\n",
    "Así, por ejemplo, algunos caracteres especiales se utilizan para representar **grupos de caracteres**:\n",
    "* `.`: representa cualquier carácter (por defecto, cualquier carácter excepto la nueva línea).\n",
    "* `\\d`: representa cualquier dígito decimal.\n",
    "* `\\s`: representa cualquier espacio en blanco.\n",
    "* `\\w`: representa caracteres que pueden formar parte de una palabra (letras mayúsculas y minúsculas, números, el guion bajo).\n",
    "* `[]`: permite indicar un conjunto de caracteres, ya sea individualmente ( `[abc]` permitiría representar las cadenas `a`,` b` o `c`), o como rango (`[A-Z]`representa todas las letras en mayúscula).\n",
    "\n",
    "Otros caracteres especiales dan información sobre **cómo interpretar** las expresiones:\n",
    "* `|`: Implementa el operador OR y permite crear una expresión regular que coincida o bien con una expresión regular o bien con otra.\n",
    "\n",
    "También hay un conjunto de caracteres especiales que permiten especificar **repeticiones** de expresiones regulares. Así, los caracteres siguientes indican las repeticiones de la expresión que las precede:\n",
    "* `*`: 0 o más apariciones.\n",
    "* `+`: 1 o más apariciones.\n",
    "* `?`: 0 o 1 aparición.\n",
    "* `{m}`: exactamente *m* apariciones.\n",
    "* `{m, n}`: entre *m* y _n_ apariciones. Si uno de los dos valores se omite, entonces solo se informa del mínimo o del máximo de apariciones.\n"
   ]
  },
  {
   "cell_type": "markdown",
   "metadata": {},
   "source": [
    "### 3.2.3. Uso de expresiones regulares en la manipulación de cadenas\n",
    "\n",
    "Ahora que ya conocemos las funciones de manipulación de cadenas del módulo [`re`](https://docs.python.org/3.8/library/re.html) y la sintaxis básica del lenguaje de las expresiones regulares, vamos a ver cómo podemos explotar el potencial de ambas funcionalidades juntas por medio de una serie de ejemplos. En primer lugar, veremos cómo podemos resolver algunos de los problemas que hemos comentado anteriormente. En segundo lugar, veremos ejemplos adicionales de uso de expresiones regulares.\n",
    "\n",
    "Si queremos separar una cadena de caracteres utilizando cualquier vocal como separador, podemos utilizar una expresión regular que represente todas las vocales y utilizarla con la función [`split`](https://docs.python.org/3.8/library/re.html#re.split). Los caracteres especiales `[]` nos permiten expresar un conjunto de caracteres individuales, por lo que podemos usarlos para expresar las vocales:\n"
   ]
  },
  {
   "cell_type": "code",
   "execution_count": null,
   "metadata": {},
   "outputs": [
    {
     "name": "stdout",
     "output_type": "stream",
     "text": [
      "Beautiful is better than ugly.\n",
      "Explicit is better than implicit.\n"
     ]
    },
    {
     "data": {
      "text/plain": [
       "['B',\n",
       " '',\n",
       " '',\n",
       " 't',\n",
       " 'f',\n",
       " 'l ',\n",
       " 's b',\n",
       " 'tt',\n",
       " 'r th',\n",
       " 'n ',\n",
       " 'gly.\\n',\n",
       " 'xpl',\n",
       " 'c',\n",
       " 't ',\n",
       " 's b',\n",
       " 'tt',\n",
       " 'r th',\n",
       " 'n ',\n",
       " 'mpl',\n",
       " 'c',\n",
       " 't.']"
      ]
     },
     "metadata": {},
     "output_type": "display_data"
    }
   ],
   "source": [
    "print(pep_20)\n",
    "\n",
    "# Separamos la cadena por cualquier vocal\n",
    "re.split(r'[aeiouAEIOU]', pep_20)"
   ]
  },
  {
   "cell_type": "markdown",
   "metadata": {},
   "source": [
    "Fijaos cómo la lista contiene varias cadenas vacías, que resultan de separar vocales contiguas. Por otra parte, es interesante notar también que usamos el prefijo 'r' para indicar la cadena de caracteres que conforma la expresión regular. El prefijo 'r' indica que la cadena debe interpretarse como literal *en bruto* (en inglés, *raw string literal*).\n",
    "\n",
    "Si queremos separar las palabras, podemos utilizar el carácter especial `\\s` para tener en cuenta cualquier espacio en blanco como separador (tanto el espacio ` `  como el salto de línea `\\n` se utilizarían como separador para la cadena `pep_20`):\n"
   ]
  },
  {
   "cell_type": "code",
   "execution_count": null,
   "metadata": {},
   "outputs": [
    {
     "data": {
      "text/plain": [
       "['Beautiful',\n",
       " 'is',\n",
       " 'better',\n",
       " 'than',\n",
       " 'ugly.',\n",
       " 'Explicit',\n",
       " 'is',\n",
       " 'better',\n",
       " 'than',\n",
       " 'implicit.']"
      ]
     },
     "metadata": {},
     "output_type": "display_data"
    }
   ],
   "source": [
    "re.split(r'\\s', pep_20)"
   ]
  },
  {
   "cell_type": "markdown",
   "metadata": {},
   "source": [
    "En cambio, si queremos separar las frases, podríamos utilizar como separador un punto seguido de un espacio en blanco. Fijaos en que incluimos el espacio en blanco después del punto, ya que si no, la última frase quedaría separada en dos por el punto final (la frase en sí y una cadena vacía), y el salto de línea quedaría incluido en la segunda frase :\n"
   ]
  },
  {
   "cell_type": "code",
   "execution_count": null,
   "metadata": {},
   "outputs": [
    {
     "data": {
      "text/plain": [
       "['Beautiful is better than ugly', '\\nExplicit is better than implicit', '']"
      ]
     },
     "metadata": {},
     "output_type": "display_data"
    }
   ],
   "source": [
    "# Separamos la cadena por frases: las frases se separan por un punto\n",
    "# El resultado incluye una cadena vacía al final, ya que el último punto\n",
    "# se utiliza como separador, así como el salto de línea\n",
    "re.split(r'\\.', pep_20)"
   ]
  },
  {
   "cell_type": "code",
   "execution_count": null,
   "metadata": {},
   "outputs": [
    {
     "data": {
      "text/plain": [
       "['Beautiful is better than ugly', 'Explicit is better than implicit.']"
      ]
     },
     "metadata": {},
     "output_type": "display_data"
    }
   ],
   "source": [
    "# Separamos la cadena por frases: las frases se separan por un punto seguido\n",
    "# de un espacio en blanco\n",
    "re.split(r'\\.\\s', pep_20)"
   ]
  },
  {
   "cell_type": "markdown",
   "metadata": {},
   "source": [
    "Es importante notar que para representar el punto, hemos utilizado la expresión `\\.` en vez de `.`. El motivo es que, como hemos visto, `.` es un carácter especial que coincide con cualquier carácter. Si, por el contrario, queremos que la expresión regular solo coincida cuando incluya un punto (el carácter '.'), entonces habrá que **escapar** la secuencia, utilizando la barra invertida o contrabarra (`\\`).\n",
    "\n",
    "Otro ejemplo que nos planteábamos era cómo buscar palabras que empiecen con 'b' y terminen con 'tter', con cualquier letra o letras en medio. Vamos a ver cómo podríamos enfocar este ejemplo. En primer lugar, veremos cómo buscar palabras que empiecen con 'b' y terminen con 'tter', con una única letra en medio:\n"
   ]
  },
  {
   "cell_type": "code",
   "execution_count": null,
   "metadata": {},
   "outputs": [
    {
     "name": "stdout",
     "output_type": "stream",
     "text": [
      "Beautiful is better than ugly.\n",
      "Explicit is better than implicit.\n",
      "\n",
      "\n",
      "Beautiful is better than ugly.\n",
      "Explicit is better than implicit. Butter Much Webetter. bitter. bYYYtter or btter. python.\n"
     ]
    }
   ],
   "source": [
    "# Creamos una variante de la cadena pep_20, que nos permitirá ejemplificar\n",
    "# las diferentes casuísticas\n",
    "pep_20_bis = \"Beautiful is better than ugly.\\nExplicit is better than \" \\\n",
    "    \"implicit. Butter Much Webetter. bitter. bYYYtter or btter. python.\"\n",
    "\n",
    "# Mostramos las cadenas de ejemplo\n",
    "print(pep_20)\n",
    "print(\"\\n\")\n",
    "print(pep_20_bis)"
   ]
  },
  {
   "cell_type": "markdown",
   "metadata": {},
   "source": [
    "Una primera aproximación sería definir una expresión regular que comience con 'b', siga con cualquier carácter que pueda formar parte de una palabra (que podemos expresar con el carácter especial `\\w`), y termine con 'tter':\n"
   ]
  },
  {
   "cell_type": "code",
   "execution_count": null,
   "metadata": {},
   "outputs": [
    {
     "name": "stdout",
     "output_type": "stream",
     "text": [
      "b\\wtter in pep_20: ['better', 'better']\n",
      "b\\wtter in pep_20_bis: ['better', 'better', 'better', 'bitter']\n"
     ]
    }
   ],
   "source": [
    "print(r\"b\\wtter in pep_20: {}\".format(re.findall(r\"b\\wtter\", pep_20)))\n",
    "print(r\"b\\wtter in pep_20_bis: {}\".format(re.findall(r\"b\\wtter\", pep_20_bis)))"
   ]
  },
  {
   "cell_type": "markdown",
   "metadata": {},
   "source": [
    "La expresión parece devolver los resultados esperados para la cadena `pep_20` pero, en cambio, para la cadena` pep_20_bis` nos devuelve un 'better' adicional y no es capaz de identificar 'Butter'. Los motivos de este comportamiento son, por un lado, que por defecto las expresiones regulares son *case sensitive*, por lo que 'B' y 'b' se consideran cadenas diferentes (y, por lo tanto, 'Butter' no es una coincidencia válida); y, por otra parte, que no estamos especificando delimitadores de las palabras, por lo que 'Webetter' es una coincidencia válida para 'better'.\n",
    "\n",
    "Si queremos que ignoren si las letras son mayúsculas o minúsculas a la hora de evaluar una expresión regular, podemos utilizar el flag `IGNORECASE` en la llamada:\n"
   ]
  },
  {
   "cell_type": "code",
   "execution_count": null,
   "metadata": {},
   "outputs": [
    {
     "name": "stdout",
     "output_type": "stream",
     "text": [
      "b\\wtter in pep_20_bis: ['better', 'better', 'Butter', 'better', 'bitter']\n"
     ]
    }
   ],
   "source": [
    "print(r\"b\\wtter in pep_20_bis: {}\".format(\n",
    "    re.findall(r\"b\\wtter\", pep_20_bis, re.IGNORECASE)))"
   ]
  },
  {
   "cell_type": "markdown",
   "metadata": {},
   "source": [
    "De este modo, 'Butter' se identifica correctamente. \n",
    "\n",
    "Por otra parte, si queremos buscar palabras completas (que no formen parte de otras palabras), podemos especificar el(los) carácter(es) que esperamos encontrar delante y detrás de la palabra:\n"
   ]
  },
  {
   "cell_type": "code",
   "execution_count": null,
   "metadata": {},
   "outputs": [
    {
     "name": "stdout",
     "output_type": "stream",
     "text": [
      " b\\wtter  in pep_20_bis: [' better ', ' better ', ' Butter ']\n",
      "[ \\.]b\\wtter[ \\.] in pep_20_bis: [' better ', ' better ', ' Butter ', ' bitter.']\n"
     ]
    }
   ],
   "source": [
    "# Delimitamos las palabras por espacios en blanco\n",
    "print(r\" b\\wtter  in pep_20_bis: {}\".format(\n",
    "    re.findall(r\" b\\wtter \", pep_20_bis, re.IGNORECASE)))\n",
    "# Delimitamos las palabras por espacios en blanco o por puntos\n",
    "print(r\"[ \\.]b\\wtter[ \\.] in pep_20_bis: {}\".format(\n",
    "    re.findall(r\"[ \\.]b\\wtter[ \\.]\", pep_20_bis, re.IGNORECASE)))"
   ]
  },
  {
   "cell_type": "markdown",
   "metadata": {},
   "source": [
    "En segundo lugar, veremos ahora cómo buscar palabras que empiecen con 'b' y terminen con 'tter', pero aceptando más de una letra en medio. A partir de la expresión que hemos utilizado para una sola letra entre las dos subcadenas, podemos indicar que aceptamos cualquier número de repeticiones de la letra entre 'b' y 'tter' con el modificador `*`, o bien exigir que, como mínimo, haya una con `+`:\n"
   ]
  },
  {
   "cell_type": "code",
   "execution_count": null,
   "metadata": {},
   "outputs": [
    {
     "name": "stdout",
     "output_type": "stream",
     "text": [
      "Using *: [' better ', ' better ', ' Butter ', ' bitter.', ' bYYYtter ', ' btter.']\n",
      "Using +: [' better ', ' better ', ' Butter ', ' bitter.', ' bYYYtter ']\n"
     ]
    }
   ],
   "source": [
    "print(\"Using *: {}\".format(\n",
    "    re.findall(r\"[ \\.]b\\w*tter[ \\.]\", pep_20_bis, re.IGNORECASE)))\n",
    "print(\"Using +: {}\".format(\n",
    "    re.findall(r\"[ \\.]b\\w+tter[ \\.]\", pep_20_bis, re.IGNORECASE)))"
   ]
  },
  {
   "cell_type": "markdown",
   "metadata": {},
   "source": [
    "Por último, podríamos utilizar una estrategia similar para identificar todas las palabras de seis letras, delimitándolas por espacios o puntos, y utilizando el carácter especial `\\w` repetido exactamente seis veces:\n"
   ]
  },
  {
   "cell_type": "code",
   "execution_count": null,
   "metadata": {},
   "outputs": [
    {
     "name": "stdout",
     "output_type": "stream",
     "text": [
      "6 letter words: [' better ', ' better ', ' Butter ', ' bitter.', ' python.']\n",
      "6 letter words: [' better ', ' better ', ' Butter ', ' bitter.', ' python.']\n"
     ]
    }
   ],
   "source": [
    "# Repitiendo el carácter \\w 6 veces explícitamente:\n",
    "print(\"6 letter words: {}\".format(\n",
    "    re.findall(r\"[ \\.]\\w\\w\\w\\w\\w\\w[ \\.]\", pep_20_bis)))\n",
    "# Especificando el número de repeticiones con {}:\n",
    "print(\"6 letter words: {}\".format(\n",
    "    re.findall(r\"[ \\.]\\w{6}[ \\.]\", pep_20_bis)))"
   ]
  },
  {
   "cell_type": "markdown",
   "metadata": {},
   "source": [
    "Esta sección ha presentado una pequeña introducción al uso de expresiones regulares con el módulo [`re`](https://docs.python.org/3.8/library/re.html) de Python. Ahora bien, hay muchos otros caracteres especiales y construcciones que se pueden hacer con el lenguaje de las expresiones regulares, y que nos pueden resultar útiles para procesar cadenas de caracteres. Para continuar el aprendizaje del uso de expresiones regulares en Python, os recomendamos leer el [*Regular Expression HOWTO*](https://docs.python.org/3/howto/regex.html#regex-howto) de la documentación oficial de Python.\n",
    "\n",
    "Adicionalmente, si queréis descubrir todos los detalles sobre el lenguaje de expresiones regulares y sobre las funciones que implementa el módulo `re` de Python, podéis dirigiros a la página oficial del [módulo `re`](https://docs.python.org/3/library/re.html).\n"
   ]
  }
 ],
 "metadata": {
  "kernelspec": {
   "display_name": "Python 3.9.5 ('the_bridge_22')",
   "language": "python",
   "name": "python3"
  },
  "language_info": {
   "codemirror_mode": {
    "name": "ipython",
    "version": 3
   },
   "file_extension": ".py",
   "mimetype": "text/x-python",
   "name": "python",
   "nbconvert_exporter": "python",
   "pygments_lexer": "ipython3",
   "version": "3.9.5"
  },
  "orig_nbformat": 4,
  "vscode": {
   "interpreter": {
    "hash": "1c79a6bee0cc3880bade9bffe4f2ea0bcfc562fd81915ef930f986f3657b2ce7"
   }
  }
 },
 "nbformat": 4,
 "nbformat_minor": 2
}
