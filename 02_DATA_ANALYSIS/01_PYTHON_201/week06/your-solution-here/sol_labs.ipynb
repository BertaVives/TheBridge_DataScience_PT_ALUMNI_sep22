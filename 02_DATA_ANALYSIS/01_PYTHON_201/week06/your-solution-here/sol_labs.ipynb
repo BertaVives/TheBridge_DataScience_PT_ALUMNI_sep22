{
 "cells": [
  {
   "cell_type": "markdown",
   "metadata": {},
   "source": [
    "## Lab 01\n",
    "\n",
    "Veremos un ejemplo que combina las tres funciones (reduce, map, filter). Supongamos que queremos definir una función que reciba y devuelva el producto de los cuadrados de todos los elementos impares de la lista. Combinando las tres funciones."
   ]
  },
  {
   "cell_type": "code",
   "execution_count": 49,
   "metadata": {},
   "outputs": [],
   "source": [
    "# Definimos una función que devuelve el producto de dos valores\n",
    "def prod_dos_valores(x, y):\n",
    "    return x*y\n",
    "\n",
    "# Definimos una función que devuelve el cuadrado de un valor\n",
    "def square(x):\n",
    "    return x**2\n",
    "\n",
    "# Definimos una función que devuelve True si el valor es impar\n",
    "def is_odd(x):\n",
    "    return x % 2"
   ]
  },
  {
   "cell_type": "code",
   "execution_count": 52,
   "metadata": {},
   "outputs": [],
   "source": [
    "# Definimos la función completa\n",
    "def prod_sq_if_odd(lista):\n",
    "    return reduce(prod_dos_valores, map(square, filter(is_odd, lista)))"
   ]
  },
  {
   "cell_type": "code",
   "execution_count": 53,
   "metadata": {},
   "outputs": [
    {
     "data": {
      "text/plain": [
       "2025"
      ]
     },
     "execution_count": 53,
     "metadata": {},
     "output_type": "execute_result"
    }
   ],
   "source": [
    "lista_valores = [5, 6, 9, 8]\n",
    "prod_sq_if_odd(lista_valores)"
   ]
  },
  {
   "cell_type": "code",
   "execution_count": 56,
   "metadata": {},
   "outputs": [],
   "source": [
    "# Realizar la misma función con lamda, map, filter, reduce\n",
    "def prod_sq_if_odd(lista):\n",
    "    return reduce((lambda x, y : x*y), map((lambda x : x**2), filter((lambda x : x%2), lista)))"
   ]
  },
  {
   "cell_type": "code",
   "execution_count": 57,
   "metadata": {},
   "outputs": [
    {
     "data": {
      "text/plain": [
       "2025"
      ]
     },
     "execution_count": 57,
     "metadata": {},
     "output_type": "execute_result"
    }
   ],
   "source": [
    "lista_valores = [5, 6, 9, 8]\n",
    "prod_sq_if_odd(lista_valores)"
   ]
  },
  {
   "cell_type": "markdown",
   "metadata": {},
   "source": [
    "## Lab 02\n",
    "\n",
    "Sumamos 2 a cada uno de los elementos que expresan valores numéricos (posiblemente decimales) de una lista de enteros utilizando una función anónima."
   ]
  },
  {
   "cell_type": "code",
   "execution_count": 58,
   "metadata": {},
   "outputs": [],
   "source": [
    "# Definimos una funcion que suma 2 a un número\n",
    "def sum_dos(x):\n",
    "    return x + 2\n",
    "\n",
    "# Definimos la función is_numeric que devuelve True si recibe un entero o un flotante como argumento. False en caso contrario.\n",
    "def is_numeric(x):\n",
    "    if type(x) == float or type(x) == int:\n",
    "        return True\n",
    "    return False"
   ]
  },
  {
   "cell_type": "code",
   "execution_count": 78,
   "metadata": {},
   "outputs": [
    {
     "data": {
      "text/plain": [
       "[7, 8, 11, 10]"
      ]
     },
     "execution_count": 78,
     "metadata": {},
     "output_type": "execute_result"
    }
   ],
   "source": [
    "# Realizar lo mismo con casi una función anónima\n",
    "def suma_if_numeric(lista):\n",
    "    return map(sum_dos, filter(is_numeric, lista))\n",
    "\n",
    "lista_valores = [5, 6, 9, 8]\n",
    "list(suma_if_numeric(lista_valores))"
   ]
  },
  {
   "cell_type": "code",
   "execution_count": 79,
   "metadata": {},
   "outputs": [
    {
     "data": {
      "text/plain": [
       "[7, 8, 11, 10]"
      ]
     },
     "execution_count": 79,
     "metadata": {},
     "output_type": "execute_result"
    }
   ],
   "source": [
    "# Realizar lo mismo con una función anónima\n",
    "def suma_if_numeric(lista):\n",
    "    return map((lambda x : x+2), filter((lambda x : (type(x) == float or type(x) == int)), lista))\n",
    "\n",
    "lista_valores = [5, 6, 9, 8]\n",
    "list(suma_if_numeric(lista_valores))"
   ]
  },
  {
   "cell_type": "markdown",
   "metadata": {},
   "source": [
    "## Lab 03\n",
    "\n",
    "Convertimos las cadenas de caracteres que expresan valores numéricos (posiblemente decimales) de una lista en enteros utilizando una función anónima"
   ]
  },
  {
   "cell_type": "code",
   "execution_count": 12,
   "metadata": {},
   "outputs": [
    {
     "data": {
      "text/plain": [
       "[42, 13, 12000]"
      ]
     },
     "execution_count": 12,
     "metadata": {},
     "output_type": "execute_result"
    }
   ],
   "source": [
    "lista = [\"42.45\", \"13.4\", \"12000\"]\n",
    "\n",
    "def str_to_int(x):\n",
    "    return int(float(x))\n",
    "        \n",
    "resultado = list(map(str_to_int,lista))\n",
    "resultado\n"
   ]
  },
  {
   "cell_type": "markdown",
   "metadata": {},
   "source": [
    "## Lab 04\n",
    "\n",
    "Filtramos de una lista los valores numéricos"
   ]
  },
  {
   "cell_type": "code",
   "execution_count": 14,
   "metadata": {},
   "outputs": [
    {
     "data": {
      "text/plain": [
       "[1, 2, 5, 5.5, 6]"
      ]
     },
     "execution_count": 14,
     "metadata": {},
     "output_type": "execute_result"
    }
   ],
   "source": [
    "lista = [1, 2, \"three\", \"four\", 5, 5.5, 6, [0, 0, 1], None]\n",
    "\n",
    "def is_numeric(x):\n",
    "    if type(x) == float or type(x) == int:\n",
    "        return True\n",
    "    return False\n",
    "\n",
    "resultado = list(filter(is_numeric, lista))\n",
    "resultado"
   ]
  },
  {
   "cell_type": "markdown",
   "metadata": {},
   "source": [
    "## Lab 05\n",
    "\n",
    "Calculamos el máximo de una lista con reduce y una función anónima que devuelve el máximo de dos valores"
   ]
  },
  {
   "cell_type": "code",
   "execution_count": 19,
   "metadata": {},
   "outputs": [
    {
     "data": {
      "text/plain": [
       "30"
      ]
     },
     "execution_count": 19,
     "metadata": {},
     "output_type": "execute_result"
    }
   ],
   "source": [
    "from functools import reduce\n",
    "\n",
    "lista = [10, 1, 15, 19, 30]\n",
    "\n",
    "fun = lambda x,y: max(x,y)\n",
    "reduce(fun,lista)"
   ]
  }
 ],
 "metadata": {
  "kernelspec": {
   "display_name": "Python 3.9.13 ('rampup_py39')",
   "language": "python",
   "name": "python3"
  },
  "language_info": {
   "codemirror_mode": {
    "name": "ipython",
    "version": 3
   },
   "file_extension": ".py",
   "mimetype": "text/x-python",
   "name": "python",
   "nbconvert_exporter": "python",
   "pygments_lexer": "ipython3",
   "version": "3.9.13"
  },
  "orig_nbformat": 4,
  "vscode": {
   "interpreter": {
    "hash": "bf2fa21de63e571e13c3c64d771f5f5a56667a11fed5246af56bcbf0a5c596f0"
   }
  }
 },
 "nbformat": 4,
 "nbformat_minor": 2
}
