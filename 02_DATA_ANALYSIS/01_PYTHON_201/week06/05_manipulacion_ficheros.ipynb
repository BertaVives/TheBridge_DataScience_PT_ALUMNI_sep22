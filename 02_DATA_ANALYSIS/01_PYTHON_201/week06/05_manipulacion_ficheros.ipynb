{
 "cells": [
  {
   "cell_type": "markdown",
   "metadata": {},
   "source": [
    "# Manipulación de ficheros "
   ]
  },
  {
   "cell_type": "markdown",
   "metadata": {},
   "source": [
    "## Lectura y escritura de ficheros"
   ]
  },
  {
   "cell_type": "code",
   "execution_count": 9,
   "metadata": {},
   "outputs": [],
   "source": [
    "import os\n",
    "\n",
    "# El primer método es con OPEN\n",
    "\n",
    "# Abrimos el fichero test_file.txt para escritura\n",
    "out = open('folder_ficheros/test_file.txt', 'w')\n",
    "\n",
    "# Escribimos la palabra TheBridge en este fichero\n",
    "out.write(\"TheBridge 2 \\n\")\n",
    "\n",
    "# Cerramos y forzamos el cierre de la conexión\n",
    "out.close()\n",
    "\n",
    "# Intentamos escribir más líneas con la conexión cerrada y observamos el resultado\n",
    "try:\n",
    "    out.write(\"otro testo alternativo\")\n",
    "except ValueError as e:\n",
    "    print(e)"
   ]
  },
  {
   "cell_type": "code",
   "execution_count": 4,
   "metadata": {},
   "outputs": [
    {
     "name": "stdout",
     "output_type": "stream",
     "text": [
      "I/O operation on closed file.\n"
     ]
    }
   ],
   "source": [
    "# El segundo método es con el WITH OPEN\n",
    "ruta_fichero = 'folder_ficheros/otro_test_file.txt'\n",
    "with open(ruta_fichero, 'w') as f:\n",
    "    f.write(\"otro testo\")\n",
    "\n",
    "try:\n",
    "    f.write(\"otro testo alternativo\")\n",
    "except ValueError as e:\n",
    "    print(e)"
   ]
  },
  {
   "cell_type": "markdown",
   "metadata": {},
   "source": [
    "## Rutas o Path"
   ]
  },
  {
   "cell_type": "markdown",
   "metadata": {},
   "source": [
    "* `r` : read\n",
    "* `w` : write\n",
    "* `x` : creación exclusiva\n",
    "* `a` : append\n",
    "* `b` : escribe en formato binario\n",
    "* `t` : modo texto, default\n",
    "* `+` : modo actualización (tanto a lectura `r+` que a escritura `w+`)"
   ]
  },
  {
   "cell_type": "code",
   "execution_count": 12,
   "metadata": {},
   "outputs": [],
   "source": [
    "file_path = 'folder_ficheros/test_file.txt'\n",
    "\n",
    "try:\n",
    "    with open(file_path, 'r') as inp:\n",
    "        pass\n",
    "except FileNotFoundError as e:\n",
    "    print(e)"
   ]
  },
  {
   "cell_type": "code",
   "execution_count": 15,
   "metadata": {},
   "outputs": [],
   "source": [
    "# Intentamos abrir el mismo fichero y escribimos dos sentencias\n",
    "with open(file_path, 'w') as out:\n",
    "    out.write(\"Este fichero no existe\\n\") # Utilizamos \\n como nueva linea (newline)\n",
    "    out.write(\"YA contiene dos sentencias\\n\")"
   ]
  },
  {
   "cell_type": "code",
   "execution_count": 16,
   "metadata": {},
   "outputs": [
    {
     "name": "stdout",
     "output_type": "stream",
     "text": [
      "Este fichero no existe\n",
      "YA contiene dos sentencias\n",
      "\n"
     ]
    }
   ],
   "source": [
    "# Abrimos el fichero para leer las dos sentencias\n",
    "try:\n",
    "    with open(file_path, 'r') as inp:\n",
    "        content = inp.read()\n",
    "        print(content)\n",
    "\n",
    "except FileNotFoundError as e:\n",
    "    print(e)"
   ]
  },
  {
   "cell_type": "code",
   "execution_count": 22,
   "metadata": {},
   "outputs": [
    {
     "data": {
      "text/plain": [
       "'Este fichero no existe\\nYA contiene dos sentencias\\n'"
      ]
     },
     "execution_count": 22,
     "metadata": {},
     "output_type": "execute_result"
    }
   ],
   "source": [
    "content"
   ]
  },
  {
   "cell_type": "markdown",
   "metadata": {},
   "source": [
    "### Lectura de ficheros grandes"
   ]
  },
  {
   "cell_type": "code",
   "execution_count": 23,
   "metadata": {},
   "outputs": [
    {
     "name": "stdout",
     "output_type": "stream",
     "text": [
      "El tamaño del fichero es 250.087890625 en Kb\n"
     ]
    }
   ],
   "source": [
    "from sys import getsizeof\n",
    "\n",
    "path_big_file = 'folder_ficheros/somehow_big_file.txt'\n",
    "\n",
    "with open(path_big_file, 'r') as f:\n",
    "    content = f.read()\n",
    "    size_in_bytes = getsizeof(content)\n",
    "\n",
    "    print(\"El tamaño del fichero es {} en Kb\".format(size_in_bytes / 1024))"
   ]
  },
  {
   "cell_type": "code",
   "execution_count": 24,
   "metadata": {},
   "outputs": [
    {
     "name": "stdout",
     "output_type": "stream",
     "text": [
      "El tamaño de la línea es 0.291015625 Kb\n",
      "El tamaño de la línea es 0.1982421875 Kb\n",
      "El tamaño de la línea es 0.1923828125 Kb\n",
      "El tamaño de la línea es 0.3056640625 Kb\n",
      "El tamaño de la línea es 0.240234375 Kb\n"
     ]
    }
   ],
   "source": [
    "# Si queremos leer el fichero línea por línea\n",
    "with open(path_big_file, 'r') as f:\n",
    "    counter = 0\n",
    "    for line in f:\n",
    "        size_in_bytes = getsizeof(line)\n",
    "        print(\"El tamaño de la línea es {} Kb\".format(\n",
    "            size_in_bytes / 1024)\n",
    "        )\n",
    "        counter += 1\n",
    "        if counter == 5:\n",
    "            break"
   ]
  },
  {
   "cell_type": "markdown",
   "metadata": {},
   "source": [
    "## Creación de carpetas"
   ]
  },
  {
   "cell_type": "markdown",
   "metadata": {},
   "source": [
    "`mkdir` o `makedirs`"
   ]
  },
  {
   "cell_type": "code",
   "execution_count": 25,
   "metadata": {},
   "outputs": [
    {
     "ename": "FileNotFoundError",
     "evalue": "[Errno 2] No such file or directory: 'otra_carpeta/fichero.txtw'",
     "output_type": "error",
     "traceback": [
      "\u001b[1;31m---------------------------------------------------------------------------\u001b[0m",
      "\u001b[1;31mFileNotFoundError\u001b[0m                         Traceback (most recent call last)",
      "\u001b[1;32mc:\\Users\\mrusso\\OneDrive - ATSISTEMAS SA\\Documentos\\GitHub\\TheBridge_DataScience_PT_ALUMNI_sep22\\02_DATA_ANALYSIS\\01_PYTHON_201\\week06\\05_manipulacion_ficheros.ipynb Celda 16\u001b[0m in \u001b[0;36m<module>\u001b[1;34m\u001b[0m\n\u001b[1;32m----> <a href='vscode-notebook-cell:/c%3A/Users/mrusso/OneDrive%20-%20ATSISTEMAS%20SA/Documentos/GitHub/TheBridge_DataScience_PT_ALUMNI_sep22/02_DATA_ANALYSIS/01_PYTHON_201/week06/05_manipulacion_ficheros.ipynb#X30sZmlsZQ%3D%3D?line=0'>1</a>\u001b[0m \u001b[39mwith\u001b[39;00m \u001b[39mopen\u001b[39;49m(\u001b[39m'\u001b[39;49m\u001b[39motra_carpeta/fichero.txt\u001b[39;49m\u001b[39m'\u001b[39;49m \u001b[39m'\u001b[39;49m\u001b[39mw\u001b[39;49m\u001b[39m'\u001b[39;49m) \u001b[39mas\u001b[39;00m f:\n\u001b[0;32m      <a href='vscode-notebook-cell:/c%3A/Users/mrusso/OneDrive%20-%20ATSISTEMAS%20SA/Documentos/GitHub/TheBridge_DataScience_PT_ALUMNI_sep22/02_DATA_ANALYSIS/01_PYTHON_201/week06/05_manipulacion_ficheros.ipynb#X30sZmlsZQ%3D%3D?line=1'>2</a>\u001b[0m     f\u001b[39m.\u001b[39mwrite(\u001b[39m\"\u001b[39m\u001b[39mUna nueva línea\u001b[39m\u001b[39m\"\u001b[39m)\n",
      "\u001b[1;31mFileNotFoundError\u001b[0m: [Errno 2] No such file or directory: 'otra_carpeta/fichero.txtw'"
     ]
    }
   ],
   "source": [
    "with open('otra_carpeta/fichero.txt' 'w') as f:\n",
    "    f.write(\"Una nueva línea\")"
   ]
  },
  {
   "cell_type": "code",
   "execution_count": 28,
   "metadata": {},
   "outputs": [],
   "source": [
    "# Creamos la carpeta dentro de la actual\n",
    "new_folder = 'folder_ficheros/otra_carpeta'\n",
    "os.mkdir(new_folder)\n",
    "\n",
    "os.mkdir('folder_ficheros/nueva_carpeta')"
   ]
  },
  {
   "cell_type": "code",
   "execution_count": 30,
   "metadata": {},
   "outputs": [
    {
     "ename": "FileExistsError",
     "evalue": "[WinError 183] No se puede crear un archivo que ya existe: 'folder_ficheros/nueva_carpeta_mas'",
     "output_type": "error",
     "traceback": [
      "\u001b[1;31m---------------------------------------------------------------------------\u001b[0m",
      "\u001b[1;31mFileExistsError\u001b[0m                           Traceback (most recent call last)",
      "\u001b[1;32mc:\\Users\\mrusso\\OneDrive - ATSISTEMAS SA\\Documentos\\GitHub\\TheBridge_DataScience_PT_ALUMNI_sep22\\02_DATA_ANALYSIS\\01_PYTHON_201\\week06\\05_manipulacion_ficheros.ipynb Celda 18\u001b[0m in \u001b[0;36m<module>\u001b[1;34m\u001b[0m\n\u001b[1;32m----> <a href='vscode-notebook-cell:/c%3A/Users/mrusso/OneDrive%20-%20ATSISTEMAS%20SA/Documentos/GitHub/TheBridge_DataScience_PT_ALUMNI_sep22/02_DATA_ANALYSIS/01_PYTHON_201/week06/05_manipulacion_ficheros.ipynb#X32sZmlsZQ%3D%3D?line=0'>1</a>\u001b[0m os\u001b[39m.\u001b[39;49mmkdir(\u001b[39m'\u001b[39;49m\u001b[39mfolder_ficheros/nueva_carpeta_mas\u001b[39;49m\u001b[39m'\u001b[39;49m)\n",
      "\u001b[1;31mFileExistsError\u001b[0m: [WinError 183] No se puede crear un archivo que ya existe: 'folder_ficheros/nueva_carpeta_mas'"
     ]
    }
   ],
   "source": [
    "os.mkdir('folder_ficheros/nueva_carpeta_mas')"
   ]
  },
  {
   "cell_type": "code",
   "execution_count": 31,
   "metadata": {},
   "outputs": [],
   "source": [
    "# creación de carpetas multiples o anidadas\n",
    "new_folders = 'folder_ficheros/sub1/sub2/sub3'\n",
    "os.makedirs(new_folders)"
   ]
  },
  {
   "cell_type": "markdown",
   "metadata": {},
   "source": [
    "## Borrar ficheros y carpetas"
   ]
  },
  {
   "cell_type": "code",
   "execution_count": 32,
   "metadata": {},
   "outputs": [],
   "source": [
    "# Borramos el fichero test_file.txt\n",
    "os.remove('folder_ficheros/test_file.txt')"
   ]
  },
  {
   "cell_type": "code",
   "execution_count": 33,
   "metadata": {},
   "outputs": [],
   "source": [
    "# Borramos una carpeta vacía (siempre se borrará una carpeta vacía no con ficheros)\n",
    "empty_folder = 'folder_ficheros/nueva_carpeta_mas/'\n",
    "os.rmdir(empty_folder)"
   ]
  },
  {
   "cell_type": "code",
   "execution_count": 34,
   "metadata": {},
   "outputs": [
    {
     "name": "stdout",
     "output_type": "stream",
     "text": [
      "[WinError 145] El directorio no está vacío: 'folder_ficheros'\n"
     ]
    }
   ],
   "source": [
    "# Intentamos borrar una carpeta con ficheros\n",
    "try:\n",
    "    non_empty_fold = 'folder_ficheros'\n",
    "    os.rmdir(non_empty_fold)\n",
    "except OSError as e:\n",
    "    print(e)"
   ]
  },
  {
   "cell_type": "markdown",
   "metadata": {},
   "source": [
    "Si queremos utilizar comandos linux podemos operar con el comando en Python\n",
    "`shutil`"
   ]
  },
  {
   "cell_type": "code",
   "execution_count": 43,
   "metadata": {},
   "outputs": [
    {
     "data": {
      "text/plain": [
       "<function shutil.rmtree(path, ignore_errors=False, onerror=None)>"
      ]
     },
     "execution_count": 43,
     "metadata": {},
     "output_type": "execute_result"
    }
   ],
   "source": [
    "from shutil import rmtree\n",
    "rmtree"
   ]
  },
  {
   "cell_type": "markdown",
   "metadata": {},
   "source": [
    "## Rename o renombrar ficheros"
   ]
  },
  {
   "cell_type": "code",
   "execution_count": 44,
   "metadata": {},
   "outputs": [],
   "source": [
    "# Renombrar fichero original otro_test_file a nuevo_test_modificado\n",
    "prev_fichero = 'folder_ficheros/otro_test_file.txt'\n",
    "new_fichero = 'folder_ficheros/nuevo_test_modificado.txt'\n",
    "os.rename(prev_fichero, new_fichero)"
   ]
  },
  {
   "cell_type": "markdown",
   "metadata": {},
   "source": [
    "## Funciones auxiliares del comando `path`"
   ]
  },
  {
   "cell_type": "code",
   "execution_count": 48,
   "metadata": {},
   "outputs": [
    {
     "name": "stdout",
     "output_type": "stream",
     "text": [
      "\\home\\Users\\Public\\Documents\\\n"
     ]
    }
   ],
   "source": [
    "# Unimos diferentes partes del un path con el os.join\n",
    "\n",
    "# En windows\n",
    "path = \"\\home\"\n",
    "full_path = os.path.join(path, \"Users\\\\Public\\\\\", \"Documents\", \"\")\n",
    "print(full_path)"
   ]
  },
  {
   "cell_type": "code",
   "execution_count": 52,
   "metadata": {},
   "outputs": [
    {
     "name": "stdout",
     "output_type": "stream",
     "text": [
      "/Users/Public/Documents\\\n"
     ]
    }
   ],
   "source": [
    "# Linux y Mac\n",
    "path = \"/home\"\n",
    "full_path = os.path.join(path, \"/Users/Public/\", \"Documents\", \"\")\n",
    "print(full_path)"
   ]
  },
  {
   "cell_type": "code",
   "execution_count": 53,
   "metadata": {},
   "outputs": [
    {
     "data": {
      "text/plain": [
       "'/Users/Public/Documents'"
      ]
     },
     "execution_count": 53,
     "metadata": {},
     "output_type": "execute_result"
    }
   ],
   "source": [
    "# obtener el nombre del directorio\n",
    "os.path.dirname(full_path)"
   ]
  },
  {
   "cell_type": "code",
   "execution_count": 54,
   "metadata": {},
   "outputs": [
    {
     "data": {
      "text/plain": [
       "''"
      ]
     },
     "execution_count": 54,
     "metadata": {},
     "output_type": "execute_result"
    }
   ],
   "source": [
    "# Obtenemos el nombre del fichero\n",
    "os.path.basename(full_path)"
   ]
  },
  {
   "cell_type": "code",
   "execution_count": 60,
   "metadata": {},
   "outputs": [
    {
     "data": {
      "text/plain": [
       "('02_DATA_ANALYSIS\\x01_PYTHON_201\\\\week06\\x0colder_ficheros\\nuevo_test_modificado',\n",
       " '.txt')"
      ]
     },
     "execution_count": 60,
     "metadata": {},
     "output_type": "execute_result"
    }
   ],
   "source": [
    "# Para separar la extensión del path\n",
    "nueva_path = '02_DATA_ANALYSIS\\01_PYTHON_201\\week06\\folder_ficheros\\nuevo_test_modificado.txt'\n",
    "os.path.splitext(nueva_path)"
   ]
  },
  {
   "cell_type": "code",
   "execution_count": 65,
   "metadata": {},
   "outputs": [
    {
     "name": "stdout",
     "output_type": "stream",
     "text": [
      "Ruta existe? 02_DATA_ANALYSIS\u0001_PYTHON_201\\week06\folder_ficheros\n",
      "uevo_test_modificado.txt \t\t\t\n",
      "Ruta existe? ./\n"
     ]
    }
   ],
   "source": [
    "# Comandos para conocer si es una carpeta o fichero y si existe\n",
    "e = os.path.exists(nueva_path)\n",
    "print(\"Ruta existe? {} \\t\\t\\t\".format(nueva_path, e))\n",
    "\n",
    "path_1 = \"./\"\n",
    "e = os.path.exists(path_1)\n",
    "print(\"Ruta existe? {}\".format(path_1, e))"
   ]
  },
  {
   "cell_type": "code",
   "execution_count": 64,
   "metadata": {},
   "outputs": [
    {
     "data": {
      "text/plain": [
       "False"
      ]
     },
     "execution_count": 64,
     "metadata": {},
     "output_type": "execute_result"
    }
   ],
   "source": [
    "os.path.exists(nueva_path)"
   ]
  },
  {
   "cell_type": "code",
   "execution_count": 68,
   "metadata": {},
   "outputs": [
    {
     "data": {
      "text/plain": [
       "True"
      ]
     },
     "execution_count": 68,
     "metadata": {},
     "output_type": "execute_result"
    }
   ],
   "source": [
    "ruta_fichero = 'folder_ficheros/nuevo_test_modificado.txt'\n",
    "os.path.isfile(ruta_fichero)"
   ]
  },
  {
   "cell_type": "code",
   "execution_count": 69,
   "metadata": {},
   "outputs": [
    {
     "data": {
      "text/plain": [
       "True"
      ]
     },
     "execution_count": 69,
     "metadata": {},
     "output_type": "execute_result"
    }
   ],
   "source": [
    "directorio = 'folder_ficheros'\n",
    "os.path.isdir(directorio)"
   ]
  },
  {
   "cell_type": "code",
   "execution_count": 70,
   "metadata": {},
   "outputs": [
    {
     "name": "stdout",
     "output_type": "stream",
     "text": [
      "nueva_carpeta\n",
      "nuevo_test_modificado.txt\n",
      "otra_carpeta\n",
      "somehow_big_file.txt\n",
      "sub1\n"
     ]
    }
   ],
   "source": [
    "# Realizamos las entradas de un determinado directorio evaluando si tenemos \n",
    "# tanto carpetas que ficheros solo primer nivel\n",
    "with os.scandir(directorio) as dir_list:\n",
    "    for entry in dir_list:\n",
    "        print(entry.name)"
   ]
  },
  {
   "cell_type": "code",
   "execution_count": 71,
   "metadata": {},
   "outputs": [
    {
     "name": "stdout",
     "output_type": "stream",
     "text": [
      "nuevo_test_modificado.txt\n",
      "somehow_big_file.txt\n"
     ]
    }
   ],
   "source": [
    "# Mostramos todos los ficheros de la carpeta con una condición isfile\n",
    "with os.scandir(directorio) as dir_list:\n",
    "    for entry in dir_list:\n",
    "        if os.path.isfile(entry.path):\n",
    "            print(entry.name)"
   ]
  },
  {
   "cell_type": "code",
   "execution_count": 73,
   "metadata": {},
   "outputs": [
    {
     "name": "stdout",
     "output_type": "stream",
     "text": [
      "somehow_big_file.txt\n"
     ]
    }
   ],
   "source": [
    "with os.scandir(directorio) as dir_list:\n",
    "    for entry in dir_list:\n",
    "        if entry.is_file() and entry.name.endswith(\".txt\"):\n",
    "            print(entry.name)"
   ]
  },
  {
   "cell_type": "code",
   "execution_count": 77,
   "metadata": {},
   "outputs": [
    {
     "data": {
      "text/plain": [
       "['05_manipulacion_ficheros.ipynb',\n",
       " 'folder_ficheros',\n",
       " 'folder_ficheros\\\\nueva_carpeta',\n",
       " 'folder_ficheros\\\\nuevo_test_modificado.md',\n",
       " 'folder_ficheros\\\\otra_carpeta',\n",
       " 'folder_ficheros\\\\somehow_big_file.txt',\n",
       " 'folder_ficheros\\\\sub1',\n",
       " 'folder_ficheros\\\\sub1\\\\sub2',\n",
       " 'folder_ficheros\\\\sub1\\\\sub2\\\\sub3']"
      ]
     },
     "execution_count": 77,
     "metadata": {},
     "output_type": "execute_result"
    }
   ],
   "source": [
    "# import glob\n",
    "import glob\n",
    "glob.glob('**/*', recursive=True)"
   ]
  },
  {
   "cell_type": "code",
   "execution_count": 82,
   "metadata": {},
   "outputs": [
    {
     "data": {
      "text/plain": [
       "'c:\\\\Users\\\\mrusso\\\\OneDrive - ATSISTEMAS SA\\\\Documentos\\\\GitHub\\\\TheBridge_DataScience_PT_ALUMNI_sep22\\\\02_DATA_ANALYSIS\\\\01_PYTHON_201\\\\week06'"
      ]
     },
     "execution_count": 82,
     "metadata": {},
     "output_type": "execute_result"
    }
   ],
   "source": [
    "os.getcwd()"
   ]
  },
  {
   "cell_type": "code",
   "execution_count": 86,
   "metadata": {},
   "outputs": [
    {
     "data": {
      "text/plain": [
       "['folder_ficheros\\\\somehow_big_file.txt']"
      ]
     },
     "execution_count": 86,
     "metadata": {},
     "output_type": "execute_result"
    }
   ],
   "source": [
    "glob.glob('**/*.txt')"
   ]
  },
  {
   "cell_type": "markdown",
   "metadata": {},
   "source": [
    "## Tratamiento de ficheros comprimidos"
   ]
  },
  {
   "cell_type": "code",
   "execution_count": 87,
   "metadata": {},
   "outputs": [],
   "source": [
    "import zipfile as zf\n",
    "\n",
    "zip_file = 'carpeta_ficheros.zip'\n",
    "\n",
    "# Para crear ficheros comprimidos\n",
    "\n",
    "# with zf.ZipFile(zip_file, 'w', compression=zf.ZIP_DEFLATED) as zip_f:\n",
    "#     zip_f.write(<fichero_grande o cualquier fichero>)"
   ]
  },
  {
   "cell_type": "code",
   "execution_count": 88,
   "metadata": {},
   "outputs": [
    {
     "name": "stdout",
     "output_type": "stream",
     "text": [
      "File Name                                             Modified             Size\n",
      "carpeta_ficheros/                              2022-06-09 00:52:38            0\n",
      "carpeta_ficheros/data_marvel-wikia-data.csv    2022-03-31 20:15:12      2406621\n",
      "carpeta_ficheros/fichero.py                    2022-03-31 18:38:24           15\n",
      "carpeta_ficheros/fichero_prueba_2.txt          2022-03-31 19:19:24          500\n",
      "carpeta_ficheros/new_folder/                   2022-06-09 00:52:52            0\n",
      "carpeta_ficheros/new_folder/1/                 2022-06-09 00:53:20            0\n",
      "carpeta_ficheros/new_folder/1/fichero_prueba_2.txt 2022-03-31 19:19:24          500\n",
      "carpeta_ficheros/new_folder/fichero_prueba_2.txt 2022-03-31 19:19:24          500\n",
      "carpeta_ficheros/New_York_City.png             2022-04-01 19:02:04       249302\n",
      "carpeta_ficheros/somehow_big_file.txt          2022-03-31 19:24:24       256041\n",
      "None\n"
     ]
    }
   ],
   "source": [
    "# Para leer un fichero comprimido\n",
    "with zf.ZipFile(zip_file, 'r') as zip_f:\n",
    "    # Mostramos el contenido del fichero\n",
    "    print(zip_f.printdir())\n",
    "\n",
    "    # Descomprimimos el contenido del zip\n",
    "    zip_f.extractall()"
   ]
  },
  {
   "cell_type": "code",
   "execution_count": 90,
   "metadata": {},
   "outputs": [
    {
     "name": "stdout",
     "output_type": "stream",
     "text": [
      "File Name                                             Modified             Size\n",
      "carpeta_ficheros/                              2022-06-09 00:52:38            0\n",
      "carpeta_ficheros/data_marvel-wikia-data.csv    2022-03-31 20:15:12      2406621\n",
      "carpeta_ficheros/fichero.py                    2022-03-31 18:38:24           15\n",
      "carpeta_ficheros/fichero_prueba_2.txt          2022-03-31 19:19:24          500\n",
      "carpeta_ficheros/new_folder/                   2022-06-09 00:52:52            0\n",
      "carpeta_ficheros/new_folder/1/                 2022-06-09 00:53:20            0\n",
      "carpeta_ficheros/new_folder/1/fichero_prueba_2.txt 2022-03-31 19:19:24          500\n",
      "carpeta_ficheros/new_folder/fichero_prueba_2.txt 2022-03-31 19:19:24          500\n",
      "carpeta_ficheros/New_York_City.png             2022-04-01 19:02:04       249302\n",
      "carpeta_ficheros/somehow_big_file.txt          2022-03-31 19:24:24       256041\n",
      "None\n"
     ]
    }
   ],
   "source": [
    "# Descomprimir un solo fichero\n",
    "with zf.ZipFile(zip_file, 'r') as zip_f:\n",
    "    # Mostramos el contenido del fichero\n",
    "    print(zip_f.printdir())\n",
    "\n",
    "    # Descomprimimos el fichero\n",
    "    zip_f.extract(\"carpeta_ficheros/New_York_City.png\")"
   ]
  }
 ],
 "metadata": {
  "kernelspec": {
   "display_name": "Python 3.9.5 ('the_bridge_22')",
   "language": "python",
   "name": "python3"
  },
  "language_info": {
   "codemirror_mode": {
    "name": "ipython",
    "version": 3
   },
   "file_extension": ".py",
   "mimetype": "text/x-python",
   "name": "python",
   "nbconvert_exporter": "python",
   "pygments_lexer": "ipython3",
   "version": "3.9.5"
  },
  "orig_nbformat": 4,
  "vscode": {
   "interpreter": {
    "hash": "1c79a6bee0cc3880bade9bffe4f2ea0bcfc562fd81915ef930f986f3657b2ce7"
   }
  }
 },
 "nbformat": 4,
 "nbformat_minor": 2
}
