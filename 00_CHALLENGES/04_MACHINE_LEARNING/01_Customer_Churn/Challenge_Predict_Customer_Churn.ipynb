{
  "nbformat": 4,
  "nbformat_minor": 0,
  "metadata": {
    "colab": {
      "name": "Challenge_Predict_Customer_Churn",
      "provenance": []
    },
    "kernelspec": {
      "name": "python3",
      "display_name": "Python 3"
    },
    "language_info": {
      "name": "python"
    }
  },
  "cells": [
    {
      "cell_type": "markdown",
      "metadata": {
        "id": "b8lMOmiPjT5S"
      },
      "source": [
        "# Predict Customer Churn\n",
        "\n",
        "- author: vuestro_nombre\n",
        "- date: 27.10.2021\n",
        "- version: v1.0\n",
        "\n",
        "## What  is Churn Rate\n",
        "\n",
        "Churn rate (sometimes called attrition rate), in its broadest sense, is a measure of the number of individuals or items moving out of a collective group over a specific period. It is one of two primary factors that determine the steady-state level of customers a business will support.\n",
        "\n",
        "The term is used in many contexts, but is most widely applied in business with respect to a contractual customer base, for example in businesses with a subscriber-based service model such as mobile telephone networks and pay TV operators. The term is also used to refer to participant turnover in peer-to-peer networks. **Churn rate is an input into customer lifetime value modeling**, and can be part of a simulator used to measure return on marketing investment using marketing mix modeling.\n",
        "\n",
        "## CVL and Data Science\n",
        "\n",
        "Predictive analytics use churn prediction models that predict customer churn by assessing their propensity of risk to churn. Since these models generate a small prioritized list of potential defectors, they are effective at focusing customer retention marketing programs on the subset of the customer base who are most vulnerable to churn.\n",
        "\n",
        "To select the most appropiate method, **other aspects from accuracy**, which is the most common parameter, can and should be considered as form example: robustness, speed, interpretability, and ease of use. In this practice we propose a methodology for evaluating statisticl models for classification with the use of a composite indicator. This one measures multidimensional concepts which cannot be captured by a single parameter and help decision makers to solve this complex problem.\n",
        "\n",
        "We test our proposal on a set of five churn classification models drawn from a real experience, three of the, being based on individual classifiers(**logistic regression, decision tree, neural networks**), and other two constructed by using combined classifiers (**AdaBoost and Random Forest**).\n",
        "\n",
        "We will consider four different alternatives to add another values as input variables selection that will be influence on the performance of the churn prediction model: original variables, aggregate variables, PCA (Principal Component Analysis), and stacking procedure.\n",
        "\n",
        "\n",
        "\n",
        "## Main goal\n",
        "\n",
        "The goal of the exercise is:\n",
        "- Determine and present in an intuitive way the churn ratio at the time the data was taken and identify which factors are the main contributors to customer abandonment \n",
        "- Create a prediction model to determine if a customer is going to churn or not and a model that determines the probability that a customer will churn. \n",
        "- Illustrate the performance and business interest use of your model with the tools you deem appropriate.\n",
        "\n",
        "\n",
        "### Business understanding\n",
        "\n",
        "But how to start working with churn rate prediction? Which data is needed? And what are the steps to implementation?\n",
        "\n",
        "As with any machine learning task, data science specialists first need data to work with. Depending on the goal, researchers define what data they must collect. Next, selected data is prepared, preprocessed, and transformed in a form suitable for building machine learning models. Finding the right methods to training machines, fine-tuning the models, and selecting the best performers is another significant part of the work. Once a model that makes predictions with the highest accuracy is chosen, it can be put into production.\n",
        "\n",
        "The overall scope of work data scientists carry out to build ML-powered systems capable to forecast customer attrition may look like the following:\n",
        "\n",
        "- Understanding a problem and final goal\n",
        "- Data collection\n",
        "- Data preparation and preprocessing\n",
        "- Modeling and testing\n",
        "- Model deployment and monitoring\n",
        "\n",
        "### Understanding a problem and a final goal\n",
        "\n",
        "It’s important to understand what insights one needs to get from the analysis. In short, we must decide what question to ask and consequently what type of machine learning problem to solve: classification or regression."
      ]
    },
    {
      "cell_type": "code",
      "metadata": {
        "id": "xSzpaZnijiiZ"
      },
      "source": [
        ""
      ],
      "execution_count": null,
      "outputs": []
    },
    {
      "cell_type": "code",
      "metadata": {
        "id": "tSUswRXDjVBC"
      },
      "source": [
        ""
      ],
      "execution_count": null,
      "outputs": []
    },
    {
      "cell_type": "code",
      "metadata": {
        "id": "QUSI9TMC7nU7"
      },
      "source": [
        ""
      ],
      "execution_count": null,
      "outputs": []
    },
    {
      "cell_type": "code",
      "metadata": {
        "id": "8XbAuOS8712I"
      },
      "source": [
        ""
      ],
      "execution_count": null,
      "outputs": []
    }
  ]
}