{
 "cells": [
  {
   "cell_type": "markdown",
   "metadata": {
    "id": "Ck4PufGcoNb2"
   },
   "source": [
    "# PEC 3 - Web Scraping Streaming"
   ]
  },
  {
   "cell_type": "markdown",
   "metadata": {
    "id": "KC-F1owwXIEv"
   },
   "source": [
    "En esta PEC vamos a **continuar trabajando el web scraping**. Vamos a prestar especial atención al web scraping en streaming que es el objetivo del reto. Además, continuaremos explorando otras librerías que nos permiten hacer web scraping, como request-html y SerPapi.\n",
    "\n",
    "Por tanto, la PEC se va a dividir en **3 PARTES**: Web Scraping en Streaming, Web Scraping con Requests-html y, Web Scraping con SerPapi.\n",
    "\n",
    "Mencionar que, en algunos ejercicios se va a motivar el uso de los selectores CSS y los XPath. \n",
    "**Los selectores CSS y XPath** son expresiones que permiten seleccionar elementos de un documento HTML basados en sus clases o en la ubicación dentro del contenido. \n",
    "Una referencia interesante de los mismos la podéis encontrar en las siguientes dos páginas web: https://www.w3schools.com/xml/xpath_syntax.asp, https://www.w3schools.com/cssref/css_selectors.asp "
   ]
  },
  {
   "cell_type": "markdown",
   "metadata": {
    "id": "kXE7YpuEXzMf"
   },
   "source": [
    "_Ejemplo:_\n",
    "\n",
    "\n",
    "\n",
    "*   _p.intro.rellevant_: seleccionaría los elementos _párrafo_ con valores de classe iguales a 'intro' y 'rellevant'.  \n",
    "*   _div > p_ : selecciona todos los elementos _\\<p>_ donde el padre sea un elemento \\<div>.\n",
    "\n",
    "\n"
   ]
  },
  {
   "cell_type": "markdown",
   "metadata": {
    "id": "vuWjGbsToksq"
   },
   "source": [
    "## Parte 3:  Web Scraping con SerPapi"
   ]
  },
  {
   "cell_type": "markdown",
   "metadata": {
    "id": "gDPc701CAWXx"
   },
   "source": [
    "En esta parte vamos a realizar web scraping utilizando SerpApi. Esta API permite escrapear el contenido que es el resultado de diferentes motores de búsqueda como Google, Yahoo, Youtube,.. Concretamente, en este ejercicio, nos centraremos en los resultados de búsqueda de Youtube.\n",
    "SerpApi permite el uso gratuito siempre que no excedas las 100 consultas mensuales, asimismo, siempre está la opción desarrollador que incluye la modalidad de pago. Nosotros, utilizaremos las funcionalidades gratuitas de esta API. \n",
    "Para poder utilizar SerpApi, y por tanto continuar con la realización de la PEC, se deben seguir estos pasos:\n",
    "1.\tCrear una cuenta en SerpApi para conseguir la clave secreta (API_SECRET__KEY) para poder realizar las diferentes solicitudes web. Para ello debes acceder a esta web: https://serpapi.com. Después de registrarte (es muy sencillo), deberás ir al correo con el que te has registrado para confirmar el correo y ya estarás preparado para utilizar la API.\n",
    "2.\tInstalar el módulo google-search-results para poder acceder a SerpAPI.\n",
    "3.\tConfigurar los parámetros de búsqueda, como el ejemplo siguiente:\n",
    "4.\tPasar los parámetros de búsqueda a la función GoogleSearchResults(searchParams) para obtener los resultados.\n",
    "5.\tCompletar el código para realizar la request y obtener los datos deseados. \n",
    "6.\tSeleccionar el contenido de los resultados que es de interés.\n",
    "\n",
    "En el siguiente código se puede observar el ejemplo de las instrucciones indicadas:\n",
    "\n",
    "\n",
    "\n",
    "```\n",
    "# Instalar modulo google-search-results\n",
    "!pip install google-search-results\n",
    "\n",
    "# Cargar librería\n",
    "from serpapi import GoogleSearch\n",
    "\n",
    "# Definir parámetros de búsqueda\n",
    "searchParams = {\n",
    "      \"api_key\": API_GOOGLE,\n",
    "      \"engine\": \"youtube\",\n",
    "      \"search_query\": \"Cambio climatico\"\n",
    "    }\n",
    "\n",
    "# Realizar solicitud\n",
    "search = GoogleSearch(searchParams)\n",
    "\n",
    "# Obtener resultados\n",
    "results = search.get_dict()\n",
    "```\n",
    "\n",
    "No obstante, para la realización correcta de la PEC, se recomienda que se explore la documentación de SerpAPI (https://serpapi.com/search-api) para poder realizar correctamente las consultas y seleccionar correctamente los resultados solicitados\n"
   ]
  },
  {
   "cell_type": "code",
   "execution_count": null,
   "metadata": {
    "id": "laI-lxJlN7y4"
   },
   "outputs": [],
   "source": [
    "!pip install google-search-results"
   ]
  },
  {
   "cell_type": "code",
   "execution_count": null,
   "metadata": {
    "id": "Niy7sA5POEUl"
   },
   "outputs": [],
   "source": [
    "API_GOOGLE = \"#############################\""
   ]
  },
  {
   "cell_type": "code",
   "execution_count": null,
   "metadata": {
    "id": "yOcQkYWM6E9k"
   },
   "outputs": [],
   "source": [
    "# Cargar librería\n",
    "from serpapi import GoogleSearch\n",
    "\n",
    "# Definir parámetros de búsqueda\n",
    "searchParams = {\n",
    "      \"api_key\": API_GOOGLE,\n",
    "      \"engine\": \"youtube\",\n",
    "      \"search_query\": \"Cambio climatico\"\n",
    "    }\n",
    "\n",
    "# Realizar solicitud\n",
    "search = GoogleSearch(searchParams)\n",
    "\n",
    "# Obtener resultados\n",
    "results = search.get_dict()"
   ]
  },
  {
   "cell_type": "markdown",
   "metadata": {
    "id": "2ID-7wj_IycY"
   },
   "source": [
    "### **Ejercicio práctico 4 (Youtube)**"
   ]
  },
  {
   "cell_type": "markdown",
   "metadata": {
    "id": "c7fYzwGSJoEz"
   },
   "source": [
    "En este ejercicio se solicita al estudiante que, haciendo uso de SerpAPi, implemente el código conveniente para resolver a las siguientes cuestiones:\n",
    "\n",
    "**1. TOP 10** autores españoles:\n",
    "\n",
    "- Hacer web scrapping (el método preferido para el estudiante) para obtener los 10 primeros artistas españoles del 2022 según Vinilo Negro: https://www.vinilonegro.com/2022/03/top-100-artistas-espanoles-streaming-en-espana-2022/\n",
    "\n",
    "- Con la lista de los 10, pasar cada nombre por el parámetro \"search_query\" y realizar una consulta en YouTube para conseguir título del canal, el link, el número de subscriptores y el número de vídeos (en caso que se reporte, de lo contrario dejarlo como N/A). Este paso debería hacerse dentro de un **loop**.\n",
    "\n",
    "- Con los resultados, crear un dataframe global (top_10), donde las columnas se correspondan con: ['title', 'link', 'subscribers', 'video_count']. Ordenarlo descendientemente por subscriptores."
   ]
  },
  {
   "cell_type": "code",
   "execution_count": null,
   "metadata": {
    "id": "ktFxHoYdM1Oh"
   },
   "outputs": [],
   "source": [
    "#Cargar librerias\n",
    "#TODO\n"
   ]
  },
  {
   "cell_type": "code",
   "execution_count": null,
   "metadata": {
    "id": "KjIBpLZaxAt6"
   },
   "outputs": [],
   "source": [
    "# Obtener contenido del documento html relativo a los artistas españoles más escuchados  (lista_usuarios)\n",
    "#TODO\n",
    "\n",
    "# Hacer la solicitud\n",
    "#TODO\n",
    "\n",
    "# Extraer el HTML\n",
    "#TODO\n",
    "\n",
    "# Convertir HTML a BeautifulSoup object. \n",
    "#TODO\n",
    "\n",
    "# Obtener valores tabla\n",
    "#TODO\n"
   ]
  },
  {
   "cell_type": "code",
   "execution_count": null,
   "metadata": {
    "id": "5gb686orxDDd"
   },
   "outputs": [],
   "source": [
    "# Mostramos los nombres\n",
    "#TODO\n"
   ]
  },
  {
   "cell_type": "code",
   "execution_count": null,
   "metadata": {
    "id": "nDt7mQ-JxJ20"
   },
   "outputs": [],
   "source": [
    "# Consultamos autor por autor en YouTube\n",
    "#TODO\n"
   ]
  },
  {
   "cell_type": "code",
   "execution_count": null,
   "metadata": {
    "id": "zNvpE_fOxbzX"
   },
   "outputs": [],
   "source": [
    "# Crear el DataFrame\n",
    "#TODO\n"
   ]
  },
  {
   "cell_type": "code",
   "execution_count": null,
   "metadata": {},
   "outputs": [],
   "source": [
    "# Ordenarlo descendientemente\n",
    "#TODO\n"
   ]
  },
  {
   "cell_type": "markdown",
   "metadata": {
    "id": "UtWzYK27w-7j"
   },
   "source": [
    "**2. Obtener**:\n",
    "\n",
    "  - ¿Cuáles son los títulos de los videos que aparecen cuando buscamos \"climate change\"? ¿Qué 10 títulos son los que tienen más visualizaciones?  \n",
    "  -  ¿Cuantos videos en total aparecen en la búsqueda?"
   ]
  },
  {
   "cell_type": "code",
   "execution_count": null,
   "metadata": {},
   "outputs": [],
   "source": [
    "# Hacemos la consulta\n",
    "#TODO\n"
   ]
  },
  {
   "cell_type": "code",
   "execution_count": null,
   "metadata": {},
   "outputs": [],
   "source": [
    "# Extraemos y mostramos los resultados\n",
    "#TODO\n"
   ]
  },
  {
   "cell_type": "code",
   "execution_count": null,
   "metadata": {},
   "outputs": [],
   "source": [
    "# Creamos el DataFrame, lo ordenamos y mostramos los 10 videos más vistos\n",
    "#TODO\n"
   ]
  },
  {
   "cell_type": "markdown",
   "metadata": {
    "id": "UtWzYK27w-7j"
   },
   "source": [
    "**3. Obtener**:\n",
    "\n",
    "  - El título y duración de las **películas** que aparecen en Youtube cuando buscamos \"James Bond\".\n",
    "  - Obtener los videos relacionados (**\"people_also_watched'**) con los resultados de la búsqueda \"Oscar ceremony 2022\". Con esta información crear un dataframe que contenga tantas filas como videos relacionados obtenidos y las columnas relativas a la información del nombre del canal donde está publicado el video, titulo del vídeo, vistas del video y link del video."
   ]
  },
  {
   "cell_type": "code",
   "execution_count": null,
   "metadata": {},
   "outputs": [],
   "source": [
    "# Hacemos la consulta\n",
    "#TODO\n"
   ]
  },
  {
   "cell_type": "code",
   "execution_count": null,
   "metadata": {},
   "outputs": [],
   "source": [
    "# Extraemos y mostramos los resultados\n",
    "#TODO\n"
   ]
  },
  {
   "cell_type": "code",
   "execution_count": null,
   "metadata": {},
   "outputs": [],
   "source": [
    "# Hacemos la consulta de \"poeple also watched\"\n",
    "#TODO\n"
   ]
  },
  {
   "cell_type": "code",
   "execution_count": null,
   "metadata": {},
   "outputs": [],
   "source": [
    "# Creamos y mostramos el dataframe con los resultados\n",
    "#TODO\n"
   ]
  }
 ],
 "metadata": {
  "colab": {
   "collapsed_sections": [
    "ZYIvtVsuFTrD"
   ],
   "name": "CyPD_PEC3_2020_1.ipynb",
   "provenance": []
  },
  "kernelspec": {
   "display_name": "Python 3.9.5 ('the_bridge_22')",
   "language": "python",
   "name": "python3"
  },
  "language_info": {
   "codemirror_mode": {
    "name": "ipython",
    "version": 3
   },
   "file_extension": ".py",
   "mimetype": "text/x-python",
   "name": "python",
   "nbconvert_exporter": "python",
   "pygments_lexer": "ipython3",
   "version": "3.9.5"
  },
  "vscode": {
   "interpreter": {
    "hash": "1c79a6bee0cc3880bade9bffe4f2ea0bcfc562fd81915ef930f986f3657b2ce7"
   }
  }
 },
 "nbformat": 4,
 "nbformat_minor": 1
}
