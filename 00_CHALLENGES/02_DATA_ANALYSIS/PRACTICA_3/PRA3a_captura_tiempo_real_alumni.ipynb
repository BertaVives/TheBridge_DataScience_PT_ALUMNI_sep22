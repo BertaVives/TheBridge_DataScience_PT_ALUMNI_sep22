{
 "cells": [
  {
   "cell_type": "markdown",
   "metadata": {
    "id": "Ck4PufGcoNb2"
   },
   "source": [
    "# PEC 3 - Web Scraping Streaming"
   ]
  },
  {
   "cell_type": "markdown",
   "metadata": {
    "id": "KC-F1owwXIEv"
   },
   "source": [
    "En esta PEC vamos a **continuar trabajando el web scraping**. Vamos a prestar especial atención al web scraping en streaming que es el objetivo del reto. Además, continuaremos explorando otras librerías que nos permiten hacer web scraping, como request-html y SerPapi.\n",
    "\n",
    "Por tanto, la PEC se va a dividir en **3 PARTES**: Web Scraping en Streaming, Web Scraping con Requests-html y, Web Scraping con SerPapi.\n",
    "\n",
    "Mencionar que, en algunos ejercicios se va a motivar el uso de los selectores CSS y los XPath. \n",
    "**Los selectores CSS y XPath** son expresiones que permiten seleccionar elementos de un documento HTML basados en sus clases o en la ubicación dentro del contenido. \n",
    "Una referencia interesante de los mismos la podéis encontrar en las siguientes dos páginas web: https://www.w3schools.com/xml/xpath_syntax.asp, https://www.w3schools.com/cssref/css_selectors.asp "
   ]
  },
  {
   "cell_type": "markdown",
   "metadata": {
    "id": "kXE7YpuEXzMf"
   },
   "source": [
    "_Ejemplo:_\n",
    "\n",
    "\n",
    "\n",
    "*   _p.intro.rellevant_: seleccionaría los elementos _párrafo_ con valores de classe iguales a 'intro' y 'rellevant'.  \n",
    "*   _div > p_ : selecciona todos los elementos _\\<p>_ donde el padre sea un elemento \\<div>.\n",
    "\n",
    "\n"
   ]
  },
  {
   "cell_type": "markdown",
   "metadata": {
    "id": "dabjS3OEoWkB"
   },
   "source": [
    "## Parte 1. Web Scraping (Streaming)"
   ]
  },
  {
   "cell_type": "markdown",
   "metadata": {
    "id": "35pFMJce-FCS"
   },
   "source": [
    "El Web scraping en streaming consiste básicamente en extraer datos de la web cuando estos datos cambian en tiempo real. Un claro ejemplo sería la extracción de datos procedentes de redes sociales.\n",
    "\n",
    "Para trabajar esta parte vamos a extraer datos de la red social Twitter. Para ello, vamos a utilizar la API  de Twitter. Esta API necesita registrarse y acceder con una clave (Api KEY).\n",
    "\n",
    "El primer paso, por tanto, es acceder al centro de desarrolladores de aplicaciones de Twitter (https://apps.twitter.com). Aquí deberéis entrar con vuestra cuenta twitter. En caso de no tener cuenta, previamente se recomienda que os creeis una para la realización de la PAC y que después de entregar la PAC, si no la queréis conservar, la eliminéis.\n",
    "\n",
    "**Los pasos que debéis seguir para registraros, se han detallado en el anexo del documento del enunciado de la PAC.**\n",
    "\n",
    "Una vez registrados y haber solicitado las credenciales, cuando recibamos la aprobación y tengamos acceso a nuestras claves, podemos empezar a obtener información disponible de Twitter.\n",
    "\n",
    "Para hacer web scraping en Twitter, vamos a utilizar la librería tweepy. Esta cuenta con diferentes funciones que nos permiten obtener información de las cuentas y sobre los tweets más recientes. Durante la realización de la PAC, vamos a utilizar básicamente dos funciones: API.user_timeline() y API.get_user(). En la página web de la librería (https://tweepy.readthedocs.io/en/latest/api.html#tweepy-api-twitter-api-wrapper) encontraréis información relativa a las prestaciones de la misma. Os recomendamos que la reviséis para conocer más detalles.\n",
    "\n",
    "Antes de empezar con el ejercicio práctico, vamos a trabajar un ejemplo que nos permitirá familiarizarnos con la librería y con las funciones que se precisarán utilizar para resolver el ejercicio. En el siguiente ejemplo, por tanto, vamos a obtener las características relativas a una cuenta de twitter, concretamente la de la UOC (@UOCuniversitat), y la fecha de su tweet más reciente."
   ]
  },
  {
   "cell_type": "markdown",
   "metadata": {
    "id": "SdgG6CE5-d7q"
   },
   "source": [
    "En primer lugar, tenemos que definir las librerías y las claves de acceso (*consumer_key, consumer_secret, access_token, access_token_secret*) a la API de Twitter. "
   ]
  },
  {
   "cell_type": "code",
   "execution_count": null,
   "metadata": {
    "id": "Fk7mw33U-WJV"
   },
   "outputs": [],
   "source": [
    "# Definición librerías\n",
    "!pip install tweepy\n",
    "import tweepy\n",
    "from tweepy import API"
   ]
  },
  {
   "cell_type": "code",
   "execution_count": null,
   "metadata": {
    "id": "sHYlo3HyoKzK"
   },
   "outputs": [],
   "source": [
    "# Definir claves de acceso\n",
    "consumer_key = '################################'\n",
    "consumer_secret = '################################'\n",
    "access_token = '################################'\n",
    "access_token_secret = '################################'"
   ]
  },
  {
   "cell_type": "markdown",
   "metadata": {
    "id": "GUdnl8vU-56S"
   },
   "source": [
    "A continuación, estableceremos la conexión a la API:"
   ]
  },
  {
   "cell_type": "code",
   "execution_count": null,
   "metadata": {
    "id": "E6ZLYhlD_Zar"
   },
   "outputs": [],
   "source": [
    "# Importamos\n",
    "from tweepy import OAuthHandler"
   ]
  },
  {
   "cell_type": "code",
   "execution_count": null,
   "metadata": {
    "id": "zbsHHXRB-wa2"
   },
   "outputs": [],
   "source": [
    "# Definir la autentificación y establecer la conexión\n",
    "auth = OAuthHandler(consumer_key, consumer_secret)\n",
    "auth.set_access_token(access_token, access_token_secret)\n",
    "            \n",
    "auth_api = API(auth)"
   ]
  },
  {
   "cell_type": "markdown",
   "metadata": {
    "id": "rpEmq85M_hiK"
   },
   "source": [
    "Ahora, vamos a conocer los detalles de la cuenta @UOCuniversitat. Los campos que nos interesan son el nombre ('name'), la ubicación ('location'), el número de seguidores ('followers_count'), el número de amigos o seguidos ('friends_count') y cuándo se creó la cuenta ('created_at'). \n",
    "\n",
    "\n"
   ]
  },
  {
   "cell_type": "code",
   "execution_count": null,
   "metadata": {
    "id": "bDtYOD9-_Tm3"
   },
   "outputs": [],
   "source": [
    "detalles_cuenta_UOC = auth_api.get_user(screen_name='UOCuniversitat')\n",
    "detalles_cuenta_UOC"
   ]
  },
  {
   "cell_type": "code",
   "execution_count": null,
   "metadata": {
    "colab": {
     "base_uri": "https://localhost:8080/",
     "height": 54
    },
    "id": "9e1tBA4I_yHQ",
    "outputId": "0c165d3c-17fd-4018-ef46-854445769480"
   },
   "outputs": [
    {
     "data": {
      "text/plain": [
       "User(_api=<tweepy.api.API object at 0x7f97ad5923c8>, _json={'id': 14919552, 'id_str': '14919552', 'name': 'UOCuniversitat', 'screen_name': 'UOCuniversitat', 'location': 'Barcelona', 'profile_location': None, 'description': \"Twitter oficial en català de la Universitat Oberta de Catalunya. En español: @UOCuniversidad. Servei d'atenció: @UOCrespon.\", 'url': 'https://t.co/Kz3lA2EQdz', 'entities': {'url': {'urls': [{'url': 'https://t.co/Kz3lA2EQdz', 'expanded_url': 'http://25.uoc.edu', 'display_url': '25.uoc.edu', 'indices': [0, 23]}]}, 'description': {'urls': []}}, 'protected': False, 'followers_count': 36917, 'friends_count': 2794, 'listed_count': 1091, 'created_at': 'Tue May 27 11:19:19 +0000 2008', 'favourites_count': 2802, 'utc_offset': None, 'time_zone': None, 'geo_enabled': True, 'verified': False, 'statuses_count': 26753, 'lang': None, 'status': {'created_at': 'Wed Oct 21 20:23:50 +0000 2020', 'id': 1319011535847641091, 'id_str': '1319011535847641091', 'text': 'RT @JosepMVilalta: Excel·lent xerrada de Sanjay Sarma, no us la perdeu! Enhorabona @UOCuniversitat https://t.co/jlvz4NfACa', 'truncated': False, 'entities': {'hashtags': [], 'symbols': [], 'user_mentions': [{'screen_name': 'JosepMVilalta', 'name': 'Josep M. Pep Vilalta', 'id': 1076441989, 'id_str': '1076441989', 'indices': [3, 17]}, {'screen_name': 'UOCuniversitat', 'name': 'UOCuniversitat', 'id': 14919552, 'id_str': '14919552', 'indices': [83, 98]}], 'urls': [{'url': 'https://t.co/jlvz4NfACa', 'expanded_url': 'https://twitter.com/uocuniversitat/status/1318930882598752259', 'display_url': 'twitter.com/uocuniversitat…', 'indices': [99, 122]}]}, 'source': '<a href=\"https://www.hootsuite.com\" rel=\"nofollow\">Hootsuite Inc.</a>', 'in_reply_to_status_id': None, 'in_reply_to_status_id_str': None, 'in_reply_to_user_id': None, 'in_reply_to_user_id_str': None, 'in_reply_to_screen_name': None, 'geo': None, 'coordinates': None, 'place': None, 'contributors': None, 'retweeted_status': {'created_at': 'Wed Oct 21 19:37:32 +0000 2020', 'id': 1318999883248959490, 'id_str': '1318999883248959490', 'text': 'Excel·lent xerrada de Sanjay Sarma, no us la perdeu! Enhorabona @UOCuniversitat https://t.co/jlvz4NfACa', 'truncated': False, 'entities': {'hashtags': [], 'symbols': [], 'user_mentions': [{'screen_name': 'UOCuniversitat', 'name': 'UOCuniversitat', 'id': 14919552, 'id_str': '14919552', 'indices': [64, 79]}], 'urls': [{'url': 'https://t.co/jlvz4NfACa', 'expanded_url': 'https://twitter.com/uocuniversitat/status/1318930882598752259', 'display_url': 'twitter.com/uocuniversitat…', 'indices': [80, 103]}]}, 'source': '<a href=\"http://twitter.com/download/iphone\" rel=\"nofollow\">Twitter for iPhone</a>', 'in_reply_to_status_id': None, 'in_reply_to_status_id_str': None, 'in_reply_to_user_id': None, 'in_reply_to_user_id_str': None, 'in_reply_to_screen_name': None, 'geo': None, 'coordinates': None, 'place': None, 'contributors': None, 'is_quote_status': True, 'quoted_status_id': 1318930882598752259, 'quoted_status_id_str': '1318930882598752259', 'retweet_count': 1, 'favorite_count': 2, 'favorited': False, 'retweeted': False, 'possibly_sensitive': False, 'lang': 'pt'}, 'is_quote_status': True, 'quoted_status_id': 1318930882598752259, 'quoted_status_id_str': '1318930882598752259', 'retweet_count': 1, 'favorite_count': 0, 'favorited': False, 'retweeted': False, 'possibly_sensitive': False, 'lang': 'pt'}, 'contributors_enabled': False, 'is_translator': False, 'is_translation_enabled': False, 'profile_background_color': 'FFFFFF', 'profile_background_image_url': 'http://abs.twimg.com/images/themes/theme1/bg.png', 'profile_background_image_url_https': 'https://abs.twimg.com/images/themes/theme1/bg.png', 'profile_background_tile': False, 'profile_image_url': 'http://pbs.twimg.com/profile_images/1316303661224656896/KIJs0w9a_normal.jpg', 'profile_image_url_https': 'https://pbs.twimg.com/profile_images/1316303661224656896/KIJs0w9a_normal.jpg', 'profile_banner_url': 'https://pbs.twimg.com/profile_banners/14919552/1602666225', 'profile_link_color': '0084B4', 'profile_sidebar_border_color': 'FFFFFF', 'profile_sidebar_fill_color': 'D8DCCF', 'profile_text_color': '3848A0', 'profile_use_background_image': True, 'has_extended_profile': False, 'default_profile': False, 'default_profile_image': False, 'following': False, 'follow_request_sent': False, 'notifications': False, 'translator_type': 'none'}, id=14919552, id_str='14919552', name='UOCuniversitat', screen_name='UOCuniversitat', location='Barcelona', profile_location=None, description=\"Twitter oficial en català de la Universitat Oberta de Catalunya. En español: @UOCuniversidad. Servei d'atenció: @UOCrespon.\", url='https://t.co/Kz3lA2EQdz', entities={'url': {'urls': [{'url': 'https://t.co/Kz3lA2EQdz', 'expanded_url': 'http://25.uoc.edu', 'display_url': '25.uoc.edu', 'indices': [0, 23]}]}, 'description': {'urls': []}}, protected=False, followers_count=36917, friends_count=2794, listed_count=1091, created_at=datetime.datetime(2008, 5, 27, 11, 19, 19), favourites_count=2802, utc_offset=None, time_zone=None, geo_enabled=True, verified=False, statuses_count=26753, lang=None, status=Status(_api=<tweepy.api.API object at 0x7f97ad5923c8>, _json={'created_at': 'Wed Oct 21 20:23:50 +0000 2020', 'id': 1319011535847641091, 'id_str': '1319011535847641091', 'text': 'RT @JosepMVilalta: Excel·lent xerrada de Sanjay Sarma, no us la perdeu! Enhorabona @UOCuniversitat https://t.co/jlvz4NfACa', 'truncated': False, 'entities': {'hashtags': [], 'symbols': [], 'user_mentions': [{'screen_name': 'JosepMVilalta', 'name': 'Josep M. Pep Vilalta', 'id': 1076441989, 'id_str': '1076441989', 'indices': [3, 17]}, {'screen_name': 'UOCuniversitat', 'name': 'UOCuniversitat', 'id': 14919552, 'id_str': '14919552', 'indices': [83, 98]}], 'urls': [{'url': 'https://t.co/jlvz4NfACa', 'expanded_url': 'https://twitter.com/uocuniversitat/status/1318930882598752259', 'display_url': 'twitter.com/uocuniversitat…', 'indices': [99, 122]}]}, 'source': '<a href=\"https://www.hootsuite.com\" rel=\"nofollow\">Hootsuite Inc.</a>', 'in_reply_to_status_id': None, 'in_reply_to_status_id_str': None, 'in_reply_to_user_id': None, 'in_reply_to_user_id_str': None, 'in_reply_to_screen_name': None, 'geo': None, 'coordinates': None, 'place': None, 'contributors': None, 'retweeted_status': {'created_at': 'Wed Oct 21 19:37:32 +0000 2020', 'id': 1318999883248959490, 'id_str': '1318999883248959490', 'text': 'Excel·lent xerrada de Sanjay Sarma, no us la perdeu! Enhorabona @UOCuniversitat https://t.co/jlvz4NfACa', 'truncated': False, 'entities': {'hashtags': [], 'symbols': [], 'user_mentions': [{'screen_name': 'UOCuniversitat', 'name': 'UOCuniversitat', 'id': 14919552, 'id_str': '14919552', 'indices': [64, 79]}], 'urls': [{'url': 'https://t.co/jlvz4NfACa', 'expanded_url': 'https://twitter.com/uocuniversitat/status/1318930882598752259', 'display_url': 'twitter.com/uocuniversitat…', 'indices': [80, 103]}]}, 'source': '<a href=\"http://twitter.com/download/iphone\" rel=\"nofollow\">Twitter for iPhone</a>', 'in_reply_to_status_id': None, 'in_reply_to_status_id_str': None, 'in_reply_to_user_id': None, 'in_reply_to_user_id_str': None, 'in_reply_to_screen_name': None, 'geo': None, 'coordinates': None, 'place': None, 'contributors': None, 'is_quote_status': True, 'quoted_status_id': 1318930882598752259, 'quoted_status_id_str': '1318930882598752259', 'retweet_count': 1, 'favorite_count': 2, 'favorited': False, 'retweeted': False, 'possibly_sensitive': False, 'lang': 'pt'}, 'is_quote_status': True, 'quoted_status_id': 1318930882598752259, 'quoted_status_id_str': '1318930882598752259', 'retweet_count': 1, 'favorite_count': 0, 'favorited': False, 'retweeted': False, 'possibly_sensitive': False, 'lang': 'pt'}, created_at=datetime.datetime(2020, 10, 21, 20, 23, 50), id=1319011535847641091, id_str='1319011535847641091', text='RT @JosepMVilalta: Excel·lent xerrada de Sanjay Sarma, no us la perdeu! Enhorabona @UOCuniversitat https://t.co/jlvz4NfACa', truncated=False, entities={'hashtags': [], 'symbols': [], 'user_mentions': [{'screen_name': 'JosepMVilalta', 'name': 'Josep M. Pep Vilalta', 'id': 1076441989, 'id_str': '1076441989', 'indices': [3, 17]}, {'screen_name': 'UOCuniversitat', 'name': 'UOCuniversitat', 'id': 14919552, 'id_str': '14919552', 'indices': [83, 98]}], 'urls': [{'url': 'https://t.co/jlvz4NfACa', 'expanded_url': 'https://twitter.com/uocuniversitat/status/1318930882598752259', 'display_url': 'twitter.com/uocuniversitat…', 'indices': [99, 122]}]}, source='Hootsuite Inc.', source_url='https://www.hootsuite.com', in_reply_to_status_id=None, in_reply_to_status_id_str=None, in_reply_to_user_id=None, in_reply_to_user_id_str=None, in_reply_to_screen_name=None, geo=None, coordinates=None, place=None, contributors=None, retweeted_status=Status(_api=<tweepy.api.API object at 0x7f97ad5923c8>, _json={'created_at': 'Wed Oct 21 19:37:32 +0000 2020', 'id': 1318999883248959490, 'id_str': '1318999883248959490', 'text': 'Excel·lent xerrada de Sanjay Sarma, no us la perdeu! Enhorabona @UOCuniversitat https://t.co/jlvz4NfACa', 'truncated': False, 'entities': {'hashtags': [], 'symbols': [], 'user_mentions': [{'screen_name': 'UOCuniversitat', 'name': 'UOCuniversitat', 'id': 14919552, 'id_str': '14919552', 'indices': [64, 79]}], 'urls': [{'url': 'https://t.co/jlvz4NfACa', 'expanded_url': 'https://twitter.com/uocuniversitat/status/1318930882598752259', 'display_url': 'twitter.com/uocuniversitat…', 'indices': [80, 103]}]}, 'source': '<a href=\"http://twitter.com/download/iphone\" rel=\"nofollow\">Twitter for iPhone</a>', 'in_reply_to_status_id': None, 'in_reply_to_status_id_str': None, 'in_reply_to_user_id': None, 'in_reply_to_user_id_str': None, 'in_reply_to_screen_name': None, 'geo': None, 'coordinates': None, 'place': None, 'contributors': None, 'is_quote_status': True, 'quoted_status_id': 1318930882598752259, 'quoted_status_id_str': '1318930882598752259', 'retweet_count': 1, 'favorite_count': 2, 'favorited': False, 'retweeted': False, 'possibly_sensitive': False, 'lang': 'pt'}, created_at=datetime.datetime(2020, 10, 21, 19, 37, 32), id=1318999883248959490, id_str='1318999883248959490', text='Excel·lent xerrada de Sanjay Sarma, no us la perdeu! Enhorabona @UOCuniversitat https://t.co/jlvz4NfACa', truncated=False, entities={'hashtags': [], 'symbols': [], 'user_mentions': [{'screen_name': 'UOCuniversitat', 'name': 'UOCuniversitat', 'id': 14919552, 'id_str': '14919552', 'indices': [64, 79]}], 'urls': [{'url': 'https://t.co/jlvz4NfACa', 'expanded_url': 'https://twitter.com/uocuniversitat/status/1318930882598752259', 'display_url': 'twitter.com/uocuniversitat…', 'indices': [80, 103]}]}, source='Twitter for iPhone', source_url='http://twitter.com/download/iphone', in_reply_to_status_id=None, in_reply_to_status_id_str=None, in_reply_to_user_id=None, in_reply_to_user_id_str=None, in_reply_to_screen_name=None, geo=None, coordinates=None, place=None, contributors=None, is_quote_status=True, quoted_status_id=1318930882598752259, quoted_status_id_str='1318930882598752259', retweet_count=1, favorite_count=2, favorited=False, retweeted=False, possibly_sensitive=False, lang='pt'), is_quote_status=True, quoted_status_id=1318930882598752259, quoted_status_id_str='1318930882598752259', retweet_count=1, favorite_count=0, favorited=False, retweeted=False, possibly_sensitive=False, lang='pt'), contributors_enabled=False, is_translator=False, is_translation_enabled=False, profile_background_color='FFFFFF', profile_background_image_url='http://abs.twimg.com/images/themes/theme1/bg.png', profile_background_image_url_https='https://abs.twimg.com/images/themes/theme1/bg.png', profile_background_tile=False, profile_image_url='http://pbs.twimg.com/profile_images/1316303661224656896/KIJs0w9a_normal.jpg', profile_image_url_https='https://pbs.twimg.com/profile_images/1316303661224656896/KIJs0w9a_normal.jpg', profile_banner_url='https://pbs.twimg.com/profile_banners/14919552/1602666225', profile_link_color='0084B4', profile_sidebar_border_color='FFFFFF', profile_sidebar_fill_color='D8DCCF', profile_text_color='3848A0', profile_use_background_image=True, has_extended_profile=False, default_profile=False, default_profile_image=False, following=False, follow_request_sent=False, notifications=False, translator_type='none')"
      ]
     },
     "execution_count": 8,
     "metadata": {
      "tags": []
     },
     "output_type": "execute_result"
    }
   ],
   "source": [
    "detalles_cuenta_UOC "
   ]
  },
  {
   "cell_type": "markdown",
   "metadata": {
    "id": "KNqzvdMdAv5w"
   },
   "source": [
    "Después de observar qué forma tiene la respuesta recibida, para obtener y organizar la información de interés tendremos que ejecutar las siguientes lineas de código:"
   ]
  },
  {
   "cell_type": "code",
   "execution_count": null,
   "metadata": {
    "colab": {
     "base_uri": "https://localhost:8080/",
     "height": 102
    },
    "id": "SEf28OsRBEjF",
    "outputId": "f7f62bd2-dac5-48b5-cdaf-eea3375c10bf"
   },
   "outputs": [
    {
     "data": {
      "text/plain": [
       "{'UOCuniversitat': {'fecha_creacion': '2008-05-27 11:19:19',\n",
       "  'nombre': 'UOCuniversitat',\n",
       "  'seguidores': 36917,\n",
       "  'seguidos': 2794,\n",
       "  'ubicacion': 'Barcelona'}}"
      ]
     },
     "execution_count": 12,
     "metadata": {
      "tags": []
     },
     "output_type": "execute_result"
    }
   ],
   "source": [
    "dict_uoc={'UOCuniversitat': {'nombre': detalles_cuenta_UOC.name,\n",
    "                             'ubicacion': detalles_cuenta_UOC.location,\n",
    "                             'seguidores':detalles_cuenta_UOC.followers_count,\n",
    "                             'seguidos':detalles_cuenta_UOC.friends_count,\n",
    "                             'fecha_creacion':str(detalles_cuenta_UOC.created_at)}\n",
    "}\n",
    "dict_uoc"
   ]
  },
  {
   "cell_type": "markdown",
   "metadata": {
    "id": "mmz95MU4CAho"
   },
   "source": [
    "Ahora vamos a obtener la fecha del último tweet de la cuenta @UOCuniversitat:"
   ]
  },
  {
   "cell_type": "code",
   "execution_count": null,
   "metadata": {
    "id": "gGlC_RITCeXC"
   },
   "outputs": [],
   "source": [
    "tweets_uoc=auth_api.user_timeline(screen_name='UOCuniversitat')"
   ]
  },
  {
   "cell_type": "code",
   "execution_count": null,
   "metadata": {
    "colab": {
     "base_uri": "https://localhost:8080/",
     "height": 374
    },
    "id": "9HNsCYmaC6AP",
    "outputId": "d33816aa-61f6-4900-d48a-cf19e101b098"
   },
   "outputs": [
    {
     "name": "stdout",
     "output_type": "stream",
     "text": [
      "2020-10-21 20:23:50\n",
      "2020-10-21 17:15:17\n",
      "2020-10-21 16:30:52\n",
      "2020-10-21 16:04:36\n",
      "2020-10-21 15:43:08\n",
      "2020-10-21 15:40:49\n",
      "2020-10-21 15:36:23\n",
      "2020-10-21 15:25:12\n",
      "2020-10-21 15:24:40\n",
      "2020-10-21 15:24:03\n",
      "2020-10-21 15:22:57\n",
      "2020-10-21 15:15:10\n",
      "2020-10-21 15:10:12\n",
      "2020-10-21 15:03:21\n",
      "2020-10-21 14:45:41\n",
      "2020-10-21 14:20:24\n",
      "2020-10-21 14:20:14\n",
      "2020-10-21 14:17:21\n",
      "2020-10-21 14:15:28\n",
      "2020-10-21 14:09:31\n",
      "El Tweet más reciente tiene fecha de:  2020-10-21 20:23:50\n"
     ]
    }
   ],
   "source": [
    "fechas=[]\n",
    "\n",
    "for tweet in tweets_uoc:\n",
    "  fechas.append(tweet.created_at)\n",
    "\n",
    "print('El Tweet más reciente tiene fecha de: ', max(fechas))"
   ]
  },
  {
   "cell_type": "code",
   "execution_count": null,
   "metadata": {
    "colab": {
     "base_uri": "https://localhost:8080/",
     "height": 34
    },
    "id": "7fabj-PuDlI_",
    "outputId": "55271954-3a9c-48e6-f5d7-7896d88ed4ac"
   },
   "outputs": [
    {
     "data": {
      "text/plain": [
       "20"
      ]
     },
     "execution_count": 18,
     "metadata": {
      "tags": []
     },
     "output_type": "execute_result"
    }
   ],
   "source": [
    "len(tweets_uoc)"
   ]
  },
  {
   "cell_type": "markdown",
   "metadata": {
    "id": "OePF537MDrQV"
   },
   "source": [
    "**Observaciones:**\n",
    "\n",
    "- Por defecto, la función *user_timeline()* devuelve 20 instancias.\n",
    "- El nombre de usuario debe indicarse sin el símbolo '@'\n",
    "- La forma de la respuesta que devuelve la función *user_timeline()* és la siguiente:\n"
   ]
  },
  {
   "cell_type": "code",
   "execution_count": null,
   "metadata": {
    "colab": {
     "base_uri": "https://localhost:8080/",
     "height": 54
    },
    "id": "e4sXkclWEM1e",
    "outputId": "beafc4a3-91b8-4f22-f658-91b7d471153c"
   },
   "outputs": [
    {
     "data": {
      "text/plain": [
       "Status(_api=<tweepy.api.API object at 0x7f97ad5923c8>, _json={'created_at': 'Wed Oct 21 20:23:50 +0000 2020', 'id': 1319011535847641091, 'id_str': '1319011535847641091', 'text': 'RT @JosepMVilalta: Excel·lent xerrada de Sanjay Sarma, no us la perdeu! Enhorabona @UOCuniversitat https://t.co/jlvz4NfACa', 'truncated': False, 'entities': {'hashtags': [], 'symbols': [], 'user_mentions': [{'screen_name': 'JosepMVilalta', 'name': 'Josep M. Pep Vilalta', 'id': 1076441989, 'id_str': '1076441989', 'indices': [3, 17]}, {'screen_name': 'UOCuniversitat', 'name': 'UOCuniversitat', 'id': 14919552, 'id_str': '14919552', 'indices': [83, 98]}], 'urls': [{'url': 'https://t.co/jlvz4NfACa', 'expanded_url': 'https://twitter.com/uocuniversitat/status/1318930882598752259', 'display_url': 'twitter.com/uocuniversitat…', 'indices': [99, 122]}]}, 'source': '<a href=\"https://www.hootsuite.com\" rel=\"nofollow\">Hootsuite Inc.</a>', 'in_reply_to_status_id': None, 'in_reply_to_status_id_str': None, 'in_reply_to_user_id': None, 'in_reply_to_user_id_str': None, 'in_reply_to_screen_name': None, 'user': {'id': 14919552, 'id_str': '14919552', 'name': 'UOCuniversitat', 'screen_name': 'UOCuniversitat', 'location': 'Barcelona', 'description': \"Twitter oficial en català de la Universitat Oberta de Catalunya. En español: @UOCuniversidad. Servei d'atenció: @UOCrespon.\", 'url': 'https://t.co/Kz3lA2EQdz', 'entities': {'url': {'urls': [{'url': 'https://t.co/Kz3lA2EQdz', 'expanded_url': 'http://25.uoc.edu', 'display_url': '25.uoc.edu', 'indices': [0, 23]}]}, 'description': {'urls': []}}, 'protected': False, 'followers_count': 36917, 'friends_count': 2794, 'listed_count': 1091, 'created_at': 'Tue May 27 11:19:19 +0000 2008', 'favourites_count': 2802, 'utc_offset': None, 'time_zone': None, 'geo_enabled': True, 'verified': False, 'statuses_count': 26753, 'lang': None, 'contributors_enabled': False, 'is_translator': False, 'is_translation_enabled': False, 'profile_background_color': 'FFFFFF', 'profile_background_image_url': 'http://abs.twimg.com/images/themes/theme1/bg.png', 'profile_background_image_url_https': 'https://abs.twimg.com/images/themes/theme1/bg.png', 'profile_background_tile': False, 'profile_image_url': 'http://pbs.twimg.com/profile_images/1316303661224656896/KIJs0w9a_normal.jpg', 'profile_image_url_https': 'https://pbs.twimg.com/profile_images/1316303661224656896/KIJs0w9a_normal.jpg', 'profile_banner_url': 'https://pbs.twimg.com/profile_banners/14919552/1602666225', 'profile_link_color': '0084B4', 'profile_sidebar_border_color': 'FFFFFF', 'profile_sidebar_fill_color': 'D8DCCF', 'profile_text_color': '3848A0', 'profile_use_background_image': True, 'has_extended_profile': False, 'default_profile': False, 'default_profile_image': False, 'following': False, 'follow_request_sent': False, 'notifications': False, 'translator_type': 'none'}, 'geo': None, 'coordinates': None, 'place': None, 'contributors': None, 'retweeted_status': {'created_at': 'Wed Oct 21 19:37:32 +0000 2020', 'id': 1318999883248959490, 'id_str': '1318999883248959490', 'text': 'Excel·lent xerrada de Sanjay Sarma, no us la perdeu! Enhorabona @UOCuniversitat https://t.co/jlvz4NfACa', 'truncated': False, 'entities': {'hashtags': [], 'symbols': [], 'user_mentions': [{'screen_name': 'UOCuniversitat', 'name': 'UOCuniversitat', 'id': 14919552, 'id_str': '14919552', 'indices': [64, 79]}], 'urls': [{'url': 'https://t.co/jlvz4NfACa', 'expanded_url': 'https://twitter.com/uocuniversitat/status/1318930882598752259', 'display_url': 'twitter.com/uocuniversitat…', 'indices': [80, 103]}]}, 'source': '<a href=\"http://twitter.com/download/iphone\" rel=\"nofollow\">Twitter for iPhone</a>', 'in_reply_to_status_id': None, 'in_reply_to_status_id_str': None, 'in_reply_to_user_id': None, 'in_reply_to_user_id_str': None, 'in_reply_to_screen_name': None, 'user': {'id': 1076441989, 'id_str': '1076441989', 'name': 'Josep M. Pep Vilalta', 'screen_name': 'JosepMVilalta', 'location': 'Barcelona, Catalunya', 'description': 'Public policies & public management, education, universities, research and innovation', 'url': 'https://t.co/ZhXgxW93LR', 'entities': {'url': {'urls': [{'url': 'https://t.co/ZhXgxW93LR', 'expanded_url': 'http://www.josepmvilalta.com', 'display_url': 'josepmvilalta.com', 'indices': [0, 23]}]}, 'description': {'urls': []}}, 'protected': False, 'followers_count': 6468, 'friends_count': 2860, 'listed_count': 226, 'created_at': 'Thu Jan 10 12:05:04 +0000 2013', 'favourites_count': 33585, 'utc_offset': None, 'time_zone': None, 'geo_enabled': True, 'verified': False, 'statuses_count': 26551, 'lang': None, 'contributors_enabled': False, 'is_translator': False, 'is_translation_enabled': False, 'profile_background_color': 'C0DEED', 'profile_background_image_url': 'http://abs.twimg.com/images/themes/theme1/bg.png', 'profile_background_image_url_https': 'https://abs.twimg.com/images/themes/theme1/bg.png', 'profile_background_tile': False, 'profile_image_url': 'http://pbs.twimg.com/profile_images/1109001469238394880/5nv0jFOf_normal.jpg', 'profile_image_url_https': 'https://pbs.twimg.com/profile_images/1109001469238394880/5nv0jFOf_normal.jpg', 'profile_banner_url': 'https://pbs.twimg.com/profile_banners/1076441989/1479134150', 'profile_link_color': '1DA1F2', 'profile_sidebar_border_color': 'C0DEED', 'profile_sidebar_fill_color': 'DDEEF6', 'profile_text_color': '333333', 'profile_use_background_image': True, 'has_extended_profile': False, 'default_profile': True, 'default_profile_image': False, 'following': False, 'follow_request_sent': False, 'notifications': False, 'translator_type': 'none'}, 'geo': None, 'coordinates': None, 'place': None, 'contributors': None, 'is_quote_status': True, 'quoted_status_id': 1318930882598752259, 'quoted_status_id_str': '1318930882598752259', 'quoted_status': {'created_at': 'Wed Oct 21 15:03:21 +0000 2020', 'id': 1318930882598752259, 'id_str': '1318930882598752259', 'text': '🎓 En breu podreu recuperar la #InauguralUOC amb Sanjay Sarma, vicepresident del @mitopenlearning \"What is the Futur… https://t.co/Ajk5iccPQW', 'truncated': True, 'entities': {'hashtags': [{'text': 'InauguralUOC', 'indices': [30, 43]}], 'symbols': [], 'user_mentions': [{'screen_name': 'mitopenlearning', 'name': 'MIT Open Learning', 'id': 1006592770969088000, 'id_str': '1006592770969088000', 'indices': [80, 96]}], 'urls': [{'url': 'https://t.co/Ajk5iccPQW', 'expanded_url': 'https://twitter.com/i/web/status/1318930882598752259', 'display_url': 'twitter.com/i/web/status/1…', 'indices': [117, 140]}]}, 'source': '<a href=\"https://www.hootsuite.com\" rel=\"nofollow\">Hootsuite Inc.</a>', 'in_reply_to_status_id': None, 'in_reply_to_status_id_str': None, 'in_reply_to_user_id': None, 'in_reply_to_user_id_str': None, 'in_reply_to_screen_name': None, 'user': {'id': 14919552, 'id_str': '14919552', 'name': 'UOCuniversitat', 'screen_name': 'UOCuniversitat', 'location': 'Barcelona', 'description': \"Twitter oficial en català de la Universitat Oberta de Catalunya. En español: @UOCuniversidad. Servei d'atenció: @UOCrespon.\", 'url': 'https://t.co/Kz3lA2EQdz', 'entities': {'url': {'urls': [{'url': 'https://t.co/Kz3lA2EQdz', 'expanded_url': 'http://25.uoc.edu', 'display_url': '25.uoc.edu', 'indices': [0, 23]}]}, 'description': {'urls': []}}, 'protected': False, 'followers_count': 36917, 'friends_count': 2794, 'listed_count': 1091, 'created_at': 'Tue May 27 11:19:19 +0000 2008', 'favourites_count': 2802, 'utc_offset': None, 'time_zone': None, 'geo_enabled': True, 'verified': False, 'statuses_count': 26753, 'lang': None, 'contributors_enabled': False, 'is_translator': False, 'is_translation_enabled': False, 'profile_background_color': 'FFFFFF', 'profile_background_image_url': 'http://abs.twimg.com/images/themes/theme1/bg.png', 'profile_background_image_url_https': 'https://abs.twimg.com/images/themes/theme1/bg.png', 'profile_background_tile': False, 'profile_image_url': 'http://pbs.twimg.com/profile_images/1316303661224656896/KIJs0w9a_normal.jpg', 'profile_image_url_https': 'https://pbs.twimg.com/profile_images/1316303661224656896/KIJs0w9a_normal.jpg', 'profile_banner_url': 'https://pbs.twimg.com/profile_banners/14919552/1602666225', 'profile_link_color': '0084B4', 'profile_sidebar_border_color': 'FFFFFF', 'profile_sidebar_fill_color': 'D8DCCF', 'profile_text_color': '3848A0', 'profile_use_background_image': True, 'has_extended_profile': False, 'default_profile': False, 'default_profile_image': False, 'following': False, 'follow_request_sent': False, 'notifications': False, 'translator_type': 'none'}, 'geo': None, 'coordinates': None, 'place': None, 'contributors': None, 'is_quote_status': False, 'retweet_count': 1, 'favorite_count': 5, 'favorited': False, 'retweeted': False, 'possibly_sensitive': False, 'lang': 'ca'}, 'retweet_count': 1, 'favorite_count': 4, 'favorited': False, 'retweeted': False, 'possibly_sensitive': False, 'lang': 'pt'}, 'is_quote_status': True, 'quoted_status_id': 1318930882598752259, 'quoted_status_id_str': '1318930882598752259', 'retweet_count': 1, 'favorite_count': 0, 'favorited': False, 'retweeted': False, 'possibly_sensitive': False, 'lang': 'pt'}, created_at=datetime.datetime(2020, 10, 21, 20, 23, 50), id=1319011535847641091, id_str='1319011535847641091', text='RT @JosepMVilalta: Excel·lent xerrada de Sanjay Sarma, no us la perdeu! Enhorabona @UOCuniversitat https://t.co/jlvz4NfACa', truncated=False, entities={'hashtags': [], 'symbols': [], 'user_mentions': [{'screen_name': 'JosepMVilalta', 'name': 'Josep M. Pep Vilalta', 'id': 1076441989, 'id_str': '1076441989', 'indices': [3, 17]}, {'screen_name': 'UOCuniversitat', 'name': 'UOCuniversitat', 'id': 14919552, 'id_str': '14919552', 'indices': [83, 98]}], 'urls': [{'url': 'https://t.co/jlvz4NfACa', 'expanded_url': 'https://twitter.com/uocuniversitat/status/1318930882598752259', 'display_url': 'twitter.com/uocuniversitat…', 'indices': [99, 122]}]}, source='Hootsuite Inc.', source_url='https://www.hootsuite.com', in_reply_to_status_id=None, in_reply_to_status_id_str=None, in_reply_to_user_id=None, in_reply_to_user_id_str=None, in_reply_to_screen_name=None, author=User(_api=<tweepy.api.API object at 0x7f97ad5923c8>, _json={'id': 14919552, 'id_str': '14919552', 'name': 'UOCuniversitat', 'screen_name': 'UOCuniversitat', 'location': 'Barcelona', 'description': \"Twitter oficial en català de la Universitat Oberta de Catalunya. En español: @UOCuniversidad. Servei d'atenció: @UOCrespon.\", 'url': 'https://t.co/Kz3lA2EQdz', 'entities': {'url': {'urls': [{'url': 'https://t.co/Kz3lA2EQdz', 'expanded_url': 'http://25.uoc.edu', 'display_url': '25.uoc.edu', 'indices': [0, 23]}]}, 'description': {'urls': []}}, 'protected': False, 'followers_count': 36917, 'friends_count': 2794, 'listed_count': 1091, 'created_at': 'Tue May 27 11:19:19 +0000 2008', 'favourites_count': 2802, 'utc_offset': None, 'time_zone': None, 'geo_enabled': True, 'verified': False, 'statuses_count': 26753, 'lang': None, 'contributors_enabled': False, 'is_translator': False, 'is_translation_enabled': False, 'profile_background_color': 'FFFFFF', 'profile_background_image_url': 'http://abs.twimg.com/images/themes/theme1/bg.png', 'profile_background_image_url_https': 'https://abs.twimg.com/images/themes/theme1/bg.png', 'profile_background_tile': False, 'profile_image_url': 'http://pbs.twimg.com/profile_images/1316303661224656896/KIJs0w9a_normal.jpg', 'profile_image_url_https': 'https://pbs.twimg.com/profile_images/1316303661224656896/KIJs0w9a_normal.jpg', 'profile_banner_url': 'https://pbs.twimg.com/profile_banners/14919552/1602666225', 'profile_link_color': '0084B4', 'profile_sidebar_border_color': 'FFFFFF', 'profile_sidebar_fill_color': 'D8DCCF', 'profile_text_color': '3848A0', 'profile_use_background_image': True, 'has_extended_profile': False, 'default_profile': False, 'default_profile_image': False, 'following': False, 'follow_request_sent': False, 'notifications': False, 'translator_type': 'none'}, id=14919552, id_str='14919552', name='UOCuniversitat', screen_name='UOCuniversitat', location='Barcelona', description=\"Twitter oficial en català de la Universitat Oberta de Catalunya. En español: @UOCuniversidad. Servei d'atenció: @UOCrespon.\", url='https://t.co/Kz3lA2EQdz', entities={'url': {'urls': [{'url': 'https://t.co/Kz3lA2EQdz', 'expanded_url': 'http://25.uoc.edu', 'display_url': '25.uoc.edu', 'indices': [0, 23]}]}, 'description': {'urls': []}}, protected=False, followers_count=36917, friends_count=2794, listed_count=1091, created_at=datetime.datetime(2008, 5, 27, 11, 19, 19), favourites_count=2802, utc_offset=None, time_zone=None, geo_enabled=True, verified=False, statuses_count=26753, lang=None, contributors_enabled=False, is_translator=False, is_translation_enabled=False, profile_background_color='FFFFFF', profile_background_image_url='http://abs.twimg.com/images/themes/theme1/bg.png', profile_background_image_url_https='https://abs.twimg.com/images/themes/theme1/bg.png', profile_background_tile=False, profile_image_url='http://pbs.twimg.com/profile_images/1316303661224656896/KIJs0w9a_normal.jpg', profile_image_url_https='https://pbs.twimg.com/profile_images/1316303661224656896/KIJs0w9a_normal.jpg', profile_banner_url='https://pbs.twimg.com/profile_banners/14919552/1602666225', profile_link_color='0084B4', profile_sidebar_border_color='FFFFFF', profile_sidebar_fill_color='D8DCCF', profile_text_color='3848A0', profile_use_background_image=True, has_extended_profile=False, default_profile=False, default_profile_image=False, following=False, follow_request_sent=False, notifications=False, translator_type='none'), user=User(_api=<tweepy.api.API object at 0x7f97ad5923c8>, _json={'id': 14919552, 'id_str': '14919552', 'name': 'UOCuniversitat', 'screen_name': 'UOCuniversitat', 'location': 'Barcelona', 'description': \"Twitter oficial en català de la Universitat Oberta de Catalunya. En español: @UOCuniversidad. Servei d'atenció: @UOCrespon.\", 'url': 'https://t.co/Kz3lA2EQdz', 'entities': {'url': {'urls': [{'url': 'https://t.co/Kz3lA2EQdz', 'expanded_url': 'http://25.uoc.edu', 'display_url': '25.uoc.edu', 'indices': [0, 23]}]}, 'description': {'urls': []}}, 'protected': False, 'followers_count': 36917, 'friends_count': 2794, 'listed_count': 1091, 'created_at': 'Tue May 27 11:19:19 +0000 2008', 'favourites_count': 2802, 'utc_offset': None, 'time_zone': None, 'geo_enabled': True, 'verified': False, 'statuses_count': 26753, 'lang': None, 'contributors_enabled': False, 'is_translator': False, 'is_translation_enabled': False, 'profile_background_color': 'FFFFFF', 'profile_background_image_url': 'http://abs.twimg.com/images/themes/theme1/bg.png', 'profile_background_image_url_https': 'https://abs.twimg.com/images/themes/theme1/bg.png', 'profile_background_tile': False, 'profile_image_url': 'http://pbs.twimg.com/profile_images/1316303661224656896/KIJs0w9a_normal.jpg', 'profile_image_url_https': 'https://pbs.twimg.com/profile_images/1316303661224656896/KIJs0w9a_normal.jpg', 'profile_banner_url': 'https://pbs.twimg.com/profile_banners/14919552/1602666225', 'profile_link_color': '0084B4', 'profile_sidebar_border_color': 'FFFFFF', 'profile_sidebar_fill_color': 'D8DCCF', 'profile_text_color': '3848A0', 'profile_use_background_image': True, 'has_extended_profile': False, 'default_profile': False, 'default_profile_image': False, 'following': False, 'follow_request_sent': False, 'notifications': False, 'translator_type': 'none'}, id=14919552, id_str='14919552', name='UOCuniversitat', screen_name='UOCuniversitat', location='Barcelona', description=\"Twitter oficial en català de la Universitat Oberta de Catalunya. En español: @UOCuniversidad. Servei d'atenció: @UOCrespon.\", url='https://t.co/Kz3lA2EQdz', entities={'url': {'urls': [{'url': 'https://t.co/Kz3lA2EQdz', 'expanded_url': 'http://25.uoc.edu', 'display_url': '25.uoc.edu', 'indices': [0, 23]}]}, 'description': {'urls': []}}, protected=False, followers_count=36917, friends_count=2794, listed_count=1091, created_at=datetime.datetime(2008, 5, 27, 11, 19, 19), favourites_count=2802, utc_offset=None, time_zone=None, geo_enabled=True, verified=False, statuses_count=26753, lang=None, contributors_enabled=False, is_translator=False, is_translation_enabled=False, profile_background_color='FFFFFF', profile_background_image_url='http://abs.twimg.com/images/themes/theme1/bg.png', profile_background_image_url_https='https://abs.twimg.com/images/themes/theme1/bg.png', profile_background_tile=False, profile_image_url='http://pbs.twimg.com/profile_images/1316303661224656896/KIJs0w9a_normal.jpg', profile_image_url_https='https://pbs.twimg.com/profile_images/1316303661224656896/KIJs0w9a_normal.jpg', profile_banner_url='https://pbs.twimg.com/profile_banners/14919552/1602666225', profile_link_color='0084B4', profile_sidebar_border_color='FFFFFF', profile_sidebar_fill_color='D8DCCF', profile_text_color='3848A0', profile_use_background_image=True, has_extended_profile=False, default_profile=False, default_profile_image=False, following=False, follow_request_sent=False, notifications=False, translator_type='none'), geo=None, coordinates=None, place=None, contributors=None, retweeted_status=Status(_api=<tweepy.api.API object at 0x7f97ad5923c8>, _json={'created_at': 'Wed Oct 21 19:37:32 +0000 2020', 'id': 1318999883248959490, 'id_str': '1318999883248959490', 'text': 'Excel·lent xerrada de Sanjay Sarma, no us la perdeu! Enhorabona @UOCuniversitat https://t.co/jlvz4NfACa', 'truncated': False, 'entities': {'hashtags': [], 'symbols': [], 'user_mentions': [{'screen_name': 'UOCuniversitat', 'name': 'UOCuniversitat', 'id': 14919552, 'id_str': '14919552', 'indices': [64, 79]}], 'urls': [{'url': 'https://t.co/jlvz4NfACa', 'expanded_url': 'https://twitter.com/uocuniversitat/status/1318930882598752259', 'display_url': 'twitter.com/uocuniversitat…', 'indices': [80, 103]}]}, 'source': '<a href=\"http://twitter.com/download/iphone\" rel=\"nofollow\">Twitter for iPhone</a>', 'in_reply_to_status_id': None, 'in_reply_to_status_id_str': None, 'in_reply_to_user_id': None, 'in_reply_to_user_id_str': None, 'in_reply_to_screen_name': None, 'user': {'id': 1076441989, 'id_str': '1076441989', 'name': 'Josep M. Pep Vilalta', 'screen_name': 'JosepMVilalta', 'location': 'Barcelona, Catalunya', 'description': 'Public policies & public management, education, universities, research and innovation', 'url': 'https://t.co/ZhXgxW93LR', 'entities': {'url': {'urls': [{'url': 'https://t.co/ZhXgxW93LR', 'expanded_url': 'http://www.josepmvilalta.com', 'display_url': 'josepmvilalta.com', 'indices': [0, 23]}]}, 'description': {'urls': []}}, 'protected': False, 'followers_count': 6468, 'friends_count': 2860, 'listed_count': 226, 'created_at': 'Thu Jan 10 12:05:04 +0000 2013', 'favourites_count': 33585, 'utc_offset': None, 'time_zone': None, 'geo_enabled': True, 'verified': False, 'statuses_count': 26551, 'lang': None, 'contributors_enabled': False, 'is_translator': False, 'is_translation_enabled': False, 'profile_background_color': 'C0DEED', 'profile_background_image_url': 'http://abs.twimg.com/images/themes/theme1/bg.png', 'profile_background_image_url_https': 'https://abs.twimg.com/images/themes/theme1/bg.png', 'profile_background_tile': False, 'profile_image_url': 'http://pbs.twimg.com/profile_images/1109001469238394880/5nv0jFOf_normal.jpg', 'profile_image_url_https': 'https://pbs.twimg.com/profile_images/1109001469238394880/5nv0jFOf_normal.jpg', 'profile_banner_url': 'https://pbs.twimg.com/profile_banners/1076441989/1479134150', 'profile_link_color': '1DA1F2', 'profile_sidebar_border_color': 'C0DEED', 'profile_sidebar_fill_color': 'DDEEF6', 'profile_text_color': '333333', 'profile_use_background_image': True, 'has_extended_profile': False, 'default_profile': True, 'default_profile_image': False, 'following': False, 'follow_request_sent': False, 'notifications': False, 'translator_type': 'none'}, 'geo': None, 'coordinates': None, 'place': None, 'contributors': None, 'is_quote_status': True, 'quoted_status_id': 1318930882598752259, 'quoted_status_id_str': '1318930882598752259', 'quoted_status': {'created_at': 'Wed Oct 21 15:03:21 +0000 2020', 'id': 1318930882598752259, 'id_str': '1318930882598752259', 'text': '🎓 En breu podreu recuperar la #InauguralUOC amb Sanjay Sarma, vicepresident del @mitopenlearning \"What is the Futur… https://t.co/Ajk5iccPQW', 'truncated': True, 'entities': {'hashtags': [{'text': 'InauguralUOC', 'indices': [30, 43]}], 'symbols': [], 'user_mentions': [{'screen_name': 'mitopenlearning', 'name': 'MIT Open Learning', 'id': 1006592770969088000, 'id_str': '1006592770969088000', 'indices': [80, 96]}], 'urls': [{'url': 'https://t.co/Ajk5iccPQW', 'expanded_url': 'https://twitter.com/i/web/status/1318930882598752259', 'display_url': 'twitter.com/i/web/status/1…', 'indices': [117, 140]}]}, 'source': '<a href=\"https://www.hootsuite.com\" rel=\"nofollow\">Hootsuite Inc.</a>', 'in_reply_to_status_id': None, 'in_reply_to_status_id_str': None, 'in_reply_to_user_id': None, 'in_reply_to_user_id_str': None, 'in_reply_to_screen_name': None, 'user': {'id': 14919552, 'id_str': '14919552', 'name': 'UOCuniversitat', 'screen_name': 'UOCuniversitat', 'location': 'Barcelona', 'description': \"Twitter oficial en català de la Universitat Oberta de Catalunya. En español: @UOCuniversidad. Servei d'atenció: @UOCrespon.\", 'url': 'https://t.co/Kz3lA2EQdz', 'entities': {'url': {'urls': [{'url': 'https://t.co/Kz3lA2EQdz', 'expanded_url': 'http://25.uoc.edu', 'display_url': '25.uoc.edu', 'indices': [0, 23]}]}, 'description': {'urls': []}}, 'protected': False, 'followers_count': 36917, 'friends_count': 2794, 'listed_count': 1091, 'created_at': 'Tue May 27 11:19:19 +0000 2008', 'favourites_count': 2802, 'utc_offset': None, 'time_zone': None, 'geo_enabled': True, 'verified': False, 'statuses_count': 26753, 'lang': None, 'contributors_enabled': False, 'is_translator': False, 'is_translation_enabled': False, 'profile_background_color': 'FFFFFF', 'profile_background_image_url': 'http://abs.twimg.com/images/themes/theme1/bg.png', 'profile_background_image_url_https': 'https://abs.twimg.com/images/themes/theme1/bg.png', 'profile_background_tile': False, 'profile_image_url': 'http://pbs.twimg.com/profile_images/1316303661224656896/KIJs0w9a_normal.jpg', 'profile_image_url_https': 'https://pbs.twimg.com/profile_images/1316303661224656896/KIJs0w9a_normal.jpg', 'profile_banner_url': 'https://pbs.twimg.com/profile_banners/14919552/1602666225', 'profile_link_color': '0084B4', 'profile_sidebar_border_color': 'FFFFFF', 'profile_sidebar_fill_color': 'D8DCCF', 'profile_text_color': '3848A0', 'profile_use_background_image': True, 'has_extended_profile': False, 'default_profile': False, 'default_profile_image': False, 'following': False, 'follow_request_sent': False, 'notifications': False, 'translator_type': 'none'}, 'geo': None, 'coordinates': None, 'place': None, 'contributors': None, 'is_quote_status': False, 'retweet_count': 1, 'favorite_count': 5, 'favorited': False, 'retweeted': False, 'possibly_sensitive': False, 'lang': 'ca'}, 'retweet_count': 1, 'favorite_count': 4, 'favorited': False, 'retweeted': False, 'possibly_sensitive': False, 'lang': 'pt'}, created_at=datetime.datetime(2020, 10, 21, 19, 37, 32), id=1318999883248959490, id_str='1318999883248959490', text='Excel·lent xerrada de Sanjay Sarma, no us la perdeu! Enhorabona @UOCuniversitat https://t.co/jlvz4NfACa', truncated=False, entities={'hashtags': [], 'symbols': [], 'user_mentions': [{'screen_name': 'UOCuniversitat', 'name': 'UOCuniversitat', 'id': 14919552, 'id_str': '14919552', 'indices': [64, 79]}], 'urls': [{'url': 'https://t.co/jlvz4NfACa', 'expanded_url': 'https://twitter.com/uocuniversitat/status/1318930882598752259', 'display_url': 'twitter.com/uocuniversitat…', 'indices': [80, 103]}]}, source='Twitter for iPhone', source_url='http://twitter.com/download/iphone', in_reply_to_status_id=None, in_reply_to_status_id_str=None, in_reply_to_user_id=None, in_reply_to_user_id_str=None, in_reply_to_screen_name=None, author=User(_api=<tweepy.api.API object at 0x7f97ad5923c8>, _json={'id': 1076441989, 'id_str': '1076441989', 'name': 'Josep M. Pep Vilalta', 'screen_name': 'JosepMVilalta', 'location': 'Barcelona, Catalunya', 'description': 'Public policies & public management, education, universities, research and innovation', 'url': 'https://t.co/ZhXgxW93LR', 'entities': {'url': {'urls': [{'url': 'https://t.co/ZhXgxW93LR', 'expanded_url': 'http://www.josepmvilalta.com', 'display_url': 'josepmvilalta.com', 'indices': [0, 23]}]}, 'description': {'urls': []}}, 'protected': False, 'followers_count': 6468, 'friends_count': 2860, 'listed_count': 226, 'created_at': 'Thu Jan 10 12:05:04 +0000 2013', 'favourites_count': 33585, 'utc_offset': None, 'time_zone': None, 'geo_enabled': True, 'verified': False, 'statuses_count': 26551, 'lang': None, 'contributors_enabled': False, 'is_translator': False, 'is_translation_enabled': False, 'profile_background_color': 'C0DEED', 'profile_background_image_url': 'http://abs.twimg.com/images/themes/theme1/bg.png', 'profile_background_image_url_https': 'https://abs.twimg.com/images/themes/theme1/bg.png', 'profile_background_tile': False, 'profile_image_url': 'http://pbs.twimg.com/profile_images/1109001469238394880/5nv0jFOf_normal.jpg', 'profile_image_url_https': 'https://pbs.twimg.com/profile_images/1109001469238394880/5nv0jFOf_normal.jpg', 'profile_banner_url': 'https://pbs.twimg.com/profile_banners/1076441989/1479134150', 'profile_link_color': '1DA1F2', 'profile_sidebar_border_color': 'C0DEED', 'profile_sidebar_fill_color': 'DDEEF6', 'profile_text_color': '333333', 'profile_use_background_image': True, 'has_extended_profile': False, 'default_profile': True, 'default_profile_image': False, 'following': False, 'follow_request_sent': False, 'notifications': False, 'translator_type': 'none'}, id=1076441989, id_str='1076441989', name='Josep M. Pep Vilalta', screen_name='JosepMVilalta', location='Barcelona, Catalunya', description='Public policies & public management, education, universities, research and innovation', url='https://t.co/ZhXgxW93LR', entities={'url': {'urls': [{'url': 'https://t.co/ZhXgxW93LR', 'expanded_url': 'http://www.josepmvilalta.com', 'display_url': 'josepmvilalta.com', 'indices': [0, 23]}]}, 'description': {'urls': []}}, protected=False, followers_count=6468, friends_count=2860, listed_count=226, created_at=datetime.datetime(2013, 1, 10, 12, 5, 4), favourites_count=33585, utc_offset=None, time_zone=None, geo_enabled=True, verified=False, statuses_count=26551, lang=None, contributors_enabled=False, is_translator=False, is_translation_enabled=False, profile_background_color='C0DEED', profile_background_image_url='http://abs.twimg.com/images/themes/theme1/bg.png', profile_background_image_url_https='https://abs.twimg.com/images/themes/theme1/bg.png', profile_background_tile=False, profile_image_url='http://pbs.twimg.com/profile_images/1109001469238394880/5nv0jFOf_normal.jpg', profile_image_url_https='https://pbs.twimg.com/profile_images/1109001469238394880/5nv0jFOf_normal.jpg', profile_banner_url='https://pbs.twimg.com/profile_banners/1076441989/1479134150', profile_link_color='1DA1F2', profile_sidebar_border_color='C0DEED', profile_sidebar_fill_color='DDEEF6', profile_text_color='333333', profile_use_background_image=True, has_extended_profile=False, default_profile=True, default_profile_image=False, following=False, follow_request_sent=False, notifications=False, translator_type='none'), user=User(_api=<tweepy.api.API object at 0x7f97ad5923c8>, _json={'id': 1076441989, 'id_str': '1076441989', 'name': 'Josep M. Pep Vilalta', 'screen_name': 'JosepMVilalta', 'location': 'Barcelona, Catalunya', 'description': 'Public policies & public management, education, universities, research and innovation', 'url': 'https://t.co/ZhXgxW93LR', 'entities': {'url': {'urls': [{'url': 'https://t.co/ZhXgxW93LR', 'expanded_url': 'http://www.josepmvilalta.com', 'display_url': 'josepmvilalta.com', 'indices': [0, 23]}]}, 'description': {'urls': []}}, 'protected': False, 'followers_count': 6468, 'friends_count': 2860, 'listed_count': 226, 'created_at': 'Thu Jan 10 12:05:04 +0000 2013', 'favourites_count': 33585, 'utc_offset': None, 'time_zone': None, 'geo_enabled': True, 'verified': False, 'statuses_count': 26551, 'lang': None, 'contributors_enabled': False, 'is_translator': False, 'is_translation_enabled': False, 'profile_background_color': 'C0DEED', 'profile_background_image_url': 'http://abs.twimg.com/images/themes/theme1/bg.png', 'profile_background_image_url_https': 'https://abs.twimg.com/images/themes/theme1/bg.png', 'profile_background_tile': False, 'profile_image_url': 'http://pbs.twimg.com/profile_images/1109001469238394880/5nv0jFOf_normal.jpg', 'profile_image_url_https': 'https://pbs.twimg.com/profile_images/1109001469238394880/5nv0jFOf_normal.jpg', 'profile_banner_url': 'https://pbs.twimg.com/profile_banners/1076441989/1479134150', 'profile_link_color': '1DA1F2', 'profile_sidebar_border_color': 'C0DEED', 'profile_sidebar_fill_color': 'DDEEF6', 'profile_text_color': '333333', 'profile_use_background_image': True, 'has_extended_profile': False, 'default_profile': True, 'default_profile_image': False, 'following': False, 'follow_request_sent': False, 'notifications': False, 'translator_type': 'none'}, id=1076441989, id_str='1076441989', name='Josep M. Pep Vilalta', screen_name='JosepMVilalta', location='Barcelona, Catalunya', description='Public policies & public management, education, universities, research and innovation', url='https://t.co/ZhXgxW93LR', entities={'url': {'urls': [{'url': 'https://t.co/ZhXgxW93LR', 'expanded_url': 'http://www.josepmvilalta.com', 'display_url': 'josepmvilalta.com', 'indices': [0, 23]}]}, 'description': {'urls': []}}, protected=False, followers_count=6468, friends_count=2860, listed_count=226, created_at=datetime.datetime(2013, 1, 10, 12, 5, 4), favourites_count=33585, utc_offset=None, time_zone=None, geo_enabled=True, verified=False, statuses_count=26551, lang=None, contributors_enabled=False, is_translator=False, is_translation_enabled=False, profile_background_color='C0DEED', profile_background_image_url='http://abs.twimg.com/images/themes/theme1/bg.png', profile_background_image_url_https='https://abs.twimg.com/images/themes/theme1/bg.png', profile_background_tile=False, profile_image_url='http://pbs.twimg.com/profile_images/1109001469238394880/5nv0jFOf_normal.jpg', profile_image_url_https='https://pbs.twimg.com/profile_images/1109001469238394880/5nv0jFOf_normal.jpg', profile_banner_url='https://pbs.twimg.com/profile_banners/1076441989/1479134150', profile_link_color='1DA1F2', profile_sidebar_border_color='C0DEED', profile_sidebar_fill_color='DDEEF6', profile_text_color='333333', profile_use_background_image=True, has_extended_profile=False, default_profile=True, default_profile_image=False, following=False, follow_request_sent=False, notifications=False, translator_type='none'), geo=None, coordinates=None, place=None, contributors=None, is_quote_status=True, quoted_status_id=1318930882598752259, quoted_status_id_str='1318930882598752259', quoted_status=Status(_api=<tweepy.api.API object at 0x7f97ad5923c8>, _json={'created_at': 'Wed Oct 21 15:03:21 +0000 2020', 'id': 1318930882598752259, 'id_str': '1318930882598752259', 'text': '🎓 En breu podreu recuperar la #InauguralUOC amb Sanjay Sarma, vicepresident del @mitopenlearning \"What is the Futur… https://t.co/Ajk5iccPQW', 'truncated': True, 'entities': {'hashtags': [{'text': 'InauguralUOC', 'indices': [30, 43]}], 'symbols': [], 'user_mentions': [{'screen_name': 'mitopenlearning', 'name': 'MIT Open Learning', 'id': 1006592770969088000, 'id_str': '1006592770969088000', 'indices': [80, 96]}], 'urls': [{'url': 'https://t.co/Ajk5iccPQW', 'expanded_url': 'https://twitter.com/i/web/status/1318930882598752259', 'display_url': 'twitter.com/i/web/status/1…', 'indices': [117, 140]}]}, 'source': '<a href=\"https://www.hootsuite.com\" rel=\"nofollow\">Hootsuite Inc.</a>', 'in_reply_to_status_id': None, 'in_reply_to_status_id_str': None, 'in_reply_to_user_id': None, 'in_reply_to_user_id_str': None, 'in_reply_to_screen_name': None, 'user': {'id': 14919552, 'id_str': '14919552', 'name': 'UOCuniversitat', 'screen_name': 'UOCuniversitat', 'location': 'Barcelona', 'description': \"Twitter oficial en català de la Universitat Oberta de Catalunya. En español: @UOCuniversidad. Servei d'atenció: @UOCrespon.\", 'url': 'https://t.co/Kz3lA2EQdz', 'entities': {'url': {'urls': [{'url': 'https://t.co/Kz3lA2EQdz', 'expanded_url': 'http://25.uoc.edu', 'display_url': '25.uoc.edu', 'indices': [0, 23]}]}, 'description': {'urls': []}}, 'protected': False, 'followers_count': 36917, 'friends_count': 2794, 'listed_count': 1091, 'created_at': 'Tue May 27 11:19:19 +0000 2008', 'favourites_count': 2802, 'utc_offset': None, 'time_zone': None, 'geo_enabled': True, 'verified': False, 'statuses_count': 26753, 'lang': None, 'contributors_enabled': False, 'is_translator': False, 'is_translation_enabled': False, 'profile_background_color': 'FFFFFF', 'profile_background_image_url': 'http://abs.twimg.com/images/themes/theme1/bg.png', 'profile_background_image_url_https': 'https://abs.twimg.com/images/themes/theme1/bg.png', 'profile_background_tile': False, 'profile_image_url': 'http://pbs.twimg.com/profile_images/1316303661224656896/KIJs0w9a_normal.jpg', 'profile_image_url_https': 'https://pbs.twimg.com/profile_images/1316303661224656896/KIJs0w9a_normal.jpg', 'profile_banner_url': 'https://pbs.twimg.com/profile_banners/14919552/1602666225', 'profile_link_color': '0084B4', 'profile_sidebar_border_color': 'FFFFFF', 'profile_sidebar_fill_color': 'D8DCCF', 'profile_text_color': '3848A0', 'profile_use_background_image': True, 'has_extended_profile': False, 'default_profile': False, 'default_profile_image': False, 'following': False, 'follow_request_sent': False, 'notifications': False, 'translator_type': 'none'}, 'geo': None, 'coordinates': None, 'place': None, 'contributors': None, 'is_quote_status': False, 'retweet_count': 1, 'favorite_count': 5, 'favorited': False, 'retweeted': False, 'possibly_sensitive': False, 'lang': 'ca'}, created_at=datetime.datetime(2020, 10, 21, 15, 3, 21), id=1318930882598752259, id_str='1318930882598752259', text='🎓 En breu podreu recuperar la #InauguralUOC amb Sanjay Sarma, vicepresident del @mitopenlearning \"What is the Futur… https://t.co/Ajk5iccPQW', truncated=True, entities={'hashtags': [{'text': 'InauguralUOC', 'indices': [30, 43]}], 'symbols': [], 'user_mentions': [{'screen_name': 'mitopenlearning', 'name': 'MIT Open Learning', 'id': 1006592770969088000, 'id_str': '1006592770969088000', 'indices': [80, 96]}], 'urls': [{'url': 'https://t.co/Ajk5iccPQW', 'expanded_url': 'https://twitter.com/i/web/status/1318930882598752259', 'display_url': 'twitter.com/i/web/status/1…', 'indices': [117, 140]}]}, source='Hootsuite Inc.', source_url='https://www.hootsuite.com', in_reply_to_status_id=None, in_reply_to_status_id_str=None, in_reply_to_user_id=None, in_reply_to_user_id_str=None, in_reply_to_screen_name=None, author=User(_api=<tweepy.api.API object at 0x7f97ad5923c8>, _json={'id': 14919552, 'id_str': '14919552', 'name': 'UOCuniversitat', 'screen_name': 'UOCuniversitat', 'location': 'Barcelona', 'description': \"Twitter oficial en català de la Universitat Oberta de Catalunya. En español: @UOCuniversidad. Servei d'atenció: @UOCrespon.\", 'url': 'https://t.co/Kz3lA2EQdz', 'entities': {'url': {'urls': [{'url': 'https://t.co/Kz3lA2EQdz', 'expanded_url': 'http://25.uoc.edu', 'display_url': '25.uoc.edu', 'indices': [0, 23]}]}, 'description': {'urls': []}}, 'protected': False, 'followers_count': 36917, 'friends_count': 2794, 'listed_count': 1091, 'created_at': 'Tue May 27 11:19:19 +0000 2008', 'favourites_count': 2802, 'utc_offset': None, 'time_zone': None, 'geo_enabled': True, 'verified': False, 'statuses_count': 26753, 'lang': None, 'contributors_enabled': False, 'is_translator': False, 'is_translation_enabled': False, 'profile_background_color': 'FFFFFF', 'profile_background_image_url': 'http://abs.twimg.com/images/themes/theme1/bg.png', 'profile_background_image_url_https': 'https://abs.twimg.com/images/themes/theme1/bg.png', 'profile_background_tile': False, 'profile_image_url': 'http://pbs.twimg.com/profile_images/1316303661224656896/KIJs0w9a_normal.jpg', 'profile_image_url_https': 'https://pbs.twimg.com/profile_images/1316303661224656896/KIJs0w9a_normal.jpg', 'profile_banner_url': 'https://pbs.twimg.com/profile_banners/14919552/1602666225', 'profile_link_color': '0084B4', 'profile_sidebar_border_color': 'FFFFFF', 'profile_sidebar_fill_color': 'D8DCCF', 'profile_text_color': '3848A0', 'profile_use_background_image': True, 'has_extended_profile': False, 'default_profile': False, 'default_profile_image': False, 'following': False, 'follow_request_sent': False, 'notifications': False, 'translator_type': 'none'}, id=14919552, id_str='14919552', name='UOCuniversitat', screen_name='UOCuniversitat', location='Barcelona', description=\"Twitter oficial en català de la Universitat Oberta de Catalunya. En español: @UOCuniversidad. Servei d'atenció: @UOCrespon.\", url='https://t.co/Kz3lA2EQdz', entities={'url': {'urls': [{'url': 'https://t.co/Kz3lA2EQdz', 'expanded_url': 'http://25.uoc.edu', 'display_url': '25.uoc.edu', 'indices': [0, 23]}]}, 'description': {'urls': []}}, protected=False, followers_count=36917, friends_count=2794, listed_count=1091, created_at=datetime.datetime(2008, 5, 27, 11, 19, 19), favourites_count=2802, utc_offset=None, time_zone=None, geo_enabled=True, verified=False, statuses_count=26753, lang=None, contributors_enabled=False, is_translator=False, is_translation_enabled=False, profile_background_color='FFFFFF', profile_background_image_url='http://abs.twimg.com/images/themes/theme1/bg.png', profile_background_image_url_https='https://abs.twimg.com/images/themes/theme1/bg.png', profile_background_tile=False, profile_image_url='http://pbs.twimg.com/profile_images/1316303661224656896/KIJs0w9a_normal.jpg', profile_image_url_https='https://pbs.twimg.com/profile_images/1316303661224656896/KIJs0w9a_normal.jpg', profile_banner_url='https://pbs.twimg.com/profile_banners/14919552/1602666225', profile_link_color='0084B4', profile_sidebar_border_color='FFFFFF', profile_sidebar_fill_color='D8DCCF', profile_text_color='3848A0', profile_use_background_image=True, has_extended_profile=False, default_profile=False, default_profile_image=False, following=False, follow_request_sent=False, notifications=False, translator_type='none'), user=User(_api=<tweepy.api.API object at 0x7f97ad5923c8>, _json={'id': 14919552, 'id_str': '14919552', 'name': 'UOCuniversitat', 'screen_name': 'UOCuniversitat', 'location': 'Barcelona', 'description': \"Twitter oficial en català de la Universitat Oberta de Catalunya. En español: @UOCuniversidad. Servei d'atenció: @UOCrespon.\", 'url': 'https://t.co/Kz3lA2EQdz', 'entities': {'url': {'urls': [{'url': 'https://t.co/Kz3lA2EQdz', 'expanded_url': 'http://25.uoc.edu', 'display_url': '25.uoc.edu', 'indices': [0, 23]}]}, 'description': {'urls': []}}, 'protected': False, 'followers_count': 36917, 'friends_count': 2794, 'listed_count': 1091, 'created_at': 'Tue May 27 11:19:19 +0000 2008', 'favourites_count': 2802, 'utc_offset': None, 'time_zone': None, 'geo_enabled': True, 'verified': False, 'statuses_count': 26753, 'lang': None, 'contributors_enabled': False, 'is_translator': False, 'is_translation_enabled': False, 'profile_background_color': 'FFFFFF', 'profile_background_image_url': 'http://abs.twimg.com/images/themes/theme1/bg.png', 'profile_background_image_url_https': 'https://abs.twimg.com/images/themes/theme1/bg.png', 'profile_background_tile': False, 'profile_image_url': 'http://pbs.twimg.com/profile_images/1316303661224656896/KIJs0w9a_normal.jpg', 'profile_image_url_https': 'https://pbs.twimg.com/profile_images/1316303661224656896/KIJs0w9a_normal.jpg', 'profile_banner_url': 'https://pbs.twimg.com/profile_banners/14919552/1602666225', 'profile_link_color': '0084B4', 'profile_sidebar_border_color': 'FFFFFF', 'profile_sidebar_fill_color': 'D8DCCF', 'profile_text_color': '3848A0', 'profile_use_background_image': True, 'has_extended_profile': False, 'default_profile': False, 'default_profile_image': False, 'following': False, 'follow_request_sent': False, 'notifications': False, 'translator_type': 'none'}, id=14919552, id_str='14919552', name='UOCuniversitat', screen_name='UOCuniversitat', location='Barcelona', description=\"Twitter oficial en català de la Universitat Oberta de Catalunya. En español: @UOCuniversidad. Servei d'atenció: @UOCrespon.\", url='https://t.co/Kz3lA2EQdz', entities={'url': {'urls': [{'url': 'https://t.co/Kz3lA2EQdz', 'expanded_url': 'http://25.uoc.edu', 'display_url': '25.uoc.edu', 'indices': [0, 23]}]}, 'description': {'urls': []}}, protected=False, followers_count=36917, friends_count=2794, listed_count=1091, created_at=datetime.datetime(2008, 5, 27, 11, 19, 19), favourites_count=2802, utc_offset=None, time_zone=None, geo_enabled=True, verified=False, statuses_count=26753, lang=None, contributors_enabled=False, is_translator=False, is_translation_enabled=False, profile_background_color='FFFFFF', profile_background_image_url='http://abs.twimg.com/images/themes/theme1/bg.png', profile_background_image_url_https='https://abs.twimg.com/images/themes/theme1/bg.png', profile_background_tile=False, profile_image_url='http://pbs.twimg.com/profile_images/1316303661224656896/KIJs0w9a_normal.jpg', profile_image_url_https='https://pbs.twimg.com/profile_images/1316303661224656896/KIJs0w9a_normal.jpg', profile_banner_url='https://pbs.twimg.com/profile_banners/14919552/1602666225', profile_link_color='0084B4', profile_sidebar_border_color='FFFFFF', profile_sidebar_fill_color='D8DCCF', profile_text_color='3848A0', profile_use_background_image=True, has_extended_profile=False, default_profile=False, default_profile_image=False, following=False, follow_request_sent=False, notifications=False, translator_type='none'), geo=None, coordinates=None, place=None, contributors=None, is_quote_status=False, retweet_count=1, favorite_count=5, favorited=False, retweeted=False, possibly_sensitive=False, lang='ca'), retweet_count=1, favorite_count=4, favorited=False, retweeted=False, possibly_sensitive=False, lang='pt'), is_quote_status=True, quoted_status_id=1318930882598752259, quoted_status_id_str='1318930882598752259', retweet_count=1, favorite_count=0, favorited=False, retweeted=False, possibly_sensitive=False, lang='pt')"
      ]
     },
     "execution_count": 19,
     "metadata": {
      "tags": []
     },
     "output_type": "execute_result"
    }
   ],
   "source": [
    "tweets_uoc[0]"
   ]
  },
  {
   "cell_type": "markdown",
   "metadata": {
    "id": "g_JBZ3JjEgmi"
   },
   "source": [
    "> Si nos fijamos, se puede conocer si el tweet contiene algún hashtag obteniendo el contenido de _.entities ['hashtag']_"
   ]
  },
  {
   "cell_type": "markdown",
   "metadata": {
    "id": "ZYIvtVsuFTrD"
   },
   "source": [
    "### **Ejercicio práctico 1 (Twitter)** "
   ]
  },
  {
   "cell_type": "markdown",
   "metadata": {
    "id": "96IdNyd7Ge11"
   },
   "source": [
    "En este ejercicio se pide que se obtenga información de las cuentas de Twiteer de los 20 perfiles que en 2021 fueron considerados los más influyentes en Twitter segun Brandwatch, información disponible en la siguiente página web https://www.thetealmango.com/featured/top-50-most-influential-people-on-twitter/. (En esta página se muestran 50, pero nos quedaremos con los top20).\n",
    "\n",
    "Para su consecución, este ejercicio se divide en tres partes: La primera relativa a la obtención de las cuentas que vamos a inverstigar; la segunda relativa a la obtención de información de estas cuentas en Twitter y la tercera relativa a la obtención de Hashtags (tendencias) entre estos usuarios.\n",
    "\n",
    "**PARTE 1:** Web Scraping de https://www.thetealmango.com/featured/top-50-most-influential-people-on-twitter/ para obtener los usuarios.\n",
    "\n",
    "- El objetivo es scrapear el nombre de los usuarios más influyentes en Twitter durante el 2021. Para ello, se recomienda que se utilize la librería _BeautifulSoap_ y se siga el proceso de web scraping de forma análoga a como se realizó en la PEC anterior. Una vez obtenidos los usuarios (estos se corresponden con los valores de la columna 'Handle' de la tabla), crear una lista que contenga los usuarios top20 (los 20 primeros usuarios de la lista), la cual será utilizada en la siguiente parte. A los nombre de usuarios hay que eliminar el simbolo '@' para poder ser utilizados en la parte 2.\n",
    "\n",
    "**PARTE 2:** Web Scraping en Twitter para obtener la información de las cuentas de los 20 usuarios obtenidos en la parte anterior y la información de sus 20 últimos tweets. En este caso, se utilizará la librería vista en el ejemplo anterior (_tweepy_)\n",
    "\n",
    "- La información que se solicita conocer de cada una de las 20 cuentas es la siguiente: nombre ('name'), usuario ('screen_name'), ubicación ('location'), fecha de creación de la cuenta ('created_at'), número de seguidores ('followers_count'), número de amigos o seguidos ('friends_count').\n",
    "\n",
    "- Una vez obtenidos los datos, estos deberan ser organizados en un dataframe, de forma que cada columna sea un campo de los anteriores y cada fila haga referencia a cada uno de los usuarios. \n",
    "\n",
    "- Cuando esté creado el dataframe, ordenarlo por número de seguidores, de forma qeu podamos ver en la primera fila la cuenta con mayor número de seguidores.\n",
    "\n",
    "**PARTE 3:** En esa última parte obtendremos los 20 últimos tweets de los usuarios de la parte anterior para analizar si han mencionado los mismos Hashtags.\n",
    "\n",
    "- De los usuarios, cargar los 20 últimos tweets y obtener una lista que contenga todos los **hastags** que han aparecido en alguno de estos tweets de cada cuenta de usuario considerada. \n",
    "\n",
    "- Una vez obtenida esta información, podemos organizarla en forma de diccionario dónde una columna sea el nombre de usuario y la otra la lista separada por comas de los hashtags obtenidos en cada usuario; o en forma de diccionario, donde el valor de la clave sea el nobre de usuario y el valor una lista con los diferentes hashtags encontrados por usuario. \n",
    "\n",
    "- Finalmente vamos a analizar por cada Hashtag, qué cuenta lo hamencionado. Con esa información, vamos a mostrar qué Hashtag(s) ha(n) sido mencionado(s) por más de un usuario (en caso de que los haya)."
   ]
  },
  {
   "cell_type": "markdown",
   "metadata": {
    "id": "JpVXfp4dWQi6"
   },
   "source": [
    "> **NOTA:** En la parte 2, tanto para obtener la información relativa de las cuentas como la de los tweets, se recomienda hacer un bucle en el que en cada iteración se obtenga la información de cada usuario. Además, al final de cada iteración, antes de pasar a la siguiente, se aconseja esperar 4 segundos. Para ello, se puede utilizar la funcion time.sleep(4) de la librería times."
   ]
  },
  {
   "cell_type": "code",
   "execution_count": null,
   "metadata": {
    "id": "3tRlwlY2HTV5"
   },
   "outputs": [],
   "source": [
    "# Cargar librerías\n",
    "import requests\n",
    "from bs4 import BeautifulSoup\n",
    "import pandas as pd"
   ]
  },
  {
   "cell_type": "markdown",
   "metadata": {
    "id": "JpVXfp4dWQi6"
   },
   "source": [
    "**PARTE 1**"
   ]
  },
  {
   "cell_type": "code",
   "execution_count": null,
   "metadata": {
    "id": "97W2uZhxT0Dz"
   },
   "outputs": [],
   "source": [
    "# Obtener contenido del documento html relativo al nombre de usuario de las cuentas Twitter  (lista_usuarios)\n",
    "url_base='https://www.thetealmango.com/featured/top-50-most-influential-people-on-twitter/'\n",
    "\n",
    "# Hacer la solicitud\n",
    "#TODO\n",
    "\n",
    "# Extraer el HTML\n",
    "#TODO\n",
    "\n",
    "# Convertir HTML a BeautifulSoup object. \n",
    "#TODO\n",
    "\n",
    "# Exportiar el HTML a un archivo\n",
    "#TODO\n"
   ]
  },
  {
   "cell_type": "code",
   "execution_count": null,
   "metadata": {
    "id": "fTq8Cq1MIHGl"
   },
   "outputs": [],
   "source": [
    "# Obtener valores tabla\n",
    "#TODO\n"
   ]
  },
  {
   "cell_type": "code",
   "execution_count": null,
   "metadata": {
    "id": "x8OV6TxsT0WI"
   },
   "outputs": [],
   "source": [
    "# Mostrar valores \n",
    "#TODO\n"
   ]
  },
  {
   "cell_type": "code",
   "execution_count": null,
   "metadata": {},
   "outputs": [],
   "source": [
    "# Obtener 20 primeros\n",
    "#TODO\n"
   ]
  },
  {
   "cell_type": "code",
   "execution_count": null,
   "metadata": {},
   "outputs": [],
   "source": [
    "# Imprimir lista de usuarios\n",
    "#TODO"
   ]
  },
  {
   "cell_type": "markdown",
   "metadata": {
    "id": "JpVXfp4dWQi6"
   },
   "source": [
    "**PARTE 2**"
   ]
  },
  {
   "cell_type": "code",
   "execution_count": null,
   "metadata": {
    "id": "2PFbH-kgT0ev"
   },
   "outputs": [],
   "source": [
    "# Cargar librerías\n",
    "import tweepy\n",
    "from tweepy import OAuthHandler\n",
    "from tweepy import API"
   ]
  },
  {
   "cell_type": "code",
   "execution_count": null,
   "metadata": {
    "id": "hC4yFZ3LU1hu"
   },
   "outputs": [],
   "source": [
    "# Definir claves de acceso\n",
    "consumer_key = #TODO\n",
    "consumer_secret = #TODO\n",
    "access_token = #TODO\n",
    "access_token_secret = #TODO"
   ]
  },
  {
   "cell_type": "code",
   "execution_count": null,
   "metadata": {
    "id": "wkK4bOZXU1iF"
   },
   "outputs": [],
   "source": [
    "#Definir la autentificación y establecer la conexión\n",
    "#TODO\n"
   ]
  },
  {
   "cell_type": "code",
   "execution_count": null,
   "metadata": {
    "id": "SHP8IKv_T0vk"
   },
   "outputs": [],
   "source": [
    "# Obtener detalles/ información de cada una las 20 cuentas de usuario (lista_usuarios)\n",
    "#TODO\n"
   ]
  },
  {
   "cell_type": "code",
   "execution_count": null,
   "metadata": {},
   "outputs": [],
   "source": [
    "# Mostramos la información\n",
    "#TODO\n"
   ]
  },
  {
   "cell_type": "code",
   "execution_count": null,
   "metadata": {
    "id": "CFMobU74T0yh"
   },
   "outputs": [],
   "source": [
    "# Organizar dataframe relativo a los detalles de las cuentas (df_detalles_cuentas)\n",
    "#TODO\n"
   ]
  },
  {
   "cell_type": "code",
   "execution_count": null,
   "metadata": {
    "id": "srKdD1Z-T0iF"
   },
   "outputs": [],
   "source": [
    "# Visualizar dataframe\n",
    "#TODO\n"
   ]
  },
  {
   "cell_type": "code",
   "execution_count": null,
   "metadata": {
    "id": "OTpg42A-Vdik"
   },
   "outputs": [],
   "source": [
    "# Ordenar el dataframe y visualizar \n",
    "#TODO\n"
   ]
  },
  {
   "cell_type": "markdown",
   "metadata": {
    "id": "JpVXfp4dWQi6"
   },
   "source": [
    "**PARTE 3**"
   ]
  },
  {
   "cell_type": "code",
   "execution_count": null,
   "metadata": {
    "id": "DuDrOGD0VpqI"
   },
   "outputs": [],
   "source": [
    "# Obtener información 20 últimos Tweets de cada una las 20 cuentas de usuario (lista_usuarios)\n",
    "#TODO\n"
   ]
  },
  {
   "cell_type": "code",
   "execution_count": null,
   "metadata": {},
   "outputs": [],
   "source": [
    "# Mostrar dataframe/diccionario relativo a los tweets de las cuentas\n",
    "#TODO\n"
   ]
  },
  {
   "cell_type": "code",
   "execution_count": null,
   "metadata": {
    "id": "eXzT9HFhVpqS"
   },
   "outputs": [],
   "source": [
    "# Hacemos la inversa: diccionario dónde cada Key sea un Hashtag y por valores las cuentas que lo han mencionado\n",
    "#TODO\n"
   ]
  },
  {
   "cell_type": "code",
   "execution_count": null,
   "metadata": {
    "id": "n-XZfctLVpqZ"
   },
   "outputs": [],
   "source": [
    "# Mostramos los Hashtags mencionados por más de una cuenta (en caso de que los haya)\n",
    "#TODO\n"
   ]
  },
  {
   "cell_type": "markdown",
   "metadata": {
    "id": "lo89Qgp3WIei"
   },
   "source": [
    "**Q: ¿Hay algún hashtag que se repite en más de una cuenta? Si es el caso, ¿en cúantas cuentas se repite?** \n",
    "  "
   ]
  },
  {
   "cell_type": "markdown",
   "metadata": {
    "id": "Hz2RduTwWI84"
   },
   "source": [
    "_Respuesta:_"
   ]
  }
 ],
 "metadata": {
  "colab": {
   "collapsed_sections": [
    "ZYIvtVsuFTrD"
   ],
   "name": "CyPD_PEC3_2020_1.ipynb",
   "provenance": []
  },
  "kernelspec": {
   "display_name": "Python 3.9.5 ('the_bridge_22')",
   "language": "python",
   "name": "python3"
  },
  "language_info": {
   "codemirror_mode": {
    "name": "ipython",
    "version": 3
   },
   "file_extension": ".py",
   "mimetype": "text/x-python",
   "name": "python",
   "nbconvert_exporter": "python",
   "pygments_lexer": "ipython3",
   "version": "3.9.5"
  },
  "vscode": {
   "interpreter": {
    "hash": "1c79a6bee0cc3880bade9bffe4f2ea0bcfc562fd81915ef930f986f3657b2ce7"
   }
  }
 },
 "nbformat": 4,
 "nbformat_minor": 1
}
