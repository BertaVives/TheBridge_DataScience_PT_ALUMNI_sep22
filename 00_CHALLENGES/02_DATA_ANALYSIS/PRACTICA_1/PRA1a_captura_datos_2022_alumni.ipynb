{
  "cells": [
    {
      "cell_type": "markdown",
      "metadata": {
        "id": "bnr2i7L2VRMv"
      },
      "source": [
        "# Práctica 1a: INTRODUCCIÓN A LOS DATOS\n"
      ]
    },
    {
      "cell_type": "markdown",
      "metadata": {
        "id": "CRN_9N1zVauL"
      },
      "source": [
        "En esta práctica vamos a retomar el contacto con los datos y vamos a hacer un repaso con los formatos de datos más habituales."
      ]
    },
    {
      "cell_type": "markdown",
      "metadata": {
        "id": "PckOeTE7TpMd"
      },
      "source": [
        "**NOTA:**  Para cargar los ficheros de datos se recomienda que se guarden en la carpeta del google drive donde se está trabajando. \n",
        "\n",
        "Una vez guardados, se debe montar la unidad del drive para poder acceder y referenciar la ruta para cargar los datos. \n",
        "\n",
        "El código que permite cargar la unidad drive es:\n",
        "\n",
        "\n",
        "```\n",
        "from google.colab import drive\n",
        "drive.mount('/content/drive')\n",
        "\n",
        "```\n",
        "\n",
        "\n"
      ]
    },
    {
      "cell_type": "markdown",
      "metadata": {
        "id": "HAPIzljvTpMg"
      },
      "source": [
        "_Ejemplo:_"
      ]
    },
    {
      "cell_type": "code",
      "execution_count": null,
      "metadata": {
        "colab": {
          "base_uri": "https://localhost:8080/"
        },
        "id": "UtWHstwZTpMi",
        "outputId": "5a7c92db-80cd-422f-8058-63dd351913c1"
      },
      "outputs": [
        {
          "name": "stdout",
          "output_type": "stream",
          "text": [
            "Mounted at /content/drive\n"
          ]
        }
      ],
      "source": [
        "from google.colab import drive\n",
        "drive.mount('/content/drive')"
      ]
    },
    {
      "cell_type": "code",
      "execution_count": null,
      "metadata": {
        "id": "-sP-ymrbRWN8"
      },
      "outputs": [],
      "source": [
        "PATH=\"/content/drive/My Drive/......./PRA1/data/\""
      ]
    },
    {
      "cell_type": "markdown",
      "metadata": {
        "id": "LYtfz3wSWKoK"
      },
      "source": [
        "## Ejercicio 1"
      ]
    },
    {
      "cell_type": "markdown",
      "metadata": {
        "id": "z-Mp9MgWWLHi"
      },
      "source": [
        "**Muestra un ejemplo de datos estructurados, otro de datos semi-estructurados, y otro de datos no-estructurados y justifica por qué los has clasificado así. \n",
        "Los ejemplos deben ser extraídos de la página web del catálogo de datos abiertos de Valencia** (https://portaldadesobertes.gva.es/es).\n",
        "\n",
        "\n",
        "NOTA: No es necesario que se compartan los datasets junto con la entrega de la PAC, es suficiente con referenciarlos, hacer una captura del dataset o copiar algunas instancias del dataset. \n",
        "Lo más importante es que quede referenciado el dataset y justificado por qué se ha clasificado como estructurado, semi-estructurado o no-estructurados.\n",
        "\n"
      ]
    },
    {
      "cell_type": "markdown",
      "metadata": {
        "id": "nFb9l1SvWRb6"
      },
      "source": [
        "_Respuesta:_\n"
      ]
    },
    {
      "cell_type": "markdown",
      "metadata": {
        "id": "7kMossI-WXaK"
      },
      "source": [
        "## Ejercicio 2"
      ]
    },
    {
      "cell_type": "markdown",
      "metadata": {
        "id": "7KLHsdYTWgJN"
      },
      "source": [
        "El formato JSON (JavaScript Object Notation) es un formato de texto sencillo para el intercambio de datos, ampliamente utilizado. En Python, la librería **json** permite abrir datos de este tipo, asignarlos a una variable y trabajar con ellos. \n",
        "\n",
        "La función **json.load()** permite parsear una cadena JSON y convertirla en un diccionario de Python.\n",
        "\n",
        "De forma inversa, si tenemos un objeto python, lo podemos convertir en una cadena JSON utilizando **json.dumps()**.\n",
        "\n",
        "Una vez cargado el JSON, éste puede ser visualizado manteniendo la identación propia del JSON para hacer más fácil su interpretación mediante la modificación de los argumentos de la función json.dumps()\n",
        "\n",
        "_Ejemplo:_\n",
        "\n",
        "```\n",
        "import json\n",
        "\n",
        "#ejemplo_json es una cadena json\n",
        "parsed_json = json.loads(ejemplo_json)\n",
        "print(json.dumps(parsed_json, indent=4, sort_keys=True))\n",
        "\n",
        "```\n",
        "\n",
        "Ejemplo de leer un JSON desde un archivo de texto o archivo JSON.\n",
        "\n",
        "\n",
        "```\n",
        "with open('nombre_archivo.txt') as archivo_json:\n",
        "    parsed_json = json.load(archivo_json)\n",
        "\n",
        "```\n",
        "\n",
        "\n",
        "\n"
      ]
    },
    {
      "cell_type": "markdown",
      "metadata": {
        "id": "YtXu41npaYRN"
      },
      "source": [
        "**En este ejercicio se va a trabajar con dos datasets en formato json: `consulados.json` y `altas_hospitalarias.json`. El primero de ellos hace referencia al listado de los consulados que se pueden encontrar en la ciudad de Barcelona. El segundo es el registro de las altas hospitalarias por causa de hospitalización y sexo.**\n",
        "\n",
        "**Para el dataset `consulados.json`, se pide:**\n",
        "- **Cargar el fichero y visualizarlo correctamente, revisando que se sigue la identación y por tanto se facilita su interpretación.**\n",
        "\n",
        "- **¿Qué campos tiene?¿de qué tipo son?**\n",
        "- **Transformar el json a un dataframe apoyándote en la librería pandas, de forma que cada campo diferente sea una columna.**\n",
        "\n",
        "- **Guardar el dataframe generado como csv.**\n",
        "- **Cargar el csv guardado en el punto anterior.**\n",
        "- **Visualizar las 5 primeras filas (df.head())**\n",
        "- **Obtener las dimensiones del dataframe (df.shape)**\n",
        "- **¿Mantiene los mismos campos el csv generado y el json facilitado con el enunciado?**\n",
        "- **¿Con qué tipo de dato asocia pandas a cada columna del dataframe? (df.types)** \n",
        "\n",
        "**Para el dataset `altas_hospitalarias.json`, se pide:**\n",
        "- **Cargar el fichero y visualizarlo correctamente, revisando que se sigue la identación y por tanto se facilita su interpretación.**\n",
        "\n",
        "- **¿Qué campos tiene?¿de qué tipo son?**\n",
        "- **Transformar el json a un dataframe apoyándote en la librería pandas, de forma que las columnas resultantes sean 3: nombre de la causa, sexo, valor del número de altas. Para ello, deberás revisar el dataset y seleccionar los campos de interés que se quieren incluir en el dataframe. En la siguiente imagen se puede ver la forma del dataframe esperado:**\n",
        "\n",
        "![image.png](data:image/png;base64,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)"
      ]
    },
    {
      "cell_type": "markdown",
      "metadata": {
        "id": "aINUg9R0JuuQ"
      },
      "source": [
        "- **¿Cuántas categorías distintas puede tener la variable relativa al sexo? ¿Cuáles son? A partir del dataframe completo, obten tantos dataframes como número de categorías distintas de la variable relativa al sexo haya.** \n",
        "\n",
        " - Por ejemplo si hay dos categorías, A y B, deberéis obtener dos dataframes: uno que considere todas las instancias de 'sexo' igual a A y otro dataframe que considere todas las instancias de 'sexo' igual a B.\n",
        "\n",
        "\n"
      ]
    },
    {
      "cell_type": "markdown",
      "metadata": {
        "id": "xjVbgxUCYl2x"
      },
      "source": [
        "NOTA: Se recomienda que se explore la librería json además de la librería pandas que, aunque la veremos con más detalle en el siguiente reto, en esta PAC utilizaremos las instrucciones básicas de cargar un csv en un dataframe (**pd.read_csv()**), visualizar las las primeras filas de un dataframe (**df.head()**), comprobar el tipo de dato que es cada columna del dataframe (**df.dtypes**), cambiar el tipo de dato de una columna (**df['nombre_columna'].astype(tipo_dato)**), y guardar dataframes como csv (**df.to_csv()**). \n",
        "\n",
        "\n",
        "\n",
        "\n",
        "---\n",
        "\n",
        "\n",
        "\n"
      ]
    },
    {
      "cell_type": "markdown",
      "metadata": {
        "id": "iWfIGVDz39le"
      },
      "source": [
        "\n",
        "\n",
        "---\n",
        "**DATA CONSULADOS**\n"
      ]
    },
    {
      "cell_type": "code",
      "execution_count": null,
      "metadata": {
        "id": "kwIiS7DqU3dU"
      },
      "outputs": [],
      "source": [
        "# CArgar el json y visualizarlo (considerando la identación)\n",
        "import json\n",
        "#TODO\n"
      ]
    },
    {
      "cell_type": "markdown",
      "metadata": {
        "id": "LgvFJz_RXw37"
      },
      "source": [
        "**¿Cuántos registros tiene? ¿Que campos tiene cada registro? ¿de qué tipo son?**"
      ]
    },
    {
      "cell_type": "markdown",
      "metadata": {
        "id": "7zgpODabX1Ug"
      },
      "source": [
        "_Respuesta:_ "
      ]
    },
    {
      "cell_type": "code",
      "execution_count": null,
      "metadata": {
        "id": "8W49QldqXcDR"
      },
      "outputs": [],
      "source": [
        "# Transformar el json a un dataframe apoyándote en la librería pandas.\n",
        "import pandas as pd\n",
        "#TODO\n",
        "\n"
      ]
    },
    {
      "cell_type": "code",
      "execution_count": null,
      "metadata": {
        "id": "IAt0bGFrYBD6"
      },
      "outputs": [],
      "source": [
        "# Guardar el dataframe generado como csv.\n",
        "\n",
        "#TODO\n"
      ]
    },
    {
      "cell_type": "code",
      "execution_count": null,
      "metadata": {
        "id": "BydoWwRkS0Xq"
      },
      "outputs": [],
      "source": [
        "#Cargar el csv guardado en el punto anterior.\n",
        "#TODO\n"
      ]
    },
    {
      "cell_type": "code",
      "execution_count": null,
      "metadata": {
        "id": "CJDsiaLVX_MU"
      },
      "outputs": [],
      "source": [
        "# Visualizar las 5 primeras filas (df.head())\n",
        "\n",
        "#TODO"
      ]
    },
    {
      "cell_type": "code",
      "execution_count": null,
      "metadata": {
        "id": "1JUEBP7hxL8d"
      },
      "outputs": [],
      "source": [
        "# Dimensiones del dataframe\n",
        "#TODO\n",
        "\n"
      ]
    },
    {
      "cell_type": "markdown",
      "metadata": {
        "id": "F_zjGEAvTomz"
      },
      "source": [
        "**¿Mantiene los mismos campos el csv generado y el json facilitado con el enunciado?**\n"
      ]
    },
    {
      "cell_type": "markdown",
      "metadata": {
        "id": "RQJ5YUJXTses"
      },
      "source": [
        "*Respuesta:* SI"
      ]
    },
    {
      "cell_type": "code",
      "execution_count": null,
      "metadata": {
        "id": "hc6rpwQ8TWf3"
      },
      "outputs": [],
      "source": [
        "#¿Con qué tipo de dato asocia pandas a cada columna del dataframe? (df.types)\n",
        "#TODO"
      ]
    },
    {
      "cell_type": "markdown",
      "metadata": {
        "id": "8L5zCLW02TXC"
      },
      "source": [
        "\n",
        "\n",
        "---\n",
        "\n",
        "**ALTAS HOSPITALARIAS**\n",
        "\n"
      ]
    },
    {
      "cell_type": "code",
      "execution_count": null,
      "metadata": {
        "id": "u1Ce9rIrw3zP"
      },
      "outputs": [],
      "source": [
        "# Cargar el fichero y visualizarlo correctamente,\n",
        "\n",
        "#TODO"
      ]
    },
    {
      "cell_type": "markdown",
      "metadata": {
        "id": "s1tqlW__b1UE"
      },
      "source": [
        "**¿Cuántos registros tiene? ¿Que campos tiene cada registro? ¿de qué tipo son?**"
      ]
    },
    {
      "cell_type": "markdown",
      "metadata": {
        "id": "3hLvBI14b1Uf"
      },
      "source": [
        "_Respuesta:_ "
      ]
    },
    {
      "cell_type": "code",
      "execution_count": null,
      "metadata": {
        "id": "VG-MpZDOyEcy"
      },
      "outputs": [],
      "source": [
        "# Transformar el json a un dataframe apoyándote en la librería pandas, según indicaciones\n",
        "import pandas as pd\n",
        "#TODO"
      ]
    },
    {
      "cell_type": "code",
      "execution_count": null,
      "metadata": {
        "id": "0NB-3VvM6gAX"
      },
      "outputs": [],
      "source": [
        "# ¿Cuántas categorías distintas puede tener la variable relativa al sexo? ¿Cuáles son?\n",
        "#TODO"
      ]
    },
    {
      "cell_type": "code",
      "execution_count": null,
      "metadata": {
        "id": "e6Z0blKCCJS2"
      },
      "outputs": [],
      "source": [
        "# obten tantos dataframes como número de categorías distintas de la variable relativa al sexo haya\n",
        "#TODO\n"
      ]
    }
  ],
  "metadata": {
    "colab": {
      "collapsed_sections": [
        "wjlGj8hPb5wC"
      ],
      "provenance": []
    },
    "kernelspec": {
      "display_name": "Python 3.9.5 ('the_bridge_22')",
      "language": "python",
      "name": "python3"
    },
    "language_info": {
      "name": "python",
      "version": "3.9.5"
    },
    "vscode": {
      "interpreter": {
        "hash": "1c79a6bee0cc3880bade9bffe4f2ea0bcfc562fd81915ef930f986f3657b2ce7"
      }
    }
  },
  "nbformat": 4,
  "nbformat_minor": 0
}
