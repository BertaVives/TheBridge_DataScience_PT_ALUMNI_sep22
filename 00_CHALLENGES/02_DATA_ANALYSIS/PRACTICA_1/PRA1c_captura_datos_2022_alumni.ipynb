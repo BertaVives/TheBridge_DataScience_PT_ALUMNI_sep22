{
  "cells": [
    {
      "cell_type": "markdown",
      "metadata": {
        "id": "bnr2i7L2VRMv"
      },
      "source": [
        "# Práctica 1c: INTRODUCCIÓN A LOS DATOS\n"
      ]
    },
    {
      "cell_type": "markdown",
      "metadata": {
        "id": "CRN_9N1zVauL"
      },
      "source": [
        "En esta práctica vamos a retomar el contacto con los datos y vamos a hacer un repaso con los formatos de datos más habituales."
      ]
    },
    {
      "cell_type": "markdown",
      "metadata": {
        "id": "PckOeTE7TpMd"
      },
      "source": [
        "**NOTA:**  Para cargar los ficheros de datos se recomienda que se guarden en la carpeta del google drive donde se está trabajando. \n",
        "\n",
        "Una vez guardados, se debe montar la unidad del drive para poder acceder y referenciar la ruta para cargar los datos. \n",
        "\n",
        "El código que permite cargar la unidad drive es:\n",
        "\n",
        "\n",
        "```\n",
        "from google.colab import drive\n",
        "drive.mount('/content/drive')\n",
        "\n",
        "```\n",
        "\n",
        "\n"
      ]
    },
    {
      "cell_type": "markdown",
      "metadata": {
        "id": "HAPIzljvTpMg"
      },
      "source": [
        "_Ejemplo:_"
      ]
    },
    {
      "cell_type": "code",
      "execution_count": null,
      "metadata": {
        "colab": {
          "base_uri": "https://localhost:8080/"
        },
        "id": "UtWHstwZTpMi",
        "outputId": "5a7c92db-80cd-422f-8058-63dd351913c1"
      },
      "outputs": [
        {
          "name": "stdout",
          "output_type": "stream",
          "text": [
            "Mounted at /content/drive\n"
          ]
        }
      ],
      "source": [
        "from google.colab import drive\n",
        "drive.mount('/content/drive')"
      ]
    },
    {
      "cell_type": "code",
      "execution_count": null,
      "metadata": {
        "id": "-sP-ymrbRWN8"
      },
      "outputs": [],
      "source": [
        "PATH=\"/content/drive/My Drive/......./PRA1/data/\""
      ]
    },
    {
      "cell_type": "markdown",
      "metadata": {
        "id": "wjlGj8hPb5wC"
      },
      "source": [
        "## Ejercicio 4"
      ]
    },
    {
      "cell_type": "markdown",
      "metadata": {
        "id": "F_T7ienfb7mJ"
      },
      "source": [
        "Existen diferentes repositorios o páginas web que permiten el acceso a múltiples datasets con finalidades academicas o de consulta ciudadana. Posibles fuentes abiertas de información podrían ser las siguientes:\n",
        "\n",
        "- OpenData de ayuntamientos: Valencia, Madrid, Santander…\n",
        "- https://archive.ics.uci.edu/ml/datasets.php\n",
        "- https://www.kaggle.com/datasets\n",
        "- https://bigml.com/gallery/datasets\n",
        "- https://toolbox.google.com/datasetsearch\n",
        "\n",
        "**En esta actividad se pide que se exploren los repositorios facilitados anteriormente, y se escojan dos datasets que contengan al menos dos variables numéricas y dos categóricas.** \n",
        "\n",
        "**Para cada uno de estos datasets se solicita:**\n",
        "\n",
        "- **Indicar cuál ha sido la motivación por la que se han escogido los dos datasets. Esta cuestión es de respuesta obligatoria para evaluar la originalidad de la realización del ejercicio.**\n",
        "- **Describir el datatet.**\n",
        "- **Describir a qué se refieren las columnas que forman el dataset.¿Que representan?**\n",
        "- **¿De qué tipo son cada una de las columnas o variables del dataset?**\n",
        "- **Cargar el dataframe y revisar que los tipos de datos se hayan definido correctamente. Si no están bien definidos, cambiar el tipo de dato que corresponda**.\n",
        "- **Visualizar las primeras filas del dataframe**.\n",
        "- **Hacer una propuesta de anális o objetivo de análisis que se podria llevar a cabo con el dataset. ¿Que tipo de conclusiones podriamos obtener?** \n",
        "\n",
        "\n",
        "\n",
        "\n",
        "---\n",
        "\n",
        "\n"
      ]
    },
    {
      "cell_type": "markdown",
      "metadata": {
        "id": "pdeUCOiV0K78"
      },
      "source": [
        "- **Indicar cuál ha sido la motivación por la que se han escogido los dos datasets. Esta cuestión es de respuesta obligatoria para evaluar la originalidad de la realización del ejercicio**"
      ]
    },
    {
      "cell_type": "markdown",
      "metadata": {
        "id": "4qZNhD5E0K8U"
      },
      "source": [
        "_Respuesta:_"
      ]
    },
    {
      "cell_type": "markdown",
      "metadata": {
        "id": "_4T0HNoTeYUo"
      },
      "source": [
        "- **Describir el datatet**"
      ]
    },
    {
      "cell_type": "markdown",
      "metadata": {
        "id": "tMm_cBerec9A"
      },
      "source": [
        "_Respuesta:_"
      ]
    },
    {
      "cell_type": "markdown",
      "metadata": {
        "id": "pHJSVYJ6emaR"
      },
      "source": [
        "- **Describir a qué se refieren las columnas que forman el dataset.¿Que representan?**"
      ]
    },
    {
      "cell_type": "markdown",
      "metadata": {
        "id": "KvdXe6WuerhX"
      },
      "source": [
        "_Respuesta:_"
      ]
    },
    {
      "cell_type": "markdown",
      "metadata": {
        "id": "4SDjQxRGesuC"
      },
      "source": [
        "- **De qué tipo son cada una de las columnas o variables del dataset?**"
      ]
    },
    {
      "cell_type": "markdown",
      "metadata": {
        "id": "dT7ejlmMez_i"
      },
      "source": [
        "_Respuesta:_"
      ]
    },
    {
      "cell_type": "markdown",
      "metadata": {
        "id": "wGOVXMHAe3r3"
      },
      "source": [
        "- **Cargar el dataframe y revisar que los tipos de datos se hayan definido correctamente.**"
      ]
    },
    {
      "cell_type": "markdown",
      "metadata": {
        "id": "CLKbeixUfEsh"
      },
      "source": [
        "_Respuesta:_"
      ]
    },
    {
      "cell_type": "markdown",
      "metadata": {
        "id": "Zs8eO-GSe-Xf"
      },
      "source": [
        "- **Visualizar las primeras filas del dataframe.**"
      ]
    },
    {
      "cell_type": "code",
      "execution_count": null,
      "metadata": {
        "id": "NbVI5MFWb7HR"
      },
      "outputs": [],
      "source": [
        "# Visualizar las primeras filas del dataframe.\n",
        "\n"
      ]
    },
    {
      "cell_type": "markdown",
      "metadata": {
        "id": "AdiAxjg9fOK2"
      },
      "source": [
        "- **Hacer una propuesta de análisis o objetivo de análisis que se podria llevar a cabo con el dataset. ¿Que tipo de conclusiones podriamos obtener?**"
      ]
    },
    {
      "cell_type": "markdown",
      "metadata": {
        "id": "ogkO7PLhfRWf"
      },
      "source": [
        "_Respuesta:_"
      ]
    },
    {
      "cell_type": "markdown",
      "metadata": {
        "id": "RCb8R9jkfzbV"
      },
      "source": [
        "## Ejercicio 5"
      ]
    },
    {
      "cell_type": "markdown",
      "metadata": {
        "id": "wZTeX6yQf6gI"
      },
      "source": [
        "Un caso particular de JSON, fuertemente utilizados en datos con referencias geográficas,  son los GEO-JSON. Este tipo de datos tienen un formato JSON, donde uno de los campos son latitud y longitud (o coordenadas x, y, si se usa otro tipo de sistema de referencia). Este tipo de dato con información georeferenciada también puede encontrarse registrada en formato csv, siempre que aparezcan los campos pertinentes a la geolocalización (latitud y longitud y/o coordenada x y coordenada y).\n",
        "\n",
        "**En este ejercicio vamos a trabajar con un dataset donde aparecen geolocalizadas los refugios climáticos de Barcelona (`xarxa_refugis_climatics_bna.json`). Con este dataset, considerando las coordenadas X, Y asociadas con cada refugio, representaremos en el mapa donde están ubicados estos refugios.**\n",
        "\n",
        "**Para la realización del ejercicio se pide:**\n",
        "\n",
        "\n",
        "- **Cargar los datos.**\n",
        "\n",
        "- **A partir de los datos en formato JSON, crear un dataframe que tenga las siguientes columnas:`[Name,\tstart_street_number,\tlatitud,\tlongitud]`** \n",
        "  - La latitud y longitud deberán ser obtenidas a partir de las coordenadas que se indican en el json.\n",
        "\n",
        "- **Representar en el mapa, donde existe un refugio climático e indicar como tooltip el nombre del refugio climático. Para ello, se solicita completar el código que se facilita y ayudarse del ejemplo que se muestra para dos puntos.**\n",
        "\n",
        "- **Repetir la representación anterior, pero modificando el color del marcador de acuerdo con esta codificación:**\n",
        "\n",
        "  -\t**verde: campo 'start_street_number' par**\n",
        "  - **azul: campo 'start_street_number' impar**\n",
        "\n",
        "\n",
        "\n",
        "\n",
        "\n",
        "\n",
        "\n",
        "\n",
        "---\n",
        "\n",
        "\n"
      ]
    },
    {
      "cell_type": "markdown",
      "metadata": {
        "id": "lSequJXsXykK"
      },
      "source": [
        "Para hacer la representación en el mapa, se va a utilizar la librería folium, la cual es una librería muy intuitiva de utilizar para hacer pequeñas representacions geograficas (https://python-visualization.github.io/folium/index.html).\n",
        "\n",
        "La particularidad de esta librería es que las localizaciones deben estar dadas en latitud y longitud. Por tanto, previamente a representar las localizaciones hay que asegurarse de que se disponen de estos valores o, en caso contrario, hacer una transformación de sistema de referencia. Para ello, se puede utilizar la librería pyproj (https://pypi.org/project/pyproj/), como se indica a continuación."
      ]
    },
    {
      "cell_type": "markdown",
      "metadata": {
        "id": "BRjVsAkJbJb1"
      },
      "source": [
        "_Ejemplo representación dos puntos en mapa con folium, haciendo transformación de sistema de coordenadas:_"
      ]
    },
    {
      "cell_type": "code",
      "execution_count": null,
      "metadata": {
        "colab": {
          "base_uri": "https://localhost:8080/"
        },
        "id": "WVd5CJKJD_zj",
        "outputId": "cd578a99-6756-4aba-9e4d-c08108e6cb41"
      },
      "outputs": [
        {
          "name": "stdout",
          "output_type": "stream",
          "text": [
            "Looking in indexes: https://pypi.org/simple, https://us-python.pkg.dev/colab-wheels/public/simple/\n",
            "Collecting pyproj\n",
            "  Downloading pyproj-3.2.1-cp37-cp37m-manylinux2010_x86_64.whl (6.3 MB)\n",
            "\u001b[K     |████████████████████████████████| 6.3 MB 5.7 MB/s \n",
            "\u001b[?25hRequirement already satisfied: certifi in /usr/local/lib/python3.7/dist-packages (from pyproj) (2022.6.15)\n",
            "Installing collected packages: pyproj\n",
            "Successfully installed pyproj-3.2.1\n"
          ]
        }
      ],
      "source": [
        "!pip install pyproj"
      ]
    },
    {
      "cell_type": "code",
      "execution_count": null,
      "metadata": {
        "id": "CCJSEi4lYGpd"
      },
      "outputs": [],
      "source": [
        "## Tansformación de las coordenadas de los puntos a lat,lon\n",
        "import pyproj as proj\n",
        "import warnings\n",
        "warnings.filterwarnings(\"ignore\")\n",
        "\n",
        "# configurar las proyecciones\n",
        "pj_target = proj.Proj(init='epsg:4326') # proyeccion objetivo\n",
        "pj_data  = proj.Proj(init='epsg:25830') # proyeccion de los datos\n",
        "\n",
        "x1= 726882.491\n",
        "y1= 4370748.231\n",
        "lon1, lat1 = proj.transform(pj_data, pj_target , x1,y1)\n",
        "\n",
        "x2= 727265.727\n",
        "y2= 4371653.468\n",
        "lon2, lat2 = proj.transform(pj_data, pj_target , x2,y2)\n"
      ]
    },
    {
      "cell_type": "code",
      "execution_count": null,
      "metadata": {
        "colab": {
          "base_uri": "https://localhost:8080/"
        },
        "id": "MBJGcv37ZoDs",
        "outputId": "78a8cf49-8ed2-4730-912d-b3e28b621e1e"
      },
      "outputs": [
        {
          "data": {
            "text/plain": [
              "<folium.map.Marker at 0x7fe327848d10>"
            ]
          },
          "execution_count": 53,
          "metadata": {},
          "output_type": "execute_result"
        }
      ],
      "source": [
        "# Cargar folium y crear data\n",
        "import folium\n",
        "\n",
        "tooltip1='punto1'\n",
        "tooltip2='punto2'\n",
        "\n",
        "m = folium.Map(location=[lat1, lon1])\n",
        "folium.Marker([lat1, lon1], icon=folium.Icon(color='red'), tooltip=tooltip1).add_to(m)\n",
        "folium.Marker([lat2, lon2], icon=folium.Icon(color='blue'), tooltip=tooltip2).add_to(m)"
      ]
    },
    {
      "cell_type": "code",
      "execution_count": null,
      "metadata": {
        "colab": {
          "base_uri": "https://localhost:8080/",
          "height": 723
        },
        "id": "vZf0b4mGaXHN",
        "outputId": "e4fa4c3c-009d-4b10-e0da-d94e8b3b297d"
      },
      "outputs": [
        {
          "data": {
            "text/html": [
              "<div style=\"width:100%;\"><div style=\"position:relative;width:100%;height:0;padding-bottom:60%;\"><span style=\"color:#565656\">Make this Notebook Trusted to load map: File -> Trust Notebook</span><iframe srcdoc=\"&lt;!DOCTYPE html&gt;\n",
              "&lt;head&gt;    \n",
              "    &lt;meta http-equiv=&quot;content-type&quot; content=&quot;text/html; charset=UTF-8&quot; /&gt;\n",
              "    \n",
              "        &lt;script&gt;\n",
              "            L_NO_TOUCH = false;\n",
              "            L_DISABLE_3D = false;\n",
              "        &lt;/script&gt;\n",
              "    \n",
              "    &lt;style&gt;html, body {width: 100%;height: 100%;margin: 0;padding: 0;}&lt;/style&gt;\n",
              "    &lt;style&gt;#map {position:absolute;top:0;bottom:0;right:0;left:0;}&lt;/style&gt;\n",
              "    &lt;script src=&quot;https://cdn.jsdelivr.net/npm/leaflet@1.6.0/dist/leaflet.js&quot;&gt;&lt;/script&gt;\n",
              "    &lt;script src=&quot;https://code.jquery.com/jquery-1.12.4.min.js&quot;&gt;&lt;/script&gt;\n",
              "    &lt;script src=&quot;https://maxcdn.bootstrapcdn.com/bootstrap/3.2.0/js/bootstrap.min.js&quot;&gt;&lt;/script&gt;\n",
              "    &lt;script src=&quot;https://cdnjs.cloudflare.com/ajax/libs/Leaflet.awesome-markers/2.0.2/leaflet.awesome-markers.js&quot;&gt;&lt;/script&gt;\n",
              "    &lt;link rel=&quot;stylesheet&quot; href=&quot;https://cdn.jsdelivr.net/npm/leaflet@1.6.0/dist/leaflet.css&quot;/&gt;\n",
              "    &lt;link rel=&quot;stylesheet&quot; href=&quot;https://maxcdn.bootstrapcdn.com/bootstrap/3.2.0/css/bootstrap.min.css&quot;/&gt;\n",
              "    &lt;link rel=&quot;stylesheet&quot; href=&quot;https://maxcdn.bootstrapcdn.com/bootstrap/3.2.0/css/bootstrap-theme.min.css&quot;/&gt;\n",
              "    &lt;link rel=&quot;stylesheet&quot; href=&quot;https://maxcdn.bootstrapcdn.com/font-awesome/4.6.3/css/font-awesome.min.css&quot;/&gt;\n",
              "    &lt;link rel=&quot;stylesheet&quot; href=&quot;https://cdnjs.cloudflare.com/ajax/libs/Leaflet.awesome-markers/2.0.2/leaflet.awesome-markers.css&quot;/&gt;\n",
              "    &lt;link rel=&quot;stylesheet&quot; href=&quot;https://cdn.jsdelivr.net/gh/python-visualization/folium/folium/templates/leaflet.awesome.rotate.min.css&quot;/&gt;\n",
              "    \n",
              "            &lt;meta name=&quot;viewport&quot; content=&quot;width=device-width,\n",
              "                initial-scale=1.0, maximum-scale=1.0, user-scalable=no&quot; /&gt;\n",
              "            &lt;style&gt;\n",
              "                #map_270080d9c0d456c284366da28267924b {\n",
              "                    position: relative;\n",
              "                    width: 100.0%;\n",
              "                    height: 100.0%;\n",
              "                    left: 0.0%;\n",
              "                    top: 0.0%;\n",
              "                }\n",
              "            &lt;/style&gt;\n",
              "        \n",
              "&lt;/head&gt;\n",
              "&lt;body&gt;    \n",
              "    \n",
              "            &lt;div class=&quot;folium-map&quot; id=&quot;map_270080d9c0d456c284366da28267924b&quot; &gt;&lt;/div&gt;\n",
              "        \n",
              "&lt;/body&gt;\n",
              "&lt;script&gt;    \n",
              "    \n",
              "            var map_270080d9c0d456c284366da28267924b = L.map(\n",
              "                &quot;map_270080d9c0d456c284366da28267924b&quot;,\n",
              "                {\n",
              "                    center: [39.45642926416408, -0.36301435701318363],\n",
              "                    crs: L.CRS.EPSG3857,\n",
              "                    zoom: 10,\n",
              "                    zoomControl: true,\n",
              "                    preferCanvas: false,\n",
              "                }\n",
              "            );\n",
              "\n",
              "            \n",
              "\n",
              "        \n",
              "    \n",
              "            var tile_layer_832e86ae44e724dc69843ef1cd339251 = L.tileLayer(\n",
              "                &quot;https://{s}.tile.openstreetmap.org/{z}/{x}/{y}.png&quot;,\n",
              "                {&quot;attribution&quot;: &quot;Data by \\u0026copy; \\u003ca href=\\&quot;http://openstreetmap.org\\&quot;\\u003eOpenStreetMap\\u003c/a\\u003e, under \\u003ca href=\\&quot;http://www.openstreetmap.org/copyright\\&quot;\\u003eODbL\\u003c/a\\u003e.&quot;, &quot;detectRetina&quot;: false, &quot;maxNativeZoom&quot;: 18, &quot;maxZoom&quot;: 18, &quot;minZoom&quot;: 0, &quot;noWrap&quot;: false, &quot;opacity&quot;: 1, &quot;subdomains&quot;: &quot;abc&quot;, &quot;tms&quot;: false}\n",
              "            ).addTo(map_270080d9c0d456c284366da28267924b);\n",
              "        \n",
              "    \n",
              "            var marker_58c0e03f96b49aa6bb569a320590e824 = L.marker(\n",
              "                [39.45642926416408, -0.36301435701318363],\n",
              "                {}\n",
              "            ).addTo(map_270080d9c0d456c284366da28267924b);\n",
              "        \n",
              "    \n",
              "            var icon_b23f967d053cccc4e612b291f58c3f81 = L.AwesomeMarkers.icon(\n",
              "                {&quot;extraClasses&quot;: &quot;fa-rotate-0&quot;, &quot;icon&quot;: &quot;info-sign&quot;, &quot;iconColor&quot;: &quot;white&quot;, &quot;markerColor&quot;: &quot;red&quot;, &quot;prefix&quot;: &quot;glyphicon&quot;}\n",
              "            );\n",
              "            marker_58c0e03f96b49aa6bb569a320590e824.setIcon(icon_b23f967d053cccc4e612b291f58c3f81);\n",
              "        \n",
              "    \n",
              "            marker_58c0e03f96b49aa6bb569a320590e824.bindTooltip(\n",
              "                `&lt;div&gt;\n",
              "                     punto1\n",
              "                 &lt;/div&gt;`,\n",
              "                {&quot;sticky&quot;: true}\n",
              "            );\n",
              "        \n",
              "    \n",
              "            var marker_473e2c293df8fc9165cda5ff95e4215d = L.marker(\n",
              "                [39.464476294623736, -0.3582563370036071],\n",
              "                {}\n",
              "            ).addTo(map_270080d9c0d456c284366da28267924b);\n",
              "        \n",
              "    \n",
              "            var icon_5d66504ed6d9dded1cb6074b30f0efd9 = L.AwesomeMarkers.icon(\n",
              "                {&quot;extraClasses&quot;: &quot;fa-rotate-0&quot;, &quot;icon&quot;: &quot;info-sign&quot;, &quot;iconColor&quot;: &quot;white&quot;, &quot;markerColor&quot;: &quot;blue&quot;, &quot;prefix&quot;: &quot;glyphicon&quot;}\n",
              "            );\n",
              "            marker_473e2c293df8fc9165cda5ff95e4215d.setIcon(icon_5d66504ed6d9dded1cb6074b30f0efd9);\n",
              "        \n",
              "    \n",
              "            marker_473e2c293df8fc9165cda5ff95e4215d.bindTooltip(\n",
              "                `&lt;div&gt;\n",
              "                     punto2\n",
              "                 &lt;/div&gt;`,\n",
              "                {&quot;sticky&quot;: true}\n",
              "            );\n",
              "        \n",
              "&lt;/script&gt;\" style=\"position:absolute;width:100%;height:100%;left:0;top:0;border:none !important;\" allowfullscreen webkitallowfullscreen mozallowfullscreen></iframe></div></div>"
            ],
            "text/plain": [
              "<folium.folium.Map at 0x7fe33bf831d0>"
            ]
          },
          "execution_count": 54,
          "metadata": {},
          "output_type": "execute_result"
        }
      ],
      "source": [
        "m"
      ]
    },
    {
      "cell_type": "markdown",
      "metadata": {
        "id": "s5UmwW4PlFjw"
      },
      "source": [
        "\n",
        "\n",
        "---\n",
        "\n",
        "\n",
        "\n",
        "---\n",
        "\n"
      ]
    },
    {
      "cell_type": "code",
      "execution_count": null,
      "metadata": {
        "id": "Zi-YdtxzDE7U"
      },
      "outputs": [],
      "source": [
        "#Cargar datos JSON\n",
        "#TODO"
      ]
    },
    {
      "cell_type": "code",
      "execution_count": null,
      "metadata": {
        "id": "ekDdAKsC8GMl"
      },
      "outputs": [],
      "source": [
        "#Crear el dataframe\n",
        "#TODO\n"
      ]
    },
    {
      "cell_type": "markdown",
      "metadata": {
        "id": "6qGXCwZ7bUIc"
      },
      "source": [
        "\n",
        "\n",
        "---\n",
        "\n",
        "\n"
      ]
    },
    {
      "cell_type": "code",
      "execution_count": null,
      "metadata": {
        "id": "8jAzQ0KT57DZ"
      },
      "outputs": [],
      "source": [
        "# Representar en el mapa\n",
        "import folium\n",
        "#TODO"
      ]
    },
    {
      "cell_type": "code",
      "execution_count": null,
      "metadata": {
        "id": "3RDub95h717j"
      },
      "outputs": [],
      "source": [
        "m"
      ]
    },
    {
      "cell_type": "code",
      "execution_count": null,
      "metadata": {
        "id": "Tu3OWt5Jc3G5"
      },
      "outputs": [],
      "source": [
        "# Repetir la representación anterior, pero modificando el color del marcador segun codificacion\n",
        "#TODO\n",
        "\n"
      ]
    },
    {
      "cell_type": "code",
      "execution_count": null,
      "metadata": {
        "id": "B0m6ZQQpdA_w"
      },
      "outputs": [],
      "source": [
        "#Visualitzar mapa 2\n",
        "m2\n"
      ]
    },
    {
      "cell_type": "code",
      "execution_count": null,
      "metadata": {
        "id": "jWv-2BL6TSiL"
      },
      "outputs": [],
      "source": []
    },
    {
      "cell_type": "markdown",
      "metadata": {
        "id": "WV2HH3RmCbVy"
      },
      "source": [
        "**¿Són correctas las geolocalizaciones si sabemos que son los refugios climáticos de Barcelona? A qué crees que puede deberse?**"
      ]
    },
    {
      "cell_type": "code",
      "execution_count": null,
      "metadata": {
        "id": "ZdK4ntj4Cl-A"
      },
      "outputs": [],
      "source": [
        "#TODO"
      ]
    }
  ],
  "metadata": {
    "colab": {
      "collapsed_sections": [
        "wjlGj8hPb5wC"
      ],
      "provenance": []
    },
    "kernelspec": {
      "display_name": "Python 3.9.5 ('the_bridge_22')",
      "language": "python",
      "name": "python3"
    },
    "language_info": {
      "name": "python",
      "version": "3.9.5"
    },
    "vscode": {
      "interpreter": {
        "hash": "1c79a6bee0cc3880bade9bffe4f2ea0bcfc562fd81915ef930f986f3657b2ce7"
      }
    }
  },
  "nbformat": 4,
  "nbformat_minor": 0
}
