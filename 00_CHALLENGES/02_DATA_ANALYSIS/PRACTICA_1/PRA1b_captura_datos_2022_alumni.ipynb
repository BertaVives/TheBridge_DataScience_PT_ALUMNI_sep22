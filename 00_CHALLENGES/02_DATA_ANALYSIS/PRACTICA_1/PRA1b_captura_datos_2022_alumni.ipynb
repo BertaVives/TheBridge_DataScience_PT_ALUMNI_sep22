{
  "cells": [
    {
      "cell_type": "markdown",
      "metadata": {
        "id": "bnr2i7L2VRMv"
      },
      "source": [
        "# Práctica 1b: INTRODUCCIÓN A LOS DATOS\n"
      ]
    },
    {
      "cell_type": "markdown",
      "metadata": {
        "id": "CRN_9N1zVauL"
      },
      "source": [
        "En esta práctica vamos a retomar el contacto con los datos y vamos a hacer un repaso con los formatos de datos más habituales."
      ]
    },
    {
      "cell_type": "markdown",
      "metadata": {
        "id": "PckOeTE7TpMd"
      },
      "source": [
        "**NOTA:**  Para cargar los ficheros de datos se recomienda que se guarden en la carpeta del google drive donde se está trabajando. \n",
        "\n",
        "Una vez guardados, se debe montar la unidad del drive para poder acceder y referenciar la ruta para cargar los datos. \n",
        "\n",
        "El código que permite cargar la unidad drive es:\n",
        "\n",
        "\n",
        "```\n",
        "from google.colab import drive\n",
        "drive.mount('/content/drive')\n",
        "\n",
        "```\n",
        "\n",
        "\n"
      ]
    },
    {
      "cell_type": "markdown",
      "metadata": {
        "id": "HAPIzljvTpMg"
      },
      "source": [
        "_Ejemplo:_"
      ]
    },
    {
      "cell_type": "code",
      "execution_count": null,
      "metadata": {
        "colab": {
          "base_uri": "https://localhost:8080/"
        },
        "id": "UtWHstwZTpMi",
        "outputId": "5a7c92db-80cd-422f-8058-63dd351913c1"
      },
      "outputs": [
        {
          "name": "stdout",
          "output_type": "stream",
          "text": [
            "Mounted at /content/drive\n"
          ]
        }
      ],
      "source": [
        "from google.colab import drive\n",
        "drive.mount('/content/drive')"
      ]
    },
    {
      "cell_type": "code",
      "execution_count": null,
      "metadata": {
        "id": "-sP-ymrbRWN8"
      },
      "outputs": [],
      "source": [
        "PATH=\"/content/drive/My Drive/......./PRA1/data/\""
      ]
    },
    {
      "cell_type": "markdown",
      "metadata": {
        "id": "8P2VkV-FYxJX"
      },
      "source": [
        "## Ejercicio 3"
      ]
    },
    {
      "cell_type": "markdown",
      "metadata": {
        "id": "pXvaR7vNd5WR"
      },
      "source": [
        "\n",
        "\n",
        "```\n",
        "{'\\ufeff92086009452':\n",
        "\n",
        "  {'register_id': '\\ufeff92086009452',\n",
        "  'name': 'Mercat de Sant Antoni',\n",
        "  'institution_id': nan,\n",
        "  'institution_name': nan,\n",
        "  'created': '33049',\n",
        "  'modified': '44768,41858',\n",
        "  ...\n",
        "  'padro': {'Dones': 5688, 'Homes': 5464, 'Total': 11152}\n",
        "  },\n",
        "…\n",
        "\n",
        "```\n",
        "\n"
      ]
    },
    {
      "cell_type": "markdown",
      "metadata": {
        "id": "zyJ9JED2cJZJ"
      },
      "source": [
        "**Por tanto, los pasos a realizar en este ejercicio son:**\n",
        "\n",
        "- **Cargar los csv y visualizar la forma y las columnas que tienen.**\n",
        "\n",
        "- **Crear un diccionario a partir del dataframe relativo a los mercados(dict_mercados). Las claves de este diccionario debe ser el campo ‘register_id’. Los valores del diccionario serán a su vez otro diccionario donde las claves sean el resto de campos y los valores el valor que adquiere cada campo en cada mercado.**\n",
        "\n",
        "- **Crear un diccionario a partir del dataframe relativo al padron (dict_padro). Las claves de este diccionario debe ser el campo ‘Nom_Barri’. Los valores del diccionario serán a su vez otro diccionario donde las claves sean [`Dones', 'Homes' y 'Total]` y los valores el valor calculado que adquiere cada campo.**\n",
        "\n",
        "- **Crear un diccionario que sea la combinación de los dos anteriores (dict_completo). Este diccionario debe crearse añadiendo un campo nuevo a la información relativa a cada mercado del diccionario dict_mercados. Este nuevo campo se llamará ‘padro_barri’ y su valor será la información relativa al padrón que se corresponde con su barrio. En los casos donde no exista valor de padrón, asignar el valor  de ‘NA’.**\n",
        "\n",
        "- **Visualizar el diccionario resultante. ¿Cuántos registros tiene? ¿Coincide este valor con el número de instancias del dataframe df_mercados?**\n",
        "\n",
        "- **Con el diccionario resultante, responder a las siguientes preguntas accediendo a los valores del diccionario que responden a las mismas:**\n",
        " - **¿Cuántas mujeres hay en el barrio que está el mercado con register_id=92086009450**\n",
        " - **¿En qué calle esta el mercado cuyo register_id=﻿92086009457?**\n",
        "\n",
        "\n",
        "- **Guardar el diccionario en un fichero con formato .json.** \n"
      ]
    },
    {
      "cell_type": "markdown",
      "metadata": {
        "id": "mobjqe8CLPFP"
      },
      "source": [
        "NOTA: Para la construcción del diccionario dict_completo, se recomienda que se genere un bucle donde en cada iteración se evalúe cada mercado de dict_mercados y se consulte si hay información del padron para el barrio donde está ubicado. En caso afirmativo añadir los datos indicados, en caso contrario, añadir el valor ‘NA’ al campo padro. \n",
        "\n",
        "\n"
      ]
    },
    {
      "cell_type": "code",
      "execution_count": null,
      "metadata": {
        "id": "dseAvd6qaO3_"
      },
      "outputs": [],
      "source": [
        "# Cargar csv y visualitzar la forma y les columnes\n",
        "\n",
        "import pandas as pd\n",
        "#TODO"
      ]
    },
    {
      "cell_type": "code",
      "execution_count": null,
      "metadata": {
        "id": "WnDrY3uQ2AGB"
      },
      "outputs": [],
      "source": [
        "# Crear un diccionario a partir del dataframe relativo al padron (dict_padro)\n",
        "\n",
        "import numpy as np\n",
        "#TODO"
      ]
    },
    {
      "cell_type": "code",
      "execution_count": null,
      "metadata": {
        "colab": {
          "base_uri": "https://localhost:8080/",
          "height": 456
        },
        "id": "s08qOJxT6Z8q",
        "outputId": "6e5679c8-3a67-4b4a-a6dd-53afacac2f73"
      },
      "outputs": [
        {
          "data": {
            "text/html": [
              "\n",
              "  <div id=\"df-79ba071f-ebf0-42ed-8283-9cbc33f125c7\">\n",
              "    <div class=\"colab-df-container\">\n",
              "      <div>\n",
              "<style scoped>\n",
              "    .dataframe tbody tr th:only-of-type {\n",
              "        vertical-align: middle;\n",
              "    }\n",
              "\n",
              "    .dataframe tbody tr th {\n",
              "        vertical-align: top;\n",
              "    }\n",
              "\n",
              "    .dataframe thead th {\n",
              "        text-align: right;\n",
              "    }\n",
              "</style>\n",
              "<table border=\"1\" class=\"dataframe\">\n",
              "  <thead>\n",
              "    <tr style=\"text-align: right;\">\n",
              "      <th></th>\n",
              "      <th>register_id</th>\n",
              "      <th>name</th>\n",
              "      <th>institution_id</th>\n",
              "      <th>institution_name</th>\n",
              "      <th>created</th>\n",
              "      <th>modified</th>\n",
              "      <th>addresses_roadtype_id</th>\n",
              "      <th>addresses_roadtype_name</th>\n",
              "      <th>addresses_road_id</th>\n",
              "      <th>addresses_road_name</th>\n",
              "      <th>...</th>\n",
              "      <th>values_description</th>\n",
              "      <th>secondary_filters_id</th>\n",
              "      <th>secondary_filters_name</th>\n",
              "      <th>secondary_filters_fullpath</th>\n",
              "      <th>secondary_filters_tree</th>\n",
              "      <th>secondary_filters_asia_id</th>\n",
              "      <th>geo_epgs_25831_x</th>\n",
              "      <th>geo_epgs_25831_y</th>\n",
              "      <th>geo_epgs_4326_x</th>\n",
              "      <th>geo_epgs_4326_y</th>\n",
              "    </tr>\n",
              "  </thead>\n",
              "  <tbody>\n",
              "    <tr>\n",
              "      <th>0</th>\n",
              "      <td>﻿92086009449</td>\n",
              "      <td>Mercat de La Concepció</td>\n",
              "      <td>NaN</td>\n",
              "      <td>NaN</td>\n",
              "      <td>31044</td>\n",
              "      <td>44732,38445</td>\n",
              "      <td>NaN</td>\n",
              "      <td>NaN</td>\n",
              "      <td>18505</td>\n",
              "      <td>Carrer d'Aragó</td>\n",
              "      <td>...</td>\n",
              "      <td>NaN</td>\n",
              "      <td>66731068</td>\n",
              "      <td>WiFi BCN</td>\n",
              "      <td>Planol BCN &gt;&gt; Internet &gt;&gt; Punts d'accés a Inte...</td>\n",
              "      <td>651</td>\n",
              "      <td>6,5103E+13</td>\n",
              "      <td>4,30537E+14</td>\n",
              "      <td>4,583E+15</td>\n",
              "      <td>4,13956E+15</td>\n",
              "      <td>2,16907E+15</td>\n",
              "    </tr>\n",
              "    <tr>\n",
              "      <th>2</th>\n",
              "      <td>﻿92086009450</td>\n",
              "      <td>Mercat de la Sagrada Família</td>\n",
              "      <td>NaN</td>\n",
              "      <td>NaN</td>\n",
              "      <td>31044</td>\n",
              "      <td>44728,48622</td>\n",
              "      <td>NaN</td>\n",
              "      <td>NaN</td>\n",
              "      <td>238400</td>\n",
              "      <td>Carrer de Padilla</td>\n",
              "      <td>...</td>\n",
              "      <td>NaN</td>\n",
              "      <td>58731068</td>\n",
              "      <td>Mercats municipals</td>\n",
              "      <td>Planol BCN &gt;&gt; Mercats i centres comercials &gt;&gt; ...</td>\n",
              "      <td>651</td>\n",
              "      <td>6,5103E+13</td>\n",
              "      <td>4,31213E+16</td>\n",
              "      <td>4,58412E+15</td>\n",
              "      <td>4,14057E+15</td>\n",
              "      <td>2,17703E+15</td>\n",
              "    </tr>\n",
              "    <tr>\n",
              "      <th>3</th>\n",
              "      <td>﻿92086009452</td>\n",
              "      <td>Mercat de Sant Antoni</td>\n",
              "      <td>NaN</td>\n",
              "      <td>NaN</td>\n",
              "      <td>33049</td>\n",
              "      <td>44768,41858</td>\n",
              "      <td>NaN</td>\n",
              "      <td>NaN</td>\n",
              "      <td>349706</td>\n",
              "      <td>Carrer del Comte d'Urgell</td>\n",
              "      <td>...</td>\n",
              "      <td>NaN</td>\n",
              "      <td>58731068</td>\n",
              "      <td>Mercats municipals</td>\n",
              "      <td>Planol BCN &gt;&gt; Mercats i centres comercials &gt;&gt; ...</td>\n",
              "      <td>651</td>\n",
              "      <td>6,5103E+13</td>\n",
              "      <td>4,29907E+16</td>\n",
              "      <td>4,58123E+15</td>\n",
              "      <td>4,13796E+15</td>\n",
              "      <td>2,16174E+15</td>\n",
              "    </tr>\n",
              "    <tr>\n",
              "      <th>4</th>\n",
              "      <td>﻿92086009457</td>\n",
              "      <td>Mercat de Les Corts</td>\n",
              "      <td>NaN</td>\n",
              "      <td>NaN</td>\n",
              "      <td>31044</td>\n",
              "      <td>44732,38082</td>\n",
              "      <td>NaN</td>\n",
              "      <td>NaN</td>\n",
              "      <td>343903</td>\n",
              "      <td>Travessera de les Corts</td>\n",
              "      <td>...</td>\n",
              "      <td>NaN</td>\n",
              "      <td>66731068</td>\n",
              "      <td>WiFi BCN</td>\n",
              "      <td>Planol BCN &gt;&gt; Internet &gt;&gt; Punts d'accés a Inte...</td>\n",
              "      <td>651</td>\n",
              "      <td>6,5103E+13</td>\n",
              "      <td>4,27241E+16</td>\n",
              "      <td>4,58176E+15</td>\n",
              "      <td>4,13841E+15</td>\n",
              "      <td>2,1298E+16</td>\n",
              "    </tr>\n",
              "    <tr>\n",
              "      <th>6</th>\n",
              "      <td>﻿92086009773</td>\n",
              "      <td>Mercat de la Llibertat</td>\n",
              "      <td>NaN</td>\n",
              "      <td>NaN</td>\n",
              "      <td>31064</td>\n",
              "      <td>44732,37875</td>\n",
              "      <td>NaN</td>\n",
              "      <td>NaN</td>\n",
              "      <td>179107</td>\n",
              "      <td>Plaça de la Llibertat</td>\n",
              "      <td>...</td>\n",
              "      <td>NaN</td>\n",
              "      <td>58731068</td>\n",
              "      <td>Mercats municipals</td>\n",
              "      <td>Planol BCN &gt;&gt; Mercats i centres comercials &gt;&gt; ...</td>\n",
              "      <td>651</td>\n",
              "      <td>6,5103E+13</td>\n",
              "      <td>4,2926E+15</td>\n",
              "      <td>4,58348E+15</td>\n",
              "      <td>4,13997E+15</td>\n",
              "      <td>2,15375E+16</td>\n",
              "    </tr>\n",
              "  </tbody>\n",
              "</table>\n",
              "<p>5 rows × 36 columns</p>\n",
              "</div>\n",
              "      <button class=\"colab-df-convert\" onclick=\"convertToInteractive('df-79ba071f-ebf0-42ed-8283-9cbc33f125c7')\"\n",
              "              title=\"Convert this dataframe to an interactive table.\"\n",
              "              style=\"display:none;\">\n",
              "        \n",
              "  <svg xmlns=\"http://www.w3.org/2000/svg\" height=\"24px\"viewBox=\"0 0 24 24\"\n",
              "       width=\"24px\">\n",
              "    <path d=\"M0 0h24v24H0V0z\" fill=\"none\"/>\n",
              "    <path d=\"M18.56 5.44l.94 2.06.94-2.06 2.06-.94-2.06-.94-.94-2.06-.94 2.06-2.06.94zm-11 1L8.5 8.5l.94-2.06 2.06-.94-2.06-.94L8.5 2.5l-.94 2.06-2.06.94zm10 10l.94 2.06.94-2.06 2.06-.94-2.06-.94-.94-2.06-.94 2.06-2.06.94z\"/><path d=\"M17.41 7.96l-1.37-1.37c-.4-.4-.92-.59-1.43-.59-.52 0-1.04.2-1.43.59L10.3 9.45l-7.72 7.72c-.78.78-.78 2.05 0 2.83L4 21.41c.39.39.9.59 1.41.59.51 0 1.02-.2 1.41-.59l7.78-7.78 2.81-2.81c.8-.78.8-2.07 0-2.86zM5.41 20L4 18.59l7.72-7.72 1.47 1.35L5.41 20z\"/>\n",
              "  </svg>\n",
              "      </button>\n",
              "      \n",
              "  <style>\n",
              "    .colab-df-container {\n",
              "      display:flex;\n",
              "      flex-wrap:wrap;\n",
              "      gap: 12px;\n",
              "    }\n",
              "\n",
              "    .colab-df-convert {\n",
              "      background-color: #E8F0FE;\n",
              "      border: none;\n",
              "      border-radius: 50%;\n",
              "      cursor: pointer;\n",
              "      display: none;\n",
              "      fill: #1967D2;\n",
              "      height: 32px;\n",
              "      padding: 0 0 0 0;\n",
              "      width: 32px;\n",
              "    }\n",
              "\n",
              "    .colab-df-convert:hover {\n",
              "      background-color: #E2EBFA;\n",
              "      box-shadow: 0px 1px 2px rgba(60, 64, 67, 0.3), 0px 1px 3px 1px rgba(60, 64, 67, 0.15);\n",
              "      fill: #174EA6;\n",
              "    }\n",
              "\n",
              "    [theme=dark] .colab-df-convert {\n",
              "      background-color: #3B4455;\n",
              "      fill: #D2E3FC;\n",
              "    }\n",
              "\n",
              "    [theme=dark] .colab-df-convert:hover {\n",
              "      background-color: #434B5C;\n",
              "      box-shadow: 0px 1px 3px 1px rgba(0, 0, 0, 0.15);\n",
              "      filter: drop-shadow(0px 1px 2px rgba(0, 0, 0, 0.3));\n",
              "      fill: #FFFFFF;\n",
              "    }\n",
              "  </style>\n",
              "\n",
              "      <script>\n",
              "        const buttonEl =\n",
              "          document.querySelector('#df-79ba071f-ebf0-42ed-8283-9cbc33f125c7 button.colab-df-convert');\n",
              "        buttonEl.style.display =\n",
              "          google.colab.kernel.accessAllowed ? 'block' : 'none';\n",
              "\n",
              "        async function convertToInteractive(key) {\n",
              "          const element = document.querySelector('#df-79ba071f-ebf0-42ed-8283-9cbc33f125c7');\n",
              "          const dataTable =\n",
              "            await google.colab.kernel.invokeFunction('convertToInteractive',\n",
              "                                                     [key], {});\n",
              "          if (!dataTable) return;\n",
              "\n",
              "          const docLinkHtml = 'Like what you see? Visit the ' +\n",
              "            '<a target=\"_blank\" href=https://colab.research.google.com/notebooks/data_table.ipynb>data table notebook</a>'\n",
              "            + ' to learn more about interactive tables.';\n",
              "          element.innerHTML = '';\n",
              "          dataTable['output_type'] = 'display_data';\n",
              "          await google.colab.output.renderOutput(dataTable, element);\n",
              "          const docLink = document.createElement('div');\n",
              "          docLink.innerHTML = docLinkHtml;\n",
              "          element.appendChild(docLink);\n",
              "        }\n",
              "      </script>\n",
              "    </div>\n",
              "  </div>\n",
              "  "
            ],
            "text/plain": [
              "    register_id                          name  institution_id  \\\n",
              "0  ﻿92086009449        Mercat de La Concepció             NaN   \n",
              "2  ﻿92086009450  Mercat de la Sagrada Família             NaN   \n",
              "3  ﻿92086009452         Mercat de Sant Antoni             NaN   \n",
              "4  ﻿92086009457           Mercat de Les Corts             NaN   \n",
              "6  ﻿92086009773        Mercat de la Llibertat             NaN   \n",
              "\n",
              "   institution_name created     modified  addresses_roadtype_id  \\\n",
              "0               NaN   31044  44732,38445                    NaN   \n",
              "2               NaN   31044  44728,48622                    NaN   \n",
              "3               NaN   33049  44768,41858                    NaN   \n",
              "4               NaN   31044  44732,38082                    NaN   \n",
              "6               NaN   31064  44732,37875                    NaN   \n",
              "\n",
              "   addresses_roadtype_name  addresses_road_id        addresses_road_name  ...  \\\n",
              "0                      NaN              18505             Carrer d'Aragó  ...   \n",
              "2                      NaN             238400          Carrer de Padilla  ...   \n",
              "3                      NaN             349706  Carrer del Comte d'Urgell  ...   \n",
              "4                      NaN             343903    Travessera de les Corts  ...   \n",
              "6                      NaN             179107      Plaça de la Llibertat  ...   \n",
              "\n",
              "   values_description  secondary_filters_id  secondary_filters_name  \\\n",
              "0                 NaN              66731068                WiFi BCN   \n",
              "2                 NaN              58731068      Mercats municipals   \n",
              "3                 NaN              58731068      Mercats municipals   \n",
              "4                 NaN              66731068                WiFi BCN   \n",
              "6                 NaN              58731068      Mercats municipals   \n",
              "\n",
              "                          secondary_filters_fullpath  secondary_filters_tree  \\\n",
              "0  Planol BCN >> Internet >> Punts d'accés a Inte...                     651   \n",
              "2  Planol BCN >> Mercats i centres comercials >> ...                     651   \n",
              "3  Planol BCN >> Mercats i centres comercials >> ...                     651   \n",
              "4  Planol BCN >> Internet >> Punts d'accés a Inte...                     651   \n",
              "6  Planol BCN >> Mercats i centres comercials >> ...                     651   \n",
              "\n",
              "  secondary_filters_asia_id  geo_epgs_25831_x geo_epgs_25831_y  \\\n",
              "0                6,5103E+13       4,30537E+14        4,583E+15   \n",
              "2                6,5103E+13       4,31213E+16      4,58412E+15   \n",
              "3                6,5103E+13       4,29907E+16      4,58123E+15   \n",
              "4                6,5103E+13       4,27241E+16      4,58176E+15   \n",
              "6                6,5103E+13        4,2926E+15      4,58348E+15   \n",
              "\n",
              "  geo_epgs_4326_x  geo_epgs_4326_y  \n",
              "0     4,13956E+15      2,16907E+15  \n",
              "2     4,14057E+15      2,17703E+15  \n",
              "3     4,13796E+15      2,16174E+15  \n",
              "4     4,13841E+15       2,1298E+16  \n",
              "6     4,13997E+15      2,15375E+16  \n",
              "\n",
              "[5 rows x 36 columns]"
            ]
          },
          "metadata": {},
          "output_type": "display_data"
        }
      ],
      "source": [
        "# Carregar csv mercados\n",
        "#TODO\n",
        "\n",
        "mercados.head()"
      ]
    },
    {
      "cell_type": "code",
      "execution_count": null,
      "metadata": {
        "id": "xgOfzGFI374s"
      },
      "outputs": [],
      "source": [
        "## Crear un diccionario a partir del dataframe relativo a los mercados(dict_mercados)\n",
        "#TODO\n",
        "\n",
        "print(mercados_dict)"
      ]
    },
    {
      "cell_type": "code",
      "execution_count": null,
      "metadata": {
        "id": "aFf2F_rmY56X"
      },
      "outputs": [],
      "source": [
        "# Crear dict completo\n",
        "#TODO\n"
      ]
    },
    {
      "cell_type": "code",
      "execution_count": null,
      "metadata": {
        "id": "cve54TytY729"
      },
      "outputs": [],
      "source": [
        "#Visualizar el diccionario resultante. ¿Cuántos registros tiene? ¿Coincide este valor con el número de instancias del dataframe df_empleos?\n",
        "#TODO\n",
        "completo_dict\n"
      ]
    },
    {
      "cell_type": "code",
      "execution_count": null,
      "metadata": {
        "id": "8TDgpVifBdGn"
      },
      "outputs": [],
      "source": [
        "# Cuántas mujeres hay en el barrio que está el mercado con register_id=92086009450\n",
        "#TODO\n"
      ]
    },
    {
      "cell_type": "code",
      "execution_count": null,
      "metadata": {
        "id": "ZOYfozzHBc3H"
      },
      "outputs": [],
      "source": [
        "# ¿En qué calle esta el mercado cuyo register_id=﻿92086009457?\n",
        "#TODO\n"
      ]
    },
    {
      "cell_type": "code",
      "execution_count": null,
      "metadata": {
        "id": "3MtIgHBxZ7Mk"
      },
      "outputs": [],
      "source": [
        "#Guardar el diccionario en un fichero con formato .json.\n",
        "#TODO"
      ]
    }
  ],
  "metadata": {
    "colab": {
      "collapsed_sections": [
        "wjlGj8hPb5wC"
      ],
      "provenance": []
    },
    "kernelspec": {
      "display_name": "Python 3.9.5 ('the_bridge_22')",
      "language": "python",
      "name": "python3"
    },
    "language_info": {
      "codemirror_mode": {
        "name": "ipython",
        "version": 3
      },
      "file_extension": ".py",
      "mimetype": "text/x-python",
      "name": "python",
      "nbconvert_exporter": "python",
      "pygments_lexer": "ipython3",
      "version": "3.9.5"
    },
    "vscode": {
      "interpreter": {
        "hash": "1c79a6bee0cc3880bade9bffe4f2ea0bcfc562fd81915ef930f986f3657b2ce7"
      }
    }
  },
  "nbformat": 4,
  "nbformat_minor": 0
}
