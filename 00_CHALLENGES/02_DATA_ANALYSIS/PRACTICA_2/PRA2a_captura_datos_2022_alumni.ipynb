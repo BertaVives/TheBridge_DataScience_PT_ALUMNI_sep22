{
 "cells": [
  {
   "cell_type": "markdown",
   "metadata": {
    "id": "5puaH2wD72ck"
   },
   "source": [
    "# PRACTICA 2a - Web Scraping"
   ]
  },
  {
   "cell_type": "markdown",
   "metadata": {
    "id": "VV_5dCDS8CiS"
   },
   "source": [
    "## 0. INTRODUCCIÓN"
   ]
  },
  {
   "cell_type": "markdown",
   "metadata": {
    "id": "Lzd_HXe58JyY"
   },
   "source": [
    "En este vamos a trabajar la extracción automática de datos de la web, proceso Conocido como web scraping. Antes de ponernos manos a la obra, vamos a Refrescar algunos conceptos e introducir puntos claves de las librerías con las que vamos a trabajar. \n",
    " \n",
    "En la web, los servidores y los clientes generalmente se comunican a través de solicitudes HTTP. \n",
    "El protocolo HTTP (‘Hyper Text Transfer Protocol’) especifica cómo se formatean y transmiten las solicitudes y respuestas. \n",
    "Mediante este proceso solicitud-respuesta, es como se realiza la mayor parte de la navegación web. Al abrir una página, el navegador envía una solicitud al servidor de esa página, y el servidor responde con los recursos relevantes (texto, imágenes, tablas, etc. ).\n",
    "\n",
    "![imagen1.PNG](data:image/png;base64,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)\n",
    "\n",
    "\n",
    "\n",
    "\n"
   ]
  },
  {
   "cell_type": "markdown",
   "metadata": {
    "id": "i0pFdANn9z3s"
   },
   "source": [
    "Principalmente, hay dos tipos de **solicitudes**:\n",
    "\n",
    "1.   GET\n",
    "\n",
    "\n",
    " \t\n",
    "- Permiten obtener datos del servidor.\n",
    "- Se puede marcar como favorito. \t\t\n",
    "- Los parámetros se agregan directamente a la URL.\n",
    "- No se utiliza para enviar información confidencial (como contraseñas)\n",
    " \t\t\t\n",
    "\n",
    "2.   POST\n",
    " \t\n",
    "- Normalmente\tse usa cuando un estado necesita ser alterado (como agregarle elementos carrito de compras) o al enviar contraseñas.\n",
    "- Los parámetros se agregan en un cuerpo separado, así es más seguro\n",
    "- No se puede marcar como favorito.\n",
    " \t\n",
    " \n"
   ]
  },
  {
   "cell_type": "markdown",
   "metadata": {
    "id": "of7Jiauz_-_r"
   },
   "source": [
    "La **respuesta** contiene 2 piezas principales de información: el código de estado y el cuerpo de la respuesta.\n",
    " \n",
    "- El __código de estado__ indica si la solicitud fue exitosa y / o la existencia de algún error. Está representado por un número de 3 dígitos.\n",
    "\n",
    "  - Los códigos en estos rangos indican:\n",
    "\n",
    "    - 2xx: Éxito.\n",
    "    - 3xx: Redirección.\n",
    "    - 4xx: Error del cliente.\n",
    "    - 5xx: Error del servidor.\n",
    " \n",
    "  - Los dos códigos más frecuentes son los siguientes:\n",
    "    - 200 OK: La solicitud se cursó exitosamente.\n",
    "    - 404 Not Found: El servidor no puede encontrar la página o fuente solicitada. \n",
    "\n",
    "- El __cuerpo de la respuesta__ contiene la información de la solicitud. Normalmente, se obtiene en formato HTML o JSON."
   ]
  },
  {
   "cell_type": "markdown",
   "metadata": {
    "id": "S0gJT5NYALyU"
   },
   "source": [
    "\n",
    "\n",
    "---\n",
    "\n",
    "Un **documento HTML** está formado por un conjunto de elementos o etiquetas anidadas, además de código JavaScript y CSS.\n",
    "\n",
    "Antes de hacer scraping, por tanto, debemos conocer qué elementos o qué etiqueta contiene la información que queremos obtener de la página web en cuestión. Para ello, tenemos que tener presente las siguientes consideraciones:\n",
    "\n",
    "- Un elemento o etiqueta tiene la siguiente sintaxis:\n",
    "\n",
    "> **\\<nombre_etiqueta\\>**contenido **\\<\\/nombre_etiqueta\\>**\n",
    "\n",
    "> Estos elementos pueden tener información adicional especificada en los atributos de la etiqueta.\n",
    "\n",
    "\n",
    "- Los atributos más comunes son:\n",
    "\n",
    "  - id\n",
    "\n",
    "  - class\n",
    "\n",
    "> Ejemplo: \\<div class=“descriptive-class-name”\\>….\\<\\/div\\>\n",
    "\n",
    "\n",
    "\n",
    "\n",
    "\n",
    "- Las etiquetas más populares son:\n",
    "\n",
    "  - link: \\<a href=“url_of_link”\\>Texto del link\\<\\/a\\>\n",
    "  - párrafo: \\<p\\>…\\<\\/p\\>\n",
    "  - .... \\<h1\\>…\\<\\/h1\\>\n",
    "  - etiqueta de un contenedor o conjunto de etiquetas: \\<div class=“hahaha”\\>…\\<\\/div\\>\n",
    "  - Etiqueta para marcar parte del contenido: \\<span id=“id de este span”\\>…\\<\\/span\\>\n",
    "\n",
    "\n",
    "\n",
    "\n",
    "\n",
    "\n"
   ]
  },
  {
   "cell_type": "markdown",
   "metadata": {
    "id": "8g0aDEAfDEiV"
   },
   "source": [
    "_Ejemplo esquema básico de un documento HTML_\n",
    "\n",
    "\n",
    "\n",
    "\n",
    "```\n",
    "<html>\n",
    "\t<head>\n",
    "\t\t<meta charset=”utf-8”/>\n",
    "\t\t<title> Ejemplo </title>\n",
    "\t</head>\n",
    "\t<body>\n",
    "\t\t<h1> Encabezado 1</h1>\n",
    "\t\t<p> Primer párrafo del ejemplo del html de ejemplo. </p>\n",
    "\t\t<h2> Encabezado 2.  </h2>\n",
    "\t\t\t<ul>\n",
    "\t\t\t\t<li>Element 1 de la lista</li>\n",
    "\t\t\t\t<li>Element 2 de la lista</li>\n",
    "\t\t\t</ul>\n",
    "    <div>\n",
    "      <p>Segundo párrafo. </p> \n",
    "      <table>\n",
    "        <th>Tabla de ejemplo </th>\n",
    "        <tr>\n",
    "          <td>celda 1,1 </td>\n",
    "          <td>celda 1,2 </td>\n",
    "          <td>celda 1,3 </td>\n",
    "        </tr>\n",
    "        <tr>\n",
    "          <td>celda 2,1 </td>\n",
    "          <td>celda 2,2 </td>\n",
    "          <td>celda 2,3 </td>\n",
    "        </tr>\n",
    "      </table>\n",
    "    </div>\n",
    "\t</body>\n",
    "</html>\n",
    "\n",
    "```\n",
    "\n",
    "\n",
    "\n",
    "\n",
    "---"
   ]
  },
  {
   "cell_type": "markdown",
   "metadata": {
    "id": "HOrqsuOpDM9J"
   },
   "source": [
    "Las **principales metodologías** que nos permiten hacer web scraping son:\n",
    "\n",
    "- Utilizando APIs (Application programming interface)\n",
    "- Mediante Scrapers (librerías que nos permiten extraer datos web automáticamente. Por ejemplo, BeautifulSoap, Requests-html,...)\n",
    "- Web crawling (un programa ‘spider’ busca por el contenido solicitado siguiendo links y explorandolos).\n",
    " \n",
    "\n"
   ]
  },
  {
   "cell_type": "markdown",
   "metadata": {
    "id": "mRZZJVLODkjq"
   },
   "source": [
    "**Las dos primeras metodologías las vamos a trabajar en las diferentes partes de esta PRACTICA mediante los ejercicios planteados. La tercera de ellas, junto con el web scraping en streaming, la trabajaremos en la PAC3.**"
   ]
  },
  {
   "cell_type": "markdown",
   "metadata": {
    "id": "1uAzSQFnDpNM"
   },
   "source": [
    "## 1. WEB SCRAPING CON APIs"
   ]
  },
  {
   "cell_type": "markdown",
   "metadata": {
    "id": "1-Q4mhkKD32a"
   },
   "source": [
    "Una **API** es una interfaz de programación de aplicaciones. Esta especifica cómo deben interactuar cliente y un servidor. Si el cliente realiza una solicitud en un formato específico, el servidor siempre responderá en un formato documentado o iniciará una acción.\n",
    "\n",
    "Algunas API son gratuitas, la mayoría son de pago o requieren registro. En el último caso, normalmente se proporciona una clave (_KEY_) y una identificación (_IDENTIFICATION\\_KEY_) que debe incorporarse en cada solicitud a esa API. Por último, algunas API de pago ofrecen también una versión gratuita disponible con fines educativos o académicos, prohíbiendo la comercialización de productos que hagan su uso sin previo pago de licencia.\n",
    "\n",
    "Para realizar las consultas se requiere la previa **revisión de la documentación que proporciona la API** para conocer la sintaxis que requieren las consultas o solicitudes y cuáles son los códigos de estados relevantes de la misma.\n",
    "\n",
    "En esta parte de la PRACTICA vamos a trabajar con una API libre que no requiere registro, otra gratuita que si que lo requiere, y por último una API que es gratuita para uso académico y con previo registro.\n",
    "\n",
    "\n",
    "\n",
    "> El alumno deberá completar **2 ejercicios prácticos** después de revisar la explicación previa.\n",
    "\n",
    "\n"
   ]
  },
  {
   "cell_type": "markdown",
   "metadata": {
    "id": "jEI3Eu-eENFh"
   },
   "source": [
    "### 1.1. APIs SIN REGISTRO \n",
    "\n"
   ]
  },
  {
   "cell_type": "markdown",
   "metadata": {
    "id": "jeO-9UcQLF-C"
   },
   "source": [
    "Para trabajar esta parte, vamos a realizar el scraping de datos relativos al mercado eléctrico español mediante una API que proporciona datos de generación, demanda, transporte, etc. de electricidad publicado por REE (Red Eléctrica de España).\n",
    "\n",
    "La documentacion de la API está disponible en: https://www.ree.es/en/apidatos"
   ]
  },
  {
   "cell_type": "markdown",
   "metadata": {
    "id": "1BDXf-wZMkpU"
   },
   "source": [
    "En primer lugar, debemos cargar las librerías que vamos a utilizar y definir la URL común a todas las solicitudes (_requests_) que vamos a realizar (url_base) y especificar los paramétros de la petición que deseemos hacer:"
   ]
  },
  {
   "cell_type": "code",
   "execution_count": null,
   "metadata": {
    "id": "CW5czxJf7tY7"
   },
   "outputs": [],
   "source": [
    "# Cargar packages\n",
    "import requests # La librería requests proporciona las capacidades de mandar una petición/solicitud HTTP al servidor\n",
    "import json"
   ]
  },
  {
   "cell_type": "code",
   "execution_count": null,
   "metadata": {
    "id": "qemE5RaQM6JX"
   },
   "outputs": [],
   "source": [
    "# Definir la URL común a todas las requests de la web que vamos a scrapear\n",
    "url_base = 'https://apidatos.ree.es/es/datos/'\n",
    "url_compl = 'generacion/estructura-generacion?start_date=2022-08-01T00:00&end_date=2022-08-31T00:00&time_trunc=month'"
   ]
  },
  {
   "cell_type": "code",
   "execution_count": null,
   "metadata": {
    "id": "1dFp7tOhM-pt"
   },
   "outputs": [],
   "source": [
    "# Realizar una solicitud (request) al endpoint de la API con el método requests.get\n",
    "respuesta = requests.get(url_base+url_compl)"
   ]
  },
  {
   "cell_type": "markdown",
   "metadata": {
    "id": "UNM-D6a1NC9D"
   },
   "source": [
    "Revisaremos el estado de la solicitud mediante el atributo _.status\\_code_ de la respuesta."
   ]
  },
  {
   "cell_type": "code",
   "execution_count": null,
   "metadata": {
    "colab": {
     "base_uri": "https://localhost:8080/",
     "height": 34
    },
    "id": "AXBgTB19NNeJ",
    "outputId": "83ac9a2b-612f-48ed-ab6c-b69c571375e6"
   },
   "outputs": [],
   "source": [
    "# Comprobar el estado de la solicitud\n",
    "respuesta.status_code"
   ]
  },
  {
   "cell_type": "markdown",
   "metadata": {
    "id": "TT88j9xsNS6M"
   },
   "source": [
    "Como vemos, la solicitud se ha cursado correctamente. También se podría verificar con el atributo _.ok_"
   ]
  },
  {
   "cell_type": "code",
   "execution_count": null,
   "metadata": {
    "colab": {
     "base_uri": "https://localhost:8080/",
     "height": 34
    },
    "id": "EBisKPRtNXMQ",
    "outputId": "01610c55-1b14-444e-8135-6b3641d1ff5e"
   },
   "outputs": [],
   "source": [
    "# Checking if the request went through ok\n",
    "respuesta.ok"
   ]
  },
  {
   "cell_type": "markdown",
   "metadata": {
    "id": "Aq5_HT-7Ndpw"
   },
   "source": [
    "En este caso, la respuesta se puede obtener en formato json. Por tanto, para visualizar la respuesta en tal formato, aplicamos el método _.json()_. Además, con el uso de la librería json se puede hacer más leíble la respuesta."
   ]
  },
  {
   "cell_type": "code",
   "execution_count": null,
   "metadata": {
    "colab": {
     "base_uri": "https://localhost:8080/",
     "height": 731
    },
    "id": "mHHHPlWxN-Af",
    "outputId": "f8b2b8c9-087c-46cc-b00f-3aed138a837b"
   },
   "outputs": [],
   "source": [
    "print ('\\n\\nLas claves del diccionario son:\\n'+str( respuesta.json().keys()) )\n",
    "\n",
    "print(json.dumps(respuesta.json(),indent=4))"
   ]
  },
  {
   "cell_type": "markdown",
   "metadata": {
    "id": "H5T5heW4OEuP"
   },
   "source": [
    "A partir de la URL base, modificando los parámetros de la url, se pueden obtener detalles como el balance eléctrico, la demanda (en términos de sectores económicos, la evolución, etc.), la generacón (con su estructura, la cantidad renovable, la potencia instalada, el balance en términos de CO2, etc.), los intercambios con los países colindantes, el transporte (líneas, cortes, interrupciones, etc.) y datos referentes al mercado como pueden ser los precios, costes, etc. Todos estos datos se pueden obtener por CCAA o en global así como especificando el rango temporal y con distinta frecuencia.\n",
    "\n",
    "La sintaxis de los diferentes parametros de la url quedan explicados en la documentación de la API, de forma que podamos modificarlos de acuerdo con lo que se desee obtener."
   ]
  },
  {
   "cell_type": "markdown",
   "metadata": {
    "id": "_90elVXKOItJ"
   },
   "source": [
    "_Por ejemplo, para conocer la demanda eléctrica mensual (time_trunc = month) a lo largo del 2019 para Navarra y las Baleares, la solicitud quedaría como sigue:_"
   ]
  },
  {
   "cell_type": "code",
   "execution_count": null,
   "metadata": {
    "id": "B_7-nEA-OMR3"
   },
   "outputs": [],
   "source": [
    "# Definir url base y los parametros de la url correspondientes a la información que se desee obtener.\n",
    "url_base = 'https://apidatos.ree.es/es/datos/'\n",
    "url_compl1 = 'demanda/evolucion?start_date=2019-01-01T00:00&end_date=2019-12-31T23:59&time_trunc=month&geo_trunc=electric_system&geo_limit=ccaa&geo_ids=8743'\n",
    "url_compl2 = 'demanda/evolucion?start_date=2019-01-01T00:00&end_date=2019-12-31T23:59&time_trunc=month&geo_trunc=electric_system&geo_limit=ccaa&geo_ids=14'\n",
    "\n",
    "# Obtener la respuesta a la solicitud HTML\n",
    "respuesta1 = requests.get(url_base+url_compl1)\n",
    "respuesta2 = requests.get(url_base+url_compl2)"
   ]
  },
  {
   "cell_type": "code",
   "execution_count": null,
   "metadata": {
    "colab": {
     "base_uri": "https://localhost:8080/",
     "height": 680
    },
    "id": "z-SsJtfKOOjh",
    "outputId": "faeb0173-71b9-48a1-b8f6-04b02ca5f0e5",
    "scrolled": true
   },
   "outputs": [],
   "source": [
    "#Comprobar el estado de la solicitud\n",
    "print('Estado de la respuesta Baleares:', respuesta1.status_code)\n",
    "print('Estado de la respuesta Navarra:', respuesta2.status_code)\n",
    "\n",
    "#Imprimir resultados: Se puede ver la estacionalidad en Baleares (turismo)\n",
    "print(json.dumps(respuesta1.json(), indent=4))\n",
    "print(json.dumps(respuesta2.json(), indent=4))"
   ]
  },
  {
   "cell_type": "markdown",
   "metadata": {
    "id": "_VGbkY3KOSbo"
   },
   "source": [
    "#### **Ejercicio Práctico 1** (Balance renovables Aragón-Cataluña)"
   ]
  },
  {
   "cell_type": "markdown",
   "metadata": {
    "id": "ijCjOgGtOgt2"
   },
   "source": [
    "Se solicita al alumno implementar un código python válido que permita dar respuesta a las siguientes preguntas: \n",
    "\n",
    "1. Para el año 2021, devolver el porcentaje anual de generación renovable y no renovable (_evolucion-renovable-no-renovable_) para Aragón y Cataluña.\n",
    "\n",
    "2. Obtener la evolución anual del balance de renovables y no renovables para Aragón y Cataluña de 2017 a 2021 (ambos incluidos). Mostrar el resultado tanto en fomrato DataFrame como en una gráfica que ilustre la evolución temporal. Para la visualización se recomienda el uso de la librería _matplotlib_. \n",
    "\n",
    "3. Obtener la evolución mensual del balance de renovables y no renovables para Aragón y Cataluña de 2017 a 2021 (ambos incluidos). ¿Qué limitación de la API nos aparece si lo intentamos con un solo _GET_? \n",
    "\n",
    "4. Con más de un _GET_, obtener la evolución mensual del balance de renovables para Aragón y Cataluña de 2017 a 2021 (ambos incluidos). Mostrar el resultado tanto en formato DataFrame como en una gráfica que ilustre la evolución temporal. Devolver la fecha junto con el % de renovables en la que durante este periodo temporal la ratio tuvo mayor valor y menor valor en Aragón."
   ]
  },
  {
   "cell_type": "code",
   "execution_count": null,
   "metadata": {
    "id": "6d394gftVnP_"
   },
   "outputs": [],
   "source": [
    "# Cargar librerías\n",
    "# ToDo"
   ]
  },
  {
   "cell_type": "code",
   "execution_count": null,
   "metadata": {
    "id": "UJl6mLhx6aKh"
   },
   "outputs": [],
   "source": [
    "###### 1a pregunta\n",
    "# Inicializar los valores de los parámetros introducidos por el usuario y almacenarlos en variables\n",
    "\n",
    "category = input(\"Introduzca la category: \") # ToDo\n",
    "widget = input(\"Introduzca el wiget: \") # ToDo\n",
    "fecha_inicio = input(\"introduzca la fecha de inicio (formato YYYY-MM-DDT00:00): \") # ToDo\n",
    "fecha_fin = input(\"introduzca la fecha final (formato YYYY-MM-DDT23:59): \") # ToDo\n",
    "freq = input(\"introduzca la frecuencia: \") # ToDo\n",
    "\n",
    "# Construir la URL para Aragón basada en los paramétros del usuario, hacer la solicitud al servidor y obtener la respuesta\n",
    "\n",
    "# ToDo\n",
    "\n",
    "\n",
    "# Construir la URL para Catalunya basada en los paramétros del usuario, hacer la solicitud al servidor y obtener la respuesta\n",
    "\n",
    "# ToDo\n",
    "\n",
    "\n",
    "###### 2a pregunta\n",
    "# Obtener la evolución anual del balance de renovables y no renovables para Aragón y Cataluña de 2017 a 2021\n",
    "\n",
    "# ToDo\n",
    "\n",
    "\n",
    "# Mostrar el DataFrame y graficarlo\n",
    "\n",
    "# ToDo\n",
    "\n",
    "\n",
    "###### 3a pregunta\n",
    "# Obtener la evolución mensual del balance de renovables y no renovables para Aragón y Cataluña de 2017 a 2021\n",
    "# Print el error\n",
    "\n",
    "# ToDo\n",
    "\n",
    "\n",
    "###### 4a pregunta\n",
    "# Obtener la evolución mensual del balance de renovables y no renovables para Aragón y Cataluña de 2017 a 2021\n",
    "\n",
    "# ToDo\n",
    "\n",
    " \n",
    "# Mostrar el DataFrame y graficarlo\n",
    "\n",
    "# ToDo\n",
    "\n",
    "\n",
    "# Devolver la fecha y el % de renovables en la que durante este periodo temporal el ratio tuvo mayor valor y menor valor\n",
    "\n",
    "max_value = # ToDo\n",
    "max_date = # ToDo\n",
    "\n",
    "min_value = # ToDo\n",
    "min_date = # ToDo\n",
    "\n",
    "print('Durante el periodo analizado, la fecha con el mayor ratio de renovables en Aragón es ',max_date , ' con un valor de ', max_value , '%')\n",
    "print('Durante el periodo analizado, la fecha con el menor ratio de renovables en Aragón es ',min_date , ' con un valor de ', min_value , '%')"
   ]
  },
  {
   "cell_type": "markdown",
   "metadata": {
    "id": "cTs2XvRo8F3l"
   },
   "source": [
    "### 1.2. APIs QUE NECESITAN REGISTRO"
   ]
  },
  {
   "cell_type": "markdown",
   "metadata": {
    "id": "wFcdp25MhVNS"
   },
   "source": [
    "Para trabajar esta parte vamos a empezar trabajando un ejemplo con una de las APIs que ofrece la NASA para obtener patentes relativas a diferentes campos de la ciencia. \n",
    "\n",
    "Para utilizar esta API, a diferencia del caso anterior, hace falta registrarse para obtener una clave (_API_KEY_) que va a necesitar ser incluida para realizar las diferentes solicitudes a la API.\n",
    "\n",
    "Para registrarse (será necesario si queréis trabajar el ejemplo o reejecutarlo), es necesario que rellenéis el formulario que aparece en la parte 'Generate API Key' de la web: https://api.nasa.gov/ .\n",
    "Cuando obtengáis el valor de la clave, tenedla localizable y copiadla en el notebook para definir la variable API_KEY. "
   ]
  },
  {
   "cell_type": "markdown",
   "metadata": {
    "id": "U0USAdVhkgWK"
   },
   "source": [
    "Una vez obtenida la clave y revisada la documentación de la API, podemos empezar a realizar peticiones para obtener datos. \n",
    "\n",
    "En el siguiente ejemplo, vamos a obtener las patentes relacionadas en la medicina que hay registradas. \n",
    "\n",
    "**NOTA:** Antes de ejecutar el código de nuevo, será necesario añadir el valor del _API\\_KEY_ que has obtenido"
   ]
  },
  {
   "cell_type": "code",
   "execution_count": null,
   "metadata": {
    "id": "IlwTy8gyETQS"
   },
   "outputs": [],
   "source": [
    "url_base='https://api.nasa.gov/techtransfer/'\n",
    "API_KEY=\"cRzxxDn5YsuhQupa6KnK7xUwLeb1HscdyBRE7jcC\"\n",
    "\n",
    "# Opción 1\n",
    "r1 = requests.get(url_base+\"patent/\", params = {\"patent\": \"medicine\",\"api_key\":API_KEY})\n",
    "\n",
    "#Opción 2\n",
    "r2= requests.get('https://api.nasa.gov/techtransfer/patent/?engine&patent=medicine&api_key='+API_KEY)\n"
   ]
  },
  {
   "cell_type": "markdown",
   "metadata": {
    "id": "bsOBjFMekVYT"
   },
   "source": [
    "r1 y r2 ofrecen la misma respuesta."
   ]
  },
  {
   "cell_type": "code",
   "execution_count": null,
   "metadata": {
    "id": "OCJJz0dFlpZ5"
   },
   "outputs": [],
   "source": [
    "# Imprimir los resultados obtenidos\n",
    "print(json.dumps(r1.json(), indent=4))"
   ]
  }
 ],
 "metadata": {
  "colab": {
   "collapsed_sections": [
    "VV_5dCDS8CiS",
    "1uAzSQFnDpNM",
    "jEI3Eu-eENFh",
    "_VGbkY3KOSbo",
    "cTs2XvRo8F3l",
    "lJN_tP_JmVTe",
    "uFlM3ec7Et-T",
    "FACKxQgsn4em",
    "5GymHKqvEzDB",
    "7wm3CT67GFIe",
    "F30KBbp9DADj",
    "UuRc4ZDQPokB"
   ],
   "name": "CyPD_PEC2_2020_2_.ipynb",
   "provenance": [],
   "toc_visible": true
  },
  "kernelspec": {
   "display_name": "Python 3.9.5 ('the_bridge_22')",
   "language": "python",
   "name": "python3"
  },
  "language_info": {
   "codemirror_mode": {
    "name": "ipython",
    "version": 3
   },
   "file_extension": ".py",
   "mimetype": "text/x-python",
   "name": "python",
   "nbconvert_exporter": "python",
   "pygments_lexer": "ipython3",
   "version": "3.9.5"
  },
  "vscode": {
   "interpreter": {
    "hash": "1c79a6bee0cc3880bade9bffe4f2ea0bcfc562fd81915ef930f986f3657b2ce7"
   }
  }
 },
 "nbformat": 4,
 "nbformat_minor": 1
}
